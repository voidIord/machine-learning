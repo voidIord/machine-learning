{
  "cells": [
    {
      "cell_type": "code",
      "execution_count": null,
      "metadata": {
        "id": "6109189d"
      },
      "outputs": [],
      "source": [
        "import pandas as pd\n",
        "import pandas\n",
        "import numpy\n",
        "from sklearn.feature_selection import SelectKBest\n",
        "from sklearn.feature_selection import chi2\n",
        "from sklearn.feature_selection import RFE\n",
        "from sklearn.linear_model import LogisticRegression\n",
        "from sklearn.ensemble import RandomForestClassifier\n",
        "from sklearn.svm import SVR\n",
        "from sklearn.ensemble import ExtraTreesClassifier\n",
        "from sklearn.decomposition import PCA"
      ],
      "id": "6109189d"
    },
    {
      "cell_type": "code",
      "execution_count": null,
      "metadata": {
        "id": "c42489fd"
      },
      "outputs": [],
      "source": [
        "df = pd.read_csv('classification_preprocessed.csv', index_col=0)"
      ],
      "id": "c42489fd"
    },
    {
      "cell_type": "code",
      "execution_count": null,
      "metadata": {
        "colab": {
          "base_uri": "https://localhost:8080/"
        },
        "id": "h0miPXDP7134",
        "outputId": "8c8b4b61-54e0-4a34-9969-ff0ede4b14c5"
      },
      "outputs": [
        {
          "name": "stdout",
          "output_type": "stream",
          "text": [
            "<class 'pandas.core.frame.DataFrame'>\n",
            "Int64Index: 395 entries, 0 to 394\n",
            "Data columns (total 33 columns):\n",
            " #   Column       Non-Null Count  Dtype\n",
            "---  ------       --------------  -----\n",
            " 0   age          395 non-null    int64\n",
            " 1   Medu         395 non-null    int64\n",
            " 2   Fedu         395 non-null    int64\n",
            " 3   guardian_    395 non-null    int64\n",
            " 4   traveltime   395 non-null    int64\n",
            " 5   studytime    395 non-null    int64\n",
            " 6   failures     395 non-null    int64\n",
            " 7   famrel       395 non-null    int64\n",
            " 8   freetime     395 non-null    int64\n",
            " 9   goout        395 non-null    int64\n",
            " 10  Dalc         395 non-null    int64\n",
            " 11  Walc         395 non-null    int64\n",
            " 12  health       395 non-null    int64\n",
            " 13  absences     395 non-null    int64\n",
            " 14  G1           395 non-null    int64\n",
            " 15  G2           395 non-null    int64\n",
            " 16  G3           395 non-null    int64\n",
            " 17  school_      395 non-null    int64\n",
            " 18  sex_         395 non-null    int64\n",
            " 19  address_     395 non-null    int64\n",
            " 20  famsize_     395 non-null    int64\n",
            " 21  Pstatus_     395 non-null    int64\n",
            " 22  Mjob_        395 non-null    int64\n",
            " 23  Fjob_        395 non-null    int64\n",
            " 24  reason_      395 non-null    int64\n",
            " 25  schoolsup_   395 non-null    int64\n",
            " 26  famsup_      395 non-null    int64\n",
            " 27  paid_        395 non-null    int64\n",
            " 28  activities_  395 non-null    int64\n",
            " 29  nursery_     395 non-null    int64\n",
            " 30  higher_      395 non-null    int64\n",
            " 31  internet_    395 non-null    int64\n",
            " 32  romantic_    395 non-null    int64\n",
            "dtypes: int64(33)\n",
            "memory usage: 104.9 KB\n"
          ]
        }
      ],
      "source": [
        "df.info() "
      ],
      "id": "h0miPXDP7134"
    },
    {
      "cell_type": "code",
      "execution_count": null,
      "metadata": {
        "colab": {
          "base_uri": "https://localhost:8080/",
          "height": 268
        },
        "id": "39e91608",
        "outputId": "84d61bd9-c30b-40b5-c8dc-5d3a02d25237"
      },
      "outputs": [
        {
          "data": {
            "text/html": [
              "\n",
              "  <div id=\"df-44ade21f-d70d-4c32-a80a-8c03488d951e\">\n",
              "    <div class=\"colab-df-container\">\n",
              "      <div>\n",
              "<style scoped>\n",
              "    .dataframe tbody tr th:only-of-type {\n",
              "        vertical-align: middle;\n",
              "    }\n",
              "\n",
              "    .dataframe tbody tr th {\n",
              "        vertical-align: top;\n",
              "    }\n",
              "\n",
              "    .dataframe thead th {\n",
              "        text-align: right;\n",
              "    }\n",
              "</style>\n",
              "<table border=\"1\" class=\"dataframe\">\n",
              "  <thead>\n",
              "    <tr style=\"text-align: right;\">\n",
              "      <th></th>\n",
              "      <th>age</th>\n",
              "      <th>Medu</th>\n",
              "      <th>Fedu</th>\n",
              "      <th>guardian_</th>\n",
              "      <th>traveltime</th>\n",
              "      <th>studytime</th>\n",
              "      <th>failures</th>\n",
              "      <th>famrel</th>\n",
              "      <th>freetime</th>\n",
              "      <th>goout</th>\n",
              "      <th>...</th>\n",
              "      <th>Fjob_</th>\n",
              "      <th>reason_</th>\n",
              "      <th>schoolsup_</th>\n",
              "      <th>famsup_</th>\n",
              "      <th>paid_</th>\n",
              "      <th>activities_</th>\n",
              "      <th>nursery_</th>\n",
              "      <th>higher_</th>\n",
              "      <th>internet_</th>\n",
              "      <th>romantic_</th>\n",
              "    </tr>\n",
              "  </thead>\n",
              "  <tbody>\n",
              "    <tr>\n",
              "      <th>0</th>\n",
              "      <td>18</td>\n",
              "      <td>4</td>\n",
              "      <td>4</td>\n",
              "      <td>1</td>\n",
              "      <td>2</td>\n",
              "      <td>2</td>\n",
              "      <td>0</td>\n",
              "      <td>4</td>\n",
              "      <td>3</td>\n",
              "      <td>4</td>\n",
              "      <td>...</td>\n",
              "      <td>4</td>\n",
              "      <td>0</td>\n",
              "      <td>1</td>\n",
              "      <td>0</td>\n",
              "      <td>0</td>\n",
              "      <td>0</td>\n",
              "      <td>1</td>\n",
              "      <td>1</td>\n",
              "      <td>0</td>\n",
              "      <td>0</td>\n",
              "    </tr>\n",
              "    <tr>\n",
              "      <th>1</th>\n",
              "      <td>17</td>\n",
              "      <td>1</td>\n",
              "      <td>1</td>\n",
              "      <td>0</td>\n",
              "      <td>1</td>\n",
              "      <td>2</td>\n",
              "      <td>0</td>\n",
              "      <td>5</td>\n",
              "      <td>3</td>\n",
              "      <td>3</td>\n",
              "      <td>...</td>\n",
              "      <td>2</td>\n",
              "      <td>0</td>\n",
              "      <td>0</td>\n",
              "      <td>1</td>\n",
              "      <td>0</td>\n",
              "      <td>0</td>\n",
              "      <td>0</td>\n",
              "      <td>1</td>\n",
              "      <td>1</td>\n",
              "      <td>0</td>\n",
              "    </tr>\n",
              "    <tr>\n",
              "      <th>2</th>\n",
              "      <td>15</td>\n",
              "      <td>1</td>\n",
              "      <td>1</td>\n",
              "      <td>1</td>\n",
              "      <td>1</td>\n",
              "      <td>2</td>\n",
              "      <td>3</td>\n",
              "      <td>4</td>\n",
              "      <td>3</td>\n",
              "      <td>2</td>\n",
              "      <td>...</td>\n",
              "      <td>2</td>\n",
              "      <td>2</td>\n",
              "      <td>1</td>\n",
              "      <td>0</td>\n",
              "      <td>1</td>\n",
              "      <td>0</td>\n",
              "      <td>1</td>\n",
              "      <td>1</td>\n",
              "      <td>1</td>\n",
              "      <td>0</td>\n",
              "    </tr>\n",
              "    <tr>\n",
              "      <th>3</th>\n",
              "      <td>15</td>\n",
              "      <td>4</td>\n",
              "      <td>2</td>\n",
              "      <td>1</td>\n",
              "      <td>1</td>\n",
              "      <td>3</td>\n",
              "      <td>0</td>\n",
              "      <td>3</td>\n",
              "      <td>2</td>\n",
              "      <td>2</td>\n",
              "      <td>...</td>\n",
              "      <td>3</td>\n",
              "      <td>1</td>\n",
              "      <td>0</td>\n",
              "      <td>1</td>\n",
              "      <td>1</td>\n",
              "      <td>1</td>\n",
              "      <td>1</td>\n",
              "      <td>1</td>\n",
              "      <td>1</td>\n",
              "      <td>1</td>\n",
              "    </tr>\n",
              "  </tbody>\n",
              "</table>\n",
              "<p>4 rows × 33 columns</p>\n",
              "</div>\n",
              "      <button class=\"colab-df-convert\" onclick=\"convertToInteractive('df-44ade21f-d70d-4c32-a80a-8c03488d951e')\"\n",
              "              title=\"Convert this dataframe to an interactive table.\"\n",
              "              style=\"display:none;\">\n",
              "        \n",
              "  <svg xmlns=\"http://www.w3.org/2000/svg\" height=\"24px\"viewBox=\"0 0 24 24\"\n",
              "       width=\"24px\">\n",
              "    <path d=\"M0 0h24v24H0V0z\" fill=\"none\"/>\n",
              "    <path d=\"M18.56 5.44l.94 2.06.94-2.06 2.06-.94-2.06-.94-.94-2.06-.94 2.06-2.06.94zm-11 1L8.5 8.5l.94-2.06 2.06-.94-2.06-.94L8.5 2.5l-.94 2.06-2.06.94zm10 10l.94 2.06.94-2.06 2.06-.94-2.06-.94-.94-2.06-.94 2.06-2.06.94z\"/><path d=\"M17.41 7.96l-1.37-1.37c-.4-.4-.92-.59-1.43-.59-.52 0-1.04.2-1.43.59L10.3 9.45l-7.72 7.72c-.78.78-.78 2.05 0 2.83L4 21.41c.39.39.9.59 1.41.59.51 0 1.02-.2 1.41-.59l7.78-7.78 2.81-2.81c.8-.78.8-2.07 0-2.86zM5.41 20L4 18.59l7.72-7.72 1.47 1.35L5.41 20z\"/>\n",
              "  </svg>\n",
              "      </button>\n",
              "      \n",
              "  <style>\n",
              "    .colab-df-container {\n",
              "      display:flex;\n",
              "      flex-wrap:wrap;\n",
              "      gap: 12px;\n",
              "    }\n",
              "\n",
              "    .colab-df-convert {\n",
              "      background-color: #E8F0FE;\n",
              "      border: none;\n",
              "      border-radius: 50%;\n",
              "      cursor: pointer;\n",
              "      display: none;\n",
              "      fill: #1967D2;\n",
              "      height: 32px;\n",
              "      padding: 0 0 0 0;\n",
              "      width: 32px;\n",
              "    }\n",
              "\n",
              "    .colab-df-convert:hover {\n",
              "      background-color: #E2EBFA;\n",
              "      box-shadow: 0px 1px 2px rgba(60, 64, 67, 0.3), 0px 1px 3px 1px rgba(60, 64, 67, 0.15);\n",
              "      fill: #174EA6;\n",
              "    }\n",
              "\n",
              "    [theme=dark] .colab-df-convert {\n",
              "      background-color: #3B4455;\n",
              "      fill: #D2E3FC;\n",
              "    }\n",
              "\n",
              "    [theme=dark] .colab-df-convert:hover {\n",
              "      background-color: #434B5C;\n",
              "      box-shadow: 0px 1px 3px 1px rgba(0, 0, 0, 0.15);\n",
              "      filter: drop-shadow(0px 1px 2px rgba(0, 0, 0, 0.3));\n",
              "      fill: #FFFFFF;\n",
              "    }\n",
              "  </style>\n",
              "\n",
              "      <script>\n",
              "        const buttonEl =\n",
              "          document.querySelector('#df-44ade21f-d70d-4c32-a80a-8c03488d951e button.colab-df-convert');\n",
              "        buttonEl.style.display =\n",
              "          google.colab.kernel.accessAllowed ? 'block' : 'none';\n",
              "\n",
              "        async function convertToInteractive(key) {\n",
              "          const element = document.querySelector('#df-44ade21f-d70d-4c32-a80a-8c03488d951e');\n",
              "          const dataTable =\n",
              "            await google.colab.kernel.invokeFunction('convertToInteractive',\n",
              "                                                     [key], {});\n",
              "          if (!dataTable) return;\n",
              "\n",
              "          const docLinkHtml = 'Like what you see? Visit the ' +\n",
              "            '<a target=\"_blank\" href=https://colab.research.google.com/notebooks/data_table.ipynb>data table notebook</a>'\n",
              "            + ' to learn more about interactive tables.';\n",
              "          element.innerHTML = '';\n",
              "          dataTable['output_type'] = 'display_data';\n",
              "          await google.colab.output.renderOutput(dataTable, element);\n",
              "          const docLink = document.createElement('div');\n",
              "          docLink.innerHTML = docLinkHtml;\n",
              "          element.appendChild(docLink);\n",
              "        }\n",
              "      </script>\n",
              "    </div>\n",
              "  </div>\n",
              "  "
            ],
            "text/plain": [
              "   age  Medu  Fedu  guardian_  traveltime  studytime  failures  famrel  \\\n",
              "0   18     4     4          1           2          2         0       4   \n",
              "1   17     1     1          0           1          2         0       5   \n",
              "2   15     1     1          1           1          2         3       4   \n",
              "3   15     4     2          1           1          3         0       3   \n",
              "\n",
              "   freetime  goout  ...  Fjob_  reason_  schoolsup_  famsup_  paid_  \\\n",
              "0         3      4  ...      4        0           1        0      0   \n",
              "1         3      3  ...      2        0           0        1      0   \n",
              "2         3      2  ...      2        2           1        0      1   \n",
              "3         2      2  ...      3        1           0        1      1   \n",
              "\n",
              "   activities_  nursery_  higher_  internet_  romantic_  \n",
              "0            0         1        1          0          0  \n",
              "1            0         0        1          1          0  \n",
              "2            0         1        1          1          0  \n",
              "3            1         1        1          1          1  \n",
              "\n",
              "[4 rows x 33 columns]"
            ]
          },
          "execution_count": 7,
          "metadata": {},
          "output_type": "execute_result"
        }
      ],
      "source": [
        "df.head(4)"
      ],
      "id": "39e91608"
    },
    {
      "cell_type": "code",
      "execution_count": null,
      "metadata": {
        "colab": {
          "base_uri": "https://localhost:8080/"
        },
        "id": "57e6d540",
        "outputId": "89198c97-bf6d-4979-8109-2a70a62dcdcd"
      },
      "outputs": [
        {
          "name": "stderr",
          "output_type": "stream",
          "text": [
            "/usr/local/lib/python3.7/dist-packages/ipykernel_launcher.py:1: FutureWarning: In a future version of pandas all arguments of DataFrame.drop except for the argument 'labels' will be keyword-only\n",
            "  \"\"\"Entry point for launching an IPython kernel.\n"
          ]
        }
      ],
      "source": [
        "X = df.drop(['Dalc'], 1)\n",
        "y = df['Dalc']"
      ],
      "id": "57e6d540"
    },
    {
      "cell_type": "code",
      "execution_count": null,
      "metadata": {
        "id": "2dbd01e2"
      },
      "outputs": [],
      "source": [
        "from sklearn.model_selection import train_test_split\n",
        "X_train, X_test, y_train, y_test = train_test_split(X, y, test_size=0.30)"
      ],
      "id": "2dbd01e2"
    },
    {
      "cell_type": "code",
      "execution_count": null,
      "metadata": {
        "id": "0dfd39c8"
      },
      "outputs": [],
      "source": [
        "from sklearn.preprocessing import StandardScaler\n",
        "scaler = StandardScaler()\n",
        "scaler.fit(X_train)\n",
        "\n",
        "X_train = scaler.transform(X_train)\n",
        "X_test = scaler.transform(X_test)"
      ],
      "id": "0dfd39c8"
    },
    {
      "cell_type": "markdown",
      "metadata": {
        "id": "057950d0"
      },
      "source": [
        "# Обучим модель с помощью метода KNN"
      ],
      "id": "057950d0"
    },
    {
      "cell_type": "code",
      "execution_count": null,
      "metadata": {
        "id": "6ec537e2"
      },
      "outputs": [],
      "source": [
        "from sklearn.metrics import auc, roc_curve, classification_report, roc_auc_score, confusion_matrix\n",
        "from sklearn.metrics import accuracy_score, precision_score, recall_score,f1_score\n",
        "from sklearn.neighbors import KNeighborsClassifier\n",
        "from sklearn.model_selection import GridSearchCV"
      ],
      "id": "6ec537e2"
    },
    {
      "cell_type": "code",
      "execution_count": null,
      "metadata": {
        "colab": {
          "base_uri": "https://localhost:8080/"
        },
        "id": "307443dc",
        "outputId": "05364fb3-a993-402f-ca1f-0aaeef5396fc"
      },
      "outputs": [
        {
          "name": "stderr",
          "output_type": "stream",
          "text": [
            "/usr/local/lib/python3.7/dist-packages/sklearn/model_selection/_split.py:680: UserWarning: The least populated class in y has only 4 members, which is less than n_splits=5.\n",
            "  UserWarning,\n"
          ]
        },
        {
          "data": {
            "text/plain": [
              "{'n_neighbors': 6}"
            ]
          },
          "execution_count": 12,
          "metadata": {},
          "output_type": "execute_result"
        }
      ],
      "source": [
        "parametrs = {'n_neighbors':range(1, 10)}\n",
        "knn = KNeighborsClassifier()\n",
        "\n",
        "clf = GridSearchCV(knn, parametrs)\n",
        "clf.fit(X_train, y_train)\n",
        "clf.best_params_"
      ],
      "id": "307443dc"
    },
    {
      "cell_type": "code",
      "execution_count": null,
      "metadata": {
        "colab": {
          "base_uri": "https://localhost:8080/"
        },
        "id": "9ecba589",
        "outputId": "6f1da04a-5ebd-44e5-de0a-508235284f60"
      },
      "outputs": [
        {
          "name": "stdout",
          "output_type": "stream",
          "text": [
            "[[77  3  1  0  0]\n",
            " [22  3  0  0  0]\n",
            " [ 7  0  0  0  0]\n",
            " [ 1  0  0  0  0]\n",
            " [ 3  2  0  0  0]]\n",
            "              precision    recall  f1-score   support\n",
            "\n",
            "           1       0.70      0.95      0.81        81\n",
            "           2       0.38      0.12      0.18        25\n",
            "           3       0.00      0.00      0.00         7\n",
            "           4       0.00      0.00      0.00         1\n",
            "           5       0.00      0.00      0.00         5\n",
            "\n",
            "    accuracy                           0.67       119\n",
            "   macro avg       0.21      0.21      0.20       119\n",
            "weighted avg       0.56      0.67      0.59       119\n",
            "\n"
          ]
        },
        {
          "name": "stderr",
          "output_type": "stream",
          "text": [
            "/usr/local/lib/python3.7/dist-packages/sklearn/metrics/_classification.py:1318: UndefinedMetricWarning: Precision and F-score are ill-defined and being set to 0.0 in labels with no predicted samples. Use `zero_division` parameter to control this behavior.\n",
            "  _warn_prf(average, modifier, msg_start, len(result))\n",
            "/usr/local/lib/python3.7/dist-packages/sklearn/metrics/_classification.py:1318: UndefinedMetricWarning: Precision and F-score are ill-defined and being set to 0.0 in labels with no predicted samples. Use `zero_division` parameter to control this behavior.\n",
            "  _warn_prf(average, modifier, msg_start, len(result))\n",
            "/usr/local/lib/python3.7/dist-packages/sklearn/metrics/_classification.py:1318: UndefinedMetricWarning: Precision and F-score are ill-defined and being set to 0.0 in labels with no predicted samples. Use `zero_division` parameter to control this behavior.\n",
            "  _warn_prf(average, modifier, msg_start, len(result))\n"
          ]
        }
      ],
      "source": [
        "y_pred = clf.predict(X_test)\n",
        "print(confusion_matrix(y_test, y_pred))\n",
        "print(classification_report(y_test, y_pred))"
      ],
      "id": "9ecba589"
    },
    {
      "cell_type": "markdown",
      "metadata": {
        "id": "a9580d3f"
      },
      "source": [
        "# 1. Одномерный отбор признаков"
      ],
      "id": "a9580d3f"
    },
    {
      "cell_type": "code",
      "execution_count": null,
      "metadata": {
        "colab": {
          "base_uri": "https://localhost:8080/"
        },
        "id": "0fb67060",
        "outputId": "29d8d965-32dc-4c0d-b50f-4a667a82bb38"
      },
      "outputs": [
        {
          "name": "stdout",
          "output_type": "stream",
          "text": [
            "[0.474 0.97  2.906 2.387 2.329]\n",
            "[[4 1 2]\n",
            " [1 0 1]\n",
            " [1 1 1]]\n"
          ]
        }
      ],
      "source": [
        "array = df.values\n",
        "X = array[:,0:5]\n",
        "Y = array[:,5]\n",
        "\n",
        "# feature extraction\n",
        "test = SelectKBest(score_func=chi2, k=3)\n",
        "fit = test.fit(X, Y)\n",
        "\n",
        "# summarize scores\n",
        "numpy.set_printoptions(precision=3)\n",
        "print(fit.scores_)\n",
        "features = fit.transform(X)\n",
        "\n",
        "# summarize selected features\n",
        "print(features[0:3,:])"
      ],
      "id": "0fb67060"
    },
    {
      "cell_type": "code",
      "execution_count": null,
      "metadata": {
        "colab": {
          "base_uri": "https://localhost:8080/",
          "height": 299
        },
        "id": "1f4732a8",
        "outputId": "ceca274b-6e63-4c92-c59e-7c08f456f93b"
      },
      "outputs": [
        {
          "data": {
            "text/html": [
              "\n",
              "  <div id=\"df-a3a15547-76aa-44f1-93f3-38ee7044d196\">\n",
              "    <div class=\"colab-df-container\">\n",
              "      <div>\n",
              "<style scoped>\n",
              "    .dataframe tbody tr th:only-of-type {\n",
              "        vertical-align: middle;\n",
              "    }\n",
              "\n",
              "    .dataframe tbody tr th {\n",
              "        vertical-align: top;\n",
              "    }\n",
              "\n",
              "    .dataframe thead th {\n",
              "        text-align: right;\n",
              "    }\n",
              "</style>\n",
              "<table border=\"1\" class=\"dataframe\">\n",
              "  <thead>\n",
              "    <tr style=\"text-align: right;\">\n",
              "      <th></th>\n",
              "      <th>age</th>\n",
              "      <th>Medu</th>\n",
              "      <th>Fedu</th>\n",
              "      <th>guardian_</th>\n",
              "      <th>traveltime</th>\n",
              "      <th>studytime</th>\n",
              "      <th>failures</th>\n",
              "      <th>famrel</th>\n",
              "      <th>freetime</th>\n",
              "      <th>goout</th>\n",
              "      <th>...</th>\n",
              "      <th>Fjob_</th>\n",
              "      <th>reason_</th>\n",
              "      <th>schoolsup_</th>\n",
              "      <th>famsup_</th>\n",
              "      <th>paid_</th>\n",
              "      <th>activities_</th>\n",
              "      <th>nursery_</th>\n",
              "      <th>higher_</th>\n",
              "      <th>internet_</th>\n",
              "      <th>romantic_</th>\n",
              "    </tr>\n",
              "  </thead>\n",
              "  <tbody>\n",
              "    <tr>\n",
              "      <th>0</th>\n",
              "      <td>18</td>\n",
              "      <td>4</td>\n",
              "      <td>4</td>\n",
              "      <td>1</td>\n",
              "      <td>2</td>\n",
              "      <td>2</td>\n",
              "      <td>0</td>\n",
              "      <td>4</td>\n",
              "      <td>3</td>\n",
              "      <td>4</td>\n",
              "      <td>...</td>\n",
              "      <td>4</td>\n",
              "      <td>0</td>\n",
              "      <td>1</td>\n",
              "      <td>0</td>\n",
              "      <td>0</td>\n",
              "      <td>0</td>\n",
              "      <td>1</td>\n",
              "      <td>1</td>\n",
              "      <td>0</td>\n",
              "      <td>0</td>\n",
              "    </tr>\n",
              "    <tr>\n",
              "      <th>1</th>\n",
              "      <td>17</td>\n",
              "      <td>1</td>\n",
              "      <td>1</td>\n",
              "      <td>0</td>\n",
              "      <td>1</td>\n",
              "      <td>2</td>\n",
              "      <td>0</td>\n",
              "      <td>5</td>\n",
              "      <td>3</td>\n",
              "      <td>3</td>\n",
              "      <td>...</td>\n",
              "      <td>2</td>\n",
              "      <td>0</td>\n",
              "      <td>0</td>\n",
              "      <td>1</td>\n",
              "      <td>0</td>\n",
              "      <td>0</td>\n",
              "      <td>0</td>\n",
              "      <td>1</td>\n",
              "      <td>1</td>\n",
              "      <td>0</td>\n",
              "    </tr>\n",
              "    <tr>\n",
              "      <th>2</th>\n",
              "      <td>15</td>\n",
              "      <td>1</td>\n",
              "      <td>1</td>\n",
              "      <td>1</td>\n",
              "      <td>1</td>\n",
              "      <td>2</td>\n",
              "      <td>3</td>\n",
              "      <td>4</td>\n",
              "      <td>3</td>\n",
              "      <td>2</td>\n",
              "      <td>...</td>\n",
              "      <td>2</td>\n",
              "      <td>2</td>\n",
              "      <td>1</td>\n",
              "      <td>0</td>\n",
              "      <td>1</td>\n",
              "      <td>0</td>\n",
              "      <td>1</td>\n",
              "      <td>1</td>\n",
              "      <td>1</td>\n",
              "      <td>0</td>\n",
              "    </tr>\n",
              "    <tr>\n",
              "      <th>3</th>\n",
              "      <td>15</td>\n",
              "      <td>4</td>\n",
              "      <td>2</td>\n",
              "      <td>1</td>\n",
              "      <td>1</td>\n",
              "      <td>3</td>\n",
              "      <td>0</td>\n",
              "      <td>3</td>\n",
              "      <td>2</td>\n",
              "      <td>2</td>\n",
              "      <td>...</td>\n",
              "      <td>3</td>\n",
              "      <td>1</td>\n",
              "      <td>0</td>\n",
              "      <td>1</td>\n",
              "      <td>1</td>\n",
              "      <td>1</td>\n",
              "      <td>1</td>\n",
              "      <td>1</td>\n",
              "      <td>1</td>\n",
              "      <td>1</td>\n",
              "    </tr>\n",
              "    <tr>\n",
              "      <th>4</th>\n",
              "      <td>16</td>\n",
              "      <td>3</td>\n",
              "      <td>3</td>\n",
              "      <td>0</td>\n",
              "      <td>1</td>\n",
              "      <td>2</td>\n",
              "      <td>0</td>\n",
              "      <td>4</td>\n",
              "      <td>3</td>\n",
              "      <td>2</td>\n",
              "      <td>...</td>\n",
              "      <td>2</td>\n",
              "      <td>1</td>\n",
              "      <td>0</td>\n",
              "      <td>1</td>\n",
              "      <td>1</td>\n",
              "      <td>0</td>\n",
              "      <td>1</td>\n",
              "      <td>1</td>\n",
              "      <td>0</td>\n",
              "      <td>0</td>\n",
              "    </tr>\n",
              "  </tbody>\n",
              "</table>\n",
              "<p>5 rows × 33 columns</p>\n",
              "</div>\n",
              "      <button class=\"colab-df-convert\" onclick=\"convertToInteractive('df-a3a15547-76aa-44f1-93f3-38ee7044d196')\"\n",
              "              title=\"Convert this dataframe to an interactive table.\"\n",
              "              style=\"display:none;\">\n",
              "        \n",
              "  <svg xmlns=\"http://www.w3.org/2000/svg\" height=\"24px\"viewBox=\"0 0 24 24\"\n",
              "       width=\"24px\">\n",
              "    <path d=\"M0 0h24v24H0V0z\" fill=\"none\"/>\n",
              "    <path d=\"M18.56 5.44l.94 2.06.94-2.06 2.06-.94-2.06-.94-.94-2.06-.94 2.06-2.06.94zm-11 1L8.5 8.5l.94-2.06 2.06-.94-2.06-.94L8.5 2.5l-.94 2.06-2.06.94zm10 10l.94 2.06.94-2.06 2.06-.94-2.06-.94-.94-2.06-.94 2.06-2.06.94z\"/><path d=\"M17.41 7.96l-1.37-1.37c-.4-.4-.92-.59-1.43-.59-.52 0-1.04.2-1.43.59L10.3 9.45l-7.72 7.72c-.78.78-.78 2.05 0 2.83L4 21.41c.39.39.9.59 1.41.59.51 0 1.02-.2 1.41-.59l7.78-7.78 2.81-2.81c.8-.78.8-2.07 0-2.86zM5.41 20L4 18.59l7.72-7.72 1.47 1.35L5.41 20z\"/>\n",
              "  </svg>\n",
              "      </button>\n",
              "      \n",
              "  <style>\n",
              "    .colab-df-container {\n",
              "      display:flex;\n",
              "      flex-wrap:wrap;\n",
              "      gap: 12px;\n",
              "    }\n",
              "\n",
              "    .colab-df-convert {\n",
              "      background-color: #E8F0FE;\n",
              "      border: none;\n",
              "      border-radius: 50%;\n",
              "      cursor: pointer;\n",
              "      display: none;\n",
              "      fill: #1967D2;\n",
              "      height: 32px;\n",
              "      padding: 0 0 0 0;\n",
              "      width: 32px;\n",
              "    }\n",
              "\n",
              "    .colab-df-convert:hover {\n",
              "      background-color: #E2EBFA;\n",
              "      box-shadow: 0px 1px 2px rgba(60, 64, 67, 0.3), 0px 1px 3px 1px rgba(60, 64, 67, 0.15);\n",
              "      fill: #174EA6;\n",
              "    }\n",
              "\n",
              "    [theme=dark] .colab-df-convert {\n",
              "      background-color: #3B4455;\n",
              "      fill: #D2E3FC;\n",
              "    }\n",
              "\n",
              "    [theme=dark] .colab-df-convert:hover {\n",
              "      background-color: #434B5C;\n",
              "      box-shadow: 0px 1px 3px 1px rgba(0, 0, 0, 0.15);\n",
              "      filter: drop-shadow(0px 1px 2px rgba(0, 0, 0, 0.3));\n",
              "      fill: #FFFFFF;\n",
              "    }\n",
              "  </style>\n",
              "\n",
              "      <script>\n",
              "        const buttonEl =\n",
              "          document.querySelector('#df-a3a15547-76aa-44f1-93f3-38ee7044d196 button.colab-df-convert');\n",
              "        buttonEl.style.display =\n",
              "          google.colab.kernel.accessAllowed ? 'block' : 'none';\n",
              "\n",
              "        async function convertToInteractive(key) {\n",
              "          const element = document.querySelector('#df-a3a15547-76aa-44f1-93f3-38ee7044d196');\n",
              "          const dataTable =\n",
              "            await google.colab.kernel.invokeFunction('convertToInteractive',\n",
              "                                                     [key], {});\n",
              "          if (!dataTable) return;\n",
              "\n",
              "          const docLinkHtml = 'Like what you see? Visit the ' +\n",
              "            '<a target=\"_blank\" href=https://colab.research.google.com/notebooks/data_table.ipynb>data table notebook</a>'\n",
              "            + ' to learn more about interactive tables.';\n",
              "          element.innerHTML = '';\n",
              "          dataTable['output_type'] = 'display_data';\n",
              "          await google.colab.output.renderOutput(dataTable, element);\n",
              "          const docLink = document.createElement('div');\n",
              "          docLink.innerHTML = docLinkHtml;\n",
              "          element.appendChild(docLink);\n",
              "        }\n",
              "      </script>\n",
              "    </div>\n",
              "  </div>\n",
              "  "
            ],
            "text/plain": [
              "   age  Medu  Fedu  guardian_  traveltime  studytime  failures  famrel  \\\n",
              "0   18     4     4          1           2          2         0       4   \n",
              "1   17     1     1          0           1          2         0       5   \n",
              "2   15     1     1          1           1          2         3       4   \n",
              "3   15     4     2          1           1          3         0       3   \n",
              "4   16     3     3          0           1          2         0       4   \n",
              "\n",
              "   freetime  goout  ...  Fjob_  reason_  schoolsup_  famsup_  paid_  \\\n",
              "0         3      4  ...      4        0           1        0      0   \n",
              "1         3      3  ...      2        0           0        1      0   \n",
              "2         3      2  ...      2        2           1        0      1   \n",
              "3         2      2  ...      3        1           0        1      1   \n",
              "4         3      2  ...      2        1           0        1      1   \n",
              "\n",
              "   activities_  nursery_  higher_  internet_  romantic_  \n",
              "0            0         1        1          0          0  \n",
              "1            0         0        1          1          0  \n",
              "2            0         1        1          1          0  \n",
              "3            1         1        1          1          1  \n",
              "4            0         1        1          0          0  \n",
              "\n",
              "[5 rows x 33 columns]"
            ]
          },
          "execution_count": 15,
          "metadata": {},
          "output_type": "execute_result"
        }
      ],
      "source": [
        "df.head()"
      ],
      "id": "1f4732a8"
    },
    {
      "cell_type": "code",
      "execution_count": null,
      "metadata": {
        "colab": {
          "base_uri": "https://localhost:8080/"
        },
        "id": "b0a6ea8e",
        "outputId": "8ecd0add-3a02-4907-956e-1011fd5affb3"
      },
      "outputs": [
        {
          "name": "stdout",
          "output_type": "stream",
          "text": [
            "[[60  9  8  0  0]\n",
            " [22  4  0  0  0]\n",
            " [ 5  1  1  0  0]\n",
            " [ 6  0  0  0  0]\n",
            " [ 2  1  0  0  0]]\n",
            "              precision    recall  f1-score   support\n",
            "\n",
            "           1       0.63      0.78      0.70        77\n",
            "           2       0.27      0.15      0.20        26\n",
            "           3       0.11      0.14      0.12         7\n",
            "           4       0.00      0.00      0.00         6\n",
            "           5       0.00      0.00      0.00         3\n",
            "\n",
            "    accuracy                           0.55       119\n",
            "   macro avg       0.20      0.22      0.20       119\n",
            "weighted avg       0.47      0.55      0.50       119\n",
            "\n"
          ]
        },
        {
          "name": "stderr",
          "output_type": "stream",
          "text": [
            "/usr/local/lib/python3.7/dist-packages/sklearn/metrics/_classification.py:1318: UndefinedMetricWarning: Precision and F-score are ill-defined and being set to 0.0 in labels with no predicted samples. Use `zero_division` parameter to control this behavior.\n",
            "  _warn_prf(average, modifier, msg_start, len(result))\n",
            "/usr/local/lib/python3.7/dist-packages/sklearn/metrics/_classification.py:1318: UndefinedMetricWarning: Precision and F-score are ill-defined and being set to 0.0 in labels with no predicted samples. Use `zero_division` parameter to control this behavior.\n",
            "  _warn_prf(average, modifier, msg_start, len(result))\n",
            "/usr/local/lib/python3.7/dist-packages/sklearn/metrics/_classification.py:1318: UndefinedMetricWarning: Precision and F-score are ill-defined and being set to 0.0 in labels with no predicted samples. Use `zero_division` parameter to control this behavior.\n",
            "  _warn_prf(average, modifier, msg_start, len(result))\n"
          ]
        }
      ],
      "source": [
        "X_train, X_test, y_train, y_test = train_test_split(X, y, test_size=0.30)\n",
        "scaler = StandardScaler()\n",
        "scaler.fit(X_train)\n",
        "\n",
        "X_train = scaler.transform(X_train)\n",
        "X_test = scaler.transform(X_test)\n",
        "\n",
        "clf = KNeighborsClassifier(n_neighbors=1)\n",
        "clf.fit(X_train, y_train)\n",
        "\n",
        "y_pred = clf.predict(X_test)\n",
        "print(confusion_matrix(y_test, y_pred))\n",
        "print(classification_report(y_test, y_pred))"
      ],
      "id": "b0a6ea8e"
    },
    {
      "cell_type": "code",
      "execution_count": null,
      "metadata": {
        "colab": {
          "base_uri": "https://localhost:8080/"
        },
        "id": "b04b3e2b",
        "outputId": "b45f5905-175f-47d6-8066-5d4576365520"
      },
      "outputs": [
        {
          "name": "stdout",
          "output_type": "stream",
          "text": [
            "(395, 33)\n"
          ]
        }
      ],
      "source": [
        "print(df.shape)"
      ],
      "id": "b04b3e2b"
    },
    {
      "cell_type": "markdown",
      "metadata": {
        "id": "c9d9a45d"
      },
      "source": [
        "# 2. Рекурсивное исключение признаков"
      ],
      "id": "c9d9a45d"
    },
    {
      "cell_type": "code",
      "execution_count": null,
      "metadata": {
        "colab": {
          "base_uri": "https://localhost:8080/"
        },
        "id": "c07d90ec",
        "outputId": "696551d8-979d-47a7-fb71-e56ea0c6f364"
      },
      "outputs": [
        {
          "name": "stdout",
          "output_type": "stream",
          "text": [
            "Количество функций: 3\n",
            "Выбранные функции: [False  True False  True  True]\n",
            "Рейтинг характеристик: [2 1 3 1 1]\n"
          ]
        }
      ],
      "source": [
        "estimator = SVR(kernel=\"linear\")\n",
        "rfe = RFE(estimator, n_features_to_select=3, step=1)\n",
        "rfe = rfe.fit(X, Y)\n",
        "print(\"Количество функций:\", rfe.n_features_)\n",
        "print(\"Выбранные функции:\", rfe.support_)\n",
        "print(\"Рейтинг характеристик:\", rfe.ranking_)"
      ],
      "id": "c07d90ec"
    },
    {
      "cell_type": "code",
      "execution_count": null,
      "metadata": {
        "colab": {
          "base_uri": "https://localhost:8080/",
          "height": 299
        },
        "id": "13317305",
        "outputId": "5566da89-bb83-4da6-b311-3488c358f291"
      },
      "outputs": [
        {
          "data": {
            "text/html": [
              "\n",
              "  <div id=\"df-9652e563-e4aa-4ae1-b926-4e8c8d5b8c2c\">\n",
              "    <div class=\"colab-df-container\">\n",
              "      <div>\n",
              "<style scoped>\n",
              "    .dataframe tbody tr th:only-of-type {\n",
              "        vertical-align: middle;\n",
              "    }\n",
              "\n",
              "    .dataframe tbody tr th {\n",
              "        vertical-align: top;\n",
              "    }\n",
              "\n",
              "    .dataframe thead th {\n",
              "        text-align: right;\n",
              "    }\n",
              "</style>\n",
              "<table border=\"1\" class=\"dataframe\">\n",
              "  <thead>\n",
              "    <tr style=\"text-align: right;\">\n",
              "      <th></th>\n",
              "      <th>age</th>\n",
              "      <th>Medu</th>\n",
              "      <th>Fedu</th>\n",
              "      <th>guardian_</th>\n",
              "      <th>traveltime</th>\n",
              "      <th>studytime</th>\n",
              "      <th>failures</th>\n",
              "      <th>famrel</th>\n",
              "      <th>freetime</th>\n",
              "      <th>goout</th>\n",
              "      <th>...</th>\n",
              "      <th>Fjob_</th>\n",
              "      <th>reason_</th>\n",
              "      <th>schoolsup_</th>\n",
              "      <th>famsup_</th>\n",
              "      <th>paid_</th>\n",
              "      <th>activities_</th>\n",
              "      <th>nursery_</th>\n",
              "      <th>higher_</th>\n",
              "      <th>internet_</th>\n",
              "      <th>romantic_</th>\n",
              "    </tr>\n",
              "  </thead>\n",
              "  <tbody>\n",
              "    <tr>\n",
              "      <th>0</th>\n",
              "      <td>18</td>\n",
              "      <td>4</td>\n",
              "      <td>4</td>\n",
              "      <td>1</td>\n",
              "      <td>2</td>\n",
              "      <td>2</td>\n",
              "      <td>0</td>\n",
              "      <td>4</td>\n",
              "      <td>3</td>\n",
              "      <td>4</td>\n",
              "      <td>...</td>\n",
              "      <td>4</td>\n",
              "      <td>0</td>\n",
              "      <td>1</td>\n",
              "      <td>0</td>\n",
              "      <td>0</td>\n",
              "      <td>0</td>\n",
              "      <td>1</td>\n",
              "      <td>1</td>\n",
              "      <td>0</td>\n",
              "      <td>0</td>\n",
              "    </tr>\n",
              "    <tr>\n",
              "      <th>1</th>\n",
              "      <td>17</td>\n",
              "      <td>1</td>\n",
              "      <td>1</td>\n",
              "      <td>0</td>\n",
              "      <td>1</td>\n",
              "      <td>2</td>\n",
              "      <td>0</td>\n",
              "      <td>5</td>\n",
              "      <td>3</td>\n",
              "      <td>3</td>\n",
              "      <td>...</td>\n",
              "      <td>2</td>\n",
              "      <td>0</td>\n",
              "      <td>0</td>\n",
              "      <td>1</td>\n",
              "      <td>0</td>\n",
              "      <td>0</td>\n",
              "      <td>0</td>\n",
              "      <td>1</td>\n",
              "      <td>1</td>\n",
              "      <td>0</td>\n",
              "    </tr>\n",
              "    <tr>\n",
              "      <th>2</th>\n",
              "      <td>15</td>\n",
              "      <td>1</td>\n",
              "      <td>1</td>\n",
              "      <td>1</td>\n",
              "      <td>1</td>\n",
              "      <td>2</td>\n",
              "      <td>3</td>\n",
              "      <td>4</td>\n",
              "      <td>3</td>\n",
              "      <td>2</td>\n",
              "      <td>...</td>\n",
              "      <td>2</td>\n",
              "      <td>2</td>\n",
              "      <td>1</td>\n",
              "      <td>0</td>\n",
              "      <td>1</td>\n",
              "      <td>0</td>\n",
              "      <td>1</td>\n",
              "      <td>1</td>\n",
              "      <td>1</td>\n",
              "      <td>0</td>\n",
              "    </tr>\n",
              "    <tr>\n",
              "      <th>3</th>\n",
              "      <td>15</td>\n",
              "      <td>4</td>\n",
              "      <td>2</td>\n",
              "      <td>1</td>\n",
              "      <td>1</td>\n",
              "      <td>3</td>\n",
              "      <td>0</td>\n",
              "      <td>3</td>\n",
              "      <td>2</td>\n",
              "      <td>2</td>\n",
              "      <td>...</td>\n",
              "      <td>3</td>\n",
              "      <td>1</td>\n",
              "      <td>0</td>\n",
              "      <td>1</td>\n",
              "      <td>1</td>\n",
              "      <td>1</td>\n",
              "      <td>1</td>\n",
              "      <td>1</td>\n",
              "      <td>1</td>\n",
              "      <td>1</td>\n",
              "    </tr>\n",
              "    <tr>\n",
              "      <th>4</th>\n",
              "      <td>16</td>\n",
              "      <td>3</td>\n",
              "      <td>3</td>\n",
              "      <td>0</td>\n",
              "      <td>1</td>\n",
              "      <td>2</td>\n",
              "      <td>0</td>\n",
              "      <td>4</td>\n",
              "      <td>3</td>\n",
              "      <td>2</td>\n",
              "      <td>...</td>\n",
              "      <td>2</td>\n",
              "      <td>1</td>\n",
              "      <td>0</td>\n",
              "      <td>1</td>\n",
              "      <td>1</td>\n",
              "      <td>0</td>\n",
              "      <td>1</td>\n",
              "      <td>1</td>\n",
              "      <td>0</td>\n",
              "      <td>0</td>\n",
              "    </tr>\n",
              "  </tbody>\n",
              "</table>\n",
              "<p>5 rows × 33 columns</p>\n",
              "</div>\n",
              "      <button class=\"colab-df-convert\" onclick=\"convertToInteractive('df-9652e563-e4aa-4ae1-b926-4e8c8d5b8c2c')\"\n",
              "              title=\"Convert this dataframe to an interactive table.\"\n",
              "              style=\"display:none;\">\n",
              "        \n",
              "  <svg xmlns=\"http://www.w3.org/2000/svg\" height=\"24px\"viewBox=\"0 0 24 24\"\n",
              "       width=\"24px\">\n",
              "    <path d=\"M0 0h24v24H0V0z\" fill=\"none\"/>\n",
              "    <path d=\"M18.56 5.44l.94 2.06.94-2.06 2.06-.94-2.06-.94-.94-2.06-.94 2.06-2.06.94zm-11 1L8.5 8.5l.94-2.06 2.06-.94-2.06-.94L8.5 2.5l-.94 2.06-2.06.94zm10 10l.94 2.06.94-2.06 2.06-.94-2.06-.94-.94-2.06-.94 2.06-2.06.94z\"/><path d=\"M17.41 7.96l-1.37-1.37c-.4-.4-.92-.59-1.43-.59-.52 0-1.04.2-1.43.59L10.3 9.45l-7.72 7.72c-.78.78-.78 2.05 0 2.83L4 21.41c.39.39.9.59 1.41.59.51 0 1.02-.2 1.41-.59l7.78-7.78 2.81-2.81c.8-.78.8-2.07 0-2.86zM5.41 20L4 18.59l7.72-7.72 1.47 1.35L5.41 20z\"/>\n",
              "  </svg>\n",
              "      </button>\n",
              "      \n",
              "  <style>\n",
              "    .colab-df-container {\n",
              "      display:flex;\n",
              "      flex-wrap:wrap;\n",
              "      gap: 12px;\n",
              "    }\n",
              "\n",
              "    .colab-df-convert {\n",
              "      background-color: #E8F0FE;\n",
              "      border: none;\n",
              "      border-radius: 50%;\n",
              "      cursor: pointer;\n",
              "      display: none;\n",
              "      fill: #1967D2;\n",
              "      height: 32px;\n",
              "      padding: 0 0 0 0;\n",
              "      width: 32px;\n",
              "    }\n",
              "\n",
              "    .colab-df-convert:hover {\n",
              "      background-color: #E2EBFA;\n",
              "      box-shadow: 0px 1px 2px rgba(60, 64, 67, 0.3), 0px 1px 3px 1px rgba(60, 64, 67, 0.15);\n",
              "      fill: #174EA6;\n",
              "    }\n",
              "\n",
              "    [theme=dark] .colab-df-convert {\n",
              "      background-color: #3B4455;\n",
              "      fill: #D2E3FC;\n",
              "    }\n",
              "\n",
              "    [theme=dark] .colab-df-convert:hover {\n",
              "      background-color: #434B5C;\n",
              "      box-shadow: 0px 1px 3px 1px rgba(0, 0, 0, 0.15);\n",
              "      filter: drop-shadow(0px 1px 2px rgba(0, 0, 0, 0.3));\n",
              "      fill: #FFFFFF;\n",
              "    }\n",
              "  </style>\n",
              "\n",
              "      <script>\n",
              "        const buttonEl =\n",
              "          document.querySelector('#df-9652e563-e4aa-4ae1-b926-4e8c8d5b8c2c button.colab-df-convert');\n",
              "        buttonEl.style.display =\n",
              "          google.colab.kernel.accessAllowed ? 'block' : 'none';\n",
              "\n",
              "        async function convertToInteractive(key) {\n",
              "          const element = document.querySelector('#df-9652e563-e4aa-4ae1-b926-4e8c8d5b8c2c');\n",
              "          const dataTable =\n",
              "            await google.colab.kernel.invokeFunction('convertToInteractive',\n",
              "                                                     [key], {});\n",
              "          if (!dataTable) return;\n",
              "\n",
              "          const docLinkHtml = 'Like what you see? Visit the ' +\n",
              "            '<a target=\"_blank\" href=https://colab.research.google.com/notebooks/data_table.ipynb>data table notebook</a>'\n",
              "            + ' to learn more about interactive tables.';\n",
              "          element.innerHTML = '';\n",
              "          dataTable['output_type'] = 'display_data';\n",
              "          await google.colab.output.renderOutput(dataTable, element);\n",
              "          const docLink = document.createElement('div');\n",
              "          docLink.innerHTML = docLinkHtml;\n",
              "          element.appendChild(docLink);\n",
              "        }\n",
              "      </script>\n",
              "    </div>\n",
              "  </div>\n",
              "  "
            ],
            "text/plain": [
              "   age  Medu  Fedu  guardian_  traveltime  studytime  failures  famrel  \\\n",
              "0   18     4     4          1           2          2         0       4   \n",
              "1   17     1     1          0           1          2         0       5   \n",
              "2   15     1     1          1           1          2         3       4   \n",
              "3   15     4     2          1           1          3         0       3   \n",
              "4   16     3     3          0           1          2         0       4   \n",
              "\n",
              "   freetime  goout  ...  Fjob_  reason_  schoolsup_  famsup_  paid_  \\\n",
              "0         3      4  ...      4        0           1        0      0   \n",
              "1         3      3  ...      2        0           0        1      0   \n",
              "2         3      2  ...      2        2           1        0      1   \n",
              "3         2      2  ...      3        1           0        1      1   \n",
              "4         3      2  ...      2        1           0        1      1   \n",
              "\n",
              "   activities_  nursery_  higher_  internet_  romantic_  \n",
              "0            0         1        1          0          0  \n",
              "1            0         0        1          1          0  \n",
              "2            0         1        1          1          0  \n",
              "3            1         1        1          1          1  \n",
              "4            0         1        1          0          0  \n",
              "\n",
              "[5 rows x 33 columns]"
            ]
          },
          "execution_count": 19,
          "metadata": {},
          "output_type": "execute_result"
        }
      ],
      "source": [
        "df.head()"
      ],
      "id": "13317305"
    },
    {
      "cell_type": "code",
      "execution_count": null,
      "metadata": {
        "colab": {
          "base_uri": "https://localhost:8080/"
        },
        "id": "643b6b96",
        "outputId": "0008fb3a-b090-4c7a-ae19-eaf677b20587"
      },
      "outputs": [
        {
          "name": "stdout",
          "output_type": "stream",
          "text": [
            "[[54 18  4  0  1]\n",
            " [16  7  5  0  1]\n",
            " [ 3  4  0  0  0]\n",
            " [ 2  1  0  0  0]\n",
            " [ 2  0  0  1  0]]\n",
            "              precision    recall  f1-score   support\n",
            "\n",
            "           1       0.70      0.70      0.70        77\n",
            "           2       0.23      0.24      0.24        29\n",
            "           3       0.00      0.00      0.00         7\n",
            "           4       0.00      0.00      0.00         3\n",
            "           5       0.00      0.00      0.00         3\n",
            "\n",
            "    accuracy                           0.51       119\n",
            "   macro avg       0.19      0.19      0.19       119\n",
            "weighted avg       0.51      0.51      0.51       119\n",
            "\n"
          ]
        }
      ],
      "source": [
        "X_train, X_test, y_train, y_test = train_test_split(X, y, test_size=0.30)\n",
        "scaler = StandardScaler()\n",
        "scaler.fit(X_train)\n",
        "\n",
        "X_train = scaler.transform(X_train)\n",
        "X_test = scaler.transform(X_test)\n",
        "\n",
        "clf = KNeighborsClassifier(n_neighbors=1)\n",
        "clf.fit(X_train, y_train)\n",
        "\n",
        "y_pred = clf.predict(X_test)\n",
        "print(confusion_matrix(y_test, y_pred))\n",
        "print(classification_report(y_test, y_pred))"
      ],
      "id": "643b6b96"
    },
    {
      "cell_type": "code",
      "execution_count": null,
      "metadata": {
        "colab": {
          "base_uri": "https://localhost:8080/"
        },
        "id": "0c620c5f",
        "outputId": "14cb0671-38eb-4214-affb-5ee500e48da4"
      },
      "outputs": [
        {
          "name": "stdout",
          "output_type": "stream",
          "text": [
            "(395, 33)\n"
          ]
        }
      ],
      "source": [
        "print(df.shape)"
      ],
      "id": "0c620c5f"
    },
    {
      "cell_type": "markdown",
      "metadata": {
        "id": "71634ecc"
      },
      "source": [
        "# 3. Отбор на основе важности признаков"
      ],
      "id": "71634ecc"
    },
    {
      "cell_type": "code",
      "execution_count": null,
      "metadata": {
        "colab": {
          "base_uri": "https://localhost:8080/"
        },
        "id": "8b3c26ef",
        "outputId": "fd48dfa5-bcf7-4ec3-941d-f8d03ceb50b7"
      },
      "outputs": [
        {
          "name": "stdout",
          "output_type": "stream",
          "text": [
            "[0.277 0.274 0.204 0.109 0.137]\n"
          ]
        }
      ],
      "source": [
        "model = ExtraTreesClassifier()\n",
        "model.fit(X, Y)\n",
        "print(model.feature_importances_)"
      ],
      "id": "8b3c26ef"
    },
    {
      "cell_type": "code",
      "execution_count": null,
      "metadata": {
        "colab": {
          "base_uri": "https://localhost:8080/",
          "height": 299
        },
        "id": "ce0019e5",
        "outputId": "d5420c4d-54c4-4337-9e91-28aeec22d1bf"
      },
      "outputs": [
        {
          "data": {
            "text/html": [
              "\n",
              "  <div id=\"df-892e381f-77d8-4ecd-8cbe-6ae62faea2b3\">\n",
              "    <div class=\"colab-df-container\">\n",
              "      <div>\n",
              "<style scoped>\n",
              "    .dataframe tbody tr th:only-of-type {\n",
              "        vertical-align: middle;\n",
              "    }\n",
              "\n",
              "    .dataframe tbody tr th {\n",
              "        vertical-align: top;\n",
              "    }\n",
              "\n",
              "    .dataframe thead th {\n",
              "        text-align: right;\n",
              "    }\n",
              "</style>\n",
              "<table border=\"1\" class=\"dataframe\">\n",
              "  <thead>\n",
              "    <tr style=\"text-align: right;\">\n",
              "      <th></th>\n",
              "      <th>age</th>\n",
              "      <th>Medu</th>\n",
              "      <th>Fedu</th>\n",
              "      <th>guardian_</th>\n",
              "      <th>traveltime</th>\n",
              "      <th>studytime</th>\n",
              "      <th>failures</th>\n",
              "      <th>famrel</th>\n",
              "      <th>freetime</th>\n",
              "      <th>goout</th>\n",
              "      <th>...</th>\n",
              "      <th>Fjob_</th>\n",
              "      <th>reason_</th>\n",
              "      <th>schoolsup_</th>\n",
              "      <th>famsup_</th>\n",
              "      <th>paid_</th>\n",
              "      <th>activities_</th>\n",
              "      <th>nursery_</th>\n",
              "      <th>higher_</th>\n",
              "      <th>internet_</th>\n",
              "      <th>romantic_</th>\n",
              "    </tr>\n",
              "  </thead>\n",
              "  <tbody>\n",
              "    <tr>\n",
              "      <th>0</th>\n",
              "      <td>18</td>\n",
              "      <td>4</td>\n",
              "      <td>4</td>\n",
              "      <td>1</td>\n",
              "      <td>2</td>\n",
              "      <td>2</td>\n",
              "      <td>0</td>\n",
              "      <td>4</td>\n",
              "      <td>3</td>\n",
              "      <td>4</td>\n",
              "      <td>...</td>\n",
              "      <td>4</td>\n",
              "      <td>0</td>\n",
              "      <td>1</td>\n",
              "      <td>0</td>\n",
              "      <td>0</td>\n",
              "      <td>0</td>\n",
              "      <td>1</td>\n",
              "      <td>1</td>\n",
              "      <td>0</td>\n",
              "      <td>0</td>\n",
              "    </tr>\n",
              "    <tr>\n",
              "      <th>1</th>\n",
              "      <td>17</td>\n",
              "      <td>1</td>\n",
              "      <td>1</td>\n",
              "      <td>0</td>\n",
              "      <td>1</td>\n",
              "      <td>2</td>\n",
              "      <td>0</td>\n",
              "      <td>5</td>\n",
              "      <td>3</td>\n",
              "      <td>3</td>\n",
              "      <td>...</td>\n",
              "      <td>2</td>\n",
              "      <td>0</td>\n",
              "      <td>0</td>\n",
              "      <td>1</td>\n",
              "      <td>0</td>\n",
              "      <td>0</td>\n",
              "      <td>0</td>\n",
              "      <td>1</td>\n",
              "      <td>1</td>\n",
              "      <td>0</td>\n",
              "    </tr>\n",
              "    <tr>\n",
              "      <th>2</th>\n",
              "      <td>15</td>\n",
              "      <td>1</td>\n",
              "      <td>1</td>\n",
              "      <td>1</td>\n",
              "      <td>1</td>\n",
              "      <td>2</td>\n",
              "      <td>3</td>\n",
              "      <td>4</td>\n",
              "      <td>3</td>\n",
              "      <td>2</td>\n",
              "      <td>...</td>\n",
              "      <td>2</td>\n",
              "      <td>2</td>\n",
              "      <td>1</td>\n",
              "      <td>0</td>\n",
              "      <td>1</td>\n",
              "      <td>0</td>\n",
              "      <td>1</td>\n",
              "      <td>1</td>\n",
              "      <td>1</td>\n",
              "      <td>0</td>\n",
              "    </tr>\n",
              "    <tr>\n",
              "      <th>3</th>\n",
              "      <td>15</td>\n",
              "      <td>4</td>\n",
              "      <td>2</td>\n",
              "      <td>1</td>\n",
              "      <td>1</td>\n",
              "      <td>3</td>\n",
              "      <td>0</td>\n",
              "      <td>3</td>\n",
              "      <td>2</td>\n",
              "      <td>2</td>\n",
              "      <td>...</td>\n",
              "      <td>3</td>\n",
              "      <td>1</td>\n",
              "      <td>0</td>\n",
              "      <td>1</td>\n",
              "      <td>1</td>\n",
              "      <td>1</td>\n",
              "      <td>1</td>\n",
              "      <td>1</td>\n",
              "      <td>1</td>\n",
              "      <td>1</td>\n",
              "    </tr>\n",
              "    <tr>\n",
              "      <th>4</th>\n",
              "      <td>16</td>\n",
              "      <td>3</td>\n",
              "      <td>3</td>\n",
              "      <td>0</td>\n",
              "      <td>1</td>\n",
              "      <td>2</td>\n",
              "      <td>0</td>\n",
              "      <td>4</td>\n",
              "      <td>3</td>\n",
              "      <td>2</td>\n",
              "      <td>...</td>\n",
              "      <td>2</td>\n",
              "      <td>1</td>\n",
              "      <td>0</td>\n",
              "      <td>1</td>\n",
              "      <td>1</td>\n",
              "      <td>0</td>\n",
              "      <td>1</td>\n",
              "      <td>1</td>\n",
              "      <td>0</td>\n",
              "      <td>0</td>\n",
              "    </tr>\n",
              "  </tbody>\n",
              "</table>\n",
              "<p>5 rows × 33 columns</p>\n",
              "</div>\n",
              "      <button class=\"colab-df-convert\" onclick=\"convertToInteractive('df-892e381f-77d8-4ecd-8cbe-6ae62faea2b3')\"\n",
              "              title=\"Convert this dataframe to an interactive table.\"\n",
              "              style=\"display:none;\">\n",
              "        \n",
              "  <svg xmlns=\"http://www.w3.org/2000/svg\" height=\"24px\"viewBox=\"0 0 24 24\"\n",
              "       width=\"24px\">\n",
              "    <path d=\"M0 0h24v24H0V0z\" fill=\"none\"/>\n",
              "    <path d=\"M18.56 5.44l.94 2.06.94-2.06 2.06-.94-2.06-.94-.94-2.06-.94 2.06-2.06.94zm-11 1L8.5 8.5l.94-2.06 2.06-.94-2.06-.94L8.5 2.5l-.94 2.06-2.06.94zm10 10l.94 2.06.94-2.06 2.06-.94-2.06-.94-.94-2.06-.94 2.06-2.06.94z\"/><path d=\"M17.41 7.96l-1.37-1.37c-.4-.4-.92-.59-1.43-.59-.52 0-1.04.2-1.43.59L10.3 9.45l-7.72 7.72c-.78.78-.78 2.05 0 2.83L4 21.41c.39.39.9.59 1.41.59.51 0 1.02-.2 1.41-.59l7.78-7.78 2.81-2.81c.8-.78.8-2.07 0-2.86zM5.41 20L4 18.59l7.72-7.72 1.47 1.35L5.41 20z\"/>\n",
              "  </svg>\n",
              "      </button>\n",
              "      \n",
              "  <style>\n",
              "    .colab-df-container {\n",
              "      display:flex;\n",
              "      flex-wrap:wrap;\n",
              "      gap: 12px;\n",
              "    }\n",
              "\n",
              "    .colab-df-convert {\n",
              "      background-color: #E8F0FE;\n",
              "      border: none;\n",
              "      border-radius: 50%;\n",
              "      cursor: pointer;\n",
              "      display: none;\n",
              "      fill: #1967D2;\n",
              "      height: 32px;\n",
              "      padding: 0 0 0 0;\n",
              "      width: 32px;\n",
              "    }\n",
              "\n",
              "    .colab-df-convert:hover {\n",
              "      background-color: #E2EBFA;\n",
              "      box-shadow: 0px 1px 2px rgba(60, 64, 67, 0.3), 0px 1px 3px 1px rgba(60, 64, 67, 0.15);\n",
              "      fill: #174EA6;\n",
              "    }\n",
              "\n",
              "    [theme=dark] .colab-df-convert {\n",
              "      background-color: #3B4455;\n",
              "      fill: #D2E3FC;\n",
              "    }\n",
              "\n",
              "    [theme=dark] .colab-df-convert:hover {\n",
              "      background-color: #434B5C;\n",
              "      box-shadow: 0px 1px 3px 1px rgba(0, 0, 0, 0.15);\n",
              "      filter: drop-shadow(0px 1px 2px rgba(0, 0, 0, 0.3));\n",
              "      fill: #FFFFFF;\n",
              "    }\n",
              "  </style>\n",
              "\n",
              "      <script>\n",
              "        const buttonEl =\n",
              "          document.querySelector('#df-892e381f-77d8-4ecd-8cbe-6ae62faea2b3 button.colab-df-convert');\n",
              "        buttonEl.style.display =\n",
              "          google.colab.kernel.accessAllowed ? 'block' : 'none';\n",
              "\n",
              "        async function convertToInteractive(key) {\n",
              "          const element = document.querySelector('#df-892e381f-77d8-4ecd-8cbe-6ae62faea2b3');\n",
              "          const dataTable =\n",
              "            await google.colab.kernel.invokeFunction('convertToInteractive',\n",
              "                                                     [key], {});\n",
              "          if (!dataTable) return;\n",
              "\n",
              "          const docLinkHtml = 'Like what you see? Visit the ' +\n",
              "            '<a target=\"_blank\" href=https://colab.research.google.com/notebooks/data_table.ipynb>data table notebook</a>'\n",
              "            + ' to learn more about interactive tables.';\n",
              "          element.innerHTML = '';\n",
              "          dataTable['output_type'] = 'display_data';\n",
              "          await google.colab.output.renderOutput(dataTable, element);\n",
              "          const docLink = document.createElement('div');\n",
              "          docLink.innerHTML = docLinkHtml;\n",
              "          element.appendChild(docLink);\n",
              "        }\n",
              "      </script>\n",
              "    </div>\n",
              "  </div>\n",
              "  "
            ],
            "text/plain": [
              "   age  Medu  Fedu  guardian_  traveltime  studytime  failures  famrel  \\\n",
              "0   18     4     4          1           2          2         0       4   \n",
              "1   17     1     1          0           1          2         0       5   \n",
              "2   15     1     1          1           1          2         3       4   \n",
              "3   15     4     2          1           1          3         0       3   \n",
              "4   16     3     3          0           1          2         0       4   \n",
              "\n",
              "   freetime  goout  ...  Fjob_  reason_  schoolsup_  famsup_  paid_  \\\n",
              "0         3      4  ...      4        0           1        0      0   \n",
              "1         3      3  ...      2        0           0        1      0   \n",
              "2         3      2  ...      2        2           1        0      1   \n",
              "3         2      2  ...      3        1           0        1      1   \n",
              "4         3      2  ...      2        1           0        1      1   \n",
              "\n",
              "   activities_  nursery_  higher_  internet_  romantic_  \n",
              "0            0         1        1          0          0  \n",
              "1            0         0        1          1          0  \n",
              "2            0         1        1          1          0  \n",
              "3            1         1        1          1          1  \n",
              "4            0         1        1          0          0  \n",
              "\n",
              "[5 rows x 33 columns]"
            ]
          },
          "execution_count": 23,
          "metadata": {},
          "output_type": "execute_result"
        }
      ],
      "source": [
        "df.head()"
      ],
      "id": "ce0019e5"
    },
    {
      "cell_type": "code",
      "execution_count": null,
      "metadata": {
        "colab": {
          "base_uri": "https://localhost:8080/"
        },
        "id": "10621700",
        "outputId": "60569bc2-779a-4466-eb3d-5b539afb62b4"
      },
      "outputs": [
        {
          "name": "stdout",
          "output_type": "stream",
          "text": [
            "[[52 18  6  3  2]\n",
            " [18  3  3  0  0]\n",
            " [ 6  1  1  1  0]\n",
            " [ 3  0  0  0  0]\n",
            " [ 1  1  0  0  0]]\n",
            "              precision    recall  f1-score   support\n",
            "\n",
            "           1       0.65      0.64      0.65        81\n",
            "           2       0.13      0.12      0.13        24\n",
            "           3       0.10      0.11      0.11         9\n",
            "           4       0.00      0.00      0.00         3\n",
            "           5       0.00      0.00      0.00         2\n",
            "\n",
            "    accuracy                           0.47       119\n",
            "   macro avg       0.18      0.18      0.18       119\n",
            "weighted avg       0.48      0.47      0.47       119\n",
            "\n"
          ]
        }
      ],
      "source": [
        "X_train, X_test, y_train, y_test = train_test_split(X, y, test_size=0.30)\n",
        "scaler = StandardScaler()\n",
        "scaler.fit(X_train)\n",
        "\n",
        "X_train = scaler.transform(X_train)\n",
        "X_test = scaler.transform(X_test)\n",
        "\n",
        "clf = KNeighborsClassifier(n_neighbors=1)\n",
        "clf.fit(X_train, y_train)\n",
        "\n",
        "y_pred = clf.predict(X_test)\n",
        "print(confusion_matrix(y_test, y_pred))\n",
        "print(classification_report(y_test, y_pred))"
      ],
      "id": "10621700"
    },
    {
      "cell_type": "code",
      "execution_count": null,
      "metadata": {
        "colab": {
          "base_uri": "https://localhost:8080/"
        },
        "id": "f9447a4e",
        "outputId": "109fa654-b612-4dd0-9ed0-f0c4668cff66"
      },
      "outputs": [
        {
          "name": "stdout",
          "output_type": "stream",
          "text": [
            "(395, 33)\n"
          ]
        }
      ],
      "source": [
        "print(df.shape)"
      ],
      "id": "f9447a4e"
    },
    {
      "cell_type": "markdown",
      "metadata": {
        "id": "d6315945"
      },
      "source": [
        "# 4. PCA"
      ],
      "id": "d6315945"
    },
    {
      "cell_type": "code",
      "execution_count": null,
      "metadata": {
        "colab": {
          "base_uri": "https://localhost:8080/"
        },
        "id": "fb24a696",
        "outputId": "13bf2363-47a6-4cc6-f8b2-964b599e329c"
      },
      "outputs": [
        {
          "name": "stdout",
          "output_type": "stream",
          "text": [
            "Explained Variance: [0.454 0.301 0.099]\n",
            "[[-0.833  2.12   0.71 ]\n",
            " [ 1.967 -1.079 -0.352]\n",
            " [ 0.978 -2.628 -0.533]\n",
            " [-1.378 -1.083 -1.055]\n",
            " [-0.924 -0.376 -0.091]]\n"
          ]
        }
      ],
      "source": [
        "# feature extraction\n",
        "pca = PCA(n_components=3)\n",
        "fit = pca.fit(X)\n",
        "features = fit.transform(X)\n",
        "\n",
        "# summarize components\n",
        "print(\"Explained Variance:\", fit.explained_variance_ratio_)\n",
        "print(features[0:5,:])"
      ],
      "id": "fb24a696"
    },
    {
      "cell_type": "code",
      "execution_count": null,
      "metadata": {
        "id": "9fee1b1f"
      },
      "outputs": [],
      "source": [
        "df = pd.DataFrame(features, columns=['feature 1', 'feature 2', 'feature 3'])"
      ],
      "id": "9fee1b1f"
    },
    {
      "cell_type": "code",
      "execution_count": null,
      "metadata": {
        "colab": {
          "base_uri": "https://localhost:8080/"
        },
        "id": "23cbd56f",
        "outputId": "c24425fc-3f1d-4a35-8705-099d09762f61"
      },
      "outputs": [
        {
          "data": {
            "text/plain": [
              "(395, 3)"
            ]
          },
          "execution_count": 28,
          "metadata": {},
          "output_type": "execute_result"
        }
      ],
      "source": [
        "df.shape"
      ],
      "id": "23cbd56f"
    },
    {
      "cell_type": "code",
      "execution_count": null,
      "metadata": {
        "colab": {
          "base_uri": "https://localhost:8080/"
        },
        "id": "8e7785dd",
        "outputId": "4f5f9282-6650-49d8-d190-bc4f28d48cb7"
      },
      "outputs": [
        {
          "data": {
            "text/html": [
              "\n",
              "  <div id=\"df-e79c3fc6-2279-4938-8179-cae15272191b\">\n",
              "    <div class=\"colab-df-container\">\n",
              "      <div>\n",
              "<style scoped>\n",
              "    .dataframe tbody tr th:only-of-type {\n",
              "        vertical-align: middle;\n",
              "    }\n",
              "\n",
              "    .dataframe tbody tr th {\n",
              "        vertical-align: top;\n",
              "    }\n",
              "\n",
              "    .dataframe thead th {\n",
              "        text-align: right;\n",
              "    }\n",
              "</style>\n",
              "<table border=\"1\" class=\"dataframe\">\n",
              "  <thead>\n",
              "    <tr style=\"text-align: right;\">\n",
              "      <th></th>\n",
              "      <th>feature 1</th>\n",
              "      <th>feature 2</th>\n",
              "      <th>feature 3</th>\n",
              "    </tr>\n",
              "  </thead>\n",
              "  <tbody>\n",
              "    <tr>\n",
              "      <th>0</th>\n",
              "      <td>-0.833308</td>\n",
              "      <td>2.119898</td>\n",
              "      <td>0.709553</td>\n",
              "    </tr>\n",
              "    <tr>\n",
              "      <th>1</th>\n",
              "      <td>1.967108</td>\n",
              "      <td>-1.078562</td>\n",
              "      <td>-0.351998</td>\n",
              "    </tr>\n",
              "    <tr>\n",
              "      <th>2</th>\n",
              "      <td>0.978283</td>\n",
              "      <td>-2.628105</td>\n",
              "      <td>-0.533274</td>\n",
              "    </tr>\n",
              "    <tr>\n",
              "      <th>3</th>\n",
              "      <td>-1.378457</td>\n",
              "      <td>-1.082710</td>\n",
              "      <td>-1.054712</td>\n",
              "    </tr>\n",
              "    <tr>\n",
              "      <th>4</th>\n",
              "      <td>-0.923865</td>\n",
              "      <td>-0.376377</td>\n",
              "      <td>-0.091248</td>\n",
              "    </tr>\n",
              "  </tbody>\n",
              "</table>\n",
              "</div>\n",
              "      <button class=\"colab-df-convert\" onclick=\"convertToInteractive('df-e79c3fc6-2279-4938-8179-cae15272191b')\"\n",
              "              title=\"Convert this dataframe to an interactive table.\"\n",
              "              style=\"display:none;\">\n",
              "        \n",
              "  <svg xmlns=\"http://www.w3.org/2000/svg\" height=\"24px\"viewBox=\"0 0 24 24\"\n",
              "       width=\"24px\">\n",
              "    <path d=\"M0 0h24v24H0V0z\" fill=\"none\"/>\n",
              "    <path d=\"M18.56 5.44l.94 2.06.94-2.06 2.06-.94-2.06-.94-.94-2.06-.94 2.06-2.06.94zm-11 1L8.5 8.5l.94-2.06 2.06-.94-2.06-.94L8.5 2.5l-.94 2.06-2.06.94zm10 10l.94 2.06.94-2.06 2.06-.94-2.06-.94-.94-2.06-.94 2.06-2.06.94z\"/><path d=\"M17.41 7.96l-1.37-1.37c-.4-.4-.92-.59-1.43-.59-.52 0-1.04.2-1.43.59L10.3 9.45l-7.72 7.72c-.78.78-.78 2.05 0 2.83L4 21.41c.39.39.9.59 1.41.59.51 0 1.02-.2 1.41-.59l7.78-7.78 2.81-2.81c.8-.78.8-2.07 0-2.86zM5.41 20L4 18.59l7.72-7.72 1.47 1.35L5.41 20z\"/>\n",
              "  </svg>\n",
              "      </button>\n",
              "      \n",
              "  <style>\n",
              "    .colab-df-container {\n",
              "      display:flex;\n",
              "      flex-wrap:wrap;\n",
              "      gap: 12px;\n",
              "    }\n",
              "\n",
              "    .colab-df-convert {\n",
              "      background-color: #E8F0FE;\n",
              "      border: none;\n",
              "      border-radius: 50%;\n",
              "      cursor: pointer;\n",
              "      display: none;\n",
              "      fill: #1967D2;\n",
              "      height: 32px;\n",
              "      padding: 0 0 0 0;\n",
              "      width: 32px;\n",
              "    }\n",
              "\n",
              "    .colab-df-convert:hover {\n",
              "      background-color: #E2EBFA;\n",
              "      box-shadow: 0px 1px 2px rgba(60, 64, 67, 0.3), 0px 1px 3px 1px rgba(60, 64, 67, 0.15);\n",
              "      fill: #174EA6;\n",
              "    }\n",
              "\n",
              "    [theme=dark] .colab-df-convert {\n",
              "      background-color: #3B4455;\n",
              "      fill: #D2E3FC;\n",
              "    }\n",
              "\n",
              "    [theme=dark] .colab-df-convert:hover {\n",
              "      background-color: #434B5C;\n",
              "      box-shadow: 0px 1px 3px 1px rgba(0, 0, 0, 0.15);\n",
              "      filter: drop-shadow(0px 1px 2px rgba(0, 0, 0, 0.3));\n",
              "      fill: #FFFFFF;\n",
              "    }\n",
              "  </style>\n",
              "\n",
              "      <script>\n",
              "        const buttonEl =\n",
              "          document.querySelector('#df-e79c3fc6-2279-4938-8179-cae15272191b button.colab-df-convert');\n",
              "        buttonEl.style.display =\n",
              "          google.colab.kernel.accessAllowed ? 'block' : 'none';\n",
              "\n",
              "        async function convertToInteractive(key) {\n",
              "          const element = document.querySelector('#df-e79c3fc6-2279-4938-8179-cae15272191b');\n",
              "          const dataTable =\n",
              "            await google.colab.kernel.invokeFunction('convertToInteractive',\n",
              "                                                     [key], {});\n",
              "          if (!dataTable) return;\n",
              "\n",
              "          const docLinkHtml = 'Like what you see? Visit the ' +\n",
              "            '<a target=\"_blank\" href=https://colab.research.google.com/notebooks/data_table.ipynb>data table notebook</a>'\n",
              "            + ' to learn more about interactive tables.';\n",
              "          element.innerHTML = '';\n",
              "          dataTable['output_type'] = 'display_data';\n",
              "          await google.colab.output.renderOutput(dataTable, element);\n",
              "          const docLink = document.createElement('div');\n",
              "          docLink.innerHTML = docLinkHtml;\n",
              "          element.appendChild(docLink);\n",
              "        }\n",
              "      </script>\n",
              "    </div>\n",
              "  </div>\n",
              "  "
            ],
            "text/plain": [
              "   feature 1  feature 2  feature 3\n",
              "0  -0.833308   2.119898   0.709553\n",
              "1   1.967108  -1.078562  -0.351998\n",
              "2   0.978283  -2.628105  -0.533274\n",
              "3  -1.378457  -1.082710  -1.054712\n",
              "4  -0.923865  -0.376377  -0.091248"
            ]
          },
          "execution_count": 29,
          "metadata": {},
          "output_type": "execute_result"
        }
      ],
      "source": [
        "df.head()"
      ],
      "id": "8e7785dd"
    },
    {
      "cell_type": "code",
      "execution_count": null,
      "metadata": {
        "colab": {
          "base_uri": "https://localhost:8080/"
        },
        "id": "817a791c",
        "outputId": "0fe8874d-724f-4e5d-a9f9-e52466a62b06"
      },
      "outputs": [
        {
          "name": "stdout",
          "output_type": "stream",
          "text": [
            "[[64  9  1  4  1]\n",
            " [20  4  0  0  0]\n",
            " [ 7  2  0  1  0]\n",
            " [ 3  0  0  0  0]\n",
            " [ 3  0  0  0  0]]\n",
            "              precision    recall  f1-score   support\n",
            "\n",
            "           1       0.66      0.81      0.73        79\n",
            "           2       0.27      0.17      0.21        24\n",
            "           3       0.00      0.00      0.00        10\n",
            "           4       0.00      0.00      0.00         3\n",
            "           5       0.00      0.00      0.00         3\n",
            "\n",
            "    accuracy                           0.57       119\n",
            "   macro avg       0.19      0.20      0.19       119\n",
            "weighted avg       0.49      0.57      0.52       119\n",
            "\n"
          ]
        }
      ],
      "source": [
        "X_train, X_test, y_train, y_test = train_test_split(X, y, test_size=0.30)\n",
        "scaler = StandardScaler()\n",
        "scaler.fit(X_train)\n",
        "\n",
        "X_train = scaler.transform(X_train)\n",
        "X_test = scaler.transform(X_test)\n",
        "\n",
        "clf = KNeighborsClassifier(n_neighbors=1)\n",
        "clf.fit(X_train, y_train)\n",
        "\n",
        "y_pred = clf.predict(X_test)\n",
        "print(confusion_matrix(y_test, y_pred))\n",
        "print(classification_report(y_test, y_pred))"
      ],
      "id": "817a791c"
    },
    {
      "cell_type": "markdown",
      "metadata": {
        "id": "57c67729"
      },
      "source": [
        "# Task 2"
      ],
      "id": "57c67729"
    },
    {
      "cell_type": "code",
      "execution_count": null,
      "metadata": {
        "id": "f69d10f9"
      },
      "outputs": [],
      "source": [
        "from sklearn.cluster import KMeans\n",
        "import matplotlib.pyplot as plt"
      ],
      "id": "f69d10f9"
    },
    {
      "cell_type": "code",
      "execution_count": null,
      "metadata": {
        "id": "216ae9a4"
      },
      "outputs": [],
      "source": [
        "model = KMeans(n_clusters = 3)"
      ],
      "id": "216ae9a4"
    },
    {
      "cell_type": "code",
      "execution_count": null,
      "metadata": {
        "colab": {
          "base_uri": "https://localhost:8080/"
        },
        "id": "7a24472b",
        "outputId": "4b579f32-2589-4172-c554-ad6e0c20a281"
      },
      "outputs": [
        {
          "data": {
            "text/plain": [
              "KMeans(n_clusters=3)"
            ]
          },
          "execution_count": 33,
          "metadata": {},
          "output_type": "execute_result"
        }
      ],
      "source": [
        "model.fit(df)"
      ],
      "id": "7a24472b"
    },
    {
      "cell_type": "code",
      "execution_count": null,
      "metadata": {
        "id": "3fd4b522"
      },
      "outputs": [],
      "source": [
        "all_predictions = model.predict(df)"
      ],
      "id": "3fd4b522"
    },
    {
      "cell_type": "code",
      "execution_count": null,
      "metadata": {
        "colab": {
          "base_uri": "https://localhost:8080/"
        },
        "id": "489ab1dc",
        "outputId": "8e5842a9-abe6-422a-ce00-5c812e850a8b"
      },
      "outputs": [
        {
          "name": "stdout",
          "output_type": "stream",
          "text": [
            "[1 2 2 1 1 1 2 1 2 1 1 2 1 1 2 1 1 1 2 1 1 1 1 2 1 2 2 1 1 1 1 1 1 1 2 2 1\n",
            " 1 1 2 2 1 1 2 2 1 1 1 1 1 2 1 1 1 1 2 1 1 2 1 1 2 2 1 1 1 1 2 2 2 2 1 2 2\n",
            " 1 1 2 2 2 1 2 2 2 2 2 1 2 1 2 1 1 1 2 1 2 2 1 2 1 1 1 1 1 2 1 1 2 1 1 1 1\n",
            " 1 2 1 2 1 1 1 2 1 2 2 1 1 2 1 1 0 0 1 1 2 2 1 1 1 1 1 2 1 1 2 1 2 2 2 2 2\n",
            " 1 2 0 2 1 0 1 2 2 0 2 1 2 2 2 2 2 2 2 1 2 1 1 2 1 2 1 1 2 1 1 1 1 1 1 1 2\n",
            " 1 2 2 1 2 2 2 2 1 2 1 1 1 1 1 1 2 2 2 2 1 2 1 2 1 0 1 2 0 1 2 1 0 2 2 2 2\n",
            " 2 0 1 0 2 2 0 2 1 2 1 1 2 2 2 2 2 0 1 1 1 1 0 2 2 0 0 2 0 1 0 2 2 2 1 0 0\n",
            " 2 1 1 0 1 0 1 2 1 0 0 0 0 0 2 1 2 0 1 1 1 2 2 0 0 2 2 0 2 0 1 0 1 0 2 0 1\n",
            " 0 1 1 1 1 1 1 2 0 0 0 0 0 0 0 0 0 0 0 0 0 1 1 1 1 2 2 2 2 1 1 2 1 1 0 1 0\n",
            " 0 0 1 0 2 0 2 0 1 1 2 0 0 1 1 1 0 0 1 0 0 1 0 1 2 0 0 0 0 0 1 2 0 1 2 0 1\n",
            " 0 0 2 2 1 0 0 1 0 2 1 0 2 0 0 0 1 0 0 0 0 2 0 0 0]\n"
          ]
        }
      ],
      "source": [
        "print(all_predictions)"
      ],
      "id": "489ab1dc"
    },
    {
      "cell_type": "markdown",
      "metadata": {
        "id": "fd2328a7"
      },
      "source": [
        "# Иерахаическая кластеризация"
      ],
      "id": "fd2328a7"
    },
    {
      "cell_type": "code",
      "execution_count": null,
      "metadata": {
        "id": "5ca1cd6a"
      },
      "outputs": [],
      "source": [
        "from scipy.cluster.hierarchy import linkage, dendrogram\n",
        "import matplotlib.pyplot as plt\n",
        "\n",
        "%config InlineBackend.figure_format = 'svg' \n",
        "\n",
        "#увеличим дефолтный размер графиков\n",
        "from pylab import rcParams\n",
        "rcParams['figure.figsize'] = 15, 5"
      ],
      "id": "5ca1cd6a"
    },
    {
      "cell_type": "code",
      "execution_count": null,
      "metadata": {
        "id": "af24d5e2"
      },
      "outputs": [],
      "source": [
        "samples = df.values"
      ],
      "id": "af24d5e2"
    },
    {
      "cell_type": "code",
      "execution_count": null,
      "metadata": {
        "id": "0d1c8e1b"
      },
      "outputs": [],
      "source": [
        "mergings = linkage(samples, method='complete')"
      ],
      "id": "0d1c8e1b"
    },
    {
      "cell_type": "code",
      "execution_count": null,
      "metadata": {
        "colab": {
          "base_uri": "https://localhost:8080/",
          "height": 439
        },
        "id": "1d282c09",
        "outputId": "b2d36185-edd6-45d5-ce25-a437aec45584"
      },
      "outputs": [
        {
          "data": {
            "image/svg+xml": "<?xml version=\"1.0\" encoding=\"utf-8\" standalone=\"no\"?>\n<!DOCTYPE svg PUBLIC \"-//W3C//DTD SVG 1.1//EN\"\n  \"http://www.w3.org/Graphics/SVG/1.1/DTD/svg11.dtd\">\n<!-- Created with matplotlib (https://matplotlib.org/) -->\n<svg height=\"299.006875pt\" version=\"1.1\" viewBox=\"0 0 869.429256 299.006875\" width=\"869.429256pt\" xmlns=\"http://www.w3.org/2000/svg\" xmlns:xlink=\"http://www.w3.org/1999/xlink\">\n <defs>\n  <style type=\"text/css\">\n*{stroke-linecap:butt;stroke-linejoin:round;}\n  </style>\n </defs>\n <g id=\"figure_1\">\n  <g id=\"patch_1\">\n   <path d=\"M 0 299.006875 \nL 869.429256 299.006875 \nL 869.429256 0 \nL 0 0 \nz\n\" style=\"fill:none;\"/>\n  </g>\n  <g id=\"axes_1\">\n   <g id=\"patch_2\">\n    <path d=\"M 20.5625 279 \nL 857.5625 279 \nL 857.5625 7.2 \nL 20.5625 7.2 \nz\n\" style=\"fill:#ffffff;\"/>\n   </g>\n   <g id=\"matplotlib.axis_1\">\n    <g id=\"xtick_1\">\n     <g id=\"text_1\">\n      <!-- 247 -->\n      <defs>\n       <path d=\"M 19.1875 8.296875 \nL 53.609375 8.296875 \nL 53.609375 0 \nL 7.328125 0 \nL 7.328125 8.296875 \nQ 12.9375 14.109375 22.625 23.890625 \nQ 32.328125 33.6875 34.8125 36.53125 \nQ 39.546875 41.84375 41.421875 45.53125 \nQ 43.3125 49.21875 43.3125 52.78125 \nQ 43.3125 58.59375 39.234375 62.25 \nQ 35.15625 65.921875 28.609375 65.921875 \nQ 23.96875 65.921875 18.8125 64.3125 \nQ 13.671875 62.703125 7.8125 59.421875 \nL 7.8125 69.390625 \nQ 13.765625 71.78125 18.9375 73 \nQ 24.125 74.21875 28.421875 74.21875 \nQ 39.75 74.21875 46.484375 68.546875 \nQ 53.21875 62.890625 53.21875 53.421875 \nQ 53.21875 48.921875 51.53125 44.890625 \nQ 49.859375 40.875 45.40625 35.40625 \nQ 44.1875 33.984375 37.640625 27.21875 \nQ 31.109375 20.453125 19.1875 8.296875 \nz\n\" id=\"DejaVuSans-50\"/>\n       <path d=\"M 37.796875 64.3125 \nL 12.890625 25.390625 \nL 37.796875 25.390625 \nz\nM 35.203125 72.90625 \nL 47.609375 72.90625 \nL 47.609375 25.390625 \nL 58.015625 25.390625 \nL 58.015625 17.1875 \nL 47.609375 17.1875 \nL 47.609375 0 \nL 37.796875 0 \nL 37.796875 17.1875 \nL 4.890625 17.1875 \nL 4.890625 26.703125 \nz\n\" id=\"DejaVuSans-52\"/>\n       <path d=\"M 8.203125 72.90625 \nL 55.078125 72.90625 \nL 55.078125 68.703125 \nL 28.609375 0 \nL 18.3125 0 \nL 43.21875 64.59375 \nL 8.203125 64.59375 \nz\n\" id=\"DejaVuSans-55\"/>\n      </defs>\n      <g transform=\"translate(15.895744 290.559063)scale(0.06 -0.06)\">\n       <use xlink:href=\"#DejaVuSans-50\"/>\n       <use x=\"63.623047\" xlink:href=\"#DejaVuSans-52\"/>\n       <use x=\"127.246094\" xlink:href=\"#DejaVuSans-55\"/>\n      </g>\n     </g>\n    </g>\n    <g id=\"xtick_2\">\n     <g id=\"text_2\">\n      <!-- 392 -->\n      <defs>\n       <path d=\"M 40.578125 39.3125 \nQ 47.65625 37.796875 51.625 33 \nQ 55.609375 28.21875 55.609375 21.1875 \nQ 55.609375 10.40625 48.1875 4.484375 \nQ 40.765625 -1.421875 27.09375 -1.421875 \nQ 22.515625 -1.421875 17.65625 -0.515625 \nQ 12.796875 0.390625 7.625 2.203125 \nL 7.625 11.71875 \nQ 11.71875 9.328125 16.59375 8.109375 \nQ 21.484375 6.890625 26.8125 6.890625 \nQ 36.078125 6.890625 40.9375 10.546875 \nQ 45.796875 14.203125 45.796875 21.1875 \nQ 45.796875 27.640625 41.28125 31.265625 \nQ 36.765625 34.90625 28.71875 34.90625 \nL 20.21875 34.90625 \nL 20.21875 43.015625 \nL 29.109375 43.015625 \nQ 36.375 43.015625 40.234375 45.921875 \nQ 44.09375 48.828125 44.09375 54.296875 \nQ 44.09375 59.90625 40.109375 62.90625 \nQ 36.140625 65.921875 28.71875 65.921875 \nQ 24.65625 65.921875 20.015625 65.03125 \nQ 15.375 64.15625 9.8125 62.3125 \nL 9.8125 71.09375 \nQ 15.4375 72.65625 20.34375 73.4375 \nQ 25.25 74.21875 29.59375 74.21875 \nQ 40.828125 74.21875 47.359375 69.109375 \nQ 53.90625 64.015625 53.90625 55.328125 \nQ 53.90625 49.265625 50.4375 45.09375 \nQ 46.96875 40.921875 40.578125 39.3125 \nz\n\" id=\"DejaVuSans-51\"/>\n       <path d=\"M 10.984375 1.515625 \nL 10.984375 10.5 \nQ 14.703125 8.734375 18.5 7.8125 \nQ 22.3125 6.890625 25.984375 6.890625 \nQ 35.75 6.890625 40.890625 13.453125 \nQ 46.046875 20.015625 46.78125 33.40625 \nQ 43.953125 29.203125 39.59375 26.953125 \nQ 35.25 24.703125 29.984375 24.703125 \nQ 19.046875 24.703125 12.671875 31.3125 \nQ 6.296875 37.9375 6.296875 49.421875 \nQ 6.296875 60.640625 12.9375 67.421875 \nQ 19.578125 74.21875 30.609375 74.21875 \nQ 43.265625 74.21875 49.921875 64.515625 \nQ 56.59375 54.828125 56.59375 36.375 \nQ 56.59375 19.140625 48.40625 8.859375 \nQ 40.234375 -1.421875 26.421875 -1.421875 \nQ 22.703125 -1.421875 18.890625 -0.6875 \nQ 15.09375 0.046875 10.984375 1.515625 \nz\nM 30.609375 32.421875 \nQ 37.25 32.421875 41.125 36.953125 \nQ 45.015625 41.5 45.015625 49.421875 \nQ 45.015625 57.28125 41.125 61.84375 \nQ 37.25 66.40625 30.609375 66.40625 \nQ 23.96875 66.40625 20.09375 61.84375 \nQ 16.21875 57.28125 16.21875 49.421875 \nQ 16.21875 41.5 20.09375 36.953125 \nQ 23.96875 32.421875 30.609375 32.421875 \nz\n\" id=\"DejaVuSans-57\"/>\n      </defs>\n      <g transform=\"translate(18.014731 290.559063)scale(0.06 -0.06)\">\n       <use xlink:href=\"#DejaVuSans-51\"/>\n       <use x=\"63.623047\" xlink:href=\"#DejaVuSans-57\"/>\n       <use x=\"127.246094\" xlink:href=\"#DejaVuSans-50\"/>\n      </g>\n     </g>\n    </g>\n    <g id=\"xtick_3\">\n     <g id=\"text_3\">\n      <!-- 336 -->\n      <defs>\n       <path d=\"M 33.015625 40.375 \nQ 26.375 40.375 22.484375 35.828125 \nQ 18.609375 31.296875 18.609375 23.390625 \nQ 18.609375 15.53125 22.484375 10.953125 \nQ 26.375 6.390625 33.015625 6.390625 \nQ 39.65625 6.390625 43.53125 10.953125 \nQ 47.40625 15.53125 47.40625 23.390625 \nQ 47.40625 31.296875 43.53125 35.828125 \nQ 39.65625 40.375 33.015625 40.375 \nz\nM 52.59375 71.296875 \nL 52.59375 62.3125 \nQ 48.875 64.0625 45.09375 64.984375 \nQ 41.3125 65.921875 37.59375 65.921875 \nQ 27.828125 65.921875 22.671875 59.328125 \nQ 17.53125 52.734375 16.796875 39.40625 \nQ 19.671875 43.65625 24.015625 45.921875 \nQ 28.375 48.1875 33.59375 48.1875 \nQ 44.578125 48.1875 50.953125 41.515625 \nQ 57.328125 34.859375 57.328125 23.390625 \nQ 57.328125 12.15625 50.6875 5.359375 \nQ 44.046875 -1.421875 33.015625 -1.421875 \nQ 20.359375 -1.421875 13.671875 8.265625 \nQ 6.984375 17.96875 6.984375 36.375 \nQ 6.984375 53.65625 15.1875 63.9375 \nQ 23.390625 74.21875 37.203125 74.21875 \nQ 40.921875 74.21875 44.703125 73.484375 \nQ 48.484375 72.75 52.59375 71.296875 \nz\n\" id=\"DejaVuSans-54\"/>\n      </defs>\n      <g transform=\"translate(20.133718 290.559063)scale(0.06 -0.06)\">\n       <use xlink:href=\"#DejaVuSans-51\"/>\n       <use x=\"63.623047\" xlink:href=\"#DejaVuSans-51\"/>\n       <use x=\"127.246094\" xlink:href=\"#DejaVuSans-54\"/>\n      </g>\n     </g>\n    </g>\n    <g id=\"xtick_4\">\n     <g id=\"text_4\">\n      <!-- 340 -->\n      <defs>\n       <path d=\"M 31.78125 66.40625 \nQ 24.171875 66.40625 20.328125 58.90625 \nQ 16.5 51.421875 16.5 36.375 \nQ 16.5 21.390625 20.328125 13.890625 \nQ 24.171875 6.390625 31.78125 6.390625 \nQ 39.453125 6.390625 43.28125 13.890625 \nQ 47.125 21.390625 47.125 36.375 \nQ 47.125 51.421875 43.28125 58.90625 \nQ 39.453125 66.40625 31.78125 66.40625 \nz\nM 31.78125 74.21875 \nQ 44.046875 74.21875 50.515625 64.515625 \nQ 56.984375 54.828125 56.984375 36.375 \nQ 56.984375 17.96875 50.515625 8.265625 \nQ 44.046875 -1.421875 31.78125 -1.421875 \nQ 19.53125 -1.421875 13.0625 8.265625 \nQ 6.59375 17.96875 6.59375 36.375 \nQ 6.59375 54.828125 13.0625 64.515625 \nQ 19.53125 74.21875 31.78125 74.21875 \nz\n\" id=\"DejaVuSans-48\"/>\n      </defs>\n      <g transform=\"translate(22.252706 290.559063)scale(0.06 -0.06)\">\n       <use xlink:href=\"#DejaVuSans-51\"/>\n       <use x=\"63.623047\" xlink:href=\"#DejaVuSans-52\"/>\n       <use x=\"127.246094\" xlink:href=\"#DejaVuSans-48\"/>\n      </g>\n     </g>\n    </g>\n    <g id=\"xtick_5\">\n     <g id=\"text_5\">\n      <!-- 390 -->\n      <g transform=\"translate(24.371693 290.559063)scale(0.06 -0.06)\">\n       <use xlink:href=\"#DejaVuSans-51\"/>\n       <use x=\"63.623047\" xlink:href=\"#DejaVuSans-57\"/>\n       <use x=\"127.246094\" xlink:href=\"#DejaVuSans-48\"/>\n      </g>\n     </g>\n    </g>\n    <g id=\"xtick_6\">\n     <g id=\"text_6\">\n      <!-- 310 -->\n      <defs>\n       <path d=\"M 12.40625 8.296875 \nL 28.515625 8.296875 \nL 28.515625 63.921875 \nL 10.984375 60.40625 \nL 10.984375 69.390625 \nL 28.421875 72.90625 \nL 38.28125 72.90625 \nL 38.28125 8.296875 \nL 54.390625 8.296875 \nL 54.390625 0 \nL 12.40625 0 \nz\n\" id=\"DejaVuSans-49\"/>\n      </defs>\n      <g transform=\"translate(26.49068 290.559063)scale(0.06 -0.06)\">\n       <use xlink:href=\"#DejaVuSans-51\"/>\n       <use x=\"63.623047\" xlink:href=\"#DejaVuSans-49\"/>\n       <use x=\"127.246094\" xlink:href=\"#DejaVuSans-48\"/>\n      </g>\n     </g>\n    </g>\n    <g id=\"xtick_7\">\n     <g id=\"text_7\">\n      <!-- 312 -->\n      <g transform=\"translate(28.609668 290.559063)scale(0.06 -0.06)\">\n       <use xlink:href=\"#DejaVuSans-51\"/>\n       <use x=\"63.623047\" xlink:href=\"#DejaVuSans-49\"/>\n       <use x=\"127.246094\" xlink:href=\"#DejaVuSans-50\"/>\n      </g>\n     </g>\n    </g>\n    <g id=\"xtick_8\">\n     <g id=\"text_8\">\n      <!-- 306 -->\n      <g transform=\"translate(30.728655 290.559063)scale(0.06 -0.06)\">\n       <use xlink:href=\"#DejaVuSans-51\"/>\n       <use x=\"63.623047\" xlink:href=\"#DejaVuSans-48\"/>\n       <use x=\"127.246094\" xlink:href=\"#DejaVuSans-54\"/>\n      </g>\n     </g>\n    </g>\n    <g id=\"xtick_9\">\n     <g id=\"text_9\">\n      <!-- 376 -->\n      <g transform=\"translate(32.847642 290.559063)scale(0.06 -0.06)\">\n       <use xlink:href=\"#DejaVuSans-51\"/>\n       <use x=\"63.623047\" xlink:href=\"#DejaVuSans-55\"/>\n       <use x=\"127.246094\" xlink:href=\"#DejaVuSans-54\"/>\n      </g>\n     </g>\n    </g>\n    <g id=\"xtick_10\">\n     <g id=\"text_10\">\n      <!-- 153 -->\n      <defs>\n       <path d=\"M 10.796875 72.90625 \nL 49.515625 72.90625 \nL 49.515625 64.59375 \nL 19.828125 64.59375 \nL 19.828125 46.734375 \nQ 21.96875 47.46875 24.109375 47.828125 \nQ 26.265625 48.1875 28.421875 48.1875 \nQ 40.625 48.1875 47.75 41.5 \nQ 54.890625 34.8125 54.890625 23.390625 \nQ 54.890625 11.625 47.5625 5.09375 \nQ 40.234375 -1.421875 26.90625 -1.421875 \nQ 22.3125 -1.421875 17.546875 -0.640625 \nQ 12.796875 0.140625 7.71875 1.703125 \nL 7.71875 11.625 \nQ 12.109375 9.234375 16.796875 8.0625 \nQ 21.484375 6.890625 26.703125 6.890625 \nQ 35.15625 6.890625 40.078125 11.328125 \nQ 45.015625 15.765625 45.015625 23.390625 \nQ 45.015625 31 40.078125 35.4375 \nQ 35.15625 39.890625 26.703125 39.890625 \nQ 22.75 39.890625 18.8125 39.015625 \nQ 14.890625 38.140625 10.796875 36.28125 \nz\n\" id=\"DejaVuSans-53\"/>\n      </defs>\n      <g transform=\"translate(34.96663 290.559063)scale(0.06 -0.06)\">\n       <use xlink:href=\"#DejaVuSans-49\"/>\n       <use x=\"63.623047\" xlink:href=\"#DejaVuSans-53\"/>\n       <use x=\"127.246094\" xlink:href=\"#DejaVuSans-51\"/>\n      </g>\n     </g>\n    </g>\n    <g id=\"xtick_11\">\n     <g id=\"text_11\">\n      <!-- 387 -->\n      <defs>\n       <path d=\"M 31.78125 34.625 \nQ 24.75 34.625 20.71875 30.859375 \nQ 16.703125 27.09375 16.703125 20.515625 \nQ 16.703125 13.921875 20.71875 10.15625 \nQ 24.75 6.390625 31.78125 6.390625 \nQ 38.8125 6.390625 42.859375 10.171875 \nQ 46.921875 13.96875 46.921875 20.515625 \nQ 46.921875 27.09375 42.890625 30.859375 \nQ 38.875 34.625 31.78125 34.625 \nz\nM 21.921875 38.8125 \nQ 15.578125 40.375 12.03125 44.71875 \nQ 8.5 49.078125 8.5 55.328125 \nQ 8.5 64.0625 14.71875 69.140625 \nQ 20.953125 74.21875 31.78125 74.21875 \nQ 42.671875 74.21875 48.875 69.140625 \nQ 55.078125 64.0625 55.078125 55.328125 \nQ 55.078125 49.078125 51.53125 44.71875 \nQ 48 40.375 41.703125 38.8125 \nQ 48.828125 37.15625 52.796875 32.3125 \nQ 56.78125 27.484375 56.78125 20.515625 \nQ 56.78125 9.90625 50.3125 4.234375 \nQ 43.84375 -1.421875 31.78125 -1.421875 \nQ 19.734375 -1.421875 13.25 4.234375 \nQ 6.78125 9.90625 6.78125 20.515625 \nQ 6.78125 27.484375 10.78125 32.3125 \nQ 14.796875 37.15625 21.921875 38.8125 \nz\nM 18.3125 54.390625 \nQ 18.3125 48.734375 21.84375 45.5625 \nQ 25.390625 42.390625 31.78125 42.390625 \nQ 38.140625 42.390625 41.71875 45.5625 \nQ 45.3125 48.734375 45.3125 54.390625 \nQ 45.3125 60.0625 41.71875 63.234375 \nQ 38.140625 66.40625 31.78125 66.40625 \nQ 25.390625 66.40625 21.84375 63.234375 \nQ 18.3125 60.0625 18.3125 54.390625 \nz\n\" id=\"DejaVuSans-56\"/>\n      </defs>\n      <g transform=\"translate(37.085617 290.559063)scale(0.06 -0.06)\">\n       <use xlink:href=\"#DejaVuSans-51\"/>\n       <use x=\"63.623047\" xlink:href=\"#DejaVuSans-56\"/>\n       <use x=\"127.246094\" xlink:href=\"#DejaVuSans-55\"/>\n      </g>\n     </g>\n    </g>\n    <g id=\"xtick_12\">\n     <g id=\"text_12\">\n      <!-- 315 -->\n      <g transform=\"translate(39.204604 290.559063)scale(0.06 -0.06)\">\n       <use xlink:href=\"#DejaVuSans-51\"/>\n       <use x=\"63.623047\" xlink:href=\"#DejaVuSans-49\"/>\n       <use x=\"127.246094\" xlink:href=\"#DejaVuSans-53\"/>\n      </g>\n     </g>\n    </g>\n    <g id=\"xtick_13\">\n     <g id=\"text_13\">\n      <!-- 313 -->\n      <g transform=\"translate(41.323592 290.559063)scale(0.06 -0.06)\">\n       <use xlink:href=\"#DejaVuSans-51\"/>\n       <use x=\"63.623047\" xlink:href=\"#DejaVuSans-49\"/>\n       <use x=\"127.246094\" xlink:href=\"#DejaVuSans-51\"/>\n      </g>\n     </g>\n    </g>\n    <g id=\"xtick_14\">\n     <g id=\"text_14\">\n      <!-- 370 -->\n      <g transform=\"translate(43.442579 290.559063)scale(0.06 -0.06)\">\n       <use xlink:href=\"#DejaVuSans-51\"/>\n       <use x=\"63.623047\" xlink:href=\"#DejaVuSans-55\"/>\n       <use x=\"127.246094\" xlink:href=\"#DejaVuSans-48\"/>\n      </g>\n     </g>\n    </g>\n    <g id=\"xtick_15\">\n     <g id=\"text_15\">\n      <!-- 363 -->\n      <g transform=\"translate(45.561566 290.559063)scale(0.06 -0.06)\">\n       <use xlink:href=\"#DejaVuSans-51\"/>\n       <use x=\"63.623047\" xlink:href=\"#DejaVuSans-54\"/>\n       <use x=\"127.246094\" xlink:href=\"#DejaVuSans-51\"/>\n      </g>\n     </g>\n    </g>\n    <g id=\"xtick_16\">\n     <g id=\"text_16\">\n      <!-- 328 -->\n      <g transform=\"translate(47.680554 290.559063)scale(0.06 -0.06)\">\n       <use xlink:href=\"#DejaVuSans-51\"/>\n       <use x=\"63.623047\" xlink:href=\"#DejaVuSans-50\"/>\n       <use x=\"127.246094\" xlink:href=\"#DejaVuSans-56\"/>\n      </g>\n     </g>\n    </g>\n    <g id=\"xtick_17\">\n     <g id=\"text_17\">\n      <!-- 232 -->\n      <g transform=\"translate(49.799541 290.559063)scale(0.06 -0.06)\">\n       <use xlink:href=\"#DejaVuSans-50\"/>\n       <use x=\"63.623047\" xlink:href=\"#DejaVuSans-51\"/>\n       <use x=\"127.246094\" xlink:href=\"#DejaVuSans-50\"/>\n      </g>\n     </g>\n    </g>\n    <g id=\"xtick_18\">\n     <g id=\"text_18\">\n      <!-- 214 -->\n      <g transform=\"translate(51.918528 290.559063)scale(0.06 -0.06)\">\n       <use xlink:href=\"#DejaVuSans-50\"/>\n       <use x=\"63.623047\" xlink:href=\"#DejaVuSans-49\"/>\n       <use x=\"127.246094\" xlink:href=\"#DejaVuSans-52\"/>\n      </g>\n     </g>\n    </g>\n    <g id=\"xtick_19\">\n     <g id=\"text_19\">\n      <!-- 211 -->\n      <g transform=\"translate(54.037516 290.559063)scale(0.06 -0.06)\">\n       <use xlink:href=\"#DejaVuSans-50\"/>\n       <use x=\"63.623047\" xlink:href=\"#DejaVuSans-49\"/>\n       <use x=\"127.246094\" xlink:href=\"#DejaVuSans-49\"/>\n      </g>\n     </g>\n    </g>\n    <g id=\"xtick_20\">\n     <g id=\"text_20\">\n      <!-- 196 -->\n      <g transform=\"translate(56.156503 290.559063)scale(0.06 -0.06)\">\n       <use xlink:href=\"#DejaVuSans-49\"/>\n       <use x=\"63.623047\" xlink:href=\"#DejaVuSans-57\"/>\n       <use x=\"127.246094\" xlink:href=\"#DejaVuSans-54\"/>\n      </g>\n     </g>\n    </g>\n    <g id=\"xtick_21\">\n     <g id=\"text_21\">\n      <!-- 154 -->\n      <g transform=\"translate(58.275491 290.559063)scale(0.06 -0.06)\">\n       <use xlink:href=\"#DejaVuSans-49\"/>\n       <use x=\"63.623047\" xlink:href=\"#DejaVuSans-53\"/>\n       <use x=\"127.246094\" xlink:href=\"#DejaVuSans-52\"/>\n      </g>\n     </g>\n    </g>\n    <g id=\"xtick_22\">\n     <g id=\"text_22\">\n      <!-- 172 -->\n      <g transform=\"translate(60.394478 290.559063)scale(0.06 -0.06)\">\n       <use xlink:href=\"#DejaVuSans-49\"/>\n       <use x=\"63.623047\" xlink:href=\"#DejaVuSans-55\"/>\n       <use x=\"127.246094\" xlink:href=\"#DejaVuSans-50\"/>\n      </g>\n     </g>\n    </g>\n    <g id=\"xtick_23\">\n     <g id=\"text_23\">\n      <!-- 230 -->\n      <g transform=\"translate(62.513465 290.559063)scale(0.06 -0.06)\">\n       <use xlink:href=\"#DejaVuSans-50\"/>\n       <use x=\"63.623047\" xlink:href=\"#DejaVuSans-51\"/>\n       <use x=\"127.246094\" xlink:href=\"#DejaVuSans-48\"/>\n      </g>\n     </g>\n    </g>\n    <g id=\"xtick_24\">\n     <g id=\"text_24\">\n      <!-- 348 -->\n      <g transform=\"translate(64.632453 290.559063)scale(0.06 -0.06)\">\n       <use xlink:href=\"#DejaVuSans-51\"/>\n       <use x=\"63.623047\" xlink:href=\"#DejaVuSans-52\"/>\n       <use x=\"127.246094\" xlink:href=\"#DejaVuSans-56\"/>\n      </g>\n     </g>\n    </g>\n    <g id=\"xtick_25\">\n     <g id=\"text_25\">\n      <!-- 320 -->\n      <g transform=\"translate(66.75144 290.559063)scale(0.06 -0.06)\">\n       <use xlink:href=\"#DejaVuSans-51\"/>\n       <use x=\"63.623047\" xlink:href=\"#DejaVuSans-50\"/>\n       <use x=\"127.246094\" xlink:href=\"#DejaVuSans-48\"/>\n      </g>\n     </g>\n    </g>\n    <g id=\"xtick_26\">\n     <g id=\"text_26\">\n      <!-- 291 -->\n      <g transform=\"translate(68.870427 290.559063)scale(0.06 -0.06)\">\n       <use xlink:href=\"#DejaVuSans-50\"/>\n       <use x=\"63.623047\" xlink:href=\"#DejaVuSans-57\"/>\n       <use x=\"127.246094\" xlink:href=\"#DejaVuSans-49\"/>\n      </g>\n     </g>\n    </g>\n    <g id=\"xtick_27\">\n     <g id=\"text_27\">\n      <!-- 179 -->\n      <g transform=\"translate(70.989415 290.559063)scale(0.06 -0.06)\">\n       <use xlink:href=\"#DejaVuSans-49\"/>\n       <use x=\"63.623047\" xlink:href=\"#DejaVuSans-55\"/>\n       <use x=\"127.246094\" xlink:href=\"#DejaVuSans-57\"/>\n      </g>\n     </g>\n    </g>\n    <g id=\"xtick_28\">\n     <g id=\"text_28\">\n      <!-- 216 -->\n      <g transform=\"translate(73.108402 290.559063)scale(0.06 -0.06)\">\n       <use xlink:href=\"#DejaVuSans-50\"/>\n       <use x=\"63.623047\" xlink:href=\"#DejaVuSans-49\"/>\n       <use x=\"127.246094\" xlink:href=\"#DejaVuSans-54\"/>\n      </g>\n     </g>\n    </g>\n    <g id=\"xtick_29\">\n     <g id=\"text_29\">\n      <!-- 380 -->\n      <g transform=\"translate(75.227389 290.559063)scale(0.06 -0.06)\">\n       <use xlink:href=\"#DejaVuSans-51\"/>\n       <use x=\"63.623047\" xlink:href=\"#DejaVuSans-56\"/>\n       <use x=\"127.246094\" xlink:href=\"#DejaVuSans-48\"/>\n      </g>\n     </g>\n    </g>\n    <g id=\"xtick_30\">\n     <g id=\"text_30\">\n      <!-- 278 -->\n      <g transform=\"translate(77.346377 290.559063)scale(0.06 -0.06)\">\n       <use xlink:href=\"#DejaVuSans-50\"/>\n       <use x=\"63.623047\" xlink:href=\"#DejaVuSans-55\"/>\n       <use x=\"127.246094\" xlink:href=\"#DejaVuSans-56\"/>\n      </g>\n     </g>\n    </g>\n    <g id=\"xtick_31\">\n     <g id=\"text_31\">\n      <!-- 341 -->\n      <g transform=\"translate(79.465364 290.559063)scale(0.06 -0.06)\">\n       <use xlink:href=\"#DejaVuSans-51\"/>\n       <use x=\"63.623047\" xlink:href=\"#DejaVuSans-52\"/>\n       <use x=\"127.246094\" xlink:href=\"#DejaVuSans-49\"/>\n      </g>\n     </g>\n    </g>\n    <g id=\"xtick_32\">\n     <g id=\"text_32\">\n      <!-- 377 -->\n      <g transform=\"translate(81.584351 290.559063)scale(0.06 -0.06)\">\n       <use xlink:href=\"#DejaVuSans-51\"/>\n       <use x=\"63.623047\" xlink:href=\"#DejaVuSans-55\"/>\n       <use x=\"127.246094\" xlink:href=\"#DejaVuSans-55\"/>\n      </g>\n     </g>\n    </g>\n    <g id=\"xtick_33\">\n     <g id=\"text_33\">\n      <!-- 325 -->\n      <g transform=\"translate(83.703339 290.559063)scale(0.06 -0.06)\">\n       <use xlink:href=\"#DejaVuSans-51\"/>\n       <use x=\"63.623047\" xlink:href=\"#DejaVuSans-50\"/>\n       <use x=\"127.246094\" xlink:href=\"#DejaVuSans-53\"/>\n      </g>\n     </g>\n    </g>\n    <g id=\"xtick_34\">\n     <g id=\"text_34\">\n      <!-- 319 -->\n      <g transform=\"translate(85.822326 290.559063)scale(0.06 -0.06)\">\n       <use xlink:href=\"#DejaVuSans-51\"/>\n       <use x=\"63.623047\" xlink:href=\"#DejaVuSans-49\"/>\n       <use x=\"127.246094\" xlink:href=\"#DejaVuSans-57\"/>\n      </g>\n     </g>\n    </g>\n    <g id=\"xtick_35\">\n     <g id=\"text_35\">\n      <!-- 300 -->\n      <g transform=\"translate(87.941313 290.559063)scale(0.06 -0.06)\">\n       <use xlink:href=\"#DejaVuSans-51\"/>\n       <use x=\"63.623047\" xlink:href=\"#DejaVuSans-48\"/>\n       <use x=\"127.246094\" xlink:href=\"#DejaVuSans-48\"/>\n      </g>\n     </g>\n    </g>\n    <g id=\"xtick_36\">\n     <g id=\"text_36\">\n      <!-- 289 -->\n      <g transform=\"translate(90.060301 290.559063)scale(0.06 -0.06)\">\n       <use xlink:href=\"#DejaVuSans-50\"/>\n       <use x=\"63.623047\" xlink:href=\"#DejaVuSans-56\"/>\n       <use x=\"127.246094\" xlink:href=\"#DejaVuSans-57\"/>\n      </g>\n     </g>\n    </g>\n    <g id=\"xtick_37\">\n     <g id=\"text_37\">\n      <!-- 299 -->\n      <g transform=\"translate(92.179288 290.559063)scale(0.06 -0.06)\">\n       <use xlink:href=\"#DejaVuSans-50\"/>\n       <use x=\"63.623047\" xlink:href=\"#DejaVuSans-57\"/>\n       <use x=\"127.246094\" xlink:href=\"#DejaVuSans-57\"/>\n      </g>\n     </g>\n    </g>\n    <g id=\"xtick_38\">\n     <g id=\"text_38\">\n      <!-- 260 -->\n      <g transform=\"translate(94.298275 290.559063)scale(0.06 -0.06)\">\n       <use xlink:href=\"#DejaVuSans-50\"/>\n       <use x=\"63.623047\" xlink:href=\"#DejaVuSans-54\"/>\n       <use x=\"127.246094\" xlink:href=\"#DejaVuSans-48\"/>\n      </g>\n     </g>\n    </g>\n    <g id=\"xtick_39\">\n     <g id=\"text_39\">\n      <!-- 298 -->\n      <g transform=\"translate(96.417263 290.559063)scale(0.06 -0.06)\">\n       <use xlink:href=\"#DejaVuSans-50\"/>\n       <use x=\"63.623047\" xlink:href=\"#DejaVuSans-57\"/>\n       <use x=\"127.246094\" xlink:href=\"#DejaVuSans-56\"/>\n      </g>\n     </g>\n    </g>\n    <g id=\"xtick_40\">\n     <g id=\"text_40\">\n      <!-- 347 -->\n      <g transform=\"translate(98.53625 290.559063)scale(0.06 -0.06)\">\n       <use xlink:href=\"#DejaVuSans-51\"/>\n       <use x=\"63.623047\" xlink:href=\"#DejaVuSans-52\"/>\n       <use x=\"127.246094\" xlink:href=\"#DejaVuSans-55\"/>\n      </g>\n     </g>\n    </g>\n    <g id=\"xtick_41\">\n     <g id=\"text_41\">\n      <!-- 346 -->\n      <g transform=\"translate(100.655237 290.559063)scale(0.06 -0.06)\">\n       <use xlink:href=\"#DejaVuSans-51\"/>\n       <use x=\"63.623047\" xlink:href=\"#DejaVuSans-52\"/>\n       <use x=\"127.246094\" xlink:href=\"#DejaVuSans-54\"/>\n      </g>\n     </g>\n    </g>\n    <g id=\"xtick_42\">\n     <g id=\"text_42\">\n      <!-- 261 -->\n      <g transform=\"translate(102.774225 290.559063)scale(0.06 -0.06)\">\n       <use xlink:href=\"#DejaVuSans-50\"/>\n       <use x=\"63.623047\" xlink:href=\"#DejaVuSans-54\"/>\n       <use x=\"127.246094\" xlink:href=\"#DejaVuSans-49\"/>\n      </g>\n     </g>\n    </g>\n    <g id=\"xtick_43\">\n     <g id=\"text_43\">\n      <!-- 317 -->\n      <g transform=\"translate(104.893212 290.559063)scale(0.06 -0.06)\">\n       <use xlink:href=\"#DejaVuSans-51\"/>\n       <use x=\"63.623047\" xlink:href=\"#DejaVuSans-49\"/>\n       <use x=\"127.246094\" xlink:href=\"#DejaVuSans-55\"/>\n      </g>\n     </g>\n    </g>\n    <g id=\"xtick_44\">\n     <g id=\"text_44\">\n      <!-- 297 -->\n      <g transform=\"translate(107.012199 290.559063)scale(0.06 -0.06)\">\n       <use xlink:href=\"#DejaVuSans-50\"/>\n       <use x=\"63.623047\" xlink:href=\"#DejaVuSans-57\"/>\n       <use x=\"127.246094\" xlink:href=\"#DejaVuSans-55\"/>\n      </g>\n     </g>\n    </g>\n    <g id=\"xtick_45\">\n     <g id=\"text_45\">\n      <!-- 279 -->\n      <g transform=\"translate(109.131187 290.559063)scale(0.06 -0.06)\">\n       <use xlink:href=\"#DejaVuSans-50\"/>\n       <use x=\"63.623047\" xlink:href=\"#DejaVuSans-55\"/>\n       <use x=\"127.246094\" xlink:href=\"#DejaVuSans-57\"/>\n      </g>\n     </g>\n    </g>\n    <g id=\"xtick_46\">\n     <g id=\"text_46\">\n      <!-- 342 -->\n      <g transform=\"translate(111.250174 290.559063)scale(0.06 -0.06)\">\n       <use xlink:href=\"#DejaVuSans-51\"/>\n       <use x=\"63.623047\" xlink:href=\"#DejaVuSans-52\"/>\n       <use x=\"127.246094\" xlink:href=\"#DejaVuSans-50\"/>\n      </g>\n     </g>\n    </g>\n    <g id=\"xtick_47\">\n     <g id=\"text_47\">\n      <!-- 262 -->\n      <g transform=\"translate(113.369161 290.559063)scale(0.06 -0.06)\">\n       <use xlink:href=\"#DejaVuSans-50\"/>\n       <use x=\"63.623047\" xlink:href=\"#DejaVuSans-54\"/>\n       <use x=\"127.246094\" xlink:href=\"#DejaVuSans-50\"/>\n      </g>\n     </g>\n    </g>\n    <g id=\"xtick_48\">\n     <g id=\"text_48\">\n      <!-- 345 -->\n      <g transform=\"translate(115.488149 290.559063)scale(0.06 -0.06)\">\n       <use xlink:href=\"#DejaVuSans-51\"/>\n       <use x=\"63.623047\" xlink:href=\"#DejaVuSans-52\"/>\n       <use x=\"127.246094\" xlink:href=\"#DejaVuSans-53\"/>\n      </g>\n     </g>\n    </g>\n    <g id=\"xtick_49\">\n     <g id=\"text_49\">\n      <!-- 268 -->\n      <g transform=\"translate(117.607136 290.559063)scale(0.06 -0.06)\">\n       <use xlink:href=\"#DejaVuSans-50\"/>\n       <use x=\"63.623047\" xlink:href=\"#DejaVuSans-54\"/>\n       <use x=\"127.246094\" xlink:href=\"#DejaVuSans-56\"/>\n      </g>\n     </g>\n    </g>\n    <g id=\"xtick_50\">\n     <g id=\"text_50\">\n      <!-- 290 -->\n      <g transform=\"translate(119.726123 290.559063)scale(0.06 -0.06)\">\n       <use xlink:href=\"#DejaVuSans-50\"/>\n       <use x=\"63.623047\" xlink:href=\"#DejaVuSans-57\"/>\n       <use x=\"127.246094\" xlink:href=\"#DejaVuSans-48\"/>\n      </g>\n     </g>\n    </g>\n    <g id=\"xtick_51\">\n     <g id=\"text_51\">\n      <!-- 256 -->\n      <g transform=\"translate(121.845111 290.559063)scale(0.06 -0.06)\">\n       <use xlink:href=\"#DejaVuSans-50\"/>\n       <use x=\"63.623047\" xlink:href=\"#DejaVuSans-53\"/>\n       <use x=\"127.246094\" xlink:href=\"#DejaVuSans-54\"/>\n      </g>\n     </g>\n    </g>\n    <g id=\"xtick_52\">\n     <g id=\"text_52\">\n      <!-- 303 -->\n      <g transform=\"translate(123.964098 290.559063)scale(0.06 -0.06)\">\n       <use xlink:href=\"#DejaVuSans-51\"/>\n       <use x=\"63.623047\" xlink:href=\"#DejaVuSans-48\"/>\n       <use x=\"127.246094\" xlink:href=\"#DejaVuSans-51\"/>\n      </g>\n     </g>\n    </g>\n    <g id=\"xtick_53\">\n     <g id=\"text_53\">\n      <!-- 280 -->\n      <g transform=\"translate(126.083085 290.559063)scale(0.06 -0.06)\">\n       <use xlink:href=\"#DejaVuSans-50\"/>\n       <use x=\"63.623047\" xlink:href=\"#DejaVuSans-56\"/>\n       <use x=\"127.246094\" xlink:href=\"#DejaVuSans-48\"/>\n      </g>\n     </g>\n    </g>\n    <g id=\"xtick_54\">\n     <g id=\"text_54\">\n      <!-- 339 -->\n      <g transform=\"translate(128.202073 290.559063)scale(0.06 -0.06)\">\n       <use xlink:href=\"#DejaVuSans-51\"/>\n       <use x=\"63.623047\" xlink:href=\"#DejaVuSans-51\"/>\n       <use x=\"127.246094\" xlink:href=\"#DejaVuSans-57\"/>\n      </g>\n     </g>\n    </g>\n    <g id=\"xtick_55\">\n     <g id=\"text_55\">\n      <!-- 337 -->\n      <g transform=\"translate(130.32106 290.559063)scale(0.06 -0.06)\">\n       <use xlink:href=\"#DejaVuSans-51\"/>\n       <use x=\"63.623047\" xlink:href=\"#DejaVuSans-51\"/>\n       <use x=\"127.246094\" xlink:href=\"#DejaVuSans-55\"/>\n      </g>\n     </g>\n    </g>\n    <g id=\"xtick_56\">\n     <g id=\"text_56\">\n      <!-- 281 -->\n      <g transform=\"translate(132.440047 290.559063)scale(0.06 -0.06)\">\n       <use xlink:href=\"#DejaVuSans-50\"/>\n       <use x=\"63.623047\" xlink:href=\"#DejaVuSans-56\"/>\n       <use x=\"127.246094\" xlink:href=\"#DejaVuSans-49\"/>\n      </g>\n     </g>\n    </g>\n    <g id=\"xtick_57\">\n     <g id=\"text_57\">\n      <!-- 18 -->\n      <g transform=\"translate(136.467785 290.559063)scale(0.06 -0.06)\">\n       <use xlink:href=\"#DejaVuSans-49\"/>\n       <use x=\"63.623047\" xlink:href=\"#DejaVuSans-56\"/>\n      </g>\n     </g>\n    </g>\n    <g id=\"xtick_58\">\n     <g id=\"text_58\">\n      <!-- 226 -->\n      <g transform=\"translate(136.678022 290.559063)scale(0.06 -0.06)\">\n       <use xlink:href=\"#DejaVuSans-50\"/>\n       <use x=\"63.623047\" xlink:href=\"#DejaVuSans-50\"/>\n       <use x=\"127.246094\" xlink:href=\"#DejaVuSans-54\"/>\n      </g>\n     </g>\n    </g>\n    <g id=\"xtick_59\">\n     <g id=\"text_59\">\n      <!-- 305 -->\n      <g transform=\"translate(138.797009 290.559063)scale(0.06 -0.06)\">\n       <use xlink:href=\"#DejaVuSans-51\"/>\n       <use x=\"63.623047\" xlink:href=\"#DejaVuSans-48\"/>\n       <use x=\"127.246094\" xlink:href=\"#DejaVuSans-53\"/>\n      </g>\n     </g>\n    </g>\n    <g id=\"xtick_60\">\n     <g id=\"text_60\">\n      <!-- 362 -->\n      <g transform=\"translate(140.915997 290.559063)scale(0.06 -0.06)\">\n       <use xlink:href=\"#DejaVuSans-51\"/>\n       <use x=\"63.623047\" xlink:href=\"#DejaVuSans-54\"/>\n       <use x=\"127.246094\" xlink:href=\"#DejaVuSans-50\"/>\n      </g>\n     </g>\n    </g>\n    <g id=\"xtick_61\">\n     <g id=\"text_61\">\n      <!-- 378 -->\n      <g transform=\"translate(143.034984 290.559063)scale(0.06 -0.06)\">\n       <use xlink:href=\"#DejaVuSans-51\"/>\n       <use x=\"63.623047\" xlink:href=\"#DejaVuSans-55\"/>\n       <use x=\"127.246094\" xlink:href=\"#DejaVuSans-56\"/>\n      </g>\n     </g>\n    </g>\n    <g id=\"xtick_62\">\n     <g id=\"text_62\">\n      <!-- 338 -->\n      <g transform=\"translate(145.153972 290.559063)scale(0.06 -0.06)\">\n       <use xlink:href=\"#DejaVuSans-51\"/>\n       <use x=\"63.623047\" xlink:href=\"#DejaVuSans-51\"/>\n       <use x=\"127.246094\" xlink:href=\"#DejaVuSans-56\"/>\n      </g>\n     </g>\n    </g>\n    <g id=\"xtick_63\">\n     <g id=\"text_63\">\n      <!-- 248 -->\n      <g transform=\"translate(147.272959 290.559063)scale(0.06 -0.06)\">\n       <use xlink:href=\"#DejaVuSans-50\"/>\n       <use x=\"63.623047\" xlink:href=\"#DejaVuSans-52\"/>\n       <use x=\"127.246094\" xlink:href=\"#DejaVuSans-56\"/>\n      </g>\n     </g>\n    </g>\n    <g id=\"xtick_64\">\n     <g id=\"text_64\">\n      <!-- 332 -->\n      <g transform=\"translate(149.391946 290.559063)scale(0.06 -0.06)\">\n       <use xlink:href=\"#DejaVuSans-51\"/>\n       <use x=\"63.623047\" xlink:href=\"#DejaVuSans-51\"/>\n       <use x=\"127.246094\" xlink:href=\"#DejaVuSans-50\"/>\n      </g>\n     </g>\n    </g>\n    <g id=\"xtick_65\">\n     <g id=\"text_65\">\n      <!-- 384 -->\n      <g transform=\"translate(151.510934 290.559063)scale(0.06 -0.06)\">\n       <use xlink:href=\"#DejaVuSans-51\"/>\n       <use x=\"63.623047\" xlink:href=\"#DejaVuSans-56\"/>\n       <use x=\"127.246094\" xlink:href=\"#DejaVuSans-52\"/>\n      </g>\n     </g>\n    </g>\n    <g id=\"xtick_66\">\n     <g id=\"text_66\">\n      <!-- 217 -->\n      <g transform=\"translate(153.629921 290.559063)scale(0.06 -0.06)\">\n       <use xlink:href=\"#DejaVuSans-50\"/>\n       <use x=\"63.623047\" xlink:href=\"#DejaVuSans-49\"/>\n       <use x=\"127.246094\" xlink:href=\"#DejaVuSans-55\"/>\n      </g>\n     </g>\n    </g>\n    <g id=\"xtick_67\">\n     <g id=\"text_67\">\n      <!-- 355 -->\n      <g transform=\"translate(155.748908 290.559063)scale(0.06 -0.06)\">\n       <use xlink:href=\"#DejaVuSans-51\"/>\n       <use x=\"63.623047\" xlink:href=\"#DejaVuSans-53\"/>\n       <use x=\"127.246094\" xlink:href=\"#DejaVuSans-53\"/>\n      </g>\n     </g>\n    </g>\n    <g id=\"xtick_68\">\n     <g id=\"text_68\">\n      <!-- 177 -->\n      <g transform=\"translate(157.867896 290.559063)scale(0.06 -0.06)\">\n       <use xlink:href=\"#DejaVuSans-49\"/>\n       <use x=\"63.623047\" xlink:href=\"#DejaVuSans-55\"/>\n       <use x=\"127.246094\" xlink:href=\"#DejaVuSans-55\"/>\n      </g>\n     </g>\n    </g>\n    <g id=\"xtick_69\">\n     <g id=\"text_69\">\n      <!-- 302 -->\n      <g transform=\"translate(159.986883 290.559063)scale(0.06 -0.06)\">\n       <use xlink:href=\"#DejaVuSans-51\"/>\n       <use x=\"63.623047\" xlink:href=\"#DejaVuSans-48\"/>\n       <use x=\"127.246094\" xlink:href=\"#DejaVuSans-50\"/>\n      </g>\n     </g>\n    </g>\n    <g id=\"xtick_70\">\n     <g id=\"text_70\">\n      <!-- 326 -->\n      <g transform=\"translate(162.10587 290.559063)scale(0.06 -0.06)\">\n       <use xlink:href=\"#DejaVuSans-51\"/>\n       <use x=\"63.623047\" xlink:href=\"#DejaVuSans-50\"/>\n       <use x=\"127.246094\" xlink:href=\"#DejaVuSans-54\"/>\n      </g>\n     </g>\n    </g>\n    <g id=\"xtick_71\">\n     <g id=\"text_71\">\n      <!-- 295 -->\n      <g transform=\"translate(164.224858 290.559063)scale(0.06 -0.06)\">\n       <use xlink:href=\"#DejaVuSans-50\"/>\n       <use x=\"63.623047\" xlink:href=\"#DejaVuSans-57\"/>\n       <use x=\"127.246094\" xlink:href=\"#DejaVuSans-53\"/>\n      </g>\n     </g>\n    </g>\n    <g id=\"xtick_72\">\n     <g id=\"text_72\">\n      <!-- 263 -->\n      <g transform=\"translate(166.343845 290.559063)scale(0.06 -0.06)\">\n       <use xlink:href=\"#DejaVuSans-50\"/>\n       <use x=\"63.623047\" xlink:href=\"#DejaVuSans-54\"/>\n       <use x=\"127.246094\" xlink:href=\"#DejaVuSans-51\"/>\n      </g>\n     </g>\n    </g>\n    <g id=\"xtick_73\">\n     <g id=\"text_73\">\n      <!-- 188 -->\n      <g transform=\"translate(168.462832 290.559063)scale(0.06 -0.06)\">\n       <use xlink:href=\"#DejaVuSans-49\"/>\n       <use x=\"63.623047\" xlink:href=\"#DejaVuSans-56\"/>\n       <use x=\"127.246094\" xlink:href=\"#DejaVuSans-56\"/>\n      </g>\n     </g>\n    </g>\n    <g id=\"xtick_74\">\n     <g id=\"text_74\">\n      <!-- 183 -->\n      <g transform=\"translate(170.58182 290.559063)scale(0.06 -0.06)\">\n       <use xlink:href=\"#DejaVuSans-49\"/>\n       <use x=\"63.623047\" xlink:href=\"#DejaVuSans-56\"/>\n       <use x=\"127.246094\" xlink:href=\"#DejaVuSans-51\"/>\n      </g>\n     </g>\n    </g>\n    <g id=\"xtick_75\">\n     <g id=\"text_75\">\n      <!-- 185 -->\n      <g transform=\"translate(172.700807 290.559063)scale(0.06 -0.06)\">\n       <use xlink:href=\"#DejaVuSans-49\"/>\n       <use x=\"63.623047\" xlink:href=\"#DejaVuSans-56\"/>\n       <use x=\"127.246094\" xlink:href=\"#DejaVuSans-53\"/>\n      </g>\n     </g>\n    </g>\n    <g id=\"xtick_76\">\n     <g id=\"text_76\">\n      <!-- 227 -->\n      <g transform=\"translate(174.819794 290.559063)scale(0.06 -0.06)\">\n       <use xlink:href=\"#DejaVuSans-50\"/>\n       <use x=\"63.623047\" xlink:href=\"#DejaVuSans-50\"/>\n       <use x=\"127.246094\" xlink:href=\"#DejaVuSans-55\"/>\n      </g>\n     </g>\n    </g>\n    <g id=\"xtick_77\">\n     <g id=\"text_77\">\n      <!-- 215 -->\n      <g transform=\"translate(176.938782 290.559063)scale(0.06 -0.06)\">\n       <use xlink:href=\"#DejaVuSans-50\"/>\n       <use x=\"63.623047\" xlink:href=\"#DejaVuSans-49\"/>\n       <use x=\"127.246094\" xlink:href=\"#DejaVuSans-53\"/>\n      </g>\n     </g>\n    </g>\n    <g id=\"xtick_78\">\n     <g id=\"text_78\">\n      <!-- 357 -->\n      <g transform=\"translate(179.057769 290.559063)scale(0.06 -0.06)\">\n       <use xlink:href=\"#DejaVuSans-51\"/>\n       <use x=\"63.623047\" xlink:href=\"#DejaVuSans-53\"/>\n       <use x=\"127.246094\" xlink:href=\"#DejaVuSans-55\"/>\n      </g>\n     </g>\n    </g>\n    <g id=\"xtick_79\">\n     <g id=\"text_79\">\n      <!-- 296 -->\n      <g transform=\"translate(181.176756 290.559063)scale(0.06 -0.06)\">\n       <use xlink:href=\"#DejaVuSans-50\"/>\n       <use x=\"63.623047\" xlink:href=\"#DejaVuSans-57\"/>\n       <use x=\"127.246094\" xlink:href=\"#DejaVuSans-54\"/>\n      </g>\n     </g>\n    </g>\n    <g id=\"xtick_80\">\n     <g id=\"text_80\">\n      <!-- 307 -->\n      <g transform=\"translate(183.295744 290.559063)scale(0.06 -0.06)\">\n       <use xlink:href=\"#DejaVuSans-51\"/>\n       <use x=\"63.623047\" xlink:href=\"#DejaVuSans-48\"/>\n       <use x=\"127.246094\" xlink:href=\"#DejaVuSans-55\"/>\n      </g>\n     </g>\n    </g>\n    <g id=\"xtick_81\">\n     <g id=\"text_81\">\n      <!-- 257 -->\n      <g transform=\"translate(185.414731 290.559063)scale(0.06 -0.06)\">\n       <use xlink:href=\"#DejaVuSans-50\"/>\n       <use x=\"63.623047\" xlink:href=\"#DejaVuSans-53\"/>\n       <use x=\"127.246094\" xlink:href=\"#DejaVuSans-55\"/>\n      </g>\n     </g>\n    </g>\n    <g id=\"xtick_82\">\n     <g id=\"text_82\">\n      <!-- 308 -->\n      <g transform=\"translate(187.533718 290.559063)scale(0.06 -0.06)\">\n       <use xlink:href=\"#DejaVuSans-51\"/>\n       <use x=\"63.623047\" xlink:href=\"#DejaVuSans-48\"/>\n       <use x=\"127.246094\" xlink:href=\"#DejaVuSans-56\"/>\n      </g>\n     </g>\n    </g>\n    <g id=\"xtick_83\">\n     <g id=\"text_83\">\n      <!-- 304 -->\n      <g transform=\"translate(189.652706 290.559063)scale(0.06 -0.06)\">\n       <use xlink:href=\"#DejaVuSans-51\"/>\n       <use x=\"63.623047\" xlink:href=\"#DejaVuSans-48\"/>\n       <use x=\"127.246094\" xlink:href=\"#DejaVuSans-52\"/>\n      </g>\n     </g>\n    </g>\n    <g id=\"xtick_84\">\n     <g id=\"text_84\">\n      <!-- 210 -->\n      <g transform=\"translate(191.771693 290.559063)scale(0.06 -0.06)\">\n       <use xlink:href=\"#DejaVuSans-50\"/>\n       <use x=\"63.623047\" xlink:href=\"#DejaVuSans-49\"/>\n       <use x=\"127.246094\" xlink:href=\"#DejaVuSans-48\"/>\n      </g>\n     </g>\n    </g>\n    <g id=\"xtick_85\">\n     <g id=\"text_85\">\n      <!-- 270 -->\n      <g transform=\"translate(193.89068 290.559063)scale(0.06 -0.06)\">\n       <use xlink:href=\"#DejaVuSans-50\"/>\n       <use x=\"63.623047\" xlink:href=\"#DejaVuSans-55\"/>\n       <use x=\"127.246094\" xlink:href=\"#DejaVuSans-48\"/>\n      </g>\n     </g>\n    </g>\n    <g id=\"xtick_86\">\n     <g id=\"text_86\">\n      <!-- 136 -->\n      <g transform=\"translate(196.009668 290.559063)scale(0.06 -0.06)\">\n       <use xlink:href=\"#DejaVuSans-49\"/>\n       <use x=\"63.623047\" xlink:href=\"#DejaVuSans-51\"/>\n       <use x=\"127.246094\" xlink:href=\"#DejaVuSans-54\"/>\n      </g>\n     </g>\n    </g>\n    <g id=\"xtick_87\">\n     <g id=\"text_87\">\n      <!-- 274 -->\n      <g transform=\"translate(198.128655 290.559063)scale(0.06 -0.06)\">\n       <use xlink:href=\"#DejaVuSans-50\"/>\n       <use x=\"63.623047\" xlink:href=\"#DejaVuSans-55\"/>\n       <use x=\"127.246094\" xlink:href=\"#DejaVuSans-52\"/>\n      </g>\n     </g>\n    </g>\n    <g id=\"xtick_88\">\n     <g id=\"text_88\">\n      <!-- 369 -->\n      <g transform=\"translate(200.247642 290.559063)scale(0.06 -0.06)\">\n       <use xlink:href=\"#DejaVuSans-51\"/>\n       <use x=\"63.623047\" xlink:href=\"#DejaVuSans-54\"/>\n       <use x=\"127.246094\" xlink:href=\"#DejaVuSans-57\"/>\n      </g>\n     </g>\n    </g>\n    <g id=\"xtick_89\">\n     <g id=\"text_89\">\n      <!-- 386 -->\n      <g transform=\"translate(202.36663 290.559063)scale(0.06 -0.06)\">\n       <use xlink:href=\"#DejaVuSans-51\"/>\n       <use x=\"63.623047\" xlink:href=\"#DejaVuSans-56\"/>\n       <use x=\"127.246094\" xlink:href=\"#DejaVuSans-54\"/>\n      </g>\n     </g>\n    </g>\n    <g id=\"xtick_90\">\n     <g id=\"text_90\">\n      <!-- 265 -->\n      <g transform=\"translate(204.485617 290.559063)scale(0.06 -0.06)\">\n       <use xlink:href=\"#DejaVuSans-50\"/>\n       <use x=\"63.623047\" xlink:href=\"#DejaVuSans-54\"/>\n       <use x=\"127.246094\" xlink:href=\"#DejaVuSans-53\"/>\n      </g>\n     </g>\n    </g>\n    <g id=\"xtick_91\">\n     <g id=\"text_91\">\n      <!-- 374 -->\n      <g transform=\"translate(206.604604 290.559063)scale(0.06 -0.06)\">\n       <use xlink:href=\"#DejaVuSans-51\"/>\n       <use x=\"63.623047\" xlink:href=\"#DejaVuSans-55\"/>\n       <use x=\"127.246094\" xlink:href=\"#DejaVuSans-52\"/>\n      </g>\n     </g>\n    </g>\n    <g id=\"xtick_92\">\n     <g id=\"text_92\">\n      <!-- 366 -->\n      <g transform=\"translate(208.723592 290.559063)scale(0.06 -0.06)\">\n       <use xlink:href=\"#DejaVuSans-51\"/>\n       <use x=\"63.623047\" xlink:href=\"#DejaVuSans-54\"/>\n       <use x=\"127.246094\" xlink:href=\"#DejaVuSans-54\"/>\n      </g>\n     </g>\n    </g>\n    <g id=\"xtick_93\">\n     <g id=\"text_93\">\n      <!-- 277 -->\n      <g transform=\"translate(210.842579 290.559063)scale(0.06 -0.06)\">\n       <use xlink:href=\"#DejaVuSans-50\"/>\n       <use x=\"63.623047\" xlink:href=\"#DejaVuSans-55\"/>\n       <use x=\"127.246094\" xlink:href=\"#DejaVuSans-55\"/>\n      </g>\n     </g>\n    </g>\n    <g id=\"xtick_94\">\n     <g id=\"text_94\">\n      <!-- 0 -->\n      <g transform=\"translate(216.779066 290.559063)scale(0.06 -0.06)\">\n       <use xlink:href=\"#DejaVuSans-48\"/>\n      </g>\n     </g>\n    </g>\n    <g id=\"xtick_95\">\n     <g id=\"text_95\">\n      <!-- 267 -->\n      <g transform=\"translate(215.080554 290.559063)scale(0.06 -0.06)\">\n       <use xlink:href=\"#DejaVuSans-50\"/>\n       <use x=\"63.623047\" xlink:href=\"#DejaVuSans-54\"/>\n       <use x=\"127.246094\" xlink:href=\"#DejaVuSans-55\"/>\n      </g>\n     </g>\n    </g>\n    <g id=\"xtick_96\">\n     <g id=\"text_96\">\n      <!-- 170 -->\n      <g transform=\"translate(217.199541 290.559063)scale(0.06 -0.06)\">\n       <use xlink:href=\"#DejaVuSans-49\"/>\n       <use x=\"63.623047\" xlink:href=\"#DejaVuSans-55\"/>\n       <use x=\"127.246094\" xlink:href=\"#DejaVuSans-48\"/>\n      </g>\n     </g>\n    </g>\n    <g id=\"xtick_97\">\n     <g id=\"text_97\">\n      <!-- 108 -->\n      <g transform=\"translate(219.318528 290.559063)scale(0.06 -0.06)\">\n       <use xlink:href=\"#DejaVuSans-49\"/>\n       <use x=\"63.623047\" xlink:href=\"#DejaVuSans-48\"/>\n       <use x=\"127.246094\" xlink:href=\"#DejaVuSans-56\"/>\n      </g>\n     </g>\n    </g>\n    <g id=\"xtick_98\">\n     <g id=\"text_98\">\n      <!-- 134 -->\n      <g transform=\"translate(221.437516 290.559063)scale(0.06 -0.06)\">\n       <use xlink:href=\"#DejaVuSans-49\"/>\n       <use x=\"63.623047\" xlink:href=\"#DejaVuSans-51\"/>\n       <use x=\"127.246094\" xlink:href=\"#DejaVuSans-52\"/>\n      </g>\n     </g>\n    </g>\n    <g id=\"xtick_99\">\n     <g id=\"text_99\">\n      <!-- 64 -->\n      <g transform=\"translate(225.465253 290.559063)scale(0.06 -0.06)\">\n       <use xlink:href=\"#DejaVuSans-54\"/>\n       <use x=\"63.623047\" xlink:href=\"#DejaVuSans-52\"/>\n      </g>\n     </g>\n    </g>\n    <g id=\"xtick_100\">\n     <g id=\"text_100\">\n      <!-- 91 -->\n      <g transform=\"translate(227.584241 290.559063)scale(0.06 -0.06)\">\n       <use xlink:href=\"#DejaVuSans-57\"/>\n       <use x=\"63.623047\" xlink:href=\"#DejaVuSans-49\"/>\n      </g>\n     </g>\n    </g>\n    <g id=\"xtick_101\">\n     <g id=\"text_101\">\n      <!-- 75 -->\n      <g transform=\"translate(229.703228 290.559063)scale(0.06 -0.06)\">\n       <use xlink:href=\"#DejaVuSans-55\"/>\n       <use x=\"63.623047\" xlink:href=\"#DejaVuSans-53\"/>\n      </g>\n     </g>\n    </g>\n    <g id=\"xtick_102\">\n     <g id=\"text_102\">\n      <!-- 56 -->\n      <g transform=\"translate(231.822215 290.559063)scale(0.06 -0.06)\">\n       <use xlink:href=\"#DejaVuSans-53\"/>\n       <use x=\"63.623047\" xlink:href=\"#DejaVuSans-54\"/>\n      </g>\n     </g>\n    </g>\n    <g id=\"xtick_103\">\n     <g id=\"text_103\">\n      <!-- 45 -->\n      <g transform=\"translate(233.941203 290.559063)scale(0.06 -0.06)\">\n       <use xlink:href=\"#DejaVuSans-52\"/>\n       <use x=\"63.623047\" xlink:href=\"#DejaVuSans-53\"/>\n      </g>\n     </g>\n    </g>\n    <g id=\"xtick_104\">\n     <g id=\"text_104\">\n      <!-- 36 -->\n      <g transform=\"translate(236.06019 290.559063)scale(0.06 -0.06)\">\n       <use xlink:href=\"#DejaVuSans-51\"/>\n       <use x=\"63.623047\" xlink:href=\"#DejaVuSans-54\"/>\n      </g>\n     </g>\n    </g>\n    <g id=\"xtick_105\">\n     <g id=\"text_105\">\n      <!-- 20 -->\n      <g transform=\"translate(238.179177 290.559063)scale(0.06 -0.06)\">\n       <use xlink:href=\"#DejaVuSans-50\"/>\n       <use x=\"63.623047\" xlink:href=\"#DejaVuSans-48\"/>\n      </g>\n     </g>\n    </g>\n    <g id=\"xtick_106\">\n     <g id=\"text_106\">\n      <!-- 32 -->\n      <g transform=\"translate(240.298165 290.559063)scale(0.06 -0.06)\">\n       <use xlink:href=\"#DejaVuSans-51\"/>\n       <use x=\"63.623047\" xlink:href=\"#DejaVuSans-50\"/>\n      </g>\n     </g>\n    </g>\n    <g id=\"xtick_107\">\n     <g id=\"text_107\">\n      <!-- 41 -->\n      <g transform=\"translate(242.417152 290.559063)scale(0.06 -0.06)\">\n       <use xlink:href=\"#DejaVuSans-52\"/>\n       <use x=\"63.623047\" xlink:href=\"#DejaVuSans-49\"/>\n      </g>\n     </g>\n    </g>\n    <g id=\"xtick_108\">\n     <g id=\"text_108\">\n      <!-- 49 -->\n      <g transform=\"translate(244.536139 290.559063)scale(0.06 -0.06)\">\n       <use xlink:href=\"#DejaVuSans-52\"/>\n       <use x=\"63.623047\" xlink:href=\"#DejaVuSans-57\"/>\n      </g>\n     </g>\n    </g>\n    <g id=\"xtick_109\">\n     <g id=\"text_109\">\n      <!-- 42 -->\n      <g transform=\"translate(246.655127 290.559063)scale(0.06 -0.06)\">\n       <use xlink:href=\"#DejaVuSans-52\"/>\n       <use x=\"63.623047\" xlink:href=\"#DejaVuSans-50\"/>\n      </g>\n     </g>\n    </g>\n    <g id=\"xtick_110\">\n     <g id=\"text_110\">\n      <!-- 12 -->\n      <g transform=\"translate(248.774114 290.559063)scale(0.06 -0.06)\">\n       <use xlink:href=\"#DejaVuSans-49\"/>\n       <use x=\"63.623047\" xlink:href=\"#DejaVuSans-50\"/>\n      </g>\n     </g>\n    </g>\n    <g id=\"xtick_111\">\n     <g id=\"text_111\">\n      <!-- 21 -->\n      <g transform=\"translate(250.893101 290.559063)scale(0.06 -0.06)\">\n       <use xlink:href=\"#DejaVuSans-50\"/>\n       <use x=\"63.623047\" xlink:href=\"#DejaVuSans-49\"/>\n      </g>\n     </g>\n    </g>\n    <g id=\"xtick_112\">\n     <g id=\"text_112\">\n      <!-- 142 -->\n      <g transform=\"translate(251.103339 290.559063)scale(0.06 -0.06)\">\n       <use xlink:href=\"#DejaVuSans-49\"/>\n       <use x=\"63.623047\" xlink:href=\"#DejaVuSans-52\"/>\n       <use x=\"127.246094\" xlink:href=\"#DejaVuSans-50\"/>\n      </g>\n     </g>\n    </g>\n    <g id=\"xtick_113\">\n     <g id=\"text_113\">\n      <!-- 135 -->\n      <g transform=\"translate(253.222326 290.559063)scale(0.06 -0.06)\">\n       <use xlink:href=\"#DejaVuSans-49\"/>\n       <use x=\"63.623047\" xlink:href=\"#DejaVuSans-51\"/>\n       <use x=\"127.246094\" xlink:href=\"#DejaVuSans-53\"/>\n      </g>\n     </g>\n    </g>\n    <g id=\"xtick_114\">\n     <g id=\"text_114\">\n      <!-- 110 -->\n      <g transform=\"translate(255.341313 290.559063)scale(0.06 -0.06)\">\n       <use xlink:href=\"#DejaVuSans-49\"/>\n       <use x=\"63.623047\" xlink:href=\"#DejaVuSans-49\"/>\n       <use x=\"127.246094\" xlink:href=\"#DejaVuSans-48\"/>\n      </g>\n     </g>\n    </g>\n    <g id=\"xtick_115\">\n     <g id=\"text_115\">\n      <!-- 102 -->\n      <g transform=\"translate(257.460301 290.559063)scale(0.06 -0.06)\">\n       <use xlink:href=\"#DejaVuSans-49\"/>\n       <use x=\"63.623047\" xlink:href=\"#DejaVuSans-48\"/>\n       <use x=\"127.246094\" xlink:href=\"#DejaVuSans-50\"/>\n      </g>\n     </g>\n    </g>\n    <g id=\"xtick_116\">\n     <g id=\"text_116\">\n      <!-- 66 -->\n      <g transform=\"translate(261.488038 290.559063)scale(0.06 -0.06)\">\n       <use xlink:href=\"#DejaVuSans-54\"/>\n       <use x=\"63.623047\" xlink:href=\"#DejaVuSans-54\"/>\n      </g>\n     </g>\n    </g>\n    <g id=\"xtick_117\">\n     <g id=\"text_117\">\n      <!-- 57 -->\n      <g transform=\"translate(263.607025 290.559063)scale(0.06 -0.06)\">\n       <use xlink:href=\"#DejaVuSans-53\"/>\n       <use x=\"63.623047\" xlink:href=\"#DejaVuSans-55\"/>\n      </g>\n     </g>\n    </g>\n    <g id=\"xtick_118\">\n     <g id=\"text_118\">\n      <!-- 53 -->\n      <g transform=\"translate(265.726013 290.559063)scale(0.06 -0.06)\">\n       <use xlink:href=\"#DejaVuSans-53\"/>\n       <use x=\"63.623047\" xlink:href=\"#DejaVuSans-51\"/>\n      </g>\n     </g>\n    </g>\n    <g id=\"xtick_119\">\n     <g id=\"text_119\">\n      <!-- 10 -->\n      <g transform=\"translate(267.845 290.559063)scale(0.06 -0.06)\">\n       <use xlink:href=\"#DejaVuSans-49\"/>\n       <use x=\"63.623047\" xlink:href=\"#DejaVuSans-48\"/>\n      </g>\n     </g>\n    </g>\n    <g id=\"xtick_120\">\n     <g id=\"text_120\">\n      <!-- 30 -->\n      <g transform=\"translate(269.963987 290.559063)scale(0.06 -0.06)\">\n       <use xlink:href=\"#DejaVuSans-51\"/>\n       <use x=\"63.623047\" xlink:href=\"#DejaVuSans-48\"/>\n      </g>\n     </g>\n    </g>\n    <g id=\"xtick_121\">\n     <g id=\"text_121\">\n      <!-- 13 -->\n      <g transform=\"translate(272.082975 290.559063)scale(0.06 -0.06)\">\n       <use xlink:href=\"#DejaVuSans-49\"/>\n       <use x=\"63.623047\" xlink:href=\"#DejaVuSans-51\"/>\n      </g>\n     </g>\n    </g>\n    <g id=\"xtick_122\">\n     <g id=\"text_122\">\n      <!-- 126 -->\n      <g transform=\"translate(272.293212 290.559063)scale(0.06 -0.06)\">\n       <use xlink:href=\"#DejaVuSans-49\"/>\n       <use x=\"63.623047\" xlink:href=\"#DejaVuSans-50\"/>\n       <use x=\"127.246094\" xlink:href=\"#DejaVuSans-54\"/>\n      </g>\n     </g>\n    </g>\n    <g id=\"xtick_123\">\n     <g id=\"text_123\">\n      <!-- 104 -->\n      <g transform=\"translate(274.412199 290.559063)scale(0.06 -0.06)\">\n       <use xlink:href=\"#DejaVuSans-49\"/>\n       <use x=\"63.623047\" xlink:href=\"#DejaVuSans-48\"/>\n       <use x=\"127.246094\" xlink:href=\"#DejaVuSans-52\"/>\n      </g>\n     </g>\n    </g>\n    <g id=\"xtick_124\">\n     <g id=\"text_124\">\n      <!-- 9 -->\n      <g transform=\"translate(280.348687 290.559063)scale(0.06 -0.06)\">\n       <use xlink:href=\"#DejaVuSans-57\"/>\n      </g>\n     </g>\n    </g>\n    <g id=\"xtick_125\">\n     <g id=\"text_125\">\n      <!-- 38 -->\n      <g transform=\"translate(280.558924 290.559063)scale(0.06 -0.06)\">\n       <use xlink:href=\"#DejaVuSans-51\"/>\n       <use x=\"63.623047\" xlink:href=\"#DejaVuSans-56\"/>\n      </g>\n     </g>\n    </g>\n    <g id=\"xtick_126\">\n     <g id=\"text_126\">\n      <!-- 140 -->\n      <g transform=\"translate(280.769161 290.559063)scale(0.06 -0.06)\">\n       <use xlink:href=\"#DejaVuSans-49\"/>\n       <use x=\"63.623047\" xlink:href=\"#DejaVuSans-52\"/>\n       <use x=\"127.246094\" xlink:href=\"#DejaVuSans-48\"/>\n      </g>\n     </g>\n    </g>\n    <g id=\"xtick_127\">\n     <g id=\"text_127\">\n      <!-- 119 -->\n      <g transform=\"translate(282.888149 290.559063)scale(0.06 -0.06)\">\n       <use xlink:href=\"#DejaVuSans-49\"/>\n       <use x=\"63.623047\" xlink:href=\"#DejaVuSans-49\"/>\n       <use x=\"127.246094\" xlink:href=\"#DejaVuSans-57\"/>\n      </g>\n     </g>\n    </g>\n    <g id=\"xtick_128\">\n     <g id=\"text_128\">\n      <!-- 125 -->\n      <g transform=\"translate(285.007136 290.559063)scale(0.06 -0.06)\">\n       <use xlink:href=\"#DejaVuSans-49\"/>\n       <use x=\"63.623047\" xlink:href=\"#DejaVuSans-50\"/>\n       <use x=\"127.246094\" xlink:href=\"#DejaVuSans-53\"/>\n      </g>\n     </g>\n    </g>\n    <g id=\"xtick_129\">\n     <g id=\"text_129\">\n      <!-- 130 -->\n      <g transform=\"translate(287.126123 290.559063)scale(0.06 -0.06)\">\n       <use xlink:href=\"#DejaVuSans-49\"/>\n       <use x=\"63.623047\" xlink:href=\"#DejaVuSans-51\"/>\n       <use x=\"127.246094\" xlink:href=\"#DejaVuSans-48\"/>\n      </g>\n     </g>\n    </g>\n    <g id=\"xtick_130\">\n     <g id=\"text_130\">\n      <!-- 31 -->\n      <g transform=\"translate(291.153861 290.559063)scale(0.06 -0.06)\">\n       <use xlink:href=\"#DejaVuSans-51\"/>\n       <use x=\"63.623047\" xlink:href=\"#DejaVuSans-49\"/>\n      </g>\n     </g>\n    </g>\n    <g id=\"xtick_131\">\n     <g id=\"text_131\">\n      <!-- 139 -->\n      <g transform=\"translate(291.364098 290.559063)scale(0.06 -0.06)\">\n       <use xlink:href=\"#DejaVuSans-49\"/>\n       <use x=\"63.623047\" xlink:href=\"#DejaVuSans-51\"/>\n       <use x=\"127.246094\" xlink:href=\"#DejaVuSans-57\"/>\n      </g>\n     </g>\n    </g>\n    <g id=\"xtick_132\">\n     <g id=\"text_132\">\n      <!-- 85 -->\n      <g transform=\"translate(295.391835 290.559063)scale(0.06 -0.06)\">\n       <use xlink:href=\"#DejaVuSans-56\"/>\n       <use x=\"63.623047\" xlink:href=\"#DejaVuSans-53\"/>\n      </g>\n     </g>\n    </g>\n    <g id=\"xtick_133\">\n     <g id=\"text_133\">\n      <!-- 116 -->\n      <g transform=\"translate(295.602073 290.559063)scale(0.06 -0.06)\">\n       <use xlink:href=\"#DejaVuSans-49\"/>\n       <use x=\"63.623047\" xlink:href=\"#DejaVuSans-49\"/>\n       <use x=\"127.246094\" xlink:href=\"#DejaVuSans-54\"/>\n      </g>\n     </g>\n    </g>\n    <g id=\"xtick_134\">\n     <g id=\"text_134\">\n      <!-- 329 -->\n      <g transform=\"translate(297.72106 290.559063)scale(0.06 -0.06)\">\n       <use xlink:href=\"#DejaVuSans-51\"/>\n       <use x=\"63.623047\" xlink:href=\"#DejaVuSans-50\"/>\n       <use x=\"127.246094\" xlink:href=\"#DejaVuSans-57\"/>\n      </g>\n     </g>\n    </g>\n    <g id=\"xtick_135\">\n     <g id=\"text_135\">\n      <!-- 241 -->\n      <g transform=\"translate(299.840047 290.559063)scale(0.06 -0.06)\">\n       <use xlink:href=\"#DejaVuSans-50\"/>\n       <use x=\"63.623047\" xlink:href=\"#DejaVuSans-52\"/>\n       <use x=\"127.246094\" xlink:href=\"#DejaVuSans-49\"/>\n      </g>\n     </g>\n    </g>\n    <g id=\"xtick_136\">\n     <g id=\"text_136\">\n      <!-- 7 -->\n      <g transform=\"translate(305.776535 290.559063)scale(0.06 -0.06)\">\n       <use xlink:href=\"#DejaVuSans-55\"/>\n      </g>\n     </g>\n    </g>\n    <g id=\"xtick_137\">\n     <g id=\"text_137\">\n      <!-- 198 -->\n      <g transform=\"translate(304.078022 290.559063)scale(0.06 -0.06)\">\n       <use xlink:href=\"#DejaVuSans-49\"/>\n       <use x=\"63.623047\" xlink:href=\"#DejaVuSans-57\"/>\n       <use x=\"127.246094\" xlink:href=\"#DejaVuSans-56\"/>\n      </g>\n     </g>\n    </g>\n    <g id=\"xtick_138\">\n     <g id=\"text_138\">\n      <!-- 301 -->\n      <g transform=\"translate(306.197009 290.559063)scale(0.06 -0.06)\">\n       <use xlink:href=\"#DejaVuSans-51\"/>\n       <use x=\"63.623047\" xlink:href=\"#DejaVuSans-48\"/>\n       <use x=\"127.246094\" xlink:href=\"#DejaVuSans-49\"/>\n      </g>\n     </g>\n    </g>\n    <g id=\"xtick_139\">\n     <g id=\"text_139\">\n      <!-- 356 -->\n      <g transform=\"translate(308.315997 290.559063)scale(0.06 -0.06)\">\n       <use xlink:href=\"#DejaVuSans-51\"/>\n       <use x=\"63.623047\" xlink:href=\"#DejaVuSans-53\"/>\n       <use x=\"127.246094\" xlink:href=\"#DejaVuSans-54\"/>\n      </g>\n     </g>\n    </g>\n    <g id=\"xtick_140\">\n     <g id=\"text_140\">\n      <!-- 37 -->\n      <g transform=\"translate(312.343734 290.559063)scale(0.06 -0.06)\">\n       <use xlink:href=\"#DejaVuSans-51\"/>\n       <use x=\"63.623047\" xlink:href=\"#DejaVuSans-55\"/>\n      </g>\n     </g>\n    </g>\n    <g id=\"xtick_141\">\n     <g id=\"text_141\">\n      <!-- 233 -->\n      <g transform=\"translate(312.553972 290.559063)scale(0.06 -0.06)\">\n       <use xlink:href=\"#DejaVuSans-50\"/>\n       <use x=\"63.623047\" xlink:href=\"#DejaVuSans-51\"/>\n       <use x=\"127.246094\" xlink:href=\"#DejaVuSans-51\"/>\n      </g>\n     </g>\n    </g>\n    <g id=\"xtick_142\">\n     <g id=\"text_142\">\n      <!-- 101 -->\n      <g transform=\"translate(314.672959 290.559063)scale(0.06 -0.06)\">\n       <use xlink:href=\"#DejaVuSans-49\"/>\n       <use x=\"63.623047\" xlink:href=\"#DejaVuSans-48\"/>\n       <use x=\"127.246094\" xlink:href=\"#DejaVuSans-49\"/>\n      </g>\n     </g>\n    </g>\n    <g id=\"xtick_143\">\n     <g id=\"text_143\">\n      <!-- 115 -->\n      <g transform=\"translate(316.791946 290.559063)scale(0.06 -0.06)\">\n       <use xlink:href=\"#DejaVuSans-49\"/>\n       <use x=\"63.623047\" xlink:href=\"#DejaVuSans-49\"/>\n       <use x=\"127.246094\" xlink:href=\"#DejaVuSans-53\"/>\n      </g>\n     </g>\n    </g>\n    <g id=\"xtick_144\">\n     <g id=\"text_144\">\n      <!-- 243 -->\n      <g transform=\"translate(318.910934 290.559063)scale(0.06 -0.06)\">\n       <use xlink:href=\"#DejaVuSans-50\"/>\n       <use x=\"63.623047\" xlink:href=\"#DejaVuSans-52\"/>\n       <use x=\"127.246094\" xlink:href=\"#DejaVuSans-51\"/>\n      </g>\n     </g>\n    </g>\n    <g id=\"xtick_145\">\n     <g id=\"text_145\">\n      <!-- 224 -->\n      <g transform=\"translate(321.029921 290.559063)scale(0.06 -0.06)\">\n       <use xlink:href=\"#DejaVuSans-50\"/>\n       <use x=\"63.623047\" xlink:href=\"#DejaVuSans-50\"/>\n       <use x=\"127.246094\" xlink:href=\"#DejaVuSans-52\"/>\n      </g>\n     </g>\n    </g>\n    <g id=\"xtick_146\">\n     <g id=\"text_146\">\n      <!-- 199 -->\n      <g transform=\"translate(323.148908 290.559063)scale(0.06 -0.06)\">\n       <use xlink:href=\"#DejaVuSans-49\"/>\n       <use x=\"63.623047\" xlink:href=\"#DejaVuSans-57\"/>\n       <use x=\"127.246094\" xlink:href=\"#DejaVuSans-57\"/>\n      </g>\n     </g>\n    </g>\n    <g id=\"xtick_147\">\n     <g id=\"text_147\">\n      <!-- 169 -->\n      <g transform=\"translate(325.267896 290.559063)scale(0.06 -0.06)\">\n       <use xlink:href=\"#DejaVuSans-49\"/>\n       <use x=\"63.623047\" xlink:href=\"#DejaVuSans-54\"/>\n       <use x=\"127.246094\" xlink:href=\"#DejaVuSans-57\"/>\n      </g>\n     </g>\n    </g>\n    <g id=\"xtick_148\">\n     <g id=\"text_148\">\n      <!-- 148 -->\n      <g transform=\"translate(327.386883 290.559063)scale(0.06 -0.06)\">\n       <use xlink:href=\"#DejaVuSans-49\"/>\n       <use x=\"63.623047\" xlink:href=\"#DejaVuSans-52\"/>\n       <use x=\"127.246094\" xlink:href=\"#DejaVuSans-56\"/>\n      </g>\n     </g>\n    </g>\n    <g id=\"xtick_149\">\n     <g id=\"text_149\">\n      <!-- 129 -->\n      <g transform=\"translate(329.50587 290.559063)scale(0.06 -0.06)\">\n       <use xlink:href=\"#DejaVuSans-49\"/>\n       <use x=\"63.623047\" xlink:href=\"#DejaVuSans-50\"/>\n       <use x=\"127.246094\" xlink:href=\"#DejaVuSans-57\"/>\n      </g>\n     </g>\n    </g>\n    <g id=\"xtick_150\">\n     <g id=\"text_150\">\n      <!-- 123 -->\n      <g transform=\"translate(331.624858 290.559063)scale(0.06 -0.06)\">\n       <use xlink:href=\"#DejaVuSans-49\"/>\n       <use x=\"63.623047\" xlink:href=\"#DejaVuSans-50\"/>\n       <use x=\"127.246094\" xlink:href=\"#DejaVuSans-51\"/>\n      </g>\n     </g>\n    </g>\n    <g id=\"xtick_151\">\n     <g id=\"text_151\">\n      <!-- 109 -->\n      <g transform=\"translate(333.743845 290.559063)scale(0.06 -0.06)\">\n       <use xlink:href=\"#DejaVuSans-49\"/>\n       <use x=\"63.623047\" xlink:href=\"#DejaVuSans-48\"/>\n       <use x=\"127.246094\" xlink:href=\"#DejaVuSans-57\"/>\n      </g>\n     </g>\n    </g>\n    <g id=\"xtick_152\">\n     <g id=\"text_152\">\n      <!-- 100 -->\n      <g transform=\"translate(335.862832 290.559063)scale(0.06 -0.06)\">\n       <use xlink:href=\"#DejaVuSans-49\"/>\n       <use x=\"63.623047\" xlink:href=\"#DejaVuSans-48\"/>\n       <use x=\"127.246094\" xlink:href=\"#DejaVuSans-48\"/>\n      </g>\n     </g>\n    </g>\n    <g id=\"xtick_153\">\n     <g id=\"text_153\">\n      <!-- 98 -->\n      <g transform=\"translate(339.89057 290.559063)scale(0.06 -0.06)\">\n       <use xlink:href=\"#DejaVuSans-57\"/>\n       <use x=\"63.623047\" xlink:href=\"#DejaVuSans-56\"/>\n      </g>\n     </g>\n    </g>\n    <g id=\"xtick_154\">\n     <g id=\"text_154\">\n      <!-- 89 -->\n      <g transform=\"translate(342.009557 290.559063)scale(0.06 -0.06)\">\n       <use xlink:href=\"#DejaVuSans-56\"/>\n       <use x=\"63.623047\" xlink:href=\"#DejaVuSans-57\"/>\n      </g>\n     </g>\n    </g>\n    <g id=\"xtick_155\">\n     <g id=\"text_155\">\n      <!-- 60 -->\n      <g transform=\"translate(344.128544 290.559063)scale(0.06 -0.06)\">\n       <use xlink:href=\"#DejaVuSans-54\"/>\n       <use x=\"63.623047\" xlink:href=\"#DejaVuSans-48\"/>\n      </g>\n     </g>\n    </g>\n    <g id=\"xtick_156\">\n     <g id=\"text_156\">\n      <!-- 29 -->\n      <g transform=\"translate(346.247532 290.559063)scale(0.06 -0.06)\">\n       <use xlink:href=\"#DejaVuSans-50\"/>\n       <use x=\"63.623047\" xlink:href=\"#DejaVuSans-57\"/>\n      </g>\n     </g>\n    </g>\n    <g id=\"xtick_157\">\n     <g id=\"text_157\">\n      <!-- 15 -->\n      <g transform=\"translate(348.366519 290.559063)scale(0.06 -0.06)\">\n       <use xlink:href=\"#DejaVuSans-49\"/>\n       <use x=\"63.623047\" xlink:href=\"#DejaVuSans-53\"/>\n      </g>\n     </g>\n    </g>\n    <g id=\"xtick_158\">\n     <g id=\"text_158\">\n      <!-- 16 -->\n      <g transform=\"translate(350.485506 290.559063)scale(0.06 -0.06)\">\n       <use xlink:href=\"#DejaVuSans-49\"/>\n       <use x=\"63.623047\" xlink:href=\"#DejaVuSans-54\"/>\n      </g>\n     </g>\n    </g>\n    <g id=\"xtick_159\">\n     <g id=\"text_159\">\n      <!-- 19 -->\n      <g transform=\"translate(352.604494 290.559063)scale(0.06 -0.06)\">\n       <use xlink:href=\"#DejaVuSans-49\"/>\n       <use x=\"63.623047\" xlink:href=\"#DejaVuSans-57\"/>\n      </g>\n     </g>\n    </g>\n    <g id=\"xtick_160\">\n     <g id=\"text_160\">\n      <!-- 242 -->\n      <g transform=\"translate(352.814731 290.559063)scale(0.06 -0.06)\">\n       <use xlink:href=\"#DejaVuSans-50\"/>\n       <use x=\"63.623047\" xlink:href=\"#DejaVuSans-52\"/>\n       <use x=\"127.246094\" xlink:href=\"#DejaVuSans-50\"/>\n      </g>\n     </g>\n    </g>\n    <g id=\"xtick_161\">\n     <g id=\"text_161\">\n      <!-- 207 -->\n      <g transform=\"translate(354.933718 290.559063)scale(0.06 -0.06)\">\n       <use xlink:href=\"#DejaVuSans-50\"/>\n       <use x=\"63.623047\" xlink:href=\"#DejaVuSans-48\"/>\n       <use x=\"127.246094\" xlink:href=\"#DejaVuSans-55\"/>\n      </g>\n     </g>\n    </g>\n    <g id=\"xtick_162\">\n     <g id=\"text_162\">\n      <!-- 200 -->\n      <g transform=\"translate(357.052706 290.559063)scale(0.06 -0.06)\">\n       <use xlink:href=\"#DejaVuSans-50\"/>\n       <use x=\"63.623047\" xlink:href=\"#DejaVuSans-48\"/>\n       <use x=\"127.246094\" xlink:href=\"#DejaVuSans-48\"/>\n      </g>\n     </g>\n    </g>\n    <g id=\"xtick_163\">\n     <g id=\"text_163\">\n      <!-- 180 -->\n      <g transform=\"translate(359.171693 290.559063)scale(0.06 -0.06)\">\n       <use xlink:href=\"#DejaVuSans-49\"/>\n       <use x=\"63.623047\" xlink:href=\"#DejaVuSans-56\"/>\n       <use x=\"127.246094\" xlink:href=\"#DejaVuSans-48\"/>\n      </g>\n     </g>\n    </g>\n    <g id=\"xtick_164\">\n     <g id=\"text_164\">\n      <!-- 99 -->\n      <g transform=\"translate(363.19943 290.559063)scale(0.06 -0.06)\">\n       <use xlink:href=\"#DejaVuSans-57\"/>\n       <use x=\"63.623047\" xlink:href=\"#DejaVuSans-57\"/>\n      </g>\n     </g>\n    </g>\n    <g id=\"xtick_165\">\n     <g id=\"text_165\">\n      <!-- 63 -->\n      <g transform=\"translate(365.318418 290.559063)scale(0.06 -0.06)\">\n       <use xlink:href=\"#DejaVuSans-54\"/>\n       <use x=\"63.623047\" xlink:href=\"#DejaVuSans-51\"/>\n      </g>\n     </g>\n    </g>\n    <g id=\"xtick_166\">\n     <g id=\"text_166\">\n      <!-- 5 -->\n      <g transform=\"translate(369.346155 290.559063)scale(0.06 -0.06)\">\n       <use xlink:href=\"#DejaVuSans-53\"/>\n      </g>\n     </g>\n    </g>\n    <g id=\"xtick_167\">\n     <g id=\"text_167\">\n      <!-- 47 -->\n      <g transform=\"translate(369.556392 290.559063)scale(0.06 -0.06)\">\n       <use xlink:href=\"#DejaVuSans-52\"/>\n       <use x=\"63.623047\" xlink:href=\"#DejaVuSans-55\"/>\n      </g>\n     </g>\n    </g>\n    <g id=\"xtick_168\">\n     <g id=\"text_168\">\n      <!-- 159 -->\n      <g transform=\"translate(369.76663 290.559063)scale(0.06 -0.06)\">\n       <use xlink:href=\"#DejaVuSans-49\"/>\n       <use x=\"63.623047\" xlink:href=\"#DejaVuSans-53\"/>\n       <use x=\"127.246094\" xlink:href=\"#DejaVuSans-57\"/>\n      </g>\n     </g>\n    </g>\n    <g id=\"xtick_169\">\n     <g id=\"text_169\">\n      <!-- 111 -->\n      <g transform=\"translate(371.885617 290.559063)scale(0.06 -0.06)\">\n       <use xlink:href=\"#DejaVuSans-49\"/>\n       <use x=\"63.623047\" xlink:href=\"#DejaVuSans-49\"/>\n       <use x=\"127.246094\" xlink:href=\"#DejaVuSans-49\"/>\n      </g>\n     </g>\n    </g>\n    <g id=\"xtick_170\">\n     <g id=\"text_170\">\n      <!-- 4 -->\n      <g transform=\"translate(377.822104 290.559063)scale(0.06 -0.06)\">\n       <use xlink:href=\"#DejaVuSans-52\"/>\n      </g>\n     </g>\n    </g>\n    <g id=\"xtick_171\">\n     <g id=\"text_171\">\n      <!-- 107 -->\n      <g transform=\"translate(376.123592 290.559063)scale(0.06 -0.06)\">\n       <use xlink:href=\"#DejaVuSans-49\"/>\n       <use x=\"63.623047\" xlink:href=\"#DejaVuSans-48\"/>\n       <use x=\"127.246094\" xlink:href=\"#DejaVuSans-55\"/>\n      </g>\n     </g>\n    </g>\n    <g id=\"xtick_172\">\n     <g id=\"text_172\">\n      <!-- 93 -->\n      <g transform=\"translate(380.151329 290.559063)scale(0.06 -0.06)\">\n       <use xlink:href=\"#DejaVuSans-57\"/>\n       <use x=\"63.623047\" xlink:href=\"#DejaVuSans-51\"/>\n      </g>\n     </g>\n    </g>\n    <g id=\"xtick_173\">\n     <g id=\"text_173\">\n      <!-- 193 -->\n      <g transform=\"translate(380.361566 290.559063)scale(0.06 -0.06)\">\n       <use xlink:href=\"#DejaVuSans-49\"/>\n       <use x=\"63.623047\" xlink:href=\"#DejaVuSans-57\"/>\n       <use x=\"127.246094\" xlink:href=\"#DejaVuSans-51\"/>\n      </g>\n     </g>\n    </g>\n    <g id=\"xtick_174\">\n     <g id=\"text_174\">\n      <!-- 181 -->\n      <g transform=\"translate(382.480554 290.559063)scale(0.06 -0.06)\">\n       <use xlink:href=\"#DejaVuSans-49\"/>\n       <use x=\"63.623047\" xlink:href=\"#DejaVuSans-56\"/>\n       <use x=\"127.246094\" xlink:href=\"#DejaVuSans-49\"/>\n      </g>\n     </g>\n    </g>\n    <g id=\"xtick_175\">\n     <g id=\"text_175\">\n      <!-- 90 -->\n      <g transform=\"translate(386.508291 290.559063)scale(0.06 -0.06)\">\n       <use xlink:href=\"#DejaVuSans-57\"/>\n       <use x=\"63.623047\" xlink:href=\"#DejaVuSans-48\"/>\n      </g>\n     </g>\n    </g>\n    <g id=\"xtick_176\">\n     <g id=\"text_176\">\n      <!-- 46 -->\n      <g transform=\"translate(388.627278 290.559063)scale(0.06 -0.06)\">\n       <use xlink:href=\"#DejaVuSans-52\"/>\n       <use x=\"63.623047\" xlink:href=\"#DejaVuSans-54\"/>\n      </g>\n     </g>\n    </g>\n    <g id=\"xtick_177\">\n     <g id=\"text_177\">\n      <!-- 74 -->\n      <g transform=\"translate(390.746266 290.559063)scale(0.06 -0.06)\">\n       <use xlink:href=\"#DejaVuSans-55\"/>\n       <use x=\"63.623047\" xlink:href=\"#DejaVuSans-52\"/>\n      </g>\n     </g>\n    </g>\n    <g id=\"xtick_178\">\n     <g id=\"text_178\">\n      <!-- 351 -->\n      <g transform=\"translate(390.956503 290.559063)scale(0.06 -0.06)\">\n       <use xlink:href=\"#DejaVuSans-51\"/>\n       <use x=\"63.623047\" xlink:href=\"#DejaVuSans-53\"/>\n       <use x=\"127.246094\" xlink:href=\"#DejaVuSans-49\"/>\n      </g>\n     </g>\n    </g>\n    <g id=\"xtick_179\">\n     <g id=\"text_179\">\n      <!-- 331 -->\n      <g transform=\"translate(393.075491 290.559063)scale(0.06 -0.06)\">\n       <use xlink:href=\"#DejaVuSans-51\"/>\n       <use x=\"63.623047\" xlink:href=\"#DejaVuSans-51\"/>\n       <use x=\"127.246094\" xlink:href=\"#DejaVuSans-49\"/>\n      </g>\n     </g>\n    </g>\n    <g id=\"xtick_180\">\n     <g id=\"text_180\">\n      <!-- 182 -->\n      <g transform=\"translate(395.194478 290.559063)scale(0.06 -0.06)\">\n       <use xlink:href=\"#DejaVuSans-49\"/>\n       <use x=\"63.623047\" xlink:href=\"#DejaVuSans-56\"/>\n       <use x=\"127.246094\" xlink:href=\"#DejaVuSans-50\"/>\n      </g>\n     </g>\n    </g>\n    <g id=\"xtick_181\">\n     <g id=\"text_181\">\n      <!-- 195 -->\n      <g transform=\"translate(397.313465 290.559063)scale(0.06 -0.06)\">\n       <use xlink:href=\"#DejaVuSans-49\"/>\n       <use x=\"63.623047\" xlink:href=\"#DejaVuSans-57\"/>\n       <use x=\"127.246094\" xlink:href=\"#DejaVuSans-53\"/>\n      </g>\n     </g>\n    </g>\n    <g id=\"xtick_182\">\n     <g id=\"text_182\">\n      <!-- 318 -->\n      <g transform=\"translate(399.432453 290.559063)scale(0.06 -0.06)\">\n       <use xlink:href=\"#DejaVuSans-51\"/>\n       <use x=\"63.623047\" xlink:href=\"#DejaVuSans-49\"/>\n       <use x=\"127.246094\" xlink:href=\"#DejaVuSans-56\"/>\n      </g>\n     </g>\n    </g>\n    <g id=\"xtick_183\">\n     <g id=\"text_183\">\n      <!-- 354 -->\n      <g transform=\"translate(401.55144 290.559063)scale(0.06 -0.06)\">\n       <use xlink:href=\"#DejaVuSans-51\"/>\n       <use x=\"63.623047\" xlink:href=\"#DejaVuSans-53\"/>\n       <use x=\"127.246094\" xlink:href=\"#DejaVuSans-52\"/>\n      </g>\n     </g>\n    </g>\n    <g id=\"xtick_184\">\n     <g id=\"text_184\">\n      <!-- 240 -->\n      <g transform=\"translate(403.670427 290.559063)scale(0.06 -0.06)\">\n       <use xlink:href=\"#DejaVuSans-50\"/>\n       <use x=\"63.623047\" xlink:href=\"#DejaVuSans-52\"/>\n       <use x=\"127.246094\" xlink:href=\"#DejaVuSans-48\"/>\n      </g>\n     </g>\n    </g>\n    <g id=\"xtick_185\">\n     <g id=\"text_185\">\n      <!-- 175 -->\n      <g transform=\"translate(405.789415 290.559063)scale(0.06 -0.06)\">\n       <use xlink:href=\"#DejaVuSans-49\"/>\n       <use x=\"63.623047\" xlink:href=\"#DejaVuSans-55\"/>\n       <use x=\"127.246094\" xlink:href=\"#DejaVuSans-53\"/>\n      </g>\n     </g>\n    </g>\n    <g id=\"xtick_186\">\n     <g id=\"text_186\">\n      <!-- 209 -->\n      <g transform=\"translate(407.908402 290.559063)scale(0.06 -0.06)\">\n       <use xlink:href=\"#DejaVuSans-50\"/>\n       <use x=\"63.623047\" xlink:href=\"#DejaVuSans-48\"/>\n       <use x=\"127.246094\" xlink:href=\"#DejaVuSans-57\"/>\n      </g>\n     </g>\n    </g>\n    <g id=\"xtick_187\">\n     <g id=\"text_187\">\n      <!-- 205 -->\n      <g transform=\"translate(410.027389 290.559063)scale(0.06 -0.06)\">\n       <use xlink:href=\"#DejaVuSans-50\"/>\n       <use x=\"63.623047\" xlink:href=\"#DejaVuSans-48\"/>\n       <use x=\"127.246094\" xlink:href=\"#DejaVuSans-53\"/>\n      </g>\n     </g>\n    </g>\n    <g id=\"xtick_188\">\n     <g id=\"text_188\">\n      <!-- 335 -->\n      <g transform=\"translate(412.146377 290.559063)scale(0.06 -0.06)\">\n       <use xlink:href=\"#DejaVuSans-51\"/>\n       <use x=\"63.623047\" xlink:href=\"#DejaVuSans-51\"/>\n       <use x=\"127.246094\" xlink:href=\"#DejaVuSans-53\"/>\n      </g>\n     </g>\n    </g>\n    <g id=\"xtick_189\">\n     <g id=\"text_189\">\n      <!-- 137 -->\n      <g transform=\"translate(414.265364 290.559063)scale(0.06 -0.06)\">\n       <use xlink:href=\"#DejaVuSans-49\"/>\n       <use x=\"63.623047\" xlink:href=\"#DejaVuSans-51\"/>\n       <use x=\"127.246094\" xlink:href=\"#DejaVuSans-55\"/>\n      </g>\n     </g>\n    </g>\n    <g id=\"xtick_190\">\n     <g id=\"text_190\">\n      <!-- 117 -->\n      <g transform=\"translate(416.384351 290.559063)scale(0.06 -0.06)\">\n       <use xlink:href=\"#DejaVuSans-49\"/>\n       <use x=\"63.623047\" xlink:href=\"#DejaVuSans-49\"/>\n       <use x=\"127.246094\" xlink:href=\"#DejaVuSans-55\"/>\n      </g>\n     </g>\n    </g>\n    <g id=\"xtick_191\">\n     <g id=\"text_191\">\n      <!-- 174 -->\n      <g transform=\"translate(418.503339 290.559063)scale(0.06 -0.06)\">\n       <use xlink:href=\"#DejaVuSans-49\"/>\n       <use x=\"63.623047\" xlink:href=\"#DejaVuSans-55\"/>\n       <use x=\"127.246094\" xlink:href=\"#DejaVuSans-52\"/>\n      </g>\n     </g>\n    </g>\n    <g id=\"xtick_192\">\n     <g id=\"text_192\">\n      <!-- 65 -->\n      <g transform=\"translate(422.531076 290.559063)scale(0.06 -0.06)\">\n       <use xlink:href=\"#DejaVuSans-54\"/>\n       <use x=\"63.623047\" xlink:href=\"#DejaVuSans-53\"/>\n      </g>\n     </g>\n    </g>\n    <g id=\"xtick_193\">\n     <g id=\"text_193\">\n      <!-- 133 -->\n      <g transform=\"translate(422.741313 290.559063)scale(0.06 -0.06)\">\n       <use xlink:href=\"#DejaVuSans-49\"/>\n       <use x=\"63.623047\" xlink:href=\"#DejaVuSans-51\"/>\n       <use x=\"127.246094\" xlink:href=\"#DejaVuSans-51\"/>\n      </g>\n     </g>\n    </g>\n    <g id=\"xtick_194\">\n     <g id=\"text_194\">\n      <!-- 96 -->\n      <g transform=\"translate(426.769051 290.559063)scale(0.06 -0.06)\">\n       <use xlink:href=\"#DejaVuSans-57\"/>\n       <use x=\"63.623047\" xlink:href=\"#DejaVuSans-54\"/>\n      </g>\n     </g>\n    </g>\n    <g id=\"xtick_195\">\n     <g id=\"text_195\">\n      <!-- 28 -->\n      <g transform=\"translate(428.888038 290.559063)scale(0.06 -0.06)\">\n       <use xlink:href=\"#DejaVuSans-50\"/>\n       <use x=\"63.623047\" xlink:href=\"#DejaVuSans-56\"/>\n      </g>\n     </g>\n    </g>\n    <g id=\"xtick_196\">\n     <g id=\"text_196\">\n      <!-- 79 -->\n      <g transform=\"translate(431.007025 290.559063)scale(0.06 -0.06)\">\n       <use xlink:href=\"#DejaVuSans-55\"/>\n       <use x=\"63.623047\" xlink:href=\"#DejaVuSans-57\"/>\n      </g>\n     </g>\n    </g>\n    <g id=\"xtick_197\">\n     <g id=\"text_197\">\n      <!-- 127 -->\n      <g transform=\"translate(431.217263 290.559063)scale(0.06 -0.06)\">\n       <use xlink:href=\"#DejaVuSans-49\"/>\n       <use x=\"63.623047\" xlink:href=\"#DejaVuSans-50\"/>\n       <use x=\"127.246094\" xlink:href=\"#DejaVuSans-55\"/>\n      </g>\n     </g>\n    </g>\n    <g id=\"xtick_198\">\n     <g id=\"text_198\">\n      <!-- 394 -->\n      <g transform=\"translate(433.33625 290.559063)scale(0.06 -0.06)\">\n       <use xlink:href=\"#DejaVuSans-51\"/>\n       <use x=\"63.623047\" xlink:href=\"#DejaVuSans-57\"/>\n       <use x=\"127.246094\" xlink:href=\"#DejaVuSans-52\"/>\n      </g>\n     </g>\n    </g>\n    <g id=\"xtick_199\">\n     <g id=\"text_199\">\n      <!-- 309 -->\n      <g transform=\"translate(435.455237 290.559063)scale(0.06 -0.06)\">\n       <use xlink:href=\"#DejaVuSans-51\"/>\n       <use x=\"63.623047\" xlink:href=\"#DejaVuSans-48\"/>\n       <use x=\"127.246094\" xlink:href=\"#DejaVuSans-57\"/>\n      </g>\n     </g>\n    </g>\n    <g id=\"xtick_200\">\n     <g id=\"text_200\">\n      <!-- 314 -->\n      <g transform=\"translate(437.574225 290.559063)scale(0.06 -0.06)\">\n       <use xlink:href=\"#DejaVuSans-51\"/>\n       <use x=\"63.623047\" xlink:href=\"#DejaVuSans-49\"/>\n       <use x=\"127.246094\" xlink:href=\"#DejaVuSans-52\"/>\n      </g>\n     </g>\n    </g>\n    <g id=\"xtick_201\">\n     <g id=\"text_201\">\n      <!-- 311 -->\n      <g transform=\"translate(439.693212 290.559063)scale(0.06 -0.06)\">\n       <use xlink:href=\"#DejaVuSans-51\"/>\n       <use x=\"63.623047\" xlink:href=\"#DejaVuSans-49\"/>\n       <use x=\"127.246094\" xlink:href=\"#DejaVuSans-49\"/>\n      </g>\n     </g>\n    </g>\n    <g id=\"xtick_202\">\n     <g id=\"text_202\">\n      <!-- 383 -->\n      <g transform=\"translate(441.812199 290.559063)scale(0.06 -0.06)\">\n       <use xlink:href=\"#DejaVuSans-51\"/>\n       <use x=\"63.623047\" xlink:href=\"#DejaVuSans-56\"/>\n       <use x=\"127.246094\" xlink:href=\"#DejaVuSans-51\"/>\n      </g>\n     </g>\n    </g>\n    <g id=\"xtick_203\">\n     <g id=\"text_203\">\n      <!-- 350 -->\n      <g transform=\"translate(443.931187 290.559063)scale(0.06 -0.06)\">\n       <use xlink:href=\"#DejaVuSans-51\"/>\n       <use x=\"63.623047\" xlink:href=\"#DejaVuSans-53\"/>\n       <use x=\"127.246094\" xlink:href=\"#DejaVuSans-48\"/>\n      </g>\n     </g>\n    </g>\n    <g id=\"xtick_204\">\n     <g id=\"text_204\">\n      <!-- 353 -->\n      <g transform=\"translate(446.050174 290.559063)scale(0.06 -0.06)\">\n       <use xlink:href=\"#DejaVuSans-51\"/>\n       <use x=\"63.623047\" xlink:href=\"#DejaVuSans-53\"/>\n       <use x=\"127.246094\" xlink:href=\"#DejaVuSans-51\"/>\n      </g>\n     </g>\n    </g>\n    <g id=\"xtick_205\">\n     <g id=\"text_205\">\n      <!-- 157 -->\n      <g transform=\"translate(448.169161 290.559063)scale(0.06 -0.06)\">\n       <use xlink:href=\"#DejaVuSans-49\"/>\n       <use x=\"63.623047\" xlink:href=\"#DejaVuSans-53\"/>\n       <use x=\"127.246094\" xlink:href=\"#DejaVuSans-55\"/>\n      </g>\n     </g>\n    </g>\n    <g id=\"xtick_206\">\n     <g id=\"text_206\">\n      <!-- 358 -->\n      <g transform=\"translate(450.288149 290.559063)scale(0.06 -0.06)\">\n       <use xlink:href=\"#DejaVuSans-51\"/>\n       <use x=\"63.623047\" xlink:href=\"#DejaVuSans-53\"/>\n       <use x=\"127.246094\" xlink:href=\"#DejaVuSans-56\"/>\n      </g>\n     </g>\n    </g>\n    <g id=\"xtick_207\">\n     <g id=\"text_207\">\n      <!-- 359 -->\n      <g transform=\"translate(452.407136 290.559063)scale(0.06 -0.06)\">\n       <use xlink:href=\"#DejaVuSans-51\"/>\n       <use x=\"63.623047\" xlink:href=\"#DejaVuSans-53\"/>\n       <use x=\"127.246094\" xlink:href=\"#DejaVuSans-57\"/>\n      </g>\n     </g>\n    </g>\n    <g id=\"xtick_208\">\n     <g id=\"text_208\">\n      <!-- 389 -->\n      <g transform=\"translate(454.526123 290.559063)scale(0.06 -0.06)\">\n       <use xlink:href=\"#DejaVuSans-51\"/>\n       <use x=\"63.623047\" xlink:href=\"#DejaVuSans-56\"/>\n       <use x=\"127.246094\" xlink:href=\"#DejaVuSans-57\"/>\n      </g>\n     </g>\n    </g>\n    <g id=\"xtick_209\">\n     <g id=\"text_209\">\n      <!-- 361 -->\n      <g transform=\"translate(456.645111 290.559063)scale(0.06 -0.06)\">\n       <use xlink:href=\"#DejaVuSans-51\"/>\n       <use x=\"63.623047\" xlink:href=\"#DejaVuSans-54\"/>\n       <use x=\"127.246094\" xlink:href=\"#DejaVuSans-49\"/>\n      </g>\n     </g>\n    </g>\n    <g id=\"xtick_210\">\n     <g id=\"text_210\">\n      <!-- 283 -->\n      <g transform=\"translate(458.764098 290.559063)scale(0.06 -0.06)\">\n       <use xlink:href=\"#DejaVuSans-50\"/>\n       <use x=\"63.623047\" xlink:href=\"#DejaVuSans-56\"/>\n       <use x=\"127.246094\" xlink:href=\"#DejaVuSans-51\"/>\n      </g>\n     </g>\n    </g>\n    <g id=\"xtick_211\">\n     <g id=\"text_211\">\n      <!-- 272 -->\n      <g transform=\"translate(460.883085 290.559063)scale(0.06 -0.06)\">\n       <use xlink:href=\"#DejaVuSans-50\"/>\n       <use x=\"63.623047\" xlink:href=\"#DejaVuSans-55\"/>\n       <use x=\"127.246094\" xlink:href=\"#DejaVuSans-50\"/>\n      </g>\n     </g>\n    </g>\n    <g id=\"xtick_212\">\n     <g id=\"text_212\">\n      <!-- 282 -->\n      <g transform=\"translate(463.002073 290.559063)scale(0.06 -0.06)\">\n       <use xlink:href=\"#DejaVuSans-50\"/>\n       <use x=\"63.623047\" xlink:href=\"#DejaVuSans-56\"/>\n       <use x=\"127.246094\" xlink:href=\"#DejaVuSans-50\"/>\n      </g>\n     </g>\n    </g>\n    <g id=\"xtick_213\">\n     <g id=\"text_213\">\n      <!-- 164 -->\n      <g transform=\"translate(465.12106 290.559063)scale(0.06 -0.06)\">\n       <use xlink:href=\"#DejaVuSans-49\"/>\n       <use x=\"63.623047\" xlink:href=\"#DejaVuSans-54\"/>\n       <use x=\"127.246094\" xlink:href=\"#DejaVuSans-52\"/>\n      </g>\n     </g>\n    </g>\n    <g id=\"xtick_214\">\n     <g id=\"text_214\">\n      <!-- 324 -->\n      <g transform=\"translate(467.240047 290.559063)scale(0.06 -0.06)\">\n       <use xlink:href=\"#DejaVuSans-51\"/>\n       <use x=\"63.623047\" xlink:href=\"#DejaVuSans-50\"/>\n       <use x=\"127.246094\" xlink:href=\"#DejaVuSans-52\"/>\n      </g>\n     </g>\n    </g>\n    <g id=\"xtick_215\">\n     <g id=\"text_215\">\n      <!-- 367 -->\n      <g transform=\"translate(469.359035 290.559063)scale(0.06 -0.06)\">\n       <use xlink:href=\"#DejaVuSans-51\"/>\n       <use x=\"63.623047\" xlink:href=\"#DejaVuSans-54\"/>\n       <use x=\"127.246094\" xlink:href=\"#DejaVuSans-55\"/>\n      </g>\n     </g>\n    </g>\n    <g id=\"xtick_216\">\n     <g id=\"text_216\">\n      <!-- 375 -->\n      <g transform=\"translate(471.478022 290.559063)scale(0.06 -0.06)\">\n       <use xlink:href=\"#DejaVuSans-51\"/>\n       <use x=\"63.623047\" xlink:href=\"#DejaVuSans-55\"/>\n       <use x=\"127.246094\" xlink:href=\"#DejaVuSans-53\"/>\n      </g>\n     </g>\n    </g>\n    <g id=\"xtick_217\">\n     <g id=\"text_217\">\n      <!-- 228 -->\n      <g transform=\"translate(473.597009 290.559063)scale(0.06 -0.06)\">\n       <use xlink:href=\"#DejaVuSans-50\"/>\n       <use x=\"63.623047\" xlink:href=\"#DejaVuSans-50\"/>\n       <use x=\"127.246094\" xlink:href=\"#DejaVuSans-56\"/>\n      </g>\n     </g>\n    </g>\n    <g id=\"xtick_218\">\n     <g id=\"text_218\">\n      <!-- 371 -->\n      <g transform=\"translate(475.715997 290.559063)scale(0.06 -0.06)\">\n       <use xlink:href=\"#DejaVuSans-51\"/>\n       <use x=\"63.623047\" xlink:href=\"#DejaVuSans-55\"/>\n       <use x=\"127.246094\" xlink:href=\"#DejaVuSans-49\"/>\n      </g>\n     </g>\n    </g>\n    <g id=\"xtick_219\">\n     <g id=\"text_219\">\n      <!-- 360 -->\n      <g transform=\"translate(477.834984 290.559063)scale(0.06 -0.06)\">\n       <use xlink:href=\"#DejaVuSans-51\"/>\n       <use x=\"63.623047\" xlink:href=\"#DejaVuSans-54\"/>\n       <use x=\"127.246094\" xlink:href=\"#DejaVuSans-48\"/>\n      </g>\n     </g>\n    </g>\n    <g id=\"xtick_220\">\n     <g id=\"text_220\">\n      <!-- 118 -->\n      <g transform=\"translate(479.953972 290.559063)scale(0.06 -0.06)\">\n       <use xlink:href=\"#DejaVuSans-49\"/>\n       <use x=\"63.623047\" xlink:href=\"#DejaVuSans-49\"/>\n       <use x=\"127.246094\" xlink:href=\"#DejaVuSans-56\"/>\n      </g>\n     </g>\n    </g>\n    <g id=\"xtick_221\">\n     <g id=\"text_221\">\n      <!-- 327 -->\n      <g transform=\"translate(482.072959 290.559063)scale(0.06 -0.06)\">\n       <use xlink:href=\"#DejaVuSans-51\"/>\n       <use x=\"63.623047\" xlink:href=\"#DejaVuSans-50\"/>\n       <use x=\"127.246094\" xlink:href=\"#DejaVuSans-55\"/>\n      </g>\n     </g>\n    </g>\n    <g id=\"xtick_222\">\n     <g id=\"text_222\">\n      <!-- 365 -->\n      <g transform=\"translate(484.191946 290.559063)scale(0.06 -0.06)\">\n       <use xlink:href=\"#DejaVuSans-51\"/>\n       <use x=\"63.623047\" xlink:href=\"#DejaVuSans-54\"/>\n       <use x=\"127.246094\" xlink:href=\"#DejaVuSans-53\"/>\n      </g>\n     </g>\n    </g>\n    <g id=\"xtick_223\">\n     <g id=\"text_223\">\n      <!-- 368 -->\n      <g transform=\"translate(486.310934 290.559063)scale(0.06 -0.06)\">\n       <use xlink:href=\"#DejaVuSans-51\"/>\n       <use x=\"63.623047\" xlink:href=\"#DejaVuSans-54\"/>\n       <use x=\"127.246094\" xlink:href=\"#DejaVuSans-56\"/>\n      </g>\n     </g>\n    </g>\n    <g id=\"xtick_224\">\n     <g id=\"text_224\">\n      <!-- 393 -->\n      <g transform=\"translate(488.429921 290.559063)scale(0.06 -0.06)\">\n       <use xlink:href=\"#DejaVuSans-51\"/>\n       <use x=\"63.623047\" xlink:href=\"#DejaVuSans-57\"/>\n       <use x=\"127.246094\" xlink:href=\"#DejaVuSans-51\"/>\n      </g>\n     </g>\n    </g>\n    <g id=\"xtick_225\">\n     <g id=\"text_225\">\n      <!-- 352 -->\n      <g transform=\"translate(490.548908 290.559063)scale(0.06 -0.06)\">\n       <use xlink:href=\"#DejaVuSans-51\"/>\n       <use x=\"63.623047\" xlink:href=\"#DejaVuSans-53\"/>\n       <use x=\"127.246094\" xlink:href=\"#DejaVuSans-50\"/>\n      </g>\n     </g>\n    </g>\n    <g id=\"xtick_226\">\n     <g id=\"text_226\">\n      <!-- 385 -->\n      <g transform=\"translate(492.667896 290.559063)scale(0.06 -0.06)\">\n       <use xlink:href=\"#DejaVuSans-51\"/>\n       <use x=\"63.623047\" xlink:href=\"#DejaVuSans-56\"/>\n       <use x=\"127.246094\" xlink:href=\"#DejaVuSans-53\"/>\n      </g>\n     </g>\n    </g>\n    <g id=\"xtick_227\">\n     <g id=\"text_227\">\n      <!-- 223 -->\n      <g transform=\"translate(494.786883 290.559063)scale(0.06 -0.06)\">\n       <use xlink:href=\"#DejaVuSans-50\"/>\n       <use x=\"63.623047\" xlink:href=\"#DejaVuSans-50\"/>\n       <use x=\"127.246094\" xlink:href=\"#DejaVuSans-51\"/>\n      </g>\n     </g>\n    </g>\n    <g id=\"xtick_228\">\n     <g id=\"text_228\">\n      <!-- 334 -->\n      <g transform=\"translate(496.90587 290.559063)scale(0.06 -0.06)\">\n       <use xlink:href=\"#DejaVuSans-51\"/>\n       <use x=\"63.623047\" xlink:href=\"#DejaVuSans-51\"/>\n       <use x=\"127.246094\" xlink:href=\"#DejaVuSans-52\"/>\n      </g>\n     </g>\n    </g>\n    <g id=\"xtick_229\">\n     <g id=\"text_229\">\n      <!-- 271 -->\n      <g transform=\"translate(499.024858 290.559063)scale(0.06 -0.06)\">\n       <use xlink:href=\"#DejaVuSans-50\"/>\n       <use x=\"63.623047\" xlink:href=\"#DejaVuSans-55\"/>\n       <use x=\"127.246094\" xlink:href=\"#DejaVuSans-49\"/>\n      </g>\n     </g>\n    </g>\n    <g id=\"xtick_230\">\n     <g id=\"text_230\">\n      <!-- 344 -->\n      <g transform=\"translate(501.143845 290.559063)scale(0.06 -0.06)\">\n       <use xlink:href=\"#DejaVuSans-51\"/>\n       <use x=\"63.623047\" xlink:href=\"#DejaVuSans-52\"/>\n       <use x=\"127.246094\" xlink:href=\"#DejaVuSans-52\"/>\n      </g>\n     </g>\n    </g>\n    <g id=\"xtick_231\">\n     <g id=\"text_231\">\n      <!-- 349 -->\n      <g transform=\"translate(503.262832 290.559063)scale(0.06 -0.06)\">\n       <use xlink:href=\"#DejaVuSans-51\"/>\n       <use x=\"63.623047\" xlink:href=\"#DejaVuSans-52\"/>\n       <use x=\"127.246094\" xlink:href=\"#DejaVuSans-57\"/>\n      </g>\n     </g>\n    </g>\n    <g id=\"xtick_232\">\n     <g id=\"text_232\">\n      <!-- 294 -->\n      <g transform=\"translate(505.38182 290.559063)scale(0.06 -0.06)\">\n       <use xlink:href=\"#DejaVuSans-50\"/>\n       <use x=\"63.623047\" xlink:href=\"#DejaVuSans-57\"/>\n       <use x=\"127.246094\" xlink:href=\"#DejaVuSans-52\"/>\n      </g>\n     </g>\n    </g>\n    <g id=\"xtick_233\">\n     <g id=\"text_233\">\n      <!-- 250 -->\n      <g transform=\"translate(507.500807 290.559063)scale(0.06 -0.06)\">\n       <use xlink:href=\"#DejaVuSans-50\"/>\n       <use x=\"63.623047\" xlink:href=\"#DejaVuSans-53\"/>\n       <use x=\"127.246094\" xlink:href=\"#DejaVuSans-48\"/>\n      </g>\n     </g>\n    </g>\n    <g id=\"xtick_234\">\n     <g id=\"text_234\">\n      <!-- 276 -->\n      <g transform=\"translate(509.619794 290.559063)scale(0.06 -0.06)\">\n       <use xlink:href=\"#DejaVuSans-50\"/>\n       <use x=\"63.623047\" xlink:href=\"#DejaVuSans-55\"/>\n       <use x=\"127.246094\" xlink:href=\"#DejaVuSans-54\"/>\n      </g>\n     </g>\n    </g>\n    <g id=\"xtick_235\">\n     <g id=\"text_235\">\n      <!-- 61 -->\n      <g transform=\"translate(513.647532 290.559063)scale(0.06 -0.06)\">\n       <use xlink:href=\"#DejaVuSans-54\"/>\n       <use x=\"63.623047\" xlink:href=\"#DejaVuSans-49\"/>\n      </g>\n     </g>\n    </g>\n    <g id=\"xtick_236\">\n     <g id=\"text_236\">\n      <!-- 131 -->\n      <g transform=\"translate(513.857769 290.559063)scale(0.06 -0.06)\">\n       <use xlink:href=\"#DejaVuSans-49\"/>\n       <use x=\"63.623047\" xlink:href=\"#DejaVuSans-51\"/>\n       <use x=\"127.246094\" xlink:href=\"#DejaVuSans-49\"/>\n      </g>\n     </g>\n    </g>\n    <g id=\"xtick_237\">\n     <g id=\"text_237\">\n      <!-- 11 -->\n      <g transform=\"translate(517.885506 290.559063)scale(0.06 -0.06)\">\n       <use xlink:href=\"#DejaVuSans-49\"/>\n       <use x=\"63.623047\" xlink:href=\"#DejaVuSans-49\"/>\n      </g>\n     </g>\n    </g>\n    <g id=\"xtick_238\">\n     <g id=\"text_238\">\n      <!-- 149 -->\n      <g transform=\"translate(518.095744 290.559063)scale(0.06 -0.06)\">\n       <use xlink:href=\"#DejaVuSans-49\"/>\n       <use x=\"63.623047\" xlink:href=\"#DejaVuSans-52\"/>\n       <use x=\"127.246094\" xlink:href=\"#DejaVuSans-57\"/>\n      </g>\n     </g>\n    </g>\n    <g id=\"xtick_239\">\n     <g id=\"text_239\">\n      <!-- 171 -->\n      <g transform=\"translate(520.214731 290.559063)scale(0.06 -0.06)\">\n       <use xlink:href=\"#DejaVuSans-49\"/>\n       <use x=\"63.623047\" xlink:href=\"#DejaVuSans-55\"/>\n       <use x=\"127.246094\" xlink:href=\"#DejaVuSans-49\"/>\n      </g>\n     </g>\n    </g>\n    <g id=\"xtick_240\">\n     <g id=\"text_240\">\n      <!-- 255 -->\n      <g transform=\"translate(522.333718 290.559063)scale(0.06 -0.06)\">\n       <use xlink:href=\"#DejaVuSans-50\"/>\n       <use x=\"63.623047\" xlink:href=\"#DejaVuSans-53\"/>\n       <use x=\"127.246094\" xlink:href=\"#DejaVuSans-53\"/>\n      </g>\n     </g>\n    </g>\n    <g id=\"xtick_241\">\n     <g id=\"text_241\">\n      <!-- 1 -->\n      <g transform=\"translate(528.270206 290.559063)scale(0.06 -0.06)\">\n       <use xlink:href=\"#DejaVuSans-49\"/>\n      </g>\n     </g>\n    </g>\n    <g id=\"xtick_242\">\n     <g id=\"text_242\">\n      <!-- 285 -->\n      <g transform=\"translate(526.571693 290.559063)scale(0.06 -0.06)\">\n       <use xlink:href=\"#DejaVuSans-50\"/>\n       <use x=\"63.623047\" xlink:href=\"#DejaVuSans-56\"/>\n       <use x=\"127.246094\" xlink:href=\"#DejaVuSans-53\"/>\n      </g>\n     </g>\n    </g>\n    <g id=\"xtick_243\">\n     <g id=\"text_243\">\n      <!-- 287 -->\n      <g transform=\"translate(528.69068 290.559063)scale(0.06 -0.06)\">\n       <use xlink:href=\"#DejaVuSans-50\"/>\n       <use x=\"63.623047\" xlink:href=\"#DejaVuSans-56\"/>\n       <use x=\"127.246094\" xlink:href=\"#DejaVuSans-55\"/>\n      </g>\n     </g>\n    </g>\n    <g id=\"xtick_244\">\n     <g id=\"text_244\">\n      <!-- 221 -->\n      <g transform=\"translate(530.809668 290.559063)scale(0.06 -0.06)\">\n       <use xlink:href=\"#DejaVuSans-50\"/>\n       <use x=\"63.623047\" xlink:href=\"#DejaVuSans-50\"/>\n       <use x=\"127.246094\" xlink:href=\"#DejaVuSans-49\"/>\n      </g>\n     </g>\n    </g>\n    <g id=\"xtick_245\">\n     <g id=\"text_245\">\n      <!-- 191 -->\n      <g transform=\"translate(532.928655 290.559063)scale(0.06 -0.06)\">\n       <use xlink:href=\"#DejaVuSans-49\"/>\n       <use x=\"63.623047\" xlink:href=\"#DejaVuSans-57\"/>\n       <use x=\"127.246094\" xlink:href=\"#DejaVuSans-49\"/>\n      </g>\n     </g>\n    </g>\n    <g id=\"xtick_246\">\n     <g id=\"text_246\">\n      <!-- 202 -->\n      <g transform=\"translate(535.047642 290.559063)scale(0.06 -0.06)\">\n       <use xlink:href=\"#DejaVuSans-50\"/>\n       <use x=\"63.623047\" xlink:href=\"#DejaVuSans-48\"/>\n       <use x=\"127.246094\" xlink:href=\"#DejaVuSans-50\"/>\n      </g>\n     </g>\n    </g>\n    <g id=\"xtick_247\">\n     <g id=\"text_247\">\n      <!-- 364 -->\n      <g transform=\"translate(537.16663 290.559063)scale(0.06 -0.06)\">\n       <use xlink:href=\"#DejaVuSans-51\"/>\n       <use x=\"63.623047\" xlink:href=\"#DejaVuSans-54\"/>\n       <use x=\"127.246094\" xlink:href=\"#DejaVuSans-52\"/>\n      </g>\n     </g>\n    </g>\n    <g id=\"xtick_248\">\n     <g id=\"text_248\">\n      <!-- 192 -->\n      <g transform=\"translate(539.285617 290.559063)scale(0.06 -0.06)\">\n       <use xlink:href=\"#DejaVuSans-49\"/>\n       <use x=\"63.623047\" xlink:href=\"#DejaVuSans-57\"/>\n       <use x=\"127.246094\" xlink:href=\"#DejaVuSans-50\"/>\n      </g>\n     </g>\n    </g>\n    <g id=\"xtick_249\">\n     <g id=\"text_249\">\n      <!-- 238 -->\n      <g transform=\"translate(541.404604 290.559063)scale(0.06 -0.06)\">\n       <use xlink:href=\"#DejaVuSans-50\"/>\n       <use x=\"63.623047\" xlink:href=\"#DejaVuSans-51\"/>\n       <use x=\"127.246094\" xlink:href=\"#DejaVuSans-56\"/>\n      </g>\n     </g>\n    </g>\n    <g id=\"xtick_250\">\n     <g id=\"text_250\">\n      <!-- 62 -->\n      <g transform=\"translate(545.432342 290.559063)scale(0.06 -0.06)\">\n       <use xlink:href=\"#DejaVuSans-54\"/>\n       <use x=\"63.623047\" xlink:href=\"#DejaVuSans-50\"/>\n      </g>\n     </g>\n    </g>\n    <g id=\"xtick_251\">\n     <g id=\"text_251\">\n      <!-- 186 -->\n      <g transform=\"translate(545.642579 290.559063)scale(0.06 -0.06)\">\n       <use xlink:href=\"#DejaVuSans-49\"/>\n       <use x=\"63.623047\" xlink:href=\"#DejaVuSans-56\"/>\n       <use x=\"127.246094\" xlink:href=\"#DejaVuSans-54\"/>\n      </g>\n     </g>\n    </g>\n    <g id=\"xtick_252\">\n     <g id=\"text_252\">\n      <!-- 253 -->\n      <g transform=\"translate(547.761566 290.559063)scale(0.06 -0.06)\">\n       <use xlink:href=\"#DejaVuSans-50\"/>\n       <use x=\"63.623047\" xlink:href=\"#DejaVuSans-53\"/>\n       <use x=\"127.246094\" xlink:href=\"#DejaVuSans-51\"/>\n      </g>\n     </g>\n    </g>\n    <g id=\"xtick_253\">\n     <g id=\"text_253\">\n      <!-- 162 -->\n      <g transform=\"translate(549.880554 290.559063)scale(0.06 -0.06)\">\n       <use xlink:href=\"#DejaVuSans-49\"/>\n       <use x=\"63.623047\" xlink:href=\"#DejaVuSans-54\"/>\n       <use x=\"127.246094\" xlink:href=\"#DejaVuSans-50\"/>\n      </g>\n     </g>\n    </g>\n    <g id=\"xtick_254\">\n     <g id=\"text_254\">\n      <!-- 245 -->\n      <g transform=\"translate(551.999541 290.559063)scale(0.06 -0.06)\">\n       <use xlink:href=\"#DejaVuSans-50\"/>\n       <use x=\"63.623047\" xlink:href=\"#DejaVuSans-52\"/>\n       <use x=\"127.246094\" xlink:href=\"#DejaVuSans-53\"/>\n      </g>\n     </g>\n    </g>\n    <g id=\"xtick_255\">\n     <g id=\"text_255\">\n      <!-- 249 -->\n      <g transform=\"translate(554.118528 290.559063)scale(0.06 -0.06)\">\n       <use xlink:href=\"#DejaVuSans-50\"/>\n       <use x=\"63.623047\" xlink:href=\"#DejaVuSans-52\"/>\n       <use x=\"127.246094\" xlink:href=\"#DejaVuSans-57\"/>\n      </g>\n     </g>\n    </g>\n    <g id=\"xtick_256\">\n     <g id=\"text_256\">\n      <!-- 208 -->\n      <g transform=\"translate(556.237516 290.559063)scale(0.06 -0.06)\">\n       <use xlink:href=\"#DejaVuSans-50\"/>\n       <use x=\"63.623047\" xlink:href=\"#DejaVuSans-48\"/>\n       <use x=\"127.246094\" xlink:href=\"#DejaVuSans-56\"/>\n      </g>\n     </g>\n    </g>\n    <g id=\"xtick_257\">\n     <g id=\"text_257\">\n      <!-- 234 -->\n      <g transform=\"translate(558.356503 290.559063)scale(0.06 -0.06)\">\n       <use xlink:href=\"#DejaVuSans-50\"/>\n       <use x=\"63.623047\" xlink:href=\"#DejaVuSans-51\"/>\n       <use x=\"127.246094\" xlink:href=\"#DejaVuSans-52\"/>\n      </g>\n     </g>\n    </g>\n    <g id=\"xtick_258\">\n     <g id=\"text_258\">\n      <!-- 150 -->\n      <g transform=\"translate(560.475491 290.559063)scale(0.06 -0.06)\">\n       <use xlink:href=\"#DejaVuSans-49\"/>\n       <use x=\"63.623047\" xlink:href=\"#DejaVuSans-53\"/>\n       <use x=\"127.246094\" xlink:href=\"#DejaVuSans-48\"/>\n      </g>\n     </g>\n    </g>\n    <g id=\"xtick_259\">\n     <g id=\"text_259\">\n      <!-- 244 -->\n      <g transform=\"translate(562.594478 290.559063)scale(0.06 -0.06)\">\n       <use xlink:href=\"#DejaVuSans-50\"/>\n       <use x=\"63.623047\" xlink:href=\"#DejaVuSans-52\"/>\n       <use x=\"127.246094\" xlink:href=\"#DejaVuSans-52\"/>\n      </g>\n     </g>\n    </g>\n    <g id=\"xtick_260\">\n     <g id=\"text_260\">\n      <!-- 381 -->\n      <g transform=\"translate(564.713465 290.559063)scale(0.06 -0.06)\">\n       <use xlink:href=\"#DejaVuSans-51\"/>\n       <use x=\"63.623047\" xlink:href=\"#DejaVuSans-56\"/>\n       <use x=\"127.246094\" xlink:href=\"#DejaVuSans-49\"/>\n      </g>\n     </g>\n    </g>\n    <g id=\"xtick_261\">\n     <g id=\"text_261\">\n      <!-- 269 -->\n      <g transform=\"translate(566.832453 290.559063)scale(0.06 -0.06)\">\n       <use xlink:href=\"#DejaVuSans-50\"/>\n       <use x=\"63.623047\" xlink:href=\"#DejaVuSans-54\"/>\n       <use x=\"127.246094\" xlink:href=\"#DejaVuSans-57\"/>\n      </g>\n     </g>\n    </g>\n    <g id=\"xtick_262\">\n     <g id=\"text_262\">\n      <!-- 316 -->\n      <g transform=\"translate(568.95144 290.559063)scale(0.06 -0.06)\">\n       <use xlink:href=\"#DejaVuSans-51\"/>\n       <use x=\"63.623047\" xlink:href=\"#DejaVuSans-49\"/>\n       <use x=\"127.246094\" xlink:href=\"#DejaVuSans-54\"/>\n      </g>\n     </g>\n    </g>\n    <g id=\"xtick_263\">\n     <g id=\"text_263\">\n      <!-- 333 -->\n      <g transform=\"translate(571.070427 290.559063)scale(0.06 -0.06)\">\n       <use xlink:href=\"#DejaVuSans-51\"/>\n       <use x=\"63.623047\" xlink:href=\"#DejaVuSans-51\"/>\n       <use x=\"127.246094\" xlink:href=\"#DejaVuSans-51\"/>\n      </g>\n     </g>\n    </g>\n    <g id=\"xtick_264\">\n     <g id=\"text_264\">\n      <!-- 239 -->\n      <g transform=\"translate(573.189415 290.559063)scale(0.06 -0.06)\">\n       <use xlink:href=\"#DejaVuSans-50\"/>\n       <use x=\"63.623047\" xlink:href=\"#DejaVuSans-51\"/>\n       <use x=\"127.246094\" xlink:href=\"#DejaVuSans-57\"/>\n      </g>\n     </g>\n    </g>\n    <g id=\"xtick_265\">\n     <g id=\"text_265\">\n      <!-- 330 -->\n      <g transform=\"translate(575.308402 290.559063)scale(0.06 -0.06)\">\n       <use xlink:href=\"#DejaVuSans-51\"/>\n       <use x=\"63.623047\" xlink:href=\"#DejaVuSans-51\"/>\n       <use x=\"127.246094\" xlink:href=\"#DejaVuSans-48\"/>\n      </g>\n     </g>\n    </g>\n    <g id=\"xtick_266\">\n     <g id=\"text_266\">\n      <!-- 286 -->\n      <g transform=\"translate(577.427389 290.559063)scale(0.06 -0.06)\">\n       <use xlink:href=\"#DejaVuSans-50\"/>\n       <use x=\"63.623047\" xlink:href=\"#DejaVuSans-56\"/>\n       <use x=\"127.246094\" xlink:href=\"#DejaVuSans-54\"/>\n      </g>\n     </g>\n    </g>\n    <g id=\"xtick_267\">\n     <g id=\"text_267\">\n      <!-- 264 -->\n      <g transform=\"translate(579.546377 290.559063)scale(0.06 -0.06)\">\n       <use xlink:href=\"#DejaVuSans-50\"/>\n       <use x=\"63.623047\" xlink:href=\"#DejaVuSans-54\"/>\n       <use x=\"127.246094\" xlink:href=\"#DejaVuSans-52\"/>\n      </g>\n     </g>\n    </g>\n    <g id=\"xtick_268\">\n     <g id=\"text_268\">\n      <!-- 128 -->\n      <g transform=\"translate(581.665364 290.559063)scale(0.06 -0.06)\">\n       <use xlink:href=\"#DejaVuSans-49\"/>\n       <use x=\"63.623047\" xlink:href=\"#DejaVuSans-50\"/>\n       <use x=\"127.246094\" xlink:href=\"#DejaVuSans-56\"/>\n      </g>\n     </g>\n    </g>\n    <g id=\"xtick_269\">\n     <g id=\"text_269\">\n      <!-- 213 -->\n      <g transform=\"translate(583.784351 290.559063)scale(0.06 -0.06)\">\n       <use xlink:href=\"#DejaVuSans-50\"/>\n       <use x=\"63.623047\" xlink:href=\"#DejaVuSans-49\"/>\n       <use x=\"127.246094\" xlink:href=\"#DejaVuSans-51\"/>\n      </g>\n     </g>\n    </g>\n    <g id=\"xtick_270\">\n     <g id=\"text_270\">\n      <!-- 225 -->\n      <g transform=\"translate(585.903339 290.559063)scale(0.06 -0.06)\">\n       <use xlink:href=\"#DejaVuSans-50\"/>\n       <use x=\"63.623047\" xlink:href=\"#DejaVuSans-50\"/>\n       <use x=\"127.246094\" xlink:href=\"#DejaVuSans-53\"/>\n      </g>\n     </g>\n    </g>\n    <g id=\"xtick_271\">\n     <g id=\"text_271\">\n      <!-- 388 -->\n      <g transform=\"translate(588.022326 290.559063)scale(0.06 -0.06)\">\n       <use xlink:href=\"#DejaVuSans-51\"/>\n       <use x=\"63.623047\" xlink:href=\"#DejaVuSans-56\"/>\n       <use x=\"127.246094\" xlink:href=\"#DejaVuSans-56\"/>\n      </g>\n     </g>\n    </g>\n    <g id=\"xtick_272\">\n     <g id=\"text_272\">\n      <!-- 292 -->\n      <g transform=\"translate(590.141313 290.559063)scale(0.06 -0.06)\">\n       <use xlink:href=\"#DejaVuSans-50\"/>\n       <use x=\"63.623047\" xlink:href=\"#DejaVuSans-57\"/>\n       <use x=\"127.246094\" xlink:href=\"#DejaVuSans-50\"/>\n      </g>\n     </g>\n    </g>\n    <g id=\"xtick_273\">\n     <g id=\"text_273\">\n      <!-- 288 -->\n      <g transform=\"translate(592.260301 290.559063)scale(0.06 -0.06)\">\n       <use xlink:href=\"#DejaVuSans-50\"/>\n       <use x=\"63.623047\" xlink:href=\"#DejaVuSans-56\"/>\n       <use x=\"127.246094\" xlink:href=\"#DejaVuSans-56\"/>\n      </g>\n     </g>\n    </g>\n    <g id=\"xtick_274\">\n     <g id=\"text_274\">\n      <!-- 252 -->\n      <g transform=\"translate(594.379288 290.559063)scale(0.06 -0.06)\">\n       <use xlink:href=\"#DejaVuSans-50\"/>\n       <use x=\"63.623047\" xlink:href=\"#DejaVuSans-53\"/>\n       <use x=\"127.246094\" xlink:href=\"#DejaVuSans-50\"/>\n      </g>\n     </g>\n    </g>\n    <g id=\"xtick_275\">\n     <g id=\"text_275\">\n      <!-- 258 -->\n      <g transform=\"translate(596.498275 290.559063)scale(0.06 -0.06)\">\n       <use xlink:href=\"#DejaVuSans-50\"/>\n       <use x=\"63.623047\" xlink:href=\"#DejaVuSans-53\"/>\n       <use x=\"127.246094\" xlink:href=\"#DejaVuSans-56\"/>\n      </g>\n     </g>\n    </g>\n    <g id=\"xtick_276\">\n     <g id=\"text_276\">\n      <!-- 373 -->\n      <g transform=\"translate(598.617263 290.559063)scale(0.06 -0.06)\">\n       <use xlink:href=\"#DejaVuSans-51\"/>\n       <use x=\"63.623047\" xlink:href=\"#DejaVuSans-55\"/>\n       <use x=\"127.246094\" xlink:href=\"#DejaVuSans-51\"/>\n      </g>\n     </g>\n    </g>\n    <g id=\"xtick_277\">\n     <g id=\"text_277\">\n      <!-- 273 -->\n      <g transform=\"translate(600.73625 290.559063)scale(0.06 -0.06)\">\n       <use xlink:href=\"#DejaVuSans-50\"/>\n       <use x=\"63.623047\" xlink:href=\"#DejaVuSans-55\"/>\n       <use x=\"127.246094\" xlink:href=\"#DejaVuSans-51\"/>\n      </g>\n     </g>\n    </g>\n    <g id=\"xtick_278\">\n     <g id=\"text_278\">\n      <!-- 156 -->\n      <g transform=\"translate(602.855237 290.559063)scale(0.06 -0.06)\">\n       <use xlink:href=\"#DejaVuSans-49\"/>\n       <use x=\"63.623047\" xlink:href=\"#DejaVuSans-53\"/>\n       <use x=\"127.246094\" xlink:href=\"#DejaVuSans-54\"/>\n      </g>\n     </g>\n    </g>\n    <g id=\"xtick_279\">\n     <g id=\"text_279\">\n      <!-- 189 -->\n      <g transform=\"translate(604.974225 290.559063)scale(0.06 -0.06)\">\n       <use xlink:href=\"#DejaVuSans-49\"/>\n       <use x=\"63.623047\" xlink:href=\"#DejaVuSans-56\"/>\n       <use x=\"127.246094\" xlink:href=\"#DejaVuSans-57\"/>\n      </g>\n     </g>\n    </g>\n    <g id=\"xtick_280\">\n     <g id=\"text_280\">\n      <!-- 229 -->\n      <g transform=\"translate(607.093212 290.559063)scale(0.06 -0.06)\">\n       <use xlink:href=\"#DejaVuSans-50\"/>\n       <use x=\"63.623047\" xlink:href=\"#DejaVuSans-50\"/>\n       <use x=\"127.246094\" xlink:href=\"#DejaVuSans-57\"/>\n      </g>\n     </g>\n    </g>\n    <g id=\"xtick_281\">\n     <g id=\"text_281\">\n      <!-- 220 -->\n      <g transform=\"translate(609.212199 290.559063)scale(0.06 -0.06)\">\n       <use xlink:href=\"#DejaVuSans-50\"/>\n       <use x=\"63.623047\" xlink:href=\"#DejaVuSans-50\"/>\n       <use x=\"127.246094\" xlink:href=\"#DejaVuSans-48\"/>\n      </g>\n     </g>\n    </g>\n    <g id=\"xtick_282\">\n     <g id=\"text_282\">\n      <!-- 78 -->\n      <g transform=\"translate(613.239937 290.559063)scale(0.06 -0.06)\">\n       <use xlink:href=\"#DejaVuSans-55\"/>\n       <use x=\"63.623047\" xlink:href=\"#DejaVuSans-56\"/>\n      </g>\n     </g>\n    </g>\n    <g id=\"xtick_283\">\n     <g id=\"text_283\">\n      <!-- 160 -->\n      <g transform=\"translate(613.450174 290.559063)scale(0.06 -0.06)\">\n       <use xlink:href=\"#DejaVuSans-49\"/>\n       <use x=\"63.623047\" xlink:href=\"#DejaVuSans-54\"/>\n       <use x=\"127.246094\" xlink:href=\"#DejaVuSans-48\"/>\n      </g>\n     </g>\n    </g>\n    <g id=\"xtick_284\">\n     <g id=\"text_284\">\n      <!-- 343 -->\n      <g transform=\"translate(615.569161 290.559063)scale(0.06 -0.06)\">\n       <use xlink:href=\"#DejaVuSans-51\"/>\n       <use x=\"63.623047\" xlink:href=\"#DejaVuSans-52\"/>\n       <use x=\"127.246094\" xlink:href=\"#DejaVuSans-51\"/>\n      </g>\n     </g>\n    </g>\n    <g id=\"xtick_285\">\n     <g id=\"text_285\">\n      <!-- 259 -->\n      <g transform=\"translate(617.688149 290.559063)scale(0.06 -0.06)\">\n       <use xlink:href=\"#DejaVuSans-50\"/>\n       <use x=\"63.623047\" xlink:href=\"#DejaVuSans-53\"/>\n       <use x=\"127.246094\" xlink:href=\"#DejaVuSans-57\"/>\n      </g>\n     </g>\n    </g>\n    <g id=\"xtick_286\">\n     <g id=\"text_286\">\n      <!-- 132 -->\n      <g transform=\"translate(619.807136 290.559063)scale(0.06 -0.06)\">\n       <use xlink:href=\"#DejaVuSans-49\"/>\n       <use x=\"63.623047\" xlink:href=\"#DejaVuSans-51\"/>\n       <use x=\"127.246094\" xlink:href=\"#DejaVuSans-50\"/>\n      </g>\n     </g>\n    </g>\n    <g id=\"xtick_287\">\n     <g id=\"text_287\">\n      <!-- 236 -->\n      <g transform=\"translate(621.926123 290.559063)scale(0.06 -0.06)\">\n       <use xlink:href=\"#DejaVuSans-50\"/>\n       <use x=\"63.623047\" xlink:href=\"#DejaVuSans-51\"/>\n       <use x=\"127.246094\" xlink:href=\"#DejaVuSans-54\"/>\n      </g>\n     </g>\n    </g>\n    <g id=\"xtick_288\">\n     <g id=\"text_288\">\n      <!-- 372 -->\n      <g transform=\"translate(624.045111 290.559063)scale(0.06 -0.06)\">\n       <use xlink:href=\"#DejaVuSans-51\"/>\n       <use x=\"63.623047\" xlink:href=\"#DejaVuSans-55\"/>\n       <use x=\"127.246094\" xlink:href=\"#DejaVuSans-50\"/>\n      </g>\n     </g>\n    </g>\n    <g id=\"xtick_289\">\n     <g id=\"text_289\">\n      <!-- 322 -->\n      <g transform=\"translate(626.164098 290.559063)scale(0.06 -0.06)\">\n       <use xlink:href=\"#DejaVuSans-51\"/>\n       <use x=\"63.623047\" xlink:href=\"#DejaVuSans-50\"/>\n       <use x=\"127.246094\" xlink:href=\"#DejaVuSans-50\"/>\n      </g>\n     </g>\n    </g>\n    <g id=\"xtick_290\">\n     <g id=\"text_290\">\n      <!-- 321 -->\n      <g transform=\"translate(628.283085 290.559063)scale(0.06 -0.06)\">\n       <use xlink:href=\"#DejaVuSans-51\"/>\n       <use x=\"63.623047\" xlink:href=\"#DejaVuSans-50\"/>\n       <use x=\"127.246094\" xlink:href=\"#DejaVuSans-49\"/>\n      </g>\n     </g>\n    </g>\n    <g id=\"xtick_291\">\n     <g id=\"text_291\">\n      <!-- 284 -->\n      <g transform=\"translate(630.402073 290.559063)scale(0.06 -0.06)\">\n       <use xlink:href=\"#DejaVuSans-50\"/>\n       <use x=\"63.623047\" xlink:href=\"#DejaVuSans-56\"/>\n       <use x=\"127.246094\" xlink:href=\"#DejaVuSans-52\"/>\n      </g>\n     </g>\n    </g>\n    <g id=\"xtick_292\">\n     <g id=\"text_292\">\n      <!-- 203 -->\n      <g transform=\"translate(632.52106 290.559063)scale(0.06 -0.06)\">\n       <use xlink:href=\"#DejaVuSans-50\"/>\n       <use x=\"63.623047\" xlink:href=\"#DejaVuSans-48\"/>\n       <use x=\"127.246094\" xlink:href=\"#DejaVuSans-51\"/>\n      </g>\n     </g>\n    </g>\n    <g id=\"xtick_293\">\n     <g id=\"text_293\">\n      <!-- 219 -->\n      <g transform=\"translate(634.640047 290.559063)scale(0.06 -0.06)\">\n       <use xlink:href=\"#DejaVuSans-50\"/>\n       <use x=\"63.623047\" xlink:href=\"#DejaVuSans-49\"/>\n       <use x=\"127.246094\" xlink:href=\"#DejaVuSans-57\"/>\n      </g>\n     </g>\n    </g>\n    <g id=\"xtick_294\">\n     <g id=\"text_294\">\n      <!-- 293 -->\n      <g transform=\"translate(636.759035 290.559063)scale(0.06 -0.06)\">\n       <use xlink:href=\"#DejaVuSans-50\"/>\n       <use x=\"63.623047\" xlink:href=\"#DejaVuSans-57\"/>\n       <use x=\"127.246094\" xlink:href=\"#DejaVuSans-51\"/>\n      </g>\n     </g>\n    </g>\n    <g id=\"xtick_295\">\n     <g id=\"text_295\">\n      <!-- 391 -->\n      <g transform=\"translate(638.878022 290.559063)scale(0.06 -0.06)\">\n       <use xlink:href=\"#DejaVuSans-51\"/>\n       <use x=\"63.623047\" xlink:href=\"#DejaVuSans-57\"/>\n       <use x=\"127.246094\" xlink:href=\"#DejaVuSans-49\"/>\n      </g>\n     </g>\n    </g>\n    <g id=\"xtick_296\">\n     <g id=\"text_296\">\n      <!-- 92 -->\n      <g transform=\"translate(642.905759 290.559063)scale(0.06 -0.06)\">\n       <use xlink:href=\"#DejaVuSans-57\"/>\n       <use x=\"63.623047\" xlink:href=\"#DejaVuSans-50\"/>\n      </g>\n     </g>\n    </g>\n    <g id=\"xtick_297\">\n     <g id=\"text_297\">\n      <!-- 206 -->\n      <g transform=\"translate(643.115997 290.559063)scale(0.06 -0.06)\">\n       <use xlink:href=\"#DejaVuSans-50\"/>\n       <use x=\"63.623047\" xlink:href=\"#DejaVuSans-48\"/>\n       <use x=\"127.246094\" xlink:href=\"#DejaVuSans-54\"/>\n      </g>\n     </g>\n    </g>\n    <g id=\"xtick_298\">\n     <g id=\"text_298\">\n      <!-- 67 -->\n      <g transform=\"translate(647.143734 290.559063)scale(0.06 -0.06)\">\n       <use xlink:href=\"#DejaVuSans-54\"/>\n       <use x=\"63.623047\" xlink:href=\"#DejaVuSans-55\"/>\n      </g>\n     </g>\n    </g>\n    <g id=\"xtick_299\">\n     <g id=\"text_299\">\n      <!-- 73 -->\n      <g transform=\"translate(649.262722 290.559063)scale(0.06 -0.06)\">\n       <use xlink:href=\"#DejaVuSans-55\"/>\n       <use x=\"63.623047\" xlink:href=\"#DejaVuSans-51\"/>\n      </g>\n     </g>\n    </g>\n    <g id=\"xtick_300\">\n     <g id=\"text_300\">\n      <!-- 144 -->\n      <g transform=\"translate(649.472959 290.559063)scale(0.06 -0.06)\">\n       <use xlink:href=\"#DejaVuSans-49\"/>\n       <use x=\"63.623047\" xlink:href=\"#DejaVuSans-52\"/>\n       <use x=\"127.246094\" xlink:href=\"#DejaVuSans-52\"/>\n      </g>\n     </g>\n    </g>\n    <g id=\"xtick_301\">\n     <g id=\"text_301\">\n      <!-- 254 -->\n      <g transform=\"translate(651.591946 290.559063)scale(0.06 -0.06)\">\n       <use xlink:href=\"#DejaVuSans-50\"/>\n       <use x=\"63.623047\" xlink:href=\"#DejaVuSans-53\"/>\n       <use x=\"127.246094\" xlink:href=\"#DejaVuSans-52\"/>\n      </g>\n     </g>\n    </g>\n    <g id=\"xtick_302\">\n     <g id=\"text_302\">\n      <!-- 323 -->\n      <g transform=\"translate(653.710934 290.559063)scale(0.06 -0.06)\">\n       <use xlink:href=\"#DejaVuSans-51\"/>\n       <use x=\"63.623047\" xlink:href=\"#DejaVuSans-50\"/>\n       <use x=\"127.246094\" xlink:href=\"#DejaVuSans-51\"/>\n      </g>\n     </g>\n    </g>\n    <g id=\"xtick_303\">\n     <g id=\"text_303\">\n      <!-- 266 -->\n      <g transform=\"translate(655.829921 290.559063)scale(0.06 -0.06)\">\n       <use xlink:href=\"#DejaVuSans-50\"/>\n       <use x=\"63.623047\" xlink:href=\"#DejaVuSans-54\"/>\n       <use x=\"127.246094\" xlink:href=\"#DejaVuSans-54\"/>\n      </g>\n     </g>\n    </g>\n    <g id=\"xtick_304\">\n     <g id=\"text_304\">\n      <!-- 379 -->\n      <g transform=\"translate(657.948908 290.559063)scale(0.06 -0.06)\">\n       <use xlink:href=\"#DejaVuSans-51\"/>\n       <use x=\"63.623047\" xlink:href=\"#DejaVuSans-55\"/>\n       <use x=\"127.246094\" xlink:href=\"#DejaVuSans-57\"/>\n      </g>\n     </g>\n    </g>\n    <g id=\"xtick_305\">\n     <g id=\"text_305\">\n      <!-- 68 -->\n      <g transform=\"translate(661.976646 290.559063)scale(0.06 -0.06)\">\n       <use xlink:href=\"#DejaVuSans-54\"/>\n       <use x=\"63.623047\" xlink:href=\"#DejaVuSans-56\"/>\n      </g>\n     </g>\n    </g>\n    <g id=\"xtick_306\">\n     <g id=\"text_306\">\n      <!-- 83 -->\n      <g transform=\"translate(664.095633 290.559063)scale(0.06 -0.06)\">\n       <use xlink:href=\"#DejaVuSans-56\"/>\n       <use x=\"63.623047\" xlink:href=\"#DejaVuSans-51\"/>\n      </g>\n     </g>\n    </g>\n    <g id=\"xtick_307\">\n     <g id=\"text_307\">\n      <!-- 58 -->\n      <g transform=\"translate(666.21462 290.559063)scale(0.06 -0.06)\">\n       <use xlink:href=\"#DejaVuSans-53\"/>\n       <use x=\"63.623047\" xlink:href=\"#DejaVuSans-56\"/>\n      </g>\n     </g>\n    </g>\n    <g id=\"xtick_308\">\n     <g id=\"text_308\">\n      <!-- 120 -->\n      <g transform=\"translate(666.424858 290.559063)scale(0.06 -0.06)\">\n       <use xlink:href=\"#DejaVuSans-49\"/>\n       <use x=\"63.623047\" xlink:href=\"#DejaVuSans-50\"/>\n       <use x=\"127.246094\" xlink:href=\"#DejaVuSans-48\"/>\n      </g>\n     </g>\n    </g>\n    <g id=\"xtick_309\">\n     <g id=\"text_309\">\n      <!-- 147 -->\n      <g transform=\"translate(668.543845 290.559063)scale(0.06 -0.06)\">\n       <use xlink:href=\"#DejaVuSans-49\"/>\n       <use x=\"63.623047\" xlink:href=\"#DejaVuSans-52\"/>\n       <use x=\"127.246094\" xlink:href=\"#DejaVuSans-55\"/>\n      </g>\n     </g>\n    </g>\n    <g id=\"xtick_310\">\n     <g id=\"text_310\">\n      <!-- 69 -->\n      <g transform=\"translate(672.571582 290.559063)scale(0.06 -0.06)\">\n       <use xlink:href=\"#DejaVuSans-54\"/>\n       <use x=\"63.623047\" xlink:href=\"#DejaVuSans-57\"/>\n      </g>\n     </g>\n    </g>\n    <g id=\"xtick_311\">\n     <g id=\"text_311\">\n      <!-- 43 -->\n      <g transform=\"translate(674.69057 290.559063)scale(0.06 -0.06)\">\n       <use xlink:href=\"#DejaVuSans-52\"/>\n       <use x=\"63.623047\" xlink:href=\"#DejaVuSans-51\"/>\n      </g>\n     </g>\n    </g>\n    <g id=\"xtick_312\">\n     <g id=\"text_312\">\n      <!-- 121 -->\n      <g transform=\"translate(674.900807 290.559063)scale(0.06 -0.06)\">\n       <use xlink:href=\"#DejaVuSans-49\"/>\n       <use x=\"63.623047\" xlink:href=\"#DejaVuSans-50\"/>\n       <use x=\"127.246094\" xlink:href=\"#DejaVuSans-49\"/>\n      </g>\n     </g>\n    </g>\n    <g id=\"xtick_313\">\n     <g id=\"text_313\">\n      <!-- 14 -->\n      <g transform=\"translate(678.928544 290.559063)scale(0.06 -0.06)\">\n       <use xlink:href=\"#DejaVuSans-49\"/>\n       <use x=\"63.623047\" xlink:href=\"#DejaVuSans-52\"/>\n      </g>\n     </g>\n    </g>\n    <g id=\"xtick_314\">\n     <g id=\"text_314\">\n      <!-- 106 -->\n      <g transform=\"translate(679.138782 290.559063)scale(0.06 -0.06)\">\n       <use xlink:href=\"#DejaVuSans-49\"/>\n       <use x=\"63.623047\" xlink:href=\"#DejaVuSans-48\"/>\n       <use x=\"127.246094\" xlink:href=\"#DejaVuSans-54\"/>\n      </g>\n     </g>\n    </g>\n    <g id=\"xtick_315\">\n     <g id=\"text_315\">\n      <!-- 94 -->\n      <g transform=\"translate(683.166519 290.559063)scale(0.06 -0.06)\">\n       <use xlink:href=\"#DejaVuSans-57\"/>\n       <use x=\"63.623047\" xlink:href=\"#DejaVuSans-52\"/>\n      </g>\n     </g>\n    </g>\n    <g id=\"xtick_316\">\n     <g id=\"text_316\">\n      <!-- 26 -->\n      <g transform=\"translate(685.285506 290.559063)scale(0.06 -0.06)\">\n       <use xlink:href=\"#DejaVuSans-50\"/>\n       <use x=\"63.623047\" xlink:href=\"#DejaVuSans-54\"/>\n      </g>\n     </g>\n    </g>\n    <g id=\"xtick_317\">\n     <g id=\"text_317\">\n      <!-- 39 -->\n      <g transform=\"translate(687.404494 290.559063)scale(0.06 -0.06)\">\n       <use xlink:href=\"#DejaVuSans-51\"/>\n       <use x=\"63.623047\" xlink:href=\"#DejaVuSans-57\"/>\n      </g>\n     </g>\n    </g>\n    <g id=\"xtick_318\">\n     <g id=\"text_318\">\n      <!-- 76 -->\n      <g transform=\"translate(689.523481 290.559063)scale(0.06 -0.06)\">\n       <use xlink:href=\"#DejaVuSans-55\"/>\n       <use x=\"63.623047\" xlink:href=\"#DejaVuSans-54\"/>\n      </g>\n     </g>\n    </g>\n    <g id=\"xtick_319\">\n     <g id=\"text_319\">\n      <!-- 114 -->\n      <g transform=\"translate(689.733718 290.559063)scale(0.06 -0.06)\">\n       <use xlink:href=\"#DejaVuSans-49\"/>\n       <use x=\"63.623047\" xlink:href=\"#DejaVuSans-49\"/>\n       <use x=\"127.246094\" xlink:href=\"#DejaVuSans-52\"/>\n      </g>\n     </g>\n    </g>\n    <g id=\"xtick_320\">\n     <g id=\"text_320\">\n      <!-- 138 -->\n      <g transform=\"translate(691.852706 290.559063)scale(0.06 -0.06)\">\n       <use xlink:href=\"#DejaVuSans-49\"/>\n       <use x=\"63.623047\" xlink:href=\"#DejaVuSans-51\"/>\n       <use x=\"127.246094\" xlink:href=\"#DejaVuSans-56\"/>\n      </g>\n     </g>\n    </g>\n    <g id=\"xtick_321\">\n     <g id=\"text_321\">\n      <!-- 143 -->\n      <g transform=\"translate(693.971693 290.559063)scale(0.06 -0.06)\">\n       <use xlink:href=\"#DejaVuSans-49\"/>\n       <use x=\"63.623047\" xlink:href=\"#DejaVuSans-52\"/>\n       <use x=\"127.246094\" xlink:href=\"#DejaVuSans-51\"/>\n      </g>\n     </g>\n    </g>\n    <g id=\"xtick_322\">\n     <g id=\"text_322\">\n      <!-- 237 -->\n      <g transform=\"translate(696.09068 290.559063)scale(0.06 -0.06)\">\n       <use xlink:href=\"#DejaVuSans-50\"/>\n       <use x=\"63.623047\" xlink:href=\"#DejaVuSans-51\"/>\n       <use x=\"127.246094\" xlink:href=\"#DejaVuSans-55\"/>\n      </g>\n     </g>\n    </g>\n    <g id=\"xtick_323\">\n     <g id=\"text_323\">\n      <!-- 187 -->\n      <g transform=\"translate(698.209668 290.559063)scale(0.06 -0.06)\">\n       <use xlink:href=\"#DejaVuSans-49\"/>\n       <use x=\"63.623047\" xlink:href=\"#DejaVuSans-56\"/>\n       <use x=\"127.246094\" xlink:href=\"#DejaVuSans-55\"/>\n      </g>\n     </g>\n    </g>\n    <g id=\"xtick_324\">\n     <g id=\"text_324\">\n      <!-- 151 -->\n      <g transform=\"translate(700.328655 290.559063)scale(0.06 -0.06)\">\n       <use xlink:href=\"#DejaVuSans-49\"/>\n       <use x=\"63.623047\" xlink:href=\"#DejaVuSans-53\"/>\n       <use x=\"127.246094\" xlink:href=\"#DejaVuSans-49\"/>\n      </g>\n     </g>\n    </g>\n    <g id=\"xtick_325\">\n     <g id=\"text_325\">\n      <!-- 55 -->\n      <g transform=\"translate(704.356392 290.559063)scale(0.06 -0.06)\">\n       <use xlink:href=\"#DejaVuSans-53\"/>\n       <use x=\"63.623047\" xlink:href=\"#DejaVuSans-53\"/>\n      </g>\n     </g>\n    </g>\n    <g id=\"xtick_326\">\n     <g id=\"text_326\">\n      <!-- 97 -->\n      <g transform=\"translate(706.47538 290.559063)scale(0.06 -0.06)\">\n       <use xlink:href=\"#DejaVuSans-57\"/>\n       <use x=\"63.623047\" xlink:href=\"#DejaVuSans-55\"/>\n      </g>\n     </g>\n    </g>\n    <g id=\"xtick_327\">\n     <g id=\"text_327\">\n      <!-- 95 -->\n      <g transform=\"translate(708.594367 290.559063)scale(0.06 -0.06)\">\n       <use xlink:href=\"#DejaVuSans-57\"/>\n       <use x=\"63.623047\" xlink:href=\"#DejaVuSans-53\"/>\n      </g>\n     </g>\n    </g>\n    <g id=\"xtick_328\">\n     <g id=\"text_328\">\n      <!-- 2 -->\n      <g transform=\"translate(712.622104 290.559063)scale(0.06 -0.06)\">\n       <use xlink:href=\"#DejaVuSans-50\"/>\n      </g>\n     </g>\n    </g>\n    <g id=\"xtick_329\">\n     <g id=\"text_329\">\n      <!-- 72 -->\n      <g transform=\"translate(712.832342 290.559063)scale(0.06 -0.06)\">\n       <use xlink:href=\"#DejaVuSans-55\"/>\n       <use x=\"63.623047\" xlink:href=\"#DejaVuSans-50\"/>\n      </g>\n     </g>\n    </g>\n    <g id=\"xtick_330\">\n     <g id=\"text_330\">\n      <!-- 84 -->\n      <g transform=\"translate(714.951329 290.559063)scale(0.06 -0.06)\">\n       <use xlink:href=\"#DejaVuSans-56\"/>\n       <use x=\"63.623047\" xlink:href=\"#DejaVuSans-52\"/>\n      </g>\n     </g>\n    </g>\n    <g id=\"xtick_331\">\n     <g id=\"text_331\">\n      <!-- 145 -->\n      <g transform=\"translate(715.161566 290.559063)scale(0.06 -0.06)\">\n       <use xlink:href=\"#DejaVuSans-49\"/>\n       <use x=\"63.623047\" xlink:href=\"#DejaVuSans-52\"/>\n       <use x=\"127.246094\" xlink:href=\"#DejaVuSans-53\"/>\n      </g>\n     </g>\n    </g>\n    <g id=\"xtick_332\">\n     <g id=\"text_332\">\n      <!-- 80 -->\n      <g transform=\"translate(719.189304 290.559063)scale(0.06 -0.06)\">\n       <use xlink:href=\"#DejaVuSans-56\"/>\n       <use x=\"63.623047\" xlink:href=\"#DejaVuSans-48\"/>\n      </g>\n     </g>\n    </g>\n    <g id=\"xtick_333\">\n     <g id=\"text_333\">\n      <!-- 81 -->\n      <g transform=\"translate(721.308291 290.559063)scale(0.06 -0.06)\">\n       <use xlink:href=\"#DejaVuSans-56\"/>\n       <use x=\"63.623047\" xlink:href=\"#DejaVuSans-49\"/>\n      </g>\n     </g>\n    </g>\n    <g id=\"xtick_334\">\n     <g id=\"text_334\">\n      <!-- 155 -->\n      <g transform=\"translate(721.518528 290.559063)scale(0.06 -0.06)\">\n       <use xlink:href=\"#DejaVuSans-49\"/>\n       <use x=\"63.623047\" xlink:href=\"#DejaVuSans-53\"/>\n       <use x=\"127.246094\" xlink:href=\"#DejaVuSans-53\"/>\n      </g>\n     </g>\n    </g>\n    <g id=\"xtick_335\">\n     <g id=\"text_335\">\n      <!-- 103 -->\n      <g transform=\"translate(723.637516 290.559063)scale(0.06 -0.06)\">\n       <use xlink:href=\"#DejaVuSans-49\"/>\n       <use x=\"63.623047\" xlink:href=\"#DejaVuSans-48\"/>\n       <use x=\"127.246094\" xlink:href=\"#DejaVuSans-51\"/>\n      </g>\n     </g>\n    </g>\n    <g id=\"xtick_336\">\n     <g id=\"text_336\">\n      <!-- 161 -->\n      <g transform=\"translate(725.756503 290.559063)scale(0.06 -0.06)\">\n       <use xlink:href=\"#DejaVuSans-49\"/>\n       <use x=\"63.623047\" xlink:href=\"#DejaVuSans-54\"/>\n       <use x=\"127.246094\" xlink:href=\"#DejaVuSans-49\"/>\n      </g>\n     </g>\n    </g>\n    <g id=\"xtick_337\">\n     <g id=\"text_337\">\n      <!-- 33 -->\n      <g transform=\"translate(729.784241 290.559063)scale(0.06 -0.06)\">\n       <use xlink:href=\"#DejaVuSans-51\"/>\n       <use x=\"63.623047\" xlink:href=\"#DejaVuSans-51\"/>\n      </g>\n     </g>\n    </g>\n    <g id=\"xtick_338\">\n     <g id=\"text_338\">\n      <!-- 54 -->\n      <g transform=\"translate(731.903228 290.559063)scale(0.06 -0.06)\">\n       <use xlink:href=\"#DejaVuSans-53\"/>\n       <use x=\"63.623047\" xlink:href=\"#DejaVuSans-52\"/>\n      </g>\n     </g>\n    </g>\n    <g id=\"xtick_339\">\n     <g id=\"text_339\">\n      <!-- 52 -->\n      <g transform=\"translate(734.022215 290.559063)scale(0.06 -0.06)\">\n       <use xlink:href=\"#DejaVuSans-53\"/>\n       <use x=\"63.623047\" xlink:href=\"#DejaVuSans-50\"/>\n      </g>\n     </g>\n    </g>\n    <g id=\"xtick_340\">\n     <g id=\"text_340\">\n      <!-- 105 -->\n      <g transform=\"translate(734.232453 290.559063)scale(0.06 -0.06)\">\n       <use xlink:href=\"#DejaVuSans-49\"/>\n       <use x=\"63.623047\" xlink:href=\"#DejaVuSans-48\"/>\n       <use x=\"127.246094\" xlink:href=\"#DejaVuSans-53\"/>\n      </g>\n     </g>\n    </g>\n    <g id=\"xtick_341\">\n     <g id=\"text_341\">\n      <!-- 24 -->\n      <g transform=\"translate(738.26019 290.559063)scale(0.06 -0.06)\">\n       <use xlink:href=\"#DejaVuSans-50\"/>\n       <use x=\"63.623047\" xlink:href=\"#DejaVuSans-52\"/>\n      </g>\n     </g>\n    </g>\n    <g id=\"xtick_342\">\n     <g id=\"text_342\">\n      <!-- 152 -->\n      <g transform=\"translate(738.470427 290.559063)scale(0.06 -0.06)\">\n       <use xlink:href=\"#DejaVuSans-49\"/>\n       <use x=\"63.623047\" xlink:href=\"#DejaVuSans-53\"/>\n       <use x=\"127.246094\" xlink:href=\"#DejaVuSans-50\"/>\n      </g>\n     </g>\n    </g>\n    <g id=\"xtick_343\">\n     <g id=\"text_343\">\n      <!-- 34 -->\n      <g transform=\"translate(742.498165 290.559063)scale(0.06 -0.06)\">\n       <use xlink:href=\"#DejaVuSans-51\"/>\n       <use x=\"63.623047\" xlink:href=\"#DejaVuSans-52\"/>\n      </g>\n     </g>\n    </g>\n    <g id=\"xtick_344\">\n     <g id=\"text_344\">\n      <!-- 184 -->\n      <g transform=\"translate(742.708402 290.559063)scale(0.06 -0.06)\">\n       <use xlink:href=\"#DejaVuSans-49\"/>\n       <use x=\"63.623047\" xlink:href=\"#DejaVuSans-56\"/>\n       <use x=\"127.246094\" xlink:href=\"#DejaVuSans-52\"/>\n      </g>\n     </g>\n    </g>\n    <g id=\"xtick_345\">\n     <g id=\"text_345\">\n      <!-- 167 -->\n      <g transform=\"translate(744.827389 290.559063)scale(0.06 -0.06)\">\n       <use xlink:href=\"#DejaVuSans-49\"/>\n       <use x=\"63.623047\" xlink:href=\"#DejaVuSans-54\"/>\n       <use x=\"127.246094\" xlink:href=\"#DejaVuSans-55\"/>\n      </g>\n     </g>\n    </g>\n    <g id=\"xtick_346\">\n     <g id=\"text_346\">\n      <!-- 178 -->\n      <g transform=\"translate(746.946377 290.559063)scale(0.06 -0.06)\">\n       <use xlink:href=\"#DejaVuSans-49\"/>\n       <use x=\"63.623047\" xlink:href=\"#DejaVuSans-55\"/>\n       <use x=\"127.246094\" xlink:href=\"#DejaVuSans-56\"/>\n      </g>\n     </g>\n    </g>\n    <g id=\"xtick_347\">\n     <g id=\"text_347\">\n      <!-- 22 -->\n      <g transform=\"translate(750.974114 290.559063)scale(0.06 -0.06)\">\n       <use xlink:href=\"#DejaVuSans-50\"/>\n       <use x=\"63.623047\" xlink:href=\"#DejaVuSans-50\"/>\n      </g>\n     </g>\n    </g>\n    <g id=\"xtick_348\">\n     <g id=\"text_348\">\n      <!-- 59 -->\n      <g transform=\"translate(753.093101 290.559063)scale(0.06 -0.06)\">\n       <use xlink:href=\"#DejaVuSans-53\"/>\n       <use x=\"63.623047\" xlink:href=\"#DejaVuSans-57\"/>\n      </g>\n     </g>\n    </g>\n    <g id=\"xtick_349\">\n     <g id=\"text_349\">\n      <!-- 113 -->\n      <g transform=\"translate(753.303339 290.559063)scale(0.06 -0.06)\">\n       <use xlink:href=\"#DejaVuSans-49\"/>\n       <use x=\"63.623047\" xlink:href=\"#DejaVuSans-49\"/>\n       <use x=\"127.246094\" xlink:href=\"#DejaVuSans-51\"/>\n      </g>\n     </g>\n    </g>\n    <g id=\"xtick_350\">\n     <g id=\"text_350\">\n      <!-- 87 -->\n      <g transform=\"translate(757.331076 290.559063)scale(0.06 -0.06)\">\n       <use xlink:href=\"#DejaVuSans-56\"/>\n       <use x=\"63.623047\" xlink:href=\"#DejaVuSans-55\"/>\n      </g>\n     </g>\n    </g>\n    <g id=\"xtick_351\">\n     <g id=\"text_351\">\n      <!-- 71 -->\n      <g transform=\"translate(759.450063 290.559063)scale(0.06 -0.06)\">\n       <use xlink:href=\"#DejaVuSans-55\"/>\n       <use x=\"63.623047\" xlink:href=\"#DejaVuSans-49\"/>\n      </g>\n     </g>\n    </g>\n    <g id=\"xtick_352\">\n     <g id=\"text_352\">\n      <!-- 51 -->\n      <g transform=\"translate(761.569051 290.559063)scale(0.06 -0.06)\">\n       <use xlink:href=\"#DejaVuSans-53\"/>\n       <use x=\"63.623047\" xlink:href=\"#DejaVuSans-49\"/>\n      </g>\n     </g>\n    </g>\n    <g id=\"xtick_353\">\n     <g id=\"text_353\">\n      <!-- 48 -->\n      <g transform=\"translate(763.688038 290.559063)scale(0.06 -0.06)\">\n       <use xlink:href=\"#DejaVuSans-52\"/>\n       <use x=\"63.623047\" xlink:href=\"#DejaVuSans-56\"/>\n      </g>\n     </g>\n    </g>\n    <g id=\"xtick_354\">\n     <g id=\"text_354\">\n      <!-- 3 -->\n      <g transform=\"translate(767.715775 290.559063)scale(0.06 -0.06)\">\n       <use xlink:href=\"#DejaVuSans-51\"/>\n      </g>\n     </g>\n    </g>\n    <g id=\"xtick_355\">\n     <g id=\"text_355\">\n      <!-- 27 -->\n      <g transform=\"translate(767.926013 290.559063)scale(0.06 -0.06)\">\n       <use xlink:href=\"#DejaVuSans-50\"/>\n       <use x=\"63.623047\" xlink:href=\"#DejaVuSans-55\"/>\n      </g>\n     </g>\n    </g>\n    <g id=\"xtick_356\">\n     <g id=\"text_356\">\n      <!-- 146 -->\n      <g transform=\"translate(768.13625 290.559063)scale(0.06 -0.06)\">\n       <use xlink:href=\"#DejaVuSans-49\"/>\n       <use x=\"63.623047\" xlink:href=\"#DejaVuSans-52\"/>\n       <use x=\"127.246094\" xlink:href=\"#DejaVuSans-54\"/>\n      </g>\n     </g>\n    </g>\n    <g id=\"xtick_357\">\n     <g id=\"text_357\">\n      <!-- 8 -->\n      <g transform=\"translate(774.072737 290.559063)scale(0.06 -0.06)\">\n       <use xlink:href=\"#DejaVuSans-56\"/>\n      </g>\n     </g>\n    </g>\n    <g id=\"xtick_358\">\n     <g id=\"text_358\">\n      <!-- 82 -->\n      <g transform=\"translate(774.282975 290.559063)scale(0.06 -0.06)\">\n       <use xlink:href=\"#DejaVuSans-56\"/>\n       <use x=\"63.623047\" xlink:href=\"#DejaVuSans-50\"/>\n      </g>\n     </g>\n    </g>\n    <g id=\"xtick_359\">\n     <g id=\"text_359\">\n      <!-- 35 -->\n      <g transform=\"translate(776.401962 290.559063)scale(0.06 -0.06)\">\n       <use xlink:href=\"#DejaVuSans-51\"/>\n       <use x=\"63.623047\" xlink:href=\"#DejaVuSans-53\"/>\n      </g>\n     </g>\n    </g>\n    <g id=\"xtick_360\">\n     <g id=\"text_360\">\n      <!-- 194 -->\n      <g transform=\"translate(776.612199 290.559063)scale(0.06 -0.06)\">\n       <use xlink:href=\"#DejaVuSans-49\"/>\n       <use x=\"63.623047\" xlink:href=\"#DejaVuSans-57\"/>\n       <use x=\"127.246094\" xlink:href=\"#DejaVuSans-52\"/>\n      </g>\n     </g>\n    </g>\n    <g id=\"xtick_361\">\n     <g id=\"text_361\">\n      <!-- 122 -->\n      <g transform=\"translate(778.731187 290.559063)scale(0.06 -0.06)\">\n       <use xlink:href=\"#DejaVuSans-49\"/>\n       <use x=\"63.623047\" xlink:href=\"#DejaVuSans-50\"/>\n       <use x=\"127.246094\" xlink:href=\"#DejaVuSans-50\"/>\n      </g>\n     </g>\n    </g>\n    <g id=\"xtick_362\">\n     <g id=\"text_362\">\n      <!-- 197 -->\n      <g transform=\"translate(780.850174 290.559063)scale(0.06 -0.06)\">\n       <use xlink:href=\"#DejaVuSans-49\"/>\n       <use x=\"63.623047\" xlink:href=\"#DejaVuSans-57\"/>\n       <use x=\"127.246094\" xlink:href=\"#DejaVuSans-55\"/>\n      </g>\n     </g>\n    </g>\n    <g id=\"xtick_363\">\n     <g id=\"text_363\">\n      <!-- 17 -->\n      <g transform=\"translate(784.877911 290.559063)scale(0.06 -0.06)\">\n       <use xlink:href=\"#DejaVuSans-49\"/>\n       <use x=\"63.623047\" xlink:href=\"#DejaVuSans-55\"/>\n      </g>\n     </g>\n    </g>\n    <g id=\"xtick_364\">\n     <g id=\"text_364\">\n      <!-- 251 -->\n      <g transform=\"translate(785.088149 290.559063)scale(0.06 -0.06)\">\n       <use xlink:href=\"#DejaVuSans-50\"/>\n       <use x=\"63.623047\" xlink:href=\"#DejaVuSans-53\"/>\n       <use x=\"127.246094\" xlink:href=\"#DejaVuSans-49\"/>\n      </g>\n     </g>\n    </g>\n    <g id=\"xtick_365\">\n     <g id=\"text_365\">\n      <!-- 222 -->\n      <g transform=\"translate(787.207136 290.559063)scale(0.06 -0.06)\">\n       <use xlink:href=\"#DejaVuSans-50\"/>\n       <use x=\"63.623047\" xlink:href=\"#DejaVuSans-50\"/>\n       <use x=\"127.246094\" xlink:href=\"#DejaVuSans-50\"/>\n      </g>\n     </g>\n    </g>\n    <g id=\"xtick_366\">\n     <g id=\"text_366\">\n      <!-- 190 -->\n      <g transform=\"translate(789.326123 290.559063)scale(0.06 -0.06)\">\n       <use xlink:href=\"#DejaVuSans-49\"/>\n       <use x=\"63.623047\" xlink:href=\"#DejaVuSans-57\"/>\n       <use x=\"127.246094\" xlink:href=\"#DejaVuSans-48\"/>\n      </g>\n     </g>\n    </g>\n    <g id=\"xtick_367\">\n     <g id=\"text_367\">\n      <!-- 201 -->\n      <g transform=\"translate(791.445111 290.559063)scale(0.06 -0.06)\">\n       <use xlink:href=\"#DejaVuSans-50\"/>\n       <use x=\"63.623047\" xlink:href=\"#DejaVuSans-48\"/>\n       <use x=\"127.246094\" xlink:href=\"#DejaVuSans-49\"/>\n      </g>\n     </g>\n    </g>\n    <g id=\"xtick_368\">\n     <g id=\"text_368\">\n      <!-- 165 -->\n      <g transform=\"translate(793.564098 290.559063)scale(0.06 -0.06)\">\n       <use xlink:href=\"#DejaVuSans-49\"/>\n       <use x=\"63.623047\" xlink:href=\"#DejaVuSans-54\"/>\n       <use x=\"127.246094\" xlink:href=\"#DejaVuSans-53\"/>\n      </g>\n     </g>\n    </g>\n    <g id=\"xtick_369\">\n     <g id=\"text_369\">\n      <!-- 235 -->\n      <g transform=\"translate(795.683085 290.559063)scale(0.06 -0.06)\">\n       <use xlink:href=\"#DejaVuSans-50\"/>\n       <use x=\"63.623047\" xlink:href=\"#DejaVuSans-51\"/>\n       <use x=\"127.246094\" xlink:href=\"#DejaVuSans-53\"/>\n      </g>\n     </g>\n    </g>\n    <g id=\"xtick_370\">\n     <g id=\"text_370\">\n      <!-- 212 -->\n      <g transform=\"translate(797.802073 290.559063)scale(0.06 -0.06)\">\n       <use xlink:href=\"#DejaVuSans-50\"/>\n       <use x=\"63.623047\" xlink:href=\"#DejaVuSans-49\"/>\n       <use x=\"127.246094\" xlink:href=\"#DejaVuSans-50\"/>\n      </g>\n     </g>\n    </g>\n    <g id=\"xtick_371\">\n     <g id=\"text_371\">\n      <!-- 168 -->\n      <g transform=\"translate(799.92106 290.559063)scale(0.06 -0.06)\">\n       <use xlink:href=\"#DejaVuSans-49\"/>\n       <use x=\"63.623047\" xlink:href=\"#DejaVuSans-54\"/>\n       <use x=\"127.246094\" xlink:href=\"#DejaVuSans-56\"/>\n      </g>\n     </g>\n    </g>\n    <g id=\"xtick_372\">\n     <g id=\"text_372\">\n      <!-- 124 -->\n      <g transform=\"translate(802.040047 290.559063)scale(0.06 -0.06)\">\n       <use xlink:href=\"#DejaVuSans-49\"/>\n       <use x=\"63.623047\" xlink:href=\"#DejaVuSans-50\"/>\n       <use x=\"127.246094\" xlink:href=\"#DejaVuSans-52\"/>\n      </g>\n     </g>\n    </g>\n    <g id=\"xtick_373\">\n     <g id=\"text_373\">\n      <!-- 112 -->\n      <g transform=\"translate(804.159035 290.559063)scale(0.06 -0.06)\">\n       <use xlink:href=\"#DejaVuSans-49\"/>\n       <use x=\"63.623047\" xlink:href=\"#DejaVuSans-49\"/>\n       <use x=\"127.246094\" xlink:href=\"#DejaVuSans-50\"/>\n      </g>\n     </g>\n    </g>\n    <g id=\"xtick_374\">\n     <g id=\"text_374\">\n      <!-- 86 -->\n      <g transform=\"translate(808.186772 290.559063)scale(0.06 -0.06)\">\n       <use xlink:href=\"#DejaVuSans-56\"/>\n       <use x=\"63.623047\" xlink:href=\"#DejaVuSans-54\"/>\n      </g>\n     </g>\n    </g>\n    <g id=\"xtick_375\">\n     <g id=\"text_375\">\n      <!-- 77 -->\n      <g transform=\"translate(810.305759 290.559063)scale(0.06 -0.06)\">\n       <use xlink:href=\"#DejaVuSans-55\"/>\n       <use x=\"63.623047\" xlink:href=\"#DejaVuSans-55\"/>\n      </g>\n     </g>\n    </g>\n    <g id=\"xtick_376\">\n     <g id=\"text_376\">\n      <!-- 6 -->\n      <g transform=\"translate(814.333497 290.559063)scale(0.06 -0.06)\">\n       <use xlink:href=\"#DejaVuSans-54\"/>\n      </g>\n     </g>\n    </g>\n    <g id=\"xtick_377\">\n     <g id=\"text_377\">\n      <!-- 25 -->\n      <g transform=\"translate(814.543734 290.559063)scale(0.06 -0.06)\">\n       <use xlink:href=\"#DejaVuSans-50\"/>\n       <use x=\"63.623047\" xlink:href=\"#DejaVuSans-53\"/>\n      </g>\n     </g>\n    </g>\n    <g id=\"xtick_378\">\n     <g id=\"text_378\">\n      <!-- 70 -->\n      <g transform=\"translate(816.662722 290.559063)scale(0.06 -0.06)\">\n       <use xlink:href=\"#DejaVuSans-55\"/>\n       <use x=\"63.623047\" xlink:href=\"#DejaVuSans-48\"/>\n      </g>\n     </g>\n    </g>\n    <g id=\"xtick_379\">\n     <g id=\"text_379\">\n      <!-- 166 -->\n      <g transform=\"translate(816.872959 290.559063)scale(0.06 -0.06)\">\n       <use xlink:href=\"#DejaVuSans-49\"/>\n       <use x=\"63.623047\" xlink:href=\"#DejaVuSans-54\"/>\n       <use x=\"127.246094\" xlink:href=\"#DejaVuSans-54\"/>\n      </g>\n     </g>\n    </g>\n    <g id=\"xtick_380\">\n     <g id=\"text_380\">\n      <!-- 50 -->\n      <g transform=\"translate(820.900696 290.559063)scale(0.06 -0.06)\">\n       <use xlink:href=\"#DejaVuSans-53\"/>\n       <use x=\"63.623047\" xlink:href=\"#DejaVuSans-48\"/>\n      </g>\n     </g>\n    </g>\n    <g id=\"xtick_381\">\n     <g id=\"text_381\">\n      <!-- 158 -->\n      <g transform=\"translate(821.110934 290.559063)scale(0.06 -0.06)\">\n       <use xlink:href=\"#DejaVuSans-49\"/>\n       <use x=\"63.623047\" xlink:href=\"#DejaVuSans-53\"/>\n       <use x=\"127.246094\" xlink:href=\"#DejaVuSans-56\"/>\n      </g>\n     </g>\n    </g>\n    <g id=\"xtick_382\">\n     <g id=\"text_382\">\n      <!-- 141 -->\n      <g transform=\"translate(823.229921 290.559063)scale(0.06 -0.06)\">\n       <use xlink:href=\"#DejaVuSans-49\"/>\n       <use x=\"63.623047\" xlink:href=\"#DejaVuSans-52\"/>\n       <use x=\"127.246094\" xlink:href=\"#DejaVuSans-49\"/>\n      </g>\n     </g>\n    </g>\n    <g id=\"xtick_383\">\n     <g id=\"text_383\">\n      <!-- 44 -->\n      <g transform=\"translate(827.257658 290.559063)scale(0.06 -0.06)\">\n       <use xlink:href=\"#DejaVuSans-52\"/>\n       <use x=\"63.623047\" xlink:href=\"#DejaVuSans-52\"/>\n      </g>\n     </g>\n    </g>\n    <g id=\"xtick_384\">\n     <g id=\"text_384\">\n      <!-- 88 -->\n      <g transform=\"translate(829.376646 290.559063)scale(0.06 -0.06)\">\n       <use xlink:href=\"#DejaVuSans-56\"/>\n       <use x=\"63.623047\" xlink:href=\"#DejaVuSans-56\"/>\n      </g>\n     </g>\n    </g>\n    <g id=\"xtick_385\">\n     <g id=\"text_385\">\n      <!-- 173 -->\n      <g transform=\"translate(829.586883 290.559063)scale(0.06 -0.06)\">\n       <use xlink:href=\"#DejaVuSans-49\"/>\n       <use x=\"63.623047\" xlink:href=\"#DejaVuSans-55\"/>\n       <use x=\"127.246094\" xlink:href=\"#DejaVuSans-51\"/>\n      </g>\n     </g>\n    </g>\n    <g id=\"xtick_386\">\n     <g id=\"text_386\">\n      <!-- 204 -->\n      <g transform=\"translate(831.70587 290.559063)scale(0.06 -0.06)\">\n       <use xlink:href=\"#DejaVuSans-50\"/>\n       <use x=\"63.623047\" xlink:href=\"#DejaVuSans-48\"/>\n       <use x=\"127.246094\" xlink:href=\"#DejaVuSans-52\"/>\n      </g>\n     </g>\n    </g>\n    <g id=\"xtick_387\">\n     <g id=\"text_387\">\n      <!-- 176 -->\n      <g transform=\"translate(833.824858 290.559063)scale(0.06 -0.06)\">\n       <use xlink:href=\"#DejaVuSans-49\"/>\n       <use x=\"63.623047\" xlink:href=\"#DejaVuSans-55\"/>\n       <use x=\"127.246094\" xlink:href=\"#DejaVuSans-54\"/>\n      </g>\n     </g>\n    </g>\n    <g id=\"xtick_388\">\n     <g id=\"text_388\">\n      <!-- 23 -->\n      <g transform=\"translate(837.852595 290.559063)scale(0.06 -0.06)\">\n       <use xlink:href=\"#DejaVuSans-50\"/>\n       <use x=\"63.623047\" xlink:href=\"#DejaVuSans-51\"/>\n      </g>\n     </g>\n    </g>\n    <g id=\"xtick_389\">\n     <g id=\"text_389\">\n      <!-- 40 -->\n      <g transform=\"translate(839.971582 290.559063)scale(0.06 -0.06)\">\n       <use xlink:href=\"#DejaVuSans-52\"/>\n       <use x=\"63.623047\" xlink:href=\"#DejaVuSans-48\"/>\n      </g>\n     </g>\n    </g>\n    <g id=\"xtick_390\">\n     <g id=\"text_390\">\n      <!-- 382 -->\n      <g transform=\"translate(840.18182 290.559063)scale(0.06 -0.06)\">\n       <use xlink:href=\"#DejaVuSans-51\"/>\n       <use x=\"63.623047\" xlink:href=\"#DejaVuSans-56\"/>\n       <use x=\"127.246094\" xlink:href=\"#DejaVuSans-50\"/>\n      </g>\n     </g>\n    </g>\n    <g id=\"xtick_391\">\n     <g id=\"text_391\">\n      <!-- 218 -->\n      <g transform=\"translate(842.300807 290.559063)scale(0.06 -0.06)\">\n       <use xlink:href=\"#DejaVuSans-50\"/>\n       <use x=\"63.623047\" xlink:href=\"#DejaVuSans-49\"/>\n       <use x=\"127.246094\" xlink:href=\"#DejaVuSans-56\"/>\n      </g>\n     </g>\n    </g>\n    <g id=\"xtick_392\">\n     <g id=\"text_392\">\n      <!-- 246 -->\n      <g transform=\"translate(844.419794 290.559063)scale(0.06 -0.06)\">\n       <use xlink:href=\"#DejaVuSans-50\"/>\n       <use x=\"63.623047\" xlink:href=\"#DejaVuSans-52\"/>\n       <use x=\"127.246094\" xlink:href=\"#DejaVuSans-54\"/>\n      </g>\n     </g>\n    </g>\n    <g id=\"xtick_393\">\n     <g id=\"text_393\">\n      <!-- 275 -->\n      <g transform=\"translate(846.538782 290.559063)scale(0.06 -0.06)\">\n       <use xlink:href=\"#DejaVuSans-50\"/>\n       <use x=\"63.623047\" xlink:href=\"#DejaVuSans-55\"/>\n       <use x=\"127.246094\" xlink:href=\"#DejaVuSans-53\"/>\n      </g>\n     </g>\n    </g>\n    <g id=\"xtick_394\">\n     <g id=\"text_394\">\n      <!-- 163 -->\n      <g transform=\"translate(848.657769 290.559063)scale(0.06 -0.06)\">\n       <use xlink:href=\"#DejaVuSans-49\"/>\n       <use x=\"63.623047\" xlink:href=\"#DejaVuSans-54\"/>\n       <use x=\"127.246094\" xlink:href=\"#DejaVuSans-51\"/>\n      </g>\n     </g>\n    </g>\n    <g id=\"xtick_395\">\n     <g id=\"text_395\">\n      <!-- 231 -->\n      <g transform=\"translate(850.776756 290.559063)scale(0.06 -0.06)\">\n       <use xlink:href=\"#DejaVuSans-50\"/>\n       <use x=\"63.623047\" xlink:href=\"#DejaVuSans-51\"/>\n       <use x=\"127.246094\" xlink:href=\"#DejaVuSans-49\"/>\n      </g>\n     </g>\n    </g>\n   </g>\n   <g id=\"matplotlib.axis_2\">\n    <g id=\"ytick_1\">\n     <g id=\"line2d_1\">\n      <defs>\n       <path d=\"M 0 0 \nL -3.5 0 \n\" id=\"m1c448f8e0c\" style=\"stroke:#000000;stroke-width:0.8;\"/>\n      </defs>\n      <g>\n       <use style=\"stroke:#000000;stroke-width:0.8;\" x=\"20.5625\" xlink:href=\"#m1c448f8e0c\" y=\"279\"/>\n      </g>\n     </g>\n     <g id=\"text_396\">\n      <!-- 0 -->\n      <g transform=\"translate(7.2 282.799219)scale(0.1 -0.1)\">\n       <use xlink:href=\"#DejaVuSans-48\"/>\n      </g>\n     </g>\n    </g>\n    <g id=\"ytick_2\">\n     <g id=\"line2d_2\">\n      <g>\n       <use style=\"stroke:#000000;stroke-width:0.8;\" x=\"20.5625\" xlink:href=\"#m1c448f8e0c\" y=\"247.601264\"/>\n      </g>\n     </g>\n     <g id=\"text_397\">\n      <!-- 1 -->\n      <g transform=\"translate(7.2 251.400483)scale(0.1 -0.1)\">\n       <use xlink:href=\"#DejaVuSans-49\"/>\n      </g>\n     </g>\n    </g>\n    <g id=\"ytick_3\">\n     <g id=\"line2d_3\">\n      <g>\n       <use style=\"stroke:#000000;stroke-width:0.8;\" x=\"20.5625\" xlink:href=\"#m1c448f8e0c\" y=\"216.202529\"/>\n      </g>\n     </g>\n     <g id=\"text_398\">\n      <!-- 2 -->\n      <g transform=\"translate(7.2 220.001747)scale(0.1 -0.1)\">\n       <use xlink:href=\"#DejaVuSans-50\"/>\n      </g>\n     </g>\n    </g>\n    <g id=\"ytick_4\">\n     <g id=\"line2d_4\">\n      <g>\n       <use style=\"stroke:#000000;stroke-width:0.8;\" x=\"20.5625\" xlink:href=\"#m1c448f8e0c\" y=\"184.803793\"/>\n      </g>\n     </g>\n     <g id=\"text_399\">\n      <!-- 3 -->\n      <g transform=\"translate(7.2 188.603012)scale(0.1 -0.1)\">\n       <use xlink:href=\"#DejaVuSans-51\"/>\n      </g>\n     </g>\n    </g>\n    <g id=\"ytick_5\">\n     <g id=\"line2d_5\">\n      <g>\n       <use style=\"stroke:#000000;stroke-width:0.8;\" x=\"20.5625\" xlink:href=\"#m1c448f8e0c\" y=\"153.405057\"/>\n      </g>\n     </g>\n     <g id=\"text_400\">\n      <!-- 4 -->\n      <g transform=\"translate(7.2 157.204276)scale(0.1 -0.1)\">\n       <use xlink:href=\"#DejaVuSans-52\"/>\n      </g>\n     </g>\n    </g>\n    <g id=\"ytick_6\">\n     <g id=\"line2d_6\">\n      <g>\n       <use style=\"stroke:#000000;stroke-width:0.8;\" x=\"20.5625\" xlink:href=\"#m1c448f8e0c\" y=\"122.006322\"/>\n      </g>\n     </g>\n     <g id=\"text_401\">\n      <!-- 5 -->\n      <g transform=\"translate(7.2 125.80554)scale(0.1 -0.1)\">\n       <use xlink:href=\"#DejaVuSans-53\"/>\n      </g>\n     </g>\n    </g>\n    <g id=\"ytick_7\">\n     <g id=\"line2d_7\">\n      <g>\n       <use style=\"stroke:#000000;stroke-width:0.8;\" x=\"20.5625\" xlink:href=\"#m1c448f8e0c\" y=\"90.607586\"/>\n      </g>\n     </g>\n     <g id=\"text_402\">\n      <!-- 6 -->\n      <g transform=\"translate(7.2 94.406805)scale(0.1 -0.1)\">\n       <use xlink:href=\"#DejaVuSans-54\"/>\n      </g>\n     </g>\n    </g>\n    <g id=\"ytick_8\">\n     <g id=\"line2d_8\">\n      <g>\n       <use style=\"stroke:#000000;stroke-width:0.8;\" x=\"20.5625\" xlink:href=\"#m1c448f8e0c\" y=\"59.20885\"/>\n      </g>\n     </g>\n     <g id=\"text_403\">\n      <!-- 7 -->\n      <g transform=\"translate(7.2 63.008069)scale(0.1 -0.1)\">\n       <use xlink:href=\"#DejaVuSans-55\"/>\n      </g>\n     </g>\n    </g>\n    <g id=\"ytick_9\">\n     <g id=\"line2d_9\">\n      <g>\n       <use style=\"stroke:#000000;stroke-width:0.8;\" x=\"20.5625\" xlink:href=\"#m1c448f8e0c\" y=\"27.810115\"/>\n      </g>\n     </g>\n     <g id=\"text_404\">\n      <!-- 8 -->\n      <g transform=\"translate(7.2 31.609334)scale(0.1 -0.1)\">\n       <use xlink:href=\"#DejaVuSans-56\"/>\n      </g>\n     </g>\n    </g>\n   </g>\n   <g id=\"LineCollection_1\">\n    <path clip-path=\"url(#pdbc24ceeec)\" d=\"M 21.621994 279 \nL 21.621994 224.556335 \nL 23.740981 224.556335 \nL 23.740981 279 \n\" style=\"fill:none;stroke:#008000;stroke-width:1.5;\"/>\n    <path clip-path=\"url(#pdbc24ceeec)\" d=\"M 25.859968 279 \nL 25.859968 254.528804 \nL 27.978956 254.528804 \nL 27.978956 279 \n\" style=\"fill:none;stroke:#008000;stroke-width:1.5;\"/>\n    <path clip-path=\"url(#pdbc24ceeec)\" d=\"M 32.21693 279 \nL 32.21693 279 \nL 34.335918 279 \nL 34.335918 279 \n\" style=\"fill:none;stroke:#008000;stroke-width:1.5;\"/>\n    <path clip-path=\"url(#pdbc24ceeec)\" d=\"M 30.097943 279 \nL 30.097943 239.356503 \nL 33.276424 239.356503 \nL 33.276424 279 \n\" style=\"fill:none;stroke:#008000;stroke-width:1.5;\"/>\n    <path clip-path=\"url(#pdbc24ceeec)\" d=\"M 26.919462 254.528804 \nL 26.919462 237.249406 \nL 31.687184 237.249406 \nL 31.687184 239.356503 \n\" style=\"fill:none;stroke:#008000;stroke-width:1.5;\"/>\n    <path clip-path=\"url(#pdbc24ceeec)\" d=\"M 36.454905 279 \nL 36.454905 255.105228 \nL 38.573892 255.105228 \nL 38.573892 279 \n\" style=\"fill:none;stroke:#008000;stroke-width:1.5;\"/>\n    <path clip-path=\"url(#pdbc24ceeec)\" d=\"M 47.049842 279 \nL 47.049842 279 \nL 49.168829 279 \nL 49.168829 279 \n\" style=\"fill:none;stroke:#008000;stroke-width:1.5;\"/>\n    <path clip-path=\"url(#pdbc24ceeec)\" d=\"M 44.930854 279 \nL 44.930854 275.506572 \nL 48.109335 275.506572 \nL 48.109335 279 \n\" style=\"fill:none;stroke:#008000;stroke-width:1.5;\"/>\n    <path clip-path=\"url(#pdbc24ceeec)\" d=\"M 42.811867 279 \nL 42.811867 271.060556 \nL 46.520095 271.060556 \nL 46.520095 275.506572 \n\" style=\"fill:none;stroke:#008000;stroke-width:1.5;\"/>\n    <path clip-path=\"url(#pdbc24ceeec)\" d=\"M 40.69288 279 \nL 40.69288 254.124137 \nL 44.665981 254.124137 \nL 44.665981 271.060556 \n\" style=\"fill:none;stroke:#008000;stroke-width:1.5;\"/>\n    <path clip-path=\"url(#pdbc24ceeec)\" d=\"M 37.514399 255.105228 \nL 37.514399 232.548033 \nL 42.67943 232.548033 \nL 42.67943 254.124137 \n\" style=\"fill:none;stroke:#008000;stroke-width:1.5;\"/>\n    <path clip-path=\"url(#pdbc24ceeec)\" d=\"M 29.303323 237.249406 \nL 29.303323 205.926596 \nL 40.096915 205.926596 \nL 40.096915 232.548033 \n\" style=\"fill:none;stroke:#008000;stroke-width:1.5;\"/>\n    <path clip-path=\"url(#pdbc24ceeec)\" d=\"M 22.681487 224.556335 \nL 22.681487 175.558278 \nL 34.700119 175.558278 \nL 34.700119 205.926596 \n\" style=\"fill:none;stroke:#008000;stroke-width:1.5;\"/>\n   </g>\n   <g id=\"LineCollection_2\">\n    <path clip-path=\"url(#pdbc24ceeec)\" d=\"M 64.001741 279 \nL 64.001741 279 \nL 66.120728 279 \nL 66.120728 279 \n\" style=\"fill:none;stroke:#ff0000;stroke-width:1.5;\"/>\n    <path clip-path=\"url(#pdbc24ceeec)\" d=\"M 61.882753 279 \nL 61.882753 279 \nL 65.061234 279 \nL 65.061234 279 \n\" style=\"fill:none;stroke:#ff0000;stroke-width:1.5;\"/>\n    <path clip-path=\"url(#pdbc24ceeec)\" d=\"M 59.763766 279 \nL 59.763766 279 \nL 63.471994 279 \nL 63.471994 279 \n\" style=\"fill:none;stroke:#ff0000;stroke-width:1.5;\"/>\n    <path clip-path=\"url(#pdbc24ceeec)\" d=\"M 57.644778 279 \nL 57.644778 279 \nL 61.61788 279 \nL 61.61788 279 \n\" style=\"fill:none;stroke:#ff0000;stroke-width:1.5;\"/>\n    <path clip-path=\"url(#pdbc24ceeec)\" d=\"M 55.525791 279 \nL 55.525791 279 \nL 59.631329 279 \nL 59.631329 279 \n\" style=\"fill:none;stroke:#ff0000;stroke-width:1.5;\"/>\n    <path clip-path=\"url(#pdbc24ceeec)\" d=\"M 53.406804 279 \nL 53.406804 279 \nL 57.57856 279 \nL 57.57856 279 \n\" style=\"fill:none;stroke:#ff0000;stroke-width:1.5;\"/>\n    <path clip-path=\"url(#pdbc24ceeec)\" d=\"M 51.287816 279 \nL 51.287816 279 \nL 55.492682 279 \nL 55.492682 279 \n\" style=\"fill:none;stroke:#ff0000;stroke-width:1.5;\"/>\n    <path clip-path=\"url(#pdbc24ceeec)\" d=\"M 76.715665 279 \nL 76.715665 279 \nL 78.834652 279 \nL 78.834652 279 \n\" style=\"fill:none;stroke:#ff0000;stroke-width:1.5;\"/>\n    <path clip-path=\"url(#pdbc24ceeec)\" d=\"M 74.596677 279 \nL 74.596677 279 \nL 77.775158 279 \nL 77.775158 279 \n\" style=\"fill:none;stroke:#ff0000;stroke-width:1.5;\"/>\n    <path clip-path=\"url(#pdbc24ceeec)\" d=\"M 72.47769 279 \nL 72.47769 279 \nL 76.185918 279 \nL 76.185918 279 \n\" style=\"fill:none;stroke:#ff0000;stroke-width:1.5;\"/>\n    <path clip-path=\"url(#pdbc24ceeec)\" d=\"M 70.358703 279 \nL 70.358703 279 \nL 74.331804 279 \nL 74.331804 279 \n\" style=\"fill:none;stroke:#ff0000;stroke-width:1.5;\"/>\n    <path clip-path=\"url(#pdbc24ceeec)\" d=\"M 68.239715 279 \nL 68.239715 272.257518 \nL 72.345253 272.257518 \nL 72.345253 279 \n\" style=\"fill:none;stroke:#ff0000;stroke-width:1.5;\"/>\n    <path clip-path=\"url(#pdbc24ceeec)\" d=\"M 53.390249 279 \nL 53.390249 252.690611 \nL 70.292484 252.690611 \nL 70.292484 272.257518 \n\" style=\"fill:none;stroke:#ff0000;stroke-width:1.5;\"/>\n    <path clip-path=\"url(#pdbc24ceeec)\" d=\"M 83.072627 279 \nL 83.072627 279 \nL 85.191614 279 \nL 85.191614 279 \n\" style=\"fill:none;stroke:#ff0000;stroke-width:1.5;\"/>\n    <path clip-path=\"url(#pdbc24ceeec)\" d=\"M 80.953639 279 \nL 80.953639 279 \nL 84.13212 279 \nL 84.13212 279 \n\" style=\"fill:none;stroke:#ff0000;stroke-width:1.5;\"/>\n    <path clip-path=\"url(#pdbc24ceeec)\" d=\"M 95.786551 279 \nL 95.786551 279 \nL 97.905538 279 \nL 97.905538 279 \n\" style=\"fill:none;stroke:#ff0000;stroke-width:1.5;\"/>\n    <path clip-path=\"url(#pdbc24ceeec)\" d=\"M 93.667563 279 \nL 93.667563 279 \nL 96.846044 279 \nL 96.846044 279 \n\" style=\"fill:none;stroke:#ff0000;stroke-width:1.5;\"/>\n    <path clip-path=\"url(#pdbc24ceeec)\" d=\"M 91.548576 279 \nL 91.548576 279 \nL 95.256804 279 \nL 95.256804 279 \n\" style=\"fill:none;stroke:#ff0000;stroke-width:1.5;\"/>\n    <path clip-path=\"url(#pdbc24ceeec)\" d=\"M 89.429589 279 \nL 89.429589 279 \nL 93.40269 279 \nL 93.40269 279 \n\" style=\"fill:none;stroke:#ff0000;stroke-width:1.5;\"/>\n    <path clip-path=\"url(#pdbc24ceeec)\" d=\"M 87.310601 279 \nL 87.310601 279 \nL 91.416139 279 \nL 91.416139 279 \n\" style=\"fill:none;stroke:#ff0000;stroke-width:1.5;\"/>\n    <path clip-path=\"url(#pdbc24ceeec)\" d=\"M 82.54288 279 \nL 82.54288 272.257518 \nL 89.36337 272.257518 \nL 89.36337 279 \n\" style=\"fill:none;stroke:#ff0000;stroke-width:1.5;\"/>\n    <path clip-path=\"url(#pdbc24ceeec)\" d=\"M 100.024525 279 \nL 100.024525 279 \nL 102.143513 279 \nL 102.143513 279 \n\" style=\"fill:none;stroke:#ff0000;stroke-width:1.5;\"/>\n    <path clip-path=\"url(#pdbc24ceeec)\" d=\"M 108.500475 279 \nL 108.500475 279 \nL 110.619462 279 \nL 110.619462 279 \n\" style=\"fill:none;stroke:#ff0000;stroke-width:1.5;\"/>\n    <path clip-path=\"url(#pdbc24ceeec)\" d=\"M 106.381487 279 \nL 106.381487 279 \nL 109.559968 279 \nL 109.559968 279 \n\" style=\"fill:none;stroke:#ff0000;stroke-width:1.5;\"/>\n    <path clip-path=\"url(#pdbc24ceeec)\" d=\"M 104.2625 279 \nL 104.2625 279 \nL 107.970728 279 \nL 107.970728 279 \n\" style=\"fill:none;stroke:#ff0000;stroke-width:1.5;\"/>\n    <path clip-path=\"url(#pdbc24ceeec)\" d=\"M 101.084019 279 \nL 101.084019 272.257518 \nL 106.116614 272.257518 \nL 106.116614 279 \n\" style=\"fill:none;stroke:#ff0000;stroke-width:1.5;\"/>\n    <path clip-path=\"url(#pdbc24ceeec)\" d=\"M 114.857437 279 \nL 114.857437 275.506572 \nL 116.976424 275.506572 \nL 116.976424 279 \n\" style=\"fill:none;stroke:#ff0000;stroke-width:1.5;\"/>\n    <path clip-path=\"url(#pdbc24ceeec)\" d=\"M 112.738449 279 \nL 112.738449 271.060556 \nL 115.91693 271.060556 \nL 115.91693 275.506572 \n\" style=\"fill:none;stroke:#ff0000;stroke-width:1.5;\"/>\n    <path clip-path=\"url(#pdbc24ceeec)\" d=\"M 103.600316 272.257518 \nL 103.600316 253.401051 \nL 114.32769 253.401051 \nL 114.32769 271.060556 \n\" style=\"fill:none;stroke:#ff0000;stroke-width:1.5;\"/>\n    <path clip-path=\"url(#pdbc24ceeec)\" d=\"M 85.953125 272.257518 \nL 85.953125 249.001184 \nL 108.964003 249.001184 \nL 108.964003 253.401051 \n\" style=\"fill:none;stroke:#ff0000;stroke-width:1.5;\"/>\n    <path clip-path=\"url(#pdbc24ceeec)\" d=\"M 61.841367 252.690611 \nL 61.841367 234.116512 \nL 97.458564 234.116512 \nL 97.458564 249.001184 \n\" style=\"fill:none;stroke:#ff0000;stroke-width:1.5;\"/>\n    <path clip-path=\"url(#pdbc24ceeec)\" d=\"M 119.095411 279 \nL 119.095411 279 \nL 121.214399 279 \nL 121.214399 279 \n\" style=\"fill:none;stroke:#ff0000;stroke-width:1.5;\"/>\n    <path clip-path=\"url(#pdbc24ceeec)\" d=\"M 123.333386 279 \nL 123.333386 272.257518 \nL 125.452373 272.257518 \nL 125.452373 279 \n\" style=\"fill:none;stroke:#ff0000;stroke-width:1.5;\"/>\n    <path clip-path=\"url(#pdbc24ceeec)\" d=\"M 120.154905 279 \nL 120.154905 254.528804 \nL 124.39288 254.528804 \nL 124.39288 272.257518 \n\" style=\"fill:none;stroke:#ff0000;stroke-width:1.5;\"/>\n    <path clip-path=\"url(#pdbc24ceeec)\" d=\"M 140.285285 279 \nL 140.285285 279 \nL 142.404272 279 \nL 142.404272 279 \n\" style=\"fill:none;stroke:#ff0000;stroke-width:1.5;\"/>\n    <path clip-path=\"url(#pdbc24ceeec)\" d=\"M 138.166297 279 \nL 138.166297 279 \nL 141.344778 279 \nL 141.344778 279 \n\" style=\"fill:none;stroke:#ff0000;stroke-width:1.5;\"/>\n    <path clip-path=\"url(#pdbc24ceeec)\" d=\"M 136.04731 279 \nL 136.04731 279 \nL 139.755538 279 \nL 139.755538 279 \n\" style=\"fill:none;stroke:#ff0000;stroke-width:1.5;\"/>\n    <path clip-path=\"url(#pdbc24ceeec)\" d=\"M 133.928323 279 \nL 133.928323 279 \nL 137.901424 279 \nL 137.901424 279 \n\" style=\"fill:none;stroke:#ff0000;stroke-width:1.5;\"/>\n    <path clip-path=\"url(#pdbc24ceeec)\" d=\"M 131.809335 279 \nL 131.809335 275.506572 \nL 135.914873 275.506572 \nL 135.914873 279 \n\" style=\"fill:none;stroke:#ff0000;stroke-width:1.5;\"/>\n    <path clip-path=\"url(#pdbc24ceeec)\" d=\"M 129.690348 279 \nL 129.690348 271.060556 \nL 133.862104 271.060556 \nL 133.862104 275.506572 \n\" style=\"fill:none;stroke:#ff0000;stroke-width:1.5;\"/>\n    <path clip-path=\"url(#pdbc24ceeec)\" d=\"M 127.571361 279 \nL 127.571361 251.273391 \nL 131.776226 251.273391 \nL 131.776226 271.060556 \n\" style=\"fill:none;stroke:#ff0000;stroke-width:1.5;\"/>\n    <path clip-path=\"url(#pdbc24ceeec)\" d=\"M 122.273892 254.528804 \nL 122.273892 234.484912 \nL 129.673794 234.484912 \nL 129.673794 251.273391 \n\" style=\"fill:none;stroke:#ff0000;stroke-width:1.5;\"/>\n    <path clip-path=\"url(#pdbc24ceeec)\" d=\"M 144.523259 279 \nL 144.523259 271.768441 \nL 146.642247 271.768441 \nL 146.642247 279 \n\" style=\"fill:none;stroke:#ff0000;stroke-width:1.5;\"/>\n    <path clip-path=\"url(#pdbc24ceeec)\" d=\"M 152.999209 279 \nL 152.999209 279 \nL 155.118196 279 \nL 155.118196 279 \n\" style=\"fill:none;stroke:#ff0000;stroke-width:1.5;\"/>\n    <path clip-path=\"url(#pdbc24ceeec)\" d=\"M 150.880222 279 \nL 150.880222 279 \nL 154.058703 279 \nL 154.058703 279 \n\" style=\"fill:none;stroke:#ff0000;stroke-width:1.5;\"/>\n    <path clip-path=\"url(#pdbc24ceeec)\" d=\"M 148.761234 279 \nL 148.761234 279 \nL 152.469462 279 \nL 152.469462 279 \n\" style=\"fill:none;stroke:#ff0000;stroke-width:1.5;\"/>\n    <path clip-path=\"url(#pdbc24ceeec)\" d=\"M 159.356171 279 \nL 159.356171 279 \nL 161.475158 279 \nL 161.475158 279 \n\" style=\"fill:none;stroke:#ff0000;stroke-width:1.5;\"/>\n    <path clip-path=\"url(#pdbc24ceeec)\" d=\"M 157.237184 279 \nL 157.237184 275.506572 \nL 160.415665 275.506572 \nL 160.415665 279 \n\" style=\"fill:none;stroke:#ff0000;stroke-width:1.5;\"/>\n    <path clip-path=\"url(#pdbc24ceeec)\" d=\"M 150.615348 279 \nL 150.615348 271.768441 \nL 158.826424 271.768441 \nL 158.826424 275.506572 \n\" style=\"fill:none;stroke:#ff0000;stroke-width:1.5;\"/>\n    <path clip-path=\"url(#pdbc24ceeec)\" d=\"M 145.582753 271.768441 \nL 145.582753 253.401051 \nL 154.720886 253.401051 \nL 154.720886 271.768441 \n\" style=\"fill:none;stroke:#ff0000;stroke-width:1.5;\"/>\n    <path clip-path=\"url(#pdbc24ceeec)\" d=\"M 176.30807 279 \nL 176.30807 279 \nL 178.427057 279 \nL 178.427057 279 \n\" style=\"fill:none;stroke:#ff0000;stroke-width:1.5;\"/>\n    <path clip-path=\"url(#pdbc24ceeec)\" d=\"M 174.189082 279 \nL 174.189082 279 \nL 177.367563 279 \nL 177.367563 279 \n\" style=\"fill:none;stroke:#ff0000;stroke-width:1.5;\"/>\n    <path clip-path=\"url(#pdbc24ceeec)\" d=\"M 172.070095 279 \nL 172.070095 279 \nL 175.778323 279 \nL 175.778323 279 \n\" style=\"fill:none;stroke:#ff0000;stroke-width:1.5;\"/>\n    <path clip-path=\"url(#pdbc24ceeec)\" d=\"M 169.951108 279 \nL 169.951108 279 \nL 173.924209 279 \nL 173.924209 279 \n\" style=\"fill:none;stroke:#ff0000;stroke-width:1.5;\"/>\n    <path clip-path=\"url(#pdbc24ceeec)\" d=\"M 167.83212 279 \nL 167.83212 279 \nL 171.937658 279 \nL 171.937658 279 \n\" style=\"fill:none;stroke:#ff0000;stroke-width:1.5;\"/>\n    <path clip-path=\"url(#pdbc24ceeec)\" d=\"M 165.713133 279 \nL 165.713133 275.506572 \nL 169.884889 275.506572 \nL 169.884889 279 \n\" style=\"fill:none;stroke:#ff0000;stroke-width:1.5;\"/>\n    <path clip-path=\"url(#pdbc24ceeec)\" d=\"M 163.594146 279 \nL 163.594146 271.060556 \nL 167.799011 271.060556 \nL 167.799011 275.506572 \n\" style=\"fill:none;stroke:#ff0000;stroke-width:1.5;\"/>\n    <path clip-path=\"url(#pdbc24ceeec)\" d=\"M 182.665032 279 \nL 182.665032 279 \nL 184.784019 279 \nL 184.784019 279 \n\" style=\"fill:none;stroke:#ff0000;stroke-width:1.5;\"/>\n    <path clip-path=\"url(#pdbc24ceeec)\" d=\"M 180.546044 279 \nL 180.546044 271.060556 \nL 183.724525 271.060556 \nL 183.724525 279 \n\" style=\"fill:none;stroke:#ff0000;stroke-width:1.5;\"/>\n    <path clip-path=\"url(#pdbc24ceeec)\" d=\"M 165.696578 271.060556 \nL 165.696578 251.273391 \nL 182.135285 251.273391 \nL 182.135285 271.060556 \n\" style=\"fill:none;stroke:#ff0000;stroke-width:1.5;\"/>\n    <path clip-path=\"url(#pdbc24ceeec)\" d=\"M 150.15182 253.401051 \nL 150.15182 233.539106 \nL 173.915932 233.539106 \nL 173.915932 251.273391 \n\" style=\"fill:none;stroke:#ff0000;stroke-width:1.5;\"/>\n    <path clip-path=\"url(#pdbc24ceeec)\" d=\"M 125.973843 234.484912 \nL 125.973843 219.373098 \nL 162.033876 219.373098 \nL 162.033876 233.539106 \n\" style=\"fill:none;stroke:#ff0000;stroke-width:1.5;\"/>\n    <path clip-path=\"url(#pdbc24ceeec)\" d=\"M 79.649965 234.116512 \nL 79.649965 200.965731 \nL 144.003859 200.965731 \nL 144.003859 219.373098 \n\" style=\"fill:none;stroke:#ff0000;stroke-width:1.5;\"/>\n    <path clip-path=\"url(#pdbc24ceeec)\" d=\"M 186.903006 279 \nL 186.903006 279 \nL 189.021994 279 \nL 189.021994 279 \n\" style=\"fill:none;stroke:#ff0000;stroke-width:1.5;\"/>\n    <path clip-path=\"url(#pdbc24ceeec)\" d=\"M 197.497943 279 \nL 197.497943 279 \nL 199.61693 279 \nL 199.61693 279 \n\" style=\"fill:none;stroke:#ff0000;stroke-width:1.5;\"/>\n    <path clip-path=\"url(#pdbc24ceeec)\" d=\"M 195.378956 279 \nL 195.378956 279 \nL 198.557437 279 \nL 198.557437 279 \n\" style=\"fill:none;stroke:#ff0000;stroke-width:1.5;\"/>\n    <path clip-path=\"url(#pdbc24ceeec)\" d=\"M 193.259968 279 \nL 193.259968 265.515035 \nL 196.968196 265.515035 \nL 196.968196 279 \n\" style=\"fill:none;stroke:#ff0000;stroke-width:1.5;\"/>\n    <path clip-path=\"url(#pdbc24ceeec)\" d=\"M 191.140981 279 \nL 191.140981 251.867634 \nL 195.114082 251.867634 \nL 195.114082 265.515035 \n\" style=\"fill:none;stroke:#ff0000;stroke-width:1.5;\"/>\n    <path clip-path=\"url(#pdbc24ceeec)\" d=\"M 187.9625 279 \nL 187.9625 228.859357 \nL 193.127532 228.859357 \nL 193.127532 251.867634 \n\" style=\"fill:none;stroke:#ff0000;stroke-width:1.5;\"/>\n    <path clip-path=\"url(#pdbc24ceeec)\" d=\"M 201.735918 279 \nL 201.735918 255.105228 \nL 203.854905 255.105228 \nL 203.854905 279 \n\" style=\"fill:none;stroke:#ff0000;stroke-width:1.5;\"/>\n    <path clip-path=\"url(#pdbc24ceeec)\" d=\"M 205.973892 279 \nL 205.973892 272.257518 \nL 208.09288 272.257518 \nL 208.09288 279 \n\" style=\"fill:none;stroke:#ff0000;stroke-width:1.5;\"/>\n    <path clip-path=\"url(#pdbc24ceeec)\" d=\"M 218.687816 279 \nL 218.687816 279 \nL 220.806804 279 \nL 220.806804 279 \n\" style=\"fill:none;stroke:#ff0000;stroke-width:1.5;\"/>\n    <path clip-path=\"url(#pdbc24ceeec)\" d=\"M 216.568829 279 \nL 216.568829 279 \nL 219.74731 279 \nL 219.74731 279 \n\" style=\"fill:none;stroke:#ff0000;stroke-width:1.5;\"/>\n    <path clip-path=\"url(#pdbc24ceeec)\" d=\"M 214.449842 279 \nL 214.449842 279 \nL 218.15807 279 \nL 218.15807 279 \n\" style=\"fill:none;stroke:#ff0000;stroke-width:1.5;\"/>\n    <path clip-path=\"url(#pdbc24ceeec)\" d=\"M 212.330854 279 \nL 212.330854 279 \nL 216.303956 279 \nL 216.303956 279 \n\" style=\"fill:none;stroke:#ff0000;stroke-width:1.5;\"/>\n    <path clip-path=\"url(#pdbc24ceeec)\" d=\"M 210.211867 279 \nL 210.211867 254.528804 \nL 214.317405 254.528804 \nL 214.317405 279 \n\" style=\"fill:none;stroke:#ff0000;stroke-width:1.5;\"/>\n    <path clip-path=\"url(#pdbc24ceeec)\" d=\"M 207.033386 272.257518 \nL 207.033386 248.18529 \nL 212.264636 248.18529 \nL 212.264636 254.528804 \n\" style=\"fill:none;stroke:#ff0000;stroke-width:1.5;\"/>\n    <path clip-path=\"url(#pdbc24ceeec)\" d=\"M 202.795411 255.105228 \nL 202.795411 220.904893 \nL 209.649011 220.904893 \nL 209.649011 248.18529 \n\" style=\"fill:none;stroke:#ff0000;stroke-width:1.5;\"/>\n    <path clip-path=\"url(#pdbc24ceeec)\" d=\"M 190.545016 228.859357 \nL 190.545016 181.986673 \nL 206.222211 181.986673 \nL 206.222211 220.904893 \n\" style=\"fill:none;stroke:#ff0000;stroke-width:1.5;\"/>\n    <path clip-path=\"url(#pdbc24ceeec)\" d=\"M 111.826912 200.965731 \nL 111.826912 177.839953 \nL 198.383614 177.839953 \nL 198.383614 181.986673 \n\" style=\"fill:none;stroke:#ff0000;stroke-width:1.5;\"/>\n    <path clip-path=\"url(#pdbc24ceeec)\" d=\"M 225.044778 279 \nL 225.044778 255.496049 \nL 227.163766 255.496049 \nL 227.163766 279 \n\" style=\"fill:none;stroke:#ff0000;stroke-width:1.5;\"/>\n    <path clip-path=\"url(#pdbc24ceeec)\" d=\"M 222.925791 279 \nL 222.925791 240.587125 \nL 226.104272 240.587125 \nL 226.104272 255.496049 \n\" style=\"fill:none;stroke:#ff0000;stroke-width:1.5;\"/>\n    <path clip-path=\"url(#pdbc24ceeec)\" d=\"M 241.996677 279 \nL 241.996677 279 \nL 244.115665 279 \nL 244.115665 279 \n\" style=\"fill:none;stroke:#ff0000;stroke-width:1.5;\"/>\n    <path clip-path=\"url(#pdbc24ceeec)\" d=\"M 239.87769 279 \nL 239.87769 279 \nL 243.056171 279 \nL 243.056171 279 \n\" style=\"fill:none;stroke:#ff0000;stroke-width:1.5;\"/>\n    <path clip-path=\"url(#pdbc24ceeec)\" d=\"M 237.758703 279 \nL 237.758703 279 \nL 241.46693 279 \nL 241.46693 279 \n\" style=\"fill:none;stroke:#ff0000;stroke-width:1.5;\"/>\n    <path clip-path=\"url(#pdbc24ceeec)\" d=\"M 235.639715 279 \nL 235.639715 279 \nL 239.612816 279 \nL 239.612816 279 \n\" style=\"fill:none;stroke:#ff0000;stroke-width:1.5;\"/>\n    <path clip-path=\"url(#pdbc24ceeec)\" d=\"M 233.520728 279 \nL 233.520728 279 \nL 237.626266 279 \nL 237.626266 279 \n\" style=\"fill:none;stroke:#ff0000;stroke-width:1.5;\"/>\n    <path clip-path=\"url(#pdbc24ceeec)\" d=\"M 231.401741 279 \nL 231.401741 279 \nL 235.573497 279 \nL 235.573497 279 \n\" style=\"fill:none;stroke:#ff0000;stroke-width:1.5;\"/>\n    <path clip-path=\"url(#pdbc24ceeec)\" d=\"M 229.282753 279 \nL 229.282753 272.257518 \nL 233.487619 272.257518 \nL 233.487619 279 \n\" style=\"fill:none;stroke:#ff0000;stroke-width:1.5;\"/>\n    <path clip-path=\"url(#pdbc24ceeec)\" d=\"M 252.591614 279 \nL 252.591614 279 \nL 254.710601 279 \nL 254.710601 279 \n\" style=\"fill:none;stroke:#ff0000;stroke-width:1.5;\"/>\n    <path clip-path=\"url(#pdbc24ceeec)\" d=\"M 250.472627 279 \nL 250.472627 279 \nL 253.651108 279 \nL 253.651108 279 \n\" style=\"fill:none;stroke:#ff0000;stroke-width:1.5;\"/>\n    <path clip-path=\"url(#pdbc24ceeec)\" d=\"M 248.353639 279 \nL 248.353639 279 \nL 252.061867 279 \nL 252.061867 279 \n\" style=\"fill:none;stroke:#ff0000;stroke-width:1.5;\"/>\n    <path clip-path=\"url(#pdbc24ceeec)\" d=\"M 271.6625 279 \nL 271.6625 279 \nL 273.781487 279 \nL 273.781487 279 \n\" style=\"fill:none;stroke:#ff0000;stroke-width:1.5;\"/>\n    <path clip-path=\"url(#pdbc24ceeec)\" d=\"M 269.543513 279 \nL 269.543513 279 \nL 272.721994 279 \nL 272.721994 279 \n\" style=\"fill:none;stroke:#ff0000;stroke-width:1.5;\"/>\n    <path clip-path=\"url(#pdbc24ceeec)\" d=\"M 267.424525 279 \nL 267.424525 279 \nL 271.132753 279 \nL 271.132753 279 \n\" style=\"fill:none;stroke:#ff0000;stroke-width:1.5;\"/>\n    <path clip-path=\"url(#pdbc24ceeec)\" d=\"M 265.305538 279 \nL 265.305538 279 \nL 269.278639 279 \nL 269.278639 279 \n\" style=\"fill:none;stroke:#ff0000;stroke-width:1.5;\"/>\n    <path clip-path=\"url(#pdbc24ceeec)\" d=\"M 263.186551 279 \nL 263.186551 279 \nL 267.292089 279 \nL 267.292089 279 \n\" style=\"fill:none;stroke:#ff0000;stroke-width:1.5;\"/>\n    <path clip-path=\"url(#pdbc24ceeec)\" d=\"M 261.067563 279 \nL 261.067563 279 \nL 265.23932 279 \nL 265.23932 279 \n\" style=\"fill:none;stroke:#ff0000;stroke-width:1.5;\"/>\n    <path clip-path=\"url(#pdbc24ceeec)\" d=\"M 258.948576 279 \nL 258.948576 279 \nL 263.153441 279 \nL 263.153441 279 \n\" style=\"fill:none;stroke:#ff0000;stroke-width:1.5;\"/>\n    <path clip-path=\"url(#pdbc24ceeec)\" d=\"M 256.829589 279 \nL 256.829589 279 \nL 261.051009 279 \nL 261.051009 279 \n\" style=\"fill:none;stroke:#ff0000;stroke-width:1.5;\"/>\n    <path clip-path=\"url(#pdbc24ceeec)\" d=\"M 250.207753 279 \nL 250.207753 272.257518 \nL 258.940299 272.257518 \nL 258.940299 279 \n\" style=\"fill:none;stroke:#ff0000;stroke-width:1.5;\"/>\n    <path clip-path=\"url(#pdbc24ceeec)\" d=\"M 246.234652 279 \nL 246.234652 265.515035 \nL 254.574026 265.515035 \nL 254.574026 272.257518 \n\" style=\"fill:none;stroke:#ff0000;stroke-width:1.5;\"/>\n    <path clip-path=\"url(#pdbc24ceeec)\" d=\"M 231.385186 272.257518 \nL 231.385186 249.001184 \nL 250.404339 249.001184 \nL 250.404339 265.515035 \n\" style=\"fill:none;stroke:#ff0000;stroke-width:1.5;\"/>\n    <path clip-path=\"url(#pdbc24ceeec)\" d=\"M 282.257437 279 \nL 282.257437 279 \nL 284.376424 279 \nL 284.376424 279 \n\" style=\"fill:none;stroke:#ff0000;stroke-width:1.5;\"/>\n    <path clip-path=\"url(#pdbc24ceeec)\" d=\"M 280.138449 279 \nL 280.138449 279 \nL 283.31693 279 \nL 283.31693 279 \n\" style=\"fill:none;stroke:#ff0000;stroke-width:1.5;\"/>\n    <path clip-path=\"url(#pdbc24ceeec)\" d=\"M 278.019462 279 \nL 278.019462 279 \nL 281.72769 279 \nL 281.72769 279 \n\" style=\"fill:none;stroke:#ff0000;stroke-width:1.5;\"/>\n    <path clip-path=\"url(#pdbc24ceeec)\" d=\"M 275.900475 279 \nL 275.900475 275.506572 \nL 279.873576 275.506572 \nL 279.873576 279 \n\" style=\"fill:none;stroke:#ff0000;stroke-width:1.5;\"/>\n    <path clip-path=\"url(#pdbc24ceeec)\" d=\"M 288.614399 279 \nL 288.614399 279 \nL 290.733386 279 \nL 290.733386 279 \n\" style=\"fill:none;stroke:#ff0000;stroke-width:1.5;\"/>\n    <path clip-path=\"url(#pdbc24ceeec)\" d=\"M 286.495411 279 \nL 286.495411 275.506572 \nL 289.673892 275.506572 \nL 289.673892 279 \n\" style=\"fill:none;stroke:#ff0000;stroke-width:1.5;\"/>\n    <path clip-path=\"url(#pdbc24ceeec)\" d=\"M 277.887025 275.506572 \nL 277.887025 271.060556 \nL 288.084652 271.060556 \nL 288.084652 275.506572 \n\" style=\"fill:none;stroke:#ff0000;stroke-width:1.5;\"/>\n    <path clip-path=\"url(#pdbc24ceeec)\" d=\"M 294.971361 279 \nL 294.971361 279 \nL 297.090348 279 \nL 297.090348 279 \n\" style=\"fill:none;stroke:#ff0000;stroke-width:1.5;\"/>\n    <path clip-path=\"url(#pdbc24ceeec)\" d=\"M 299.209335 279 \nL 299.209335 279 \nL 301.328323 279 \nL 301.328323 279 \n\" style=\"fill:none;stroke:#ff0000;stroke-width:1.5;\"/>\n    <path clip-path=\"url(#pdbc24ceeec)\" d=\"M 296.030854 279 \nL 296.030854 272.257518 \nL 300.268829 272.257518 \nL 300.268829 279 \n\" style=\"fill:none;stroke:#ff0000;stroke-width:1.5;\"/>\n    <path clip-path=\"url(#pdbc24ceeec)\" d=\"M 292.852373 279 \nL 292.852373 251.867634 \nL 298.149842 251.867634 \nL 298.149842 272.257518 \n\" style=\"fill:none;stroke:#ff0000;stroke-width:1.5;\"/>\n    <path clip-path=\"url(#pdbc24ceeec)\" d=\"M 282.985839 271.060556 \nL 282.985839 248.18529 \nL 295.501108 248.18529 \nL 295.501108 251.867634 \n\" style=\"fill:none;stroke:#ff0000;stroke-width:1.5;\"/>\n    <path clip-path=\"url(#pdbc24ceeec)\" d=\"M 240.894762 249.001184 \nL 240.894762 223.462495 \nL 289.243473 223.462495 \nL 289.243473 248.18529 \n\" style=\"fill:none;stroke:#ff0000;stroke-width:1.5;\"/>\n    <path clip-path=\"url(#pdbc24ceeec)\" d=\"M 307.685285 279 \nL 307.685285 279 \nL 309.804272 279 \nL 309.804272 279 \n\" style=\"fill:none;stroke:#ff0000;stroke-width:1.5;\"/>\n    <path clip-path=\"url(#pdbc24ceeec)\" d=\"M 305.566297 279 \nL 305.566297 279 \nL 308.744778 279 \nL 308.744778 279 \n\" style=\"fill:none;stroke:#ff0000;stroke-width:1.5;\"/>\n    <path clip-path=\"url(#pdbc24ceeec)\" d=\"M 303.44731 279 \nL 303.44731 279 \nL 307.155538 279 \nL 307.155538 279 \n\" style=\"fill:none;stroke:#ff0000;stroke-width:1.5;\"/>\n    <path clip-path=\"url(#pdbc24ceeec)\" d=\"M 311.923259 279 \nL 311.923259 279 \nL 314.042247 279 \nL 314.042247 279 \n\" style=\"fill:none;stroke:#ff0000;stroke-width:1.5;\"/>\n    <path clip-path=\"url(#pdbc24ceeec)\" d=\"M 305.301424 279 \nL 305.301424 272.257518 \nL 312.982753 272.257518 \nL 312.982753 279 \n\" style=\"fill:none;stroke:#ff0000;stroke-width:1.5;\"/>\n    <path clip-path=\"url(#pdbc24ceeec)\" d=\"M 320.399209 279 \nL 320.399209 279 \nL 322.518196 279 \nL 322.518196 279 \n\" style=\"fill:none;stroke:#ff0000;stroke-width:1.5;\"/>\n    <path clip-path=\"url(#pdbc24ceeec)\" d=\"M 318.280222 279 \nL 318.280222 279 \nL 321.458703 279 \nL 321.458703 279 \n\" style=\"fill:none;stroke:#ff0000;stroke-width:1.5;\"/>\n    <path clip-path=\"url(#pdbc24ceeec)\" d=\"M 352.184019 279 \nL 352.184019 279 \nL 354.303006 279 \nL 354.303006 279 \n\" style=\"fill:none;stroke:#ff0000;stroke-width:1.5;\"/>\n    <path clip-path=\"url(#pdbc24ceeec)\" d=\"M 350.065032 279 \nL 350.065032 279 \nL 353.243513 279 \nL 353.243513 279 \n\" style=\"fill:none;stroke:#ff0000;stroke-width:1.5;\"/>\n    <path clip-path=\"url(#pdbc24ceeec)\" d=\"M 347.946044 279 \nL 347.946044 279 \nL 351.654272 279 \nL 351.654272 279 \n\" style=\"fill:none;stroke:#ff0000;stroke-width:1.5;\"/>\n    <path clip-path=\"url(#pdbc24ceeec)\" d=\"M 345.827057 279 \nL 345.827057 279 \nL 349.800158 279 \nL 349.800158 279 \n\" style=\"fill:none;stroke:#ff0000;stroke-width:1.5;\"/>\n    <path clip-path=\"url(#pdbc24ceeec)\" d=\"M 343.70807 279 \nL 343.70807 279 \nL 347.813608 279 \nL 347.813608 279 \n\" style=\"fill:none;stroke:#ff0000;stroke-width:1.5;\"/>\n    <path clip-path=\"url(#pdbc24ceeec)\" d=\"M 341.589082 279 \nL 341.589082 279 \nL 345.760839 279 \nL 345.760839 279 \n\" style=\"fill:none;stroke:#ff0000;stroke-width:1.5;\"/>\n    <path clip-path=\"url(#pdbc24ceeec)\" d=\"M 339.470095 279 \nL 339.470095 279 \nL 343.67496 279 \nL 343.67496 279 \n\" style=\"fill:none;stroke:#ff0000;stroke-width:1.5;\"/>\n    <path clip-path=\"url(#pdbc24ceeec)\" d=\"M 337.351108 279 \nL 337.351108 279 \nL 341.572528 279 \nL 341.572528 279 \n\" style=\"fill:none;stroke:#ff0000;stroke-width:1.5;\"/>\n    <path clip-path=\"url(#pdbc24ceeec)\" d=\"M 335.23212 279 \nL 335.23212 279 \nL 339.461818 279 \nL 339.461818 279 \n\" style=\"fill:none;stroke:#ff0000;stroke-width:1.5;\"/>\n    <path clip-path=\"url(#pdbc24ceeec)\" d=\"M 333.113133 279 \nL 333.113133 279 \nL 337.346969 279 \nL 337.346969 279 \n\" style=\"fill:none;stroke:#ff0000;stroke-width:1.5;\"/>\n    <path clip-path=\"url(#pdbc24ceeec)\" d=\"M 330.994146 279 \nL 330.994146 279 \nL 335.230051 279 \nL 335.230051 279 \n\" style=\"fill:none;stroke:#ff0000;stroke-width:1.5;\"/>\n    <path clip-path=\"url(#pdbc24ceeec)\" d=\"M 328.875158 279 \nL 328.875158 279 \nL 333.112098 279 \nL 333.112098 279 \n\" style=\"fill:none;stroke:#ff0000;stroke-width:1.5;\"/>\n    <path clip-path=\"url(#pdbc24ceeec)\" d=\"M 326.756171 279 \nL 326.756171 279 \nL 330.993628 279 \nL 330.993628 279 \n\" style=\"fill:none;stroke:#ff0000;stroke-width:1.5;\"/>\n    <path clip-path=\"url(#pdbc24ceeec)\" d=\"M 324.637184 279 \nL 324.637184 279 \nL 328.8749 279 \nL 328.8749 279 \n\" style=\"fill:none;stroke:#ff0000;stroke-width:1.5;\"/>\n    <path clip-path=\"url(#pdbc24ceeec)\" d=\"M 319.869462 279 \nL 319.869462 272.257518 \nL 326.756042 272.257518 \nL 326.756042 279 \n\" style=\"fill:none;stroke:#ff0000;stroke-width:1.5;\"/>\n    <path clip-path=\"url(#pdbc24ceeec)\" d=\"M 316.161234 279 \nL 316.161234 253.401051 \nL 323.312752 253.401051 \nL 323.312752 272.257518 \n\" style=\"fill:none;stroke:#ff0000;stroke-width:1.5;\"/>\n    <path clip-path=\"url(#pdbc24ceeec)\" d=\"M 309.142089 272.257518 \nL 309.142089 237.228649 \nL 319.736993 237.228649 \nL 319.736993 253.401051 \n\" style=\"fill:none;stroke:#ff0000;stroke-width:1.5;\"/>\n    <path clip-path=\"url(#pdbc24ceeec)\" d=\"M 371.254905 279 \nL 371.254905 279 \nL 373.373892 279 \nL 373.373892 279 \n\" style=\"fill:none;stroke:#ff0000;stroke-width:1.5;\"/>\n    <path clip-path=\"url(#pdbc24ceeec)\" d=\"M 369.135918 279 \nL 369.135918 279 \nL 372.314399 279 \nL 372.314399 279 \n\" style=\"fill:none;stroke:#ff0000;stroke-width:1.5;\"/>\n    <path clip-path=\"url(#pdbc24ceeec)\" d=\"M 367.01693 279 \nL 367.01693 279 \nL 370.725158 279 \nL 370.725158 279 \n\" style=\"fill:none;stroke:#ff0000;stroke-width:1.5;\"/>\n    <path clip-path=\"url(#pdbc24ceeec)\" d=\"M 364.897943 279 \nL 364.897943 279 \nL 368.871044 279 \nL 368.871044 279 \n\" style=\"fill:none;stroke:#ff0000;stroke-width:1.5;\"/>\n    <path clip-path=\"url(#pdbc24ceeec)\" d=\"M 362.778956 279 \nL 362.778956 279 \nL 366.884494 279 \nL 366.884494 279 \n\" style=\"fill:none;stroke:#ff0000;stroke-width:1.5;\"/>\n    <path clip-path=\"url(#pdbc24ceeec)\" d=\"M 360.659968 279 \nL 360.659968 279 \nL 364.831725 279 \nL 364.831725 279 \n\" style=\"fill:none;stroke:#ff0000;stroke-width:1.5;\"/>\n    <path clip-path=\"url(#pdbc24ceeec)\" d=\"M 358.540981 279 \nL 358.540981 279 \nL 362.745847 279 \nL 362.745847 279 \n\" style=\"fill:none;stroke:#ff0000;stroke-width:1.5;\"/>\n    <path clip-path=\"url(#pdbc24ceeec)\" d=\"M 356.421994 279 \nL 356.421994 272.257518 \nL 360.643414 272.257518 \nL 360.643414 279 \n\" style=\"fill:none;stroke:#ff0000;stroke-width:1.5;\"/>\n    <path clip-path=\"url(#pdbc24ceeec)\" d=\"M 379.730854 279 \nL 379.730854 279 \nL 381.849842 279 \nL 381.849842 279 \n\" style=\"fill:none;stroke:#ff0000;stroke-width:1.5;\"/>\n    <path clip-path=\"url(#pdbc24ceeec)\" d=\"M 377.611867 279 \nL 377.611867 279 \nL 380.790348 279 \nL 380.790348 279 \n\" style=\"fill:none;stroke:#ff0000;stroke-width:1.5;\"/>\n    <path clip-path=\"url(#pdbc24ceeec)\" d=\"M 375.49288 279 \nL 375.49288 279 \nL 379.201108 279 \nL 379.201108 279 \n\" style=\"fill:none;stroke:#ff0000;stroke-width:1.5;\"/>\n    <path clip-path=\"url(#pdbc24ceeec)\" d=\"M 392.444778 279 \nL 392.444778 279 \nL 394.563766 279 \nL 394.563766 279 \n\" style=\"fill:none;stroke:#ff0000;stroke-width:1.5;\"/>\n    <path clip-path=\"url(#pdbc24ceeec)\" d=\"M 390.325791 279 \nL 390.325791 279 \nL 393.504272 279 \nL 393.504272 279 \n\" style=\"fill:none;stroke:#ff0000;stroke-width:1.5;\"/>\n    <path clip-path=\"url(#pdbc24ceeec)\" d=\"M 388.206804 279 \nL 388.206804 279 \nL 391.915032 279 \nL 391.915032 279 \n\" style=\"fill:none;stroke:#ff0000;stroke-width:1.5;\"/>\n    <path clip-path=\"url(#pdbc24ceeec)\" d=\"M 386.087816 279 \nL 386.087816 279 \nL 390.060918 279 \nL 390.060918 279 \n\" style=\"fill:none;stroke:#ff0000;stroke-width:1.5;\"/>\n    <path clip-path=\"url(#pdbc24ceeec)\" d=\"M 383.968829 279 \nL 383.968829 275.506572 \nL 388.074367 275.506572 \nL 388.074367 279 \n\" style=\"fill:none;stroke:#ff0000;stroke-width:1.5;\"/>\n    <path clip-path=\"url(#pdbc24ceeec)\" d=\"M 377.346994 279 \nL 377.346994 271.060556 \nL 386.021598 271.060556 \nL 386.021598 275.506572 \n\" style=\"fill:none;stroke:#ff0000;stroke-width:1.5;\"/>\n    <path clip-path=\"url(#pdbc24ceeec)\" d=\"M 358.532704 272.257518 \nL 358.532704 251.273391 \nL 381.684296 251.273391 \nL 381.684296 271.060556 \n\" style=\"fill:none;stroke:#ff0000;stroke-width:1.5;\"/>\n    <path clip-path=\"url(#pdbc24ceeec)\" d=\"M 400.920728 279 \nL 400.920728 279 \nL 403.039715 279 \nL 403.039715 279 \n\" style=\"fill:none;stroke:#ff0000;stroke-width:1.5;\"/>\n    <path clip-path=\"url(#pdbc24ceeec)\" d=\"M 398.801741 279 \nL 398.801741 279 \nL 401.980222 279 \nL 401.980222 279 \n\" style=\"fill:none;stroke:#ff0000;stroke-width:1.5;\"/>\n    <path clip-path=\"url(#pdbc24ceeec)\" d=\"M 396.682753 279 \nL 396.682753 271.060556 \nL 400.390981 271.060556 \nL 400.390981 279 \n\" style=\"fill:none;stroke:#ff0000;stroke-width:1.5;\"/>\n    <path clip-path=\"url(#pdbc24ceeec)\" d=\"M 411.515665 279 \nL 411.515665 279 \nL 413.634652 279 \nL 413.634652 279 \n\" style=\"fill:none;stroke:#ff0000;stroke-width:1.5;\"/>\n    <path clip-path=\"url(#pdbc24ceeec)\" d=\"M 409.396677 279 \nL 409.396677 279 \nL 412.575158 279 \nL 412.575158 279 \n\" style=\"fill:none;stroke:#ff0000;stroke-width:1.5;\"/>\n    <path clip-path=\"url(#pdbc24ceeec)\" d=\"M 407.27769 279 \nL 407.27769 279 \nL 410.985918 279 \nL 410.985918 279 \n\" style=\"fill:none;stroke:#ff0000;stroke-width:1.5;\"/>\n    <path clip-path=\"url(#pdbc24ceeec)\" d=\"M 415.753639 279 \nL 415.753639 279 \nL 417.872627 279 \nL 417.872627 279 \n\" style=\"fill:none;stroke:#ff0000;stroke-width:1.5;\"/>\n    <path clip-path=\"url(#pdbc24ceeec)\" d=\"M 409.131804 279 \nL 409.131804 275.506572 \nL 416.813133 275.506572 \nL 416.813133 279 \n\" style=\"fill:none;stroke:#ff0000;stroke-width:1.5;\"/>\n    <path clip-path=\"url(#pdbc24ceeec)\" d=\"M 405.158703 279 \nL 405.158703 271.060556 \nL 412.972468 271.060556 \nL 412.972468 275.506572 \n\" style=\"fill:none;stroke:#ff0000;stroke-width:1.5;\"/>\n    <path clip-path=\"url(#pdbc24ceeec)\" d=\"M 398.536867 271.060556 \nL 398.536867 251.273391 \nL 409.065585 251.273391 \nL 409.065585 271.060556 \n\" style=\"fill:none;stroke:#ff0000;stroke-width:1.5;\"/>\n    <path clip-path=\"url(#pdbc24ceeec)\" d=\"M 422.110601 279 \nL 422.110601 272.257518 \nL 424.229589 272.257518 \nL 424.229589 279 \n\" style=\"fill:none;stroke:#ff0000;stroke-width:1.5;\"/>\n    <path clip-path=\"url(#pdbc24ceeec)\" d=\"M 419.991614 279 \nL 419.991614 265.515035 \nL 423.170095 265.515035 \nL 423.170095 272.257518 \n\" style=\"fill:none;stroke:#ff0000;stroke-width:1.5;\"/>\n    <path clip-path=\"url(#pdbc24ceeec)\" d=\"M 432.705538 279 \nL 432.705538 279 \nL 434.824525 279 \nL 434.824525 279 \n\" style=\"fill:none;stroke:#ff0000;stroke-width:1.5;\"/>\n    <path clip-path=\"url(#pdbc24ceeec)\" d=\"M 430.586551 279 \nL 430.586551 275.506572 \nL 433.765032 275.506572 \nL 433.765032 279 \n\" style=\"fill:none;stroke:#ff0000;stroke-width:1.5;\"/>\n    <path clip-path=\"url(#pdbc24ceeec)\" d=\"M 428.467563 279 \nL 428.467563 271.060556 \nL 432.175791 271.060556 \nL 432.175791 275.506572 \n\" style=\"fill:none;stroke:#ff0000;stroke-width:1.5;\"/>\n    <path clip-path=\"url(#pdbc24ceeec)\" d=\"M 426.348576 279 \nL 426.348576 252.237865 \nL 430.321677 252.237865 \nL 430.321677 271.060556 \n\" style=\"fill:none;stroke:#ff0000;stroke-width:1.5;\"/>\n    <path clip-path=\"url(#pdbc24ceeec)\" d=\"M 421.580854 265.515035 \nL 421.580854 248.987985 \nL 428.335127 248.987985 \nL 428.335127 252.237865 \n\" style=\"fill:none;stroke:#ff0000;stroke-width:1.5;\"/>\n    <path clip-path=\"url(#pdbc24ceeec)\" d=\"M 403.801226 251.273391 \nL 403.801226 233.273123 \nL 424.957991 233.273123 \nL 424.957991 248.987985 \n\" style=\"fill:none;stroke:#ff0000;stroke-width:1.5;\"/>\n    <path clip-path=\"url(#pdbc24ceeec)\" d=\"M 370.1085 251.273391 \nL 370.1085 224.680463 \nL 414.379608 224.680463 \nL 414.379608 233.273123 \n\" style=\"fill:none;stroke:#ff0000;stroke-width:1.5;\"/>\n    <path clip-path=\"url(#pdbc24ceeec)\" d=\"M 314.439541 237.228649 \nL 314.439541 216.790787 \nL 392.244054 216.790787 \nL 392.244054 224.680463 \n\" style=\"fill:none;stroke:#ff0000;stroke-width:1.5;\"/>\n    <path clip-path=\"url(#pdbc24ceeec)\" d=\"M 265.069118 223.462495 \nL 265.069118 194.847941 \nL 353.341797 194.847941 \nL 353.341797 216.790787 \n\" style=\"fill:none;stroke:#ff0000;stroke-width:1.5;\"/>\n    <path clip-path=\"url(#pdbc24ceeec)\" d=\"M 224.515032 240.587125 \nL 224.515032 173.61516 \nL 309.205458 173.61516 \nL 309.205458 194.847941 \n\" style=\"fill:none;stroke:#ff0000;stroke-width:1.5;\"/>\n    <path clip-path=\"url(#pdbc24ceeec)\" d=\"M 155.105263 177.839953 \nL 155.105263 116.846339 \nL 266.860245 116.846339 \nL 266.860245 173.61516 \n\" style=\"fill:none;stroke:#ff0000;stroke-width:1.5;\"/>\n   </g>\n   <g id=\"LineCollection_3\">\n    <path clip-path=\"url(#pdbc24ceeec)\" d=\"M 441.181487 279 \nL 441.181487 279 \nL 443.300475 279 \nL 443.300475 279 \n\" style=\"fill:none;stroke:#00bfbf;stroke-width:1.5;\"/>\n    <path clip-path=\"url(#pdbc24ceeec)\" d=\"M 439.0625 279 \nL 439.0625 265.515035 \nL 442.240981 265.515035 \nL 442.240981 279 \n\" style=\"fill:none;stroke:#00bfbf;stroke-width:1.5;\"/>\n    <path clip-path=\"url(#pdbc24ceeec)\" d=\"M 436.943513 279 \nL 436.943513 254.528804 \nL 440.651741 254.528804 \nL 440.651741 265.515035 \n\" style=\"fill:none;stroke:#00bfbf;stroke-width:1.5;\"/>\n    <path clip-path=\"url(#pdbc24ceeec)\" d=\"M 449.657437 279 \nL 449.657437 279 \nL 451.776424 279 \nL 451.776424 279 \n\" style=\"fill:none;stroke:#00bfbf;stroke-width:1.5;\"/>\n    <path clip-path=\"url(#pdbc24ceeec)\" d=\"M 447.538449 279 \nL 447.538449 257.739987 \nL 450.71693 257.739987 \nL 450.71693 279 \n\" style=\"fill:none;stroke:#00bfbf;stroke-width:1.5;\"/>\n    <path clip-path=\"url(#pdbc24ceeec)\" d=\"M 445.419462 279 \nL 445.419462 254.528804 \nL 449.12769 254.528804 \nL 449.12769 257.739987 \n\" style=\"fill:none;stroke:#00bfbf;stroke-width:1.5;\"/>\n    <path clip-path=\"url(#pdbc24ceeec)\" d=\"M 456.014399 279 \nL 456.014399 279 \nL 458.133386 279 \nL 458.133386 279 \n\" style=\"fill:none;stroke:#00bfbf;stroke-width:1.5;\"/>\n    <path clip-path=\"url(#pdbc24ceeec)\" d=\"M 466.609335 279 \nL 466.609335 279 \nL 468.728323 279 \nL 468.728323 279 \n\" style=\"fill:none;stroke:#00bfbf;stroke-width:1.5;\"/>\n    <path clip-path=\"url(#pdbc24ceeec)\" d=\"M 464.490348 279 \nL 464.490348 279 \nL 467.668829 279 \nL 467.668829 279 \n\" style=\"fill:none;stroke:#00bfbf;stroke-width:1.5;\"/>\n    <path clip-path=\"url(#pdbc24ceeec)\" d=\"M 462.371361 279 \nL 462.371361 279 \nL 466.079589 279 \nL 466.079589 279 \n\" style=\"fill:none;stroke:#00bfbf;stroke-width:1.5;\"/>\n    <path clip-path=\"url(#pdbc24ceeec)\" d=\"M 460.252373 279 \nL 460.252373 279 \nL 464.225475 279 \nL 464.225475 279 \n\" style=\"fill:none;stroke:#00bfbf;stroke-width:1.5;\"/>\n    <path clip-path=\"url(#pdbc24ceeec)\" d=\"M 457.073892 279 \nL 457.073892 272.257518 \nL 462.238924 272.257518 \nL 462.238924 279 \n\" style=\"fill:none;stroke:#00bfbf;stroke-width:1.5;\"/>\n    <path clip-path=\"url(#pdbc24ceeec)\" d=\"M 453.895411 279 \nL 453.895411 253.401051 \nL 459.656408 253.401051 \nL 459.656408 272.257518 \n\" style=\"fill:none;stroke:#00bfbf;stroke-width:1.5;\"/>\n    <path clip-path=\"url(#pdbc24ceeec)\" d=\"M 447.273576 254.528804 \nL 447.273576 234.151255 \nL 456.77591 234.151255 \nL 456.77591 253.401051 \n\" style=\"fill:none;stroke:#00bfbf;stroke-width:1.5;\"/>\n    <path clip-path=\"url(#pdbc24ceeec)\" d=\"M 438.797627 254.528804 \nL 438.797627 213.470898 \nL 452.024743 213.470898 \nL 452.024743 234.151255 \n\" style=\"fill:none;stroke:#00bfbf;stroke-width:1.5;\"/>\n    <path clip-path=\"url(#pdbc24ceeec)\" d=\"M 472.966297 279 \nL 472.966297 271.060556 \nL 475.085285 271.060556 \nL 475.085285 279 \n\" style=\"fill:none;stroke:#00bfbf;stroke-width:1.5;\"/>\n    <path clip-path=\"url(#pdbc24ceeec)\" d=\"M 470.84731 279 \nL 470.84731 253.401051 \nL 474.025791 253.401051 \nL 474.025791 271.060556 \n\" style=\"fill:none;stroke:#00bfbf;stroke-width:1.5;\"/>\n    <path clip-path=\"url(#pdbc24ceeec)\" d=\"M 479.323259 279 \nL 479.323259 271.060556 \nL 481.442247 271.060556 \nL 481.442247 279 \n\" style=\"fill:none;stroke:#00bfbf;stroke-width:1.5;\"/>\n    <path clip-path=\"url(#pdbc24ceeec)\" d=\"M 477.204272 279 \nL 477.204272 252.023514 \nL 480.382753 252.023514 \nL 480.382753 271.060556 \n\" style=\"fill:none;stroke:#00bfbf;stroke-width:1.5;\"/>\n    <path clip-path=\"url(#pdbc24ceeec)\" d=\"M 472.436551 253.401051 \nL 472.436551 235.799044 \nL 478.793513 235.799044 \nL 478.793513 252.023514 \n\" style=\"fill:none;stroke:#00bfbf;stroke-width:1.5;\"/>\n    <path clip-path=\"url(#pdbc24ceeec)\" d=\"M 485.680222 279 \nL 485.680222 271.060556 \nL 487.799209 271.060556 \nL 487.799209 279 \n\" style=\"fill:none;stroke:#00bfbf;stroke-width:1.5;\"/>\n    <path clip-path=\"url(#pdbc24ceeec)\" d=\"M 483.561234 279 \nL 483.561234 236.339323 \nL 486.739715 236.339323 \nL 486.739715 271.060556 \n\" style=\"fill:none;stroke:#00bfbf;stroke-width:1.5;\"/>\n    <path clip-path=\"url(#pdbc24ceeec)\" d=\"M 492.037184 279 \nL 492.037184 271.060556 \nL 494.156171 271.060556 \nL 494.156171 279 \n\" style=\"fill:none;stroke:#00bfbf;stroke-width:1.5;\"/>\n    <path clip-path=\"url(#pdbc24ceeec)\" d=\"M 489.918196 279 \nL 489.918196 255.496049 \nL 493.096677 255.496049 \nL 493.096677 271.060556 \n\" style=\"fill:none;stroke:#00bfbf;stroke-width:1.5;\"/>\n    <path clip-path=\"url(#pdbc24ceeec)\" d=\"M 500.513133 279 \nL 500.513133 279 \nL 502.63212 279 \nL 502.63212 279 \n\" style=\"fill:none;stroke:#00bfbf;stroke-width:1.5;\"/>\n    <path clip-path=\"url(#pdbc24ceeec)\" d=\"M 498.394146 279 \nL 498.394146 279 \nL 501.572627 279 \nL 501.572627 279 \n\" style=\"fill:none;stroke:#00bfbf;stroke-width:1.5;\"/>\n    <path clip-path=\"url(#pdbc24ceeec)\" d=\"M 496.275158 279 \nL 496.275158 275.506572 \nL 499.983386 275.506572 \nL 499.983386 279 \n\" style=\"fill:none;stroke:#00bfbf;stroke-width:1.5;\"/>\n    <path clip-path=\"url(#pdbc24ceeec)\" d=\"M 513.227057 279 \nL 513.227057 279 \nL 515.346044 279 \nL 515.346044 279 \n\" style=\"fill:none;stroke:#00bfbf;stroke-width:1.5;\"/>\n    <path clip-path=\"url(#pdbc24ceeec)\" d=\"M 511.10807 279 \nL 511.10807 279 \nL 514.286551 279 \nL 514.286551 279 \n\" style=\"fill:none;stroke:#00bfbf;stroke-width:1.5;\"/>\n    <path clip-path=\"url(#pdbc24ceeec)\" d=\"M 508.989082 279 \nL 508.989082 279 \nL 512.69731 279 \nL 512.69731 279 \n\" style=\"fill:none;stroke:#00bfbf;stroke-width:1.5;\"/>\n    <path clip-path=\"url(#pdbc24ceeec)\" d=\"M 506.870095 279 \nL 506.870095 275.506572 \nL 510.843196 275.506572 \nL 510.843196 279 \n\" style=\"fill:none;stroke:#00bfbf;stroke-width:1.5;\"/>\n    <path clip-path=\"url(#pdbc24ceeec)\" d=\"M 504.751108 279 \nL 504.751108 271.060556 \nL 508.856646 271.060556 \nL 508.856646 275.506572 \n\" style=\"fill:none;stroke:#00bfbf;stroke-width:1.5;\"/>\n    <path clip-path=\"url(#pdbc24ceeec)\" d=\"M 498.129272 275.506572 \nL 498.129272 251.273391 \nL 506.803877 251.273391 \nL 506.803877 271.060556 \n\" style=\"fill:none;stroke:#00bfbf;stroke-width:1.5;\"/>\n    <path clip-path=\"url(#pdbc24ceeec)\" d=\"M 491.507437 255.496049 \nL 491.507437 234.984877 \nL 502.466574 234.984877 \nL 502.466574 251.273391 \n\" style=\"fill:none;stroke:#00bfbf;stroke-width:1.5;\"/>\n    <path clip-path=\"url(#pdbc24ceeec)\" d=\"M 485.150475 236.339323 \nL 485.150475 199.26259 \nL 496.987006 199.26259 \nL 496.987006 234.984877 \n\" style=\"fill:none;stroke:#00bfbf;stroke-width:1.5;\"/>\n    <path clip-path=\"url(#pdbc24ceeec)\" d=\"M 475.615032 235.799044 \nL 475.615032 178.95593 \nL 491.06874 178.95593 \nL 491.06874 199.26259 \n\" style=\"fill:none;stroke:#00bfbf;stroke-width:1.5;\"/>\n    <path clip-path=\"url(#pdbc24ceeec)\" d=\"M 445.411185 213.470898 \nL 445.411185 154.039721 \nL 483.341886 154.039721 \nL 483.341886 178.95593 \n\" style=\"fill:none;stroke:#00bfbf;stroke-width:1.5;\"/>\n    <path clip-path=\"url(#pdbc24ceeec)\" d=\"M 521.703006 279 \nL 521.703006 257.739987 \nL 523.821994 257.739987 \nL 523.821994 279 \n\" style=\"fill:none;stroke:#00bfbf;stroke-width:1.5;\"/>\n    <path clip-path=\"url(#pdbc24ceeec)\" d=\"M 519.584019 279 \nL 519.584019 255.105228 \nL 522.7625 255.105228 \nL 522.7625 257.739987 \n\" style=\"fill:none;stroke:#00bfbf;stroke-width:1.5;\"/>\n    <path clip-path=\"url(#pdbc24ceeec)\" d=\"M 517.465032 279 \nL 517.465032 224.680463 \nL 521.173259 224.680463 \nL 521.173259 255.105228 \n\" style=\"fill:none;stroke:#00bfbf;stroke-width:1.5;\"/>\n    <path clip-path=\"url(#pdbc24ceeec)\" d=\"M 530.178956 279 \nL 530.178956 279 \nL 532.297943 279 \nL 532.297943 279 \n\" style=\"fill:none;stroke:#00bfbf;stroke-width:1.5;\"/>\n    <path clip-path=\"url(#pdbc24ceeec)\" d=\"M 538.654905 279 \nL 538.654905 279 \nL 540.773892 279 \nL 540.773892 279 \n\" style=\"fill:none;stroke:#00bfbf;stroke-width:1.5;\"/>\n    <path clip-path=\"url(#pdbc24ceeec)\" d=\"M 536.535918 279 \nL 536.535918 279 \nL 539.714399 279 \nL 539.714399 279 \n\" style=\"fill:none;stroke:#00bfbf;stroke-width:1.5;\"/>\n    <path clip-path=\"url(#pdbc24ceeec)\" d=\"M 534.41693 279 \nL 534.41693 279 \nL 538.125158 279 \nL 538.125158 279 \n\" style=\"fill:none;stroke:#00bfbf;stroke-width:1.5;\"/>\n    <path clip-path=\"url(#pdbc24ceeec)\" d=\"M 531.238449 279 \nL 531.238449 272.257518 \nL 536.271044 272.257518 \nL 536.271044 279 \n\" style=\"fill:none;stroke:#00bfbf;stroke-width:1.5;\"/>\n    <path clip-path=\"url(#pdbc24ceeec)\" d=\"M 528.059968 279 \nL 528.059968 253.401051 \nL 533.754747 253.401051 \nL 533.754747 272.257518 \n\" style=\"fill:none;stroke:#00bfbf;stroke-width:1.5;\"/>\n    <path clip-path=\"url(#pdbc24ceeec)\" d=\"M 525.940981 279 \nL 525.940981 237.935042 \nL 530.907358 237.935042 \nL 530.907358 253.401051 \n\" style=\"fill:none;stroke:#00bfbf;stroke-width:1.5;\"/>\n    <path clip-path=\"url(#pdbc24ceeec)\" d=\"M 545.011867 279 \nL 545.011867 271.768441 \nL 547.130854 271.768441 \nL 547.130854 279 \n\" style=\"fill:none;stroke:#00bfbf;stroke-width:1.5;\"/>\n    <path clip-path=\"url(#pdbc24ceeec)\" d=\"M 542.89288 279 \nL 542.89288 265.515035 \nL 546.071361 265.515035 \nL 546.071361 271.768441 \n\" style=\"fill:none;stroke:#00bfbf;stroke-width:1.5;\"/>\n    <path clip-path=\"url(#pdbc24ceeec)\" d=\"M 551.368829 279 \nL 551.368829 275.506572 \nL 553.487816 275.506572 \nL 553.487816 279 \n\" style=\"fill:none;stroke:#00bfbf;stroke-width:1.5;\"/>\n    <path clip-path=\"url(#pdbc24ceeec)\" d=\"M 549.249842 279 \nL 549.249842 271.060556 \nL 552.428323 271.060556 \nL 552.428323 275.506572 \n\" style=\"fill:none;stroke:#00bfbf;stroke-width:1.5;\"/>\n    <path clip-path=\"url(#pdbc24ceeec)\" d=\"M 555.606804 279 \nL 555.606804 275.506572 \nL 557.725791 275.506572 \nL 557.725791 279 \n\" style=\"fill:none;stroke:#00bfbf;stroke-width:1.5;\"/>\n    <path clip-path=\"url(#pdbc24ceeec)\" d=\"M 561.963766 279 \nL 561.963766 279 \nL 564.082753 279 \nL 564.082753 279 \n\" style=\"fill:none;stroke:#00bfbf;stroke-width:1.5;\"/>\n    <path clip-path=\"url(#pdbc24ceeec)\" d=\"M 559.844778 279 \nL 559.844778 275.506572 \nL 563.023259 275.506572 \nL 563.023259 279 \n\" style=\"fill:none;stroke:#00bfbf;stroke-width:1.5;\"/>\n    <path clip-path=\"url(#pdbc24ceeec)\" d=\"M 556.666297 275.506572 \nL 556.666297 252.690611 \nL 561.434019 252.690611 \nL 561.434019 275.506572 \n\" style=\"fill:none;stroke:#00bfbf;stroke-width:1.5;\"/>\n    <path clip-path=\"url(#pdbc24ceeec)\" d=\"M 550.839082 271.060556 \nL 550.839082 251.273391 \nL 559.050158 251.273391 \nL 559.050158 252.690611 \n\" style=\"fill:none;stroke:#00bfbf;stroke-width:1.5;\"/>\n    <path clip-path=\"url(#pdbc24ceeec)\" d=\"M 544.48212 265.515035 \nL 544.48212 235.352432 \nL 554.94462 235.352432 \nL 554.94462 251.273391 \n\" style=\"fill:none;stroke:#00bfbf;stroke-width:1.5;\"/>\n    <path clip-path=\"url(#pdbc24ceeec)\" d=\"M 528.424169 237.935042 \nL 528.424169 216.999375 \nL 549.71337 216.999375 \nL 549.71337 235.352432 \n\" style=\"fill:none;stroke:#00bfbf;stroke-width:1.5;\"/>\n    <path clip-path=\"url(#pdbc24ceeec)\" d=\"M 519.319146 224.680463 \nL 519.319146 189.722153 \nL 539.06877 189.722153 \nL 539.06877 216.999375 \n\" style=\"fill:none;stroke:#00bfbf;stroke-width:1.5;\"/>\n    <path clip-path=\"url(#pdbc24ceeec)\" d=\"M 572.558703 279 \nL 572.558703 279 \nL 574.67769 279 \nL 574.67769 279 \n\" style=\"fill:none;stroke:#00bfbf;stroke-width:1.5;\"/>\n    <path clip-path=\"url(#pdbc24ceeec)\" d=\"M 570.439715 279 \nL 570.439715 279 \nL 573.618196 279 \nL 573.618196 279 \n\" style=\"fill:none;stroke:#00bfbf;stroke-width:1.5;\"/>\n    <path clip-path=\"url(#pdbc24ceeec)\" d=\"M 568.320728 279 \nL 568.320728 272.257518 \nL 572.028956 272.257518 \nL 572.028956 279 \n\" style=\"fill:none;stroke:#00bfbf;stroke-width:1.5;\"/>\n    <path clip-path=\"url(#pdbc24ceeec)\" d=\"M 566.201741 279 \nL 566.201741 255.105228 \nL 570.174842 255.105228 \nL 570.174842 272.257518 \n\" style=\"fill:none;stroke:#00bfbf;stroke-width:1.5;\"/>\n    <path clip-path=\"url(#pdbc24ceeec)\" d=\"M 587.391614 279 \nL 587.391614 279 \nL 589.510601 279 \nL 589.510601 279 \n\" style=\"fill:none;stroke:#00bfbf;stroke-width:1.5;\"/>\n    <path clip-path=\"url(#pdbc24ceeec)\" d=\"M 585.272627 279 \nL 585.272627 279 \nL 588.451108 279 \nL 588.451108 279 \n\" style=\"fill:none;stroke:#00bfbf;stroke-width:1.5;\"/>\n    <path clip-path=\"url(#pdbc24ceeec)\" d=\"M 583.153639 279 \nL 583.153639 279 \nL 586.861867 279 \nL 586.861867 279 \n\" style=\"fill:none;stroke:#00bfbf;stroke-width:1.5;\"/>\n    <path clip-path=\"url(#pdbc24ceeec)\" d=\"M 581.034652 279 \nL 581.034652 279 \nL 585.007753 279 \nL 585.007753 279 \n\" style=\"fill:none;stroke:#00bfbf;stroke-width:1.5;\"/>\n    <path clip-path=\"url(#pdbc24ceeec)\" d=\"M 578.915665 279 \nL 578.915665 272.257518 \nL 583.021203 272.257518 \nL 583.021203 279 \n\" style=\"fill:none;stroke:#00bfbf;stroke-width:1.5;\"/>\n    <path clip-path=\"url(#pdbc24ceeec)\" d=\"M 576.796677 279 \nL 576.796677 265.515035 \nL 580.968434 265.515035 \nL 580.968434 272.257518 \n\" style=\"fill:none;stroke:#00bfbf;stroke-width:1.5;\"/>\n    <path clip-path=\"url(#pdbc24ceeec)\" d=\"M 591.629589 279 \nL 591.629589 279 \nL 593.748576 279 \nL 593.748576 279 \n\" style=\"fill:none;stroke:#00bfbf;stroke-width:1.5;\"/>\n    <path clip-path=\"url(#pdbc24ceeec)\" d=\"M 600.105538 279 \nL 600.105538 279 \nL 602.224525 279 \nL 602.224525 279 \n\" style=\"fill:none;stroke:#00bfbf;stroke-width:1.5;\"/>\n    <path clip-path=\"url(#pdbc24ceeec)\" d=\"M 597.986551 279 \nL 597.986551 279 \nL 601.165032 279 \nL 601.165032 279 \n\" style=\"fill:none;stroke:#00bfbf;stroke-width:1.5;\"/>\n    <path clip-path=\"url(#pdbc24ceeec)\" d=\"M 595.867563 279 \nL 595.867563 279 \nL 599.575791 279 \nL 599.575791 279 \n\" style=\"fill:none;stroke:#00bfbf;stroke-width:1.5;\"/>\n    <path clip-path=\"url(#pdbc24ceeec)\" d=\"M 592.689082 279 \nL 592.689082 254.528804 \nL 597.721677 254.528804 \nL 597.721677 279 \n\" style=\"fill:none;stroke:#00bfbf;stroke-width:1.5;\"/>\n    <path clip-path=\"url(#pdbc24ceeec)\" d=\"M 578.882555 265.515035 \nL 578.882555 248.694581 \nL 595.20538 248.694581 \nL 595.20538 254.528804 \n\" style=\"fill:none;stroke:#00bfbf;stroke-width:1.5;\"/>\n    <path clip-path=\"url(#pdbc24ceeec)\" d=\"M 568.188291 255.105228 \nL 568.188291 230.057608 \nL 587.043968 230.057608 \nL 587.043968 248.694581 \n\" style=\"fill:none;stroke:#00bfbf;stroke-width:1.5;\"/>\n    <path clip-path=\"url(#pdbc24ceeec)\" d=\"M 608.581487 279 \nL 608.581487 279 \nL 610.700475 279 \nL 610.700475 279 \n\" style=\"fill:none;stroke:#00bfbf;stroke-width:1.5;\"/>\n    <path clip-path=\"url(#pdbc24ceeec)\" d=\"M 606.4625 279 \nL 606.4625 279 \nL 609.640981 279 \nL 609.640981 279 \n\" style=\"fill:none;stroke:#00bfbf;stroke-width:1.5;\"/>\n    <path clip-path=\"url(#pdbc24ceeec)\" d=\"M 604.343513 279 \nL 604.343513 279 \nL 608.051741 279 \nL 608.051741 279 \n\" style=\"fill:none;stroke:#00bfbf;stroke-width:1.5;\"/>\n    <path clip-path=\"url(#pdbc24ceeec)\" d=\"M 617.057437 279 \nL 617.057437 279 \nL 619.176424 279 \nL 619.176424 279 \n\" style=\"fill:none;stroke:#00bfbf;stroke-width:1.5;\"/>\n    <path clip-path=\"url(#pdbc24ceeec)\" d=\"M 614.938449 279 \nL 614.938449 279 \nL 618.11693 279 \nL 618.11693 279 \n\" style=\"fill:none;stroke:#00bfbf;stroke-width:1.5;\"/>\n    <path clip-path=\"url(#pdbc24ceeec)\" d=\"M 612.819462 279 \nL 612.819462 279 \nL 616.52769 279 \nL 616.52769 279 \n\" style=\"fill:none;stroke:#00bfbf;stroke-width:1.5;\"/>\n    <path clip-path=\"url(#pdbc24ceeec)\" d=\"M 606.197627 279 \nL 606.197627 275.506572 \nL 614.673576 275.506572 \nL 614.673576 279 \n\" style=\"fill:none;stroke:#00bfbf;stroke-width:1.5;\"/>\n    <path clip-path=\"url(#pdbc24ceeec)\" d=\"M 625.533386 279 \nL 625.533386 279 \nL 627.652373 279 \nL 627.652373 279 \n\" style=\"fill:none;stroke:#00bfbf;stroke-width:1.5;\"/>\n    <path clip-path=\"url(#pdbc24ceeec)\" d=\"M 623.414399 279 \nL 623.414399 279 \nL 626.59288 279 \nL 626.59288 279 \n\" style=\"fill:none;stroke:#00bfbf;stroke-width:1.5;\"/>\n    <path clip-path=\"url(#pdbc24ceeec)\" d=\"M 621.295411 279 \nL 621.295411 279 \nL 625.003639 279 \nL 625.003639 279 \n\" style=\"fill:none;stroke:#00bfbf;stroke-width:1.5;\"/>\n    <path clip-path=\"url(#pdbc24ceeec)\" d=\"M 638.24731 279 \nL 638.24731 279 \nL 640.366297 279 \nL 640.366297 279 \n\" style=\"fill:none;stroke:#00bfbf;stroke-width:1.5;\"/>\n    <path clip-path=\"url(#pdbc24ceeec)\" d=\"M 636.128323 279 \nL 636.128323 279 \nL 639.306804 279 \nL 639.306804 279 \n\" style=\"fill:none;stroke:#00bfbf;stroke-width:1.5;\"/>\n    <path clip-path=\"url(#pdbc24ceeec)\" d=\"M 634.009335 279 \nL 634.009335 279 \nL 637.717563 279 \nL 637.717563 279 \n\" style=\"fill:none;stroke:#00bfbf;stroke-width:1.5;\"/>\n    <path clip-path=\"url(#pdbc24ceeec)\" d=\"M 631.890348 279 \nL 631.890348 279 \nL 635.863449 279 \nL 635.863449 279 \n\" style=\"fill:none;stroke:#00bfbf;stroke-width:1.5;\"/>\n    <path clip-path=\"url(#pdbc24ceeec)\" d=\"M 629.771361 279 \nL 629.771361 279 \nL 633.876899 279 \nL 633.876899 279 \n\" style=\"fill:none;stroke:#00bfbf;stroke-width:1.5;\"/>\n    <path clip-path=\"url(#pdbc24ceeec)\" d=\"M 642.485285 279 \nL 642.485285 279 \nL 644.604272 279 \nL 644.604272 279 \n\" style=\"fill:none;stroke:#00bfbf;stroke-width:1.5;\"/>\n    <path clip-path=\"url(#pdbc24ceeec)\" d=\"M 631.82413 279 \nL 631.82413 275.506572 \nL 643.544778 275.506572 \nL 643.544778 279 \n\" style=\"fill:none;stroke:#00bfbf;stroke-width:1.5;\"/>\n    <path clip-path=\"url(#pdbc24ceeec)\" d=\"M 623.149525 279 \nL 623.149525 271.060556 \nL 637.684454 271.060556 \nL 637.684454 275.506572 \n\" style=\"fill:none;stroke:#00bfbf;stroke-width:1.5;\"/>\n    <path clip-path=\"url(#pdbc24ceeec)\" d=\"M 610.435601 275.506572 \nL 610.435601 251.273391 \nL 630.41699 251.273391 \nL 630.41699 271.060556 \n\" style=\"fill:none;stroke:#00bfbf;stroke-width:1.5;\"/>\n    <path clip-path=\"url(#pdbc24ceeec)\" d=\"M 650.961234 279 \nL 650.961234 279 \nL 653.080222 279 \nL 653.080222 279 \n\" style=\"fill:none;stroke:#00bfbf;stroke-width:1.5;\"/>\n    <path clip-path=\"url(#pdbc24ceeec)\" d=\"M 648.842247 279 \nL 648.842247 279 \nL 652.020728 279 \nL 652.020728 279 \n\" style=\"fill:none;stroke:#00bfbf;stroke-width:1.5;\"/>\n    <path clip-path=\"url(#pdbc24ceeec)\" d=\"M 646.723259 279 \nL 646.723259 272.257518 \nL 650.431487 272.257518 \nL 650.431487 279 \n\" style=\"fill:none;stroke:#00bfbf;stroke-width:1.5;\"/>\n    <path clip-path=\"url(#pdbc24ceeec)\" d=\"M 655.199209 279 \nL 655.199209 279 \nL 657.318196 279 \nL 657.318196 279 \n\" style=\"fill:none;stroke:#00bfbf;stroke-width:1.5;\"/>\n    <path clip-path=\"url(#pdbc24ceeec)\" d=\"M 661.556171 279 \nL 661.556171 279 \nL 663.675158 279 \nL 663.675158 279 \n\" style=\"fill:none;stroke:#00bfbf;stroke-width:1.5;\"/>\n    <path clip-path=\"url(#pdbc24ceeec)\" d=\"M 659.437184 279 \nL 659.437184 272.257518 \nL 662.615665 272.257518 \nL 662.615665 279 \n\" style=\"fill:none;stroke:#00bfbf;stroke-width:1.5;\"/>\n    <path clip-path=\"url(#pdbc24ceeec)\" d=\"M 656.258703 279 \nL 656.258703 254.528804 \nL 661.026424 254.528804 \nL 661.026424 272.257518 \n\" style=\"fill:none;stroke:#00bfbf;stroke-width:1.5;\"/>\n    <path clip-path=\"url(#pdbc24ceeec)\" d=\"M 648.577373 272.257518 \nL 648.577373 236.76221 \nL 658.642563 236.76221 \nL 658.642563 254.528804 \n\" style=\"fill:none;stroke:#00bfbf;stroke-width:1.5;\"/>\n    <path clip-path=\"url(#pdbc24ceeec)\" d=\"M 620.426295 251.273391 \nL 620.426295 224.680463 \nL 653.609968 224.680463 \nL 653.609968 236.76221 \n\" style=\"fill:none;stroke:#00bfbf;stroke-width:1.5;\"/>\n    <path clip-path=\"url(#pdbc24ceeec)\" d=\"M 577.616129 230.057608 \nL 577.616129 197.52516 \nL 637.018132 197.52516 \nL 637.018132 224.680463 \n\" style=\"fill:none;stroke:#00bfbf;stroke-width:1.5;\"/>\n    <path clip-path=\"url(#pdbc24ceeec)\" d=\"M 665.794146 279 \nL 665.794146 279 \nL 667.913133 279 \nL 667.913133 279 \n\" style=\"fill:none;stroke:#00bfbf;stroke-width:1.5;\"/>\n    <path clip-path=\"url(#pdbc24ceeec)\" d=\"M 672.151108 279 \nL 672.151108 279 \nL 674.270095 279 \nL 674.270095 279 \n\" style=\"fill:none;stroke:#00bfbf;stroke-width:1.5;\"/>\n    <path clip-path=\"url(#pdbc24ceeec)\" d=\"M 670.03212 279 \nL 670.03212 272.257518 \nL 673.210601 272.257518 \nL 673.210601 279 \n\" style=\"fill:none;stroke:#00bfbf;stroke-width:1.5;\"/>\n    <path clip-path=\"url(#pdbc24ceeec)\" d=\"M 666.853639 279 \nL 666.853639 255.105228 \nL 671.621361 255.105228 \nL 671.621361 272.257518 \n\" style=\"fill:none;stroke:#00bfbf;stroke-width:1.5;\"/>\n    <path clip-path=\"url(#pdbc24ceeec)\" d=\"M 678.50807 279 \nL 678.50807 279 \nL 680.627057 279 \nL 680.627057 279 \n\" style=\"fill:none;stroke:#00bfbf;stroke-width:1.5;\"/>\n    <path clip-path=\"url(#pdbc24ceeec)\" d=\"M 676.389082 279 \nL 676.389082 275.506572 \nL 679.567563 275.506572 \nL 679.567563 279 \n\" style=\"fill:none;stroke:#00bfbf;stroke-width:1.5;\"/>\n    <path clip-path=\"url(#pdbc24ceeec)\" d=\"M 689.103006 279 \nL 689.103006 279 \nL 691.221994 279 \nL 691.221994 279 \n\" style=\"fill:none;stroke:#00bfbf;stroke-width:1.5;\"/>\n    <path clip-path=\"url(#pdbc24ceeec)\" d=\"M 686.984019 279 \nL 686.984019 279 \nL 690.1625 279 \nL 690.1625 279 \n\" style=\"fill:none;stroke:#00bfbf;stroke-width:1.5;\"/>\n    <path clip-path=\"url(#pdbc24ceeec)\" d=\"M 684.865032 279 \nL 684.865032 279 \nL 688.573259 279 \nL 688.573259 279 \n\" style=\"fill:none;stroke:#00bfbf;stroke-width:1.5;\"/>\n    <path clip-path=\"url(#pdbc24ceeec)\" d=\"M 682.746044 279 \nL 682.746044 272.257518 \nL 686.719146 272.257518 \nL 686.719146 279 \n\" style=\"fill:none;stroke:#00bfbf;stroke-width:1.5;\"/>\n    <path clip-path=\"url(#pdbc24ceeec)\" d=\"M 677.978323 275.506572 \nL 677.978323 265.460835 \nL 684.732595 265.460835 \nL 684.732595 272.257518 \n\" style=\"fill:none;stroke:#00bfbf;stroke-width:1.5;\"/>\n    <path clip-path=\"url(#pdbc24ceeec)\" d=\"M 693.340981 279 \nL 693.340981 257.708638 \nL 695.459968 257.708638 \nL 695.459968 279 \n\" style=\"fill:none;stroke:#00bfbf;stroke-width:1.5;\"/>\n    <path clip-path=\"url(#pdbc24ceeec)\" d=\"M 681.355459 265.460835 \nL 681.355459 248.694581 \nL 694.400475 248.694581 \nL 694.400475 257.708638 \n\" style=\"fill:none;stroke:#00bfbf;stroke-width:1.5;\"/>\n    <path clip-path=\"url(#pdbc24ceeec)\" d=\"M 669.2375 255.105228 \nL 669.2375 229.248273 \nL 687.877967 229.248273 \nL 687.877967 248.694581 \n\" style=\"fill:none;stroke:#00bfbf;stroke-width:1.5;\"/>\n    <path clip-path=\"url(#pdbc24ceeec)\" d=\"M 697.578956 279 \nL 697.578956 279 \nL 699.697943 279 \nL 699.697943 279 \n\" style=\"fill:none;stroke:#00bfbf;stroke-width:1.5;\"/>\n    <path clip-path=\"url(#pdbc24ceeec)\" d=\"M 708.173892 279 \nL 708.173892 279 \nL 710.29288 279 \nL 710.29288 279 \n\" style=\"fill:none;stroke:#00bfbf;stroke-width:1.5;\"/>\n    <path clip-path=\"url(#pdbc24ceeec)\" d=\"M 706.054905 279 \nL 706.054905 279 \nL 709.233386 279 \nL 709.233386 279 \n\" style=\"fill:none;stroke:#00bfbf;stroke-width:1.5;\"/>\n    <path clip-path=\"url(#pdbc24ceeec)\" d=\"M 703.935918 279 \nL 703.935918 279 \nL 707.644146 279 \nL 707.644146 279 \n\" style=\"fill:none;stroke:#00bfbf;stroke-width:1.5;\"/>\n    <path clip-path=\"url(#pdbc24ceeec)\" d=\"M 701.81693 279 \nL 701.81693 279 \nL 705.790032 279 \nL 705.790032 279 \n\" style=\"fill:none;stroke:#00bfbf;stroke-width:1.5;\"/>\n    <path clip-path=\"url(#pdbc24ceeec)\" d=\"M 698.638449 279 \nL 698.638449 254.528804 \nL 703.803481 254.528804 \nL 703.803481 279 \n\" style=\"fill:none;stroke:#00bfbf;stroke-width:1.5;\"/>\n    <path clip-path=\"url(#pdbc24ceeec)\" d=\"M 714.530854 279 \nL 714.530854 279 \nL 716.649842 279 \nL 716.649842 279 \n\" style=\"fill:none;stroke:#00bfbf;stroke-width:1.5;\"/>\n    <path clip-path=\"url(#pdbc24ceeec)\" d=\"M 718.768829 279 \nL 718.768829 279 \nL 720.887816 279 \nL 720.887816 279 \n\" style=\"fill:none;stroke:#00bfbf;stroke-width:1.5;\"/>\n    <path clip-path=\"url(#pdbc24ceeec)\" d=\"M 715.590348 279 \nL 715.590348 272.257518 \nL 719.828323 272.257518 \nL 719.828323 279 \n\" style=\"fill:none;stroke:#00bfbf;stroke-width:1.5;\"/>\n    <path clip-path=\"url(#pdbc24ceeec)\" d=\"M 712.411867 279 \nL 712.411867 253.401051 \nL 717.709335 253.401051 \nL 717.709335 272.257518 \n\" style=\"fill:none;stroke:#00bfbf;stroke-width:1.5;\"/>\n    <path clip-path=\"url(#pdbc24ceeec)\" d=\"M 701.220965 254.528804 \nL 701.220965 225.56076 \nL 715.060601 225.56076 \nL 715.060601 253.401051 \n\" style=\"fill:none;stroke:#00bfbf;stroke-width:1.5;\"/>\n    <path clip-path=\"url(#pdbc24ceeec)\" d=\"M 678.557733 229.248273 \nL 678.557733 215.241907 \nL 708.140783 215.241907 \nL 708.140783 225.56076 \n\" style=\"fill:none;stroke:#00bfbf;stroke-width:1.5;\"/>\n    <path clip-path=\"url(#pdbc24ceeec)\" d=\"M 725.125791 279 \nL 725.125791 279 \nL 727.244778 279 \nL 727.244778 279 \n\" style=\"fill:none;stroke:#00bfbf;stroke-width:1.5;\"/>\n    <path clip-path=\"url(#pdbc24ceeec)\" d=\"M 729.363766 279 \nL 729.363766 279 \nL 731.482753 279 \nL 731.482753 279 \n\" style=\"fill:none;stroke:#00bfbf;stroke-width:1.5;\"/>\n    <path clip-path=\"url(#pdbc24ceeec)\" d=\"M 726.185285 279 \nL 726.185285 275.506572 \nL 730.423259 275.506572 \nL 730.423259 279 \n\" style=\"fill:none;stroke:#00bfbf;stroke-width:1.5;\"/>\n    <path clip-path=\"url(#pdbc24ceeec)\" d=\"M 723.006804 279 \nL 723.006804 271.060556 \nL 728.304272 271.060556 \nL 728.304272 275.506572 \n\" style=\"fill:none;stroke:#00bfbf;stroke-width:1.5;\"/>\n    <path clip-path=\"url(#pdbc24ceeec)\" d=\"M 733.601741 279 \nL 733.601741 279 \nL 735.720728 279 \nL 735.720728 279 \n\" style=\"fill:none;stroke:#00bfbf;stroke-width:1.5;\"/>\n    <path clip-path=\"url(#pdbc24ceeec)\" d=\"M 737.839715 279 \nL 737.839715 275.506572 \nL 739.958703 275.506572 \nL 739.958703 279 \n\" style=\"fill:none;stroke:#00bfbf;stroke-width:1.5;\"/>\n    <path clip-path=\"url(#pdbc24ceeec)\" d=\"M 734.661234 279 \nL 734.661234 271.768441 \nL 738.899209 271.768441 \nL 738.899209 275.506572 \n\" style=\"fill:none;stroke:#00bfbf;stroke-width:1.5;\"/>\n    <path clip-path=\"url(#pdbc24ceeec)\" d=\"M 742.07769 279 \nL 742.07769 271.060556 \nL 744.196677 271.060556 \nL 744.196677 279 \n\" style=\"fill:none;stroke:#00bfbf;stroke-width:1.5;\"/>\n    <path clip-path=\"url(#pdbc24ceeec)\" d=\"M 736.780222 271.768441 \nL 736.780222 254.124137 \nL 743.137184 254.124137 \nL 743.137184 271.060556 \n\" style=\"fill:none;stroke:#00bfbf;stroke-width:1.5;\"/>\n    <path clip-path=\"url(#pdbc24ceeec)\" d=\"M 725.655538 271.060556 \nL 725.655538 250.054952 \nL 739.958703 250.054952 \nL 739.958703 254.124137 \n\" style=\"fill:none;stroke:#00bfbf;stroke-width:1.5;\"/>\n    <path clip-path=\"url(#pdbc24ceeec)\" d=\"M 746.315665 279 \nL 746.315665 279 \nL 748.434652 279 \nL 748.434652 279 \n\" style=\"fill:none;stroke:#00bfbf;stroke-width:1.5;\"/>\n    <path clip-path=\"url(#pdbc24ceeec)\" d=\"M 754.791614 279 \nL 754.791614 279 \nL 756.910601 279 \nL 756.910601 279 \n\" style=\"fill:none;stroke:#00bfbf;stroke-width:1.5;\"/>\n    <path clip-path=\"url(#pdbc24ceeec)\" d=\"M 752.672627 279 \nL 752.672627 279 \nL 755.851108 279 \nL 755.851108 279 \n\" style=\"fill:none;stroke:#00bfbf;stroke-width:1.5;\"/>\n    <path clip-path=\"url(#pdbc24ceeec)\" d=\"M 750.553639 279 \nL 750.553639 272.257518 \nL 754.261867 272.257518 \nL 754.261867 279 \n\" style=\"fill:none;stroke:#00bfbf;stroke-width:1.5;\"/>\n    <path clip-path=\"url(#pdbc24ceeec)\" d=\"M 747.375158 279 \nL 747.375158 254.528804 \nL 752.407753 254.528804 \nL 752.407753 272.257518 \n\" style=\"fill:none;stroke:#00bfbf;stroke-width:1.5;\"/>\n    <path clip-path=\"url(#pdbc24ceeec)\" d=\"M 769.624525 279 \nL 769.624525 279 \nL 771.743513 279 \nL 771.743513 279 \n\" style=\"fill:none;stroke:#00bfbf;stroke-width:1.5;\"/>\n    <path clip-path=\"url(#pdbc24ceeec)\" d=\"M 767.505538 279 \nL 767.505538 279 \nL 770.684019 279 \nL 770.684019 279 \n\" style=\"fill:none;stroke:#00bfbf;stroke-width:1.5;\"/>\n    <path clip-path=\"url(#pdbc24ceeec)\" d=\"M 765.386551 279 \nL 765.386551 279 \nL 769.094778 279 \nL 769.094778 279 \n\" style=\"fill:none;stroke:#00bfbf;stroke-width:1.5;\"/>\n    <path clip-path=\"url(#pdbc24ceeec)\" d=\"M 763.267563 279 \nL 763.267563 279 \nL 767.240665 279 \nL 767.240665 279 \n\" style=\"fill:none;stroke:#00bfbf;stroke-width:1.5;\"/>\n    <path clip-path=\"url(#pdbc24ceeec)\" d=\"M 761.148576 279 \nL 761.148576 279 \nL 765.254114 279 \nL 765.254114 279 \n\" style=\"fill:none;stroke:#00bfbf;stroke-width:1.5;\"/>\n    <path clip-path=\"url(#pdbc24ceeec)\" d=\"M 759.029589 279 \nL 759.029589 279 \nL 763.201345 279 \nL 763.201345 279 \n\" style=\"fill:none;stroke:#00bfbf;stroke-width:1.5;\"/>\n    <path clip-path=\"url(#pdbc24ceeec)\" d=\"M 775.981487 279 \nL 775.981487 279 \nL 778.100475 279 \nL 778.100475 279 \n\" style=\"fill:none;stroke:#00bfbf;stroke-width:1.5;\"/>\n    <path clip-path=\"url(#pdbc24ceeec)\" d=\"M 773.8625 279 \nL 773.8625 272.257518 \nL 777.040981 272.257518 \nL 777.040981 279 \n\" style=\"fill:none;stroke:#00bfbf;stroke-width:1.5;\"/>\n    <path clip-path=\"url(#pdbc24ceeec)\" d=\"M 761.115467 279 \nL 761.115467 251.867634 \nL 775.451741 251.867634 \nL 775.451741 272.257518 \n\" style=\"fill:none;stroke:#00bfbf;stroke-width:1.5;\"/>\n    <path clip-path=\"url(#pdbc24ceeec)\" d=\"M 749.891456 254.528804 \nL 749.891456 234.484912 \nL 768.283604 234.484912 \nL 768.283604 251.867634 \n\" style=\"fill:none;stroke:#00bfbf;stroke-width:1.5;\"/>\n    <path clip-path=\"url(#pdbc24ceeec)\" d=\"M 732.80712 250.054952 \nL 732.80712 220.324654 \nL 759.08753 220.324654 \nL 759.08753 234.484912 \n\" style=\"fill:none;stroke:#00bfbf;stroke-width:1.5;\"/>\n    <path clip-path=\"url(#pdbc24ceeec)\" d=\"M 784.457437 279 \nL 784.457437 275.506572 \nL 786.576424 275.506572 \nL 786.576424 279 \n\" style=\"fill:none;stroke:#00bfbf;stroke-width:1.5;\"/>\n    <path clip-path=\"url(#pdbc24ceeec)\" d=\"M 788.695411 279 \nL 788.695411 272.257518 \nL 790.814399 272.257518 \nL 790.814399 279 \n\" style=\"fill:none;stroke:#00bfbf;stroke-width:1.5;\"/>\n    <path clip-path=\"url(#pdbc24ceeec)\" d=\"M 785.51693 275.506572 \nL 785.51693 264.689597 \nL 789.754905 264.689597 \nL 789.754905 272.257518 \n\" style=\"fill:none;stroke:#00bfbf;stroke-width:1.5;\"/>\n    <path clip-path=\"url(#pdbc24ceeec)\" d=\"M 782.338449 279 \nL 782.338449 252.690611 \nL 787.635918 252.690611 \nL 787.635918 264.689597 \n\" style=\"fill:none;stroke:#00bfbf;stroke-width:1.5;\"/>\n    <path clip-path=\"url(#pdbc24ceeec)\" d=\"M 780.219462 279 \nL 780.219462 234.151255 \nL 784.987184 234.151255 \nL 784.987184 252.690611 \n\" style=\"fill:none;stroke:#00bfbf;stroke-width:1.5;\"/>\n    <path clip-path=\"url(#pdbc24ceeec)\" d=\"M 795.052373 279 \nL 795.052373 279 \nL 797.171361 279 \nL 797.171361 279 \n\" style=\"fill:none;stroke:#00bfbf;stroke-width:1.5;\"/>\n    <path clip-path=\"url(#pdbc24ceeec)\" d=\"M 792.933386 279 \nL 792.933386 279 \nL 796.111867 279 \nL 796.111867 279 \n\" style=\"fill:none;stroke:#00bfbf;stroke-width:1.5;\"/>\n    <path clip-path=\"url(#pdbc24ceeec)\" d=\"M 799.290348 279 \nL 799.290348 279 \nL 801.409335 279 \nL 801.409335 279 \n\" style=\"fill:none;stroke:#00bfbf;stroke-width:1.5;\"/>\n    <path clip-path=\"url(#pdbc24ceeec)\" d=\"M 794.522627 279 \nL 794.522627 275.506572 \nL 800.349842 275.506572 \nL 800.349842 279 \n\" style=\"fill:none;stroke:#00bfbf;stroke-width:1.5;\"/>\n    <path clip-path=\"url(#pdbc24ceeec)\" d=\"M 816.242247 279 \nL 816.242247 279 \nL 818.361234 279 \nL 818.361234 279 \n\" style=\"fill:none;stroke:#00bfbf;stroke-width:1.5;\"/>\n    <path clip-path=\"url(#pdbc24ceeec)\" d=\"M 814.123259 279 \nL 814.123259 279 \nL 817.301741 279 \nL 817.301741 279 \n\" style=\"fill:none;stroke:#00bfbf;stroke-width:1.5;\"/>\n    <path clip-path=\"url(#pdbc24ceeec)\" d=\"M 812.004272 279 \nL 812.004272 279 \nL 815.7125 279 \nL 815.7125 279 \n\" style=\"fill:none;stroke:#00bfbf;stroke-width:1.5;\"/>\n    <path clip-path=\"url(#pdbc24ceeec)\" d=\"M 809.885285 279 \nL 809.885285 279 \nL 813.858386 279 \nL 813.858386 279 \n\" style=\"fill:none;stroke:#00bfbf;stroke-width:1.5;\"/>\n    <path clip-path=\"url(#pdbc24ceeec)\" d=\"M 807.766297 279 \nL 807.766297 279 \nL 811.871835 279 \nL 811.871835 279 \n\" style=\"fill:none;stroke:#00bfbf;stroke-width:1.5;\"/>\n    <path clip-path=\"url(#pdbc24ceeec)\" d=\"M 805.64731 279 \nL 805.64731 279 \nL 809.819066 279 \nL 809.819066 279 \n\" style=\"fill:none;stroke:#00bfbf;stroke-width:1.5;\"/>\n    <path clip-path=\"url(#pdbc24ceeec)\" d=\"M 803.528323 279 \nL 803.528323 279 \nL 807.733188 279 \nL 807.733188 279 \n\" style=\"fill:none;stroke:#00bfbf;stroke-width:1.5;\"/>\n    <path clip-path=\"url(#pdbc24ceeec)\" d=\"M 820.480222 279 \nL 820.480222 275.506572 \nL 822.599209 275.506572 \nL 822.599209 279 \n\" style=\"fill:none;stroke:#00bfbf;stroke-width:1.5;\"/>\n    <path clip-path=\"url(#pdbc24ceeec)\" d=\"M 805.630756 279 \nL 805.630756 271.768441 \nL 821.539715 271.768441 \nL 821.539715 275.506572 \n\" style=\"fill:none;stroke:#00bfbf;stroke-width:1.5;\"/>\n    <path clip-path=\"url(#pdbc24ceeec)\" d=\"M 797.436234 275.506572 \nL 797.436234 252.248865 \nL 813.585235 252.248865 \nL 813.585235 271.768441 \n\" style=\"fill:none;stroke:#00bfbf;stroke-width:1.5;\"/>\n    <path clip-path=\"url(#pdbc24ceeec)\" d=\"M 824.718196 279 \nL 824.718196 279 \nL 826.837184 279 \nL 826.837184 279 \n\" style=\"fill:none;stroke:#00bfbf;stroke-width:1.5;\"/>\n    <path clip-path=\"url(#pdbc24ceeec)\" d=\"M 831.075158 279 \nL 831.075158 279 \nL 833.194146 279 \nL 833.194146 279 \n\" style=\"fill:none;stroke:#00bfbf;stroke-width:1.5;\"/>\n    <path clip-path=\"url(#pdbc24ceeec)\" d=\"M 828.956171 279 \nL 828.956171 279 \nL 832.134652 279 \nL 832.134652 279 \n\" style=\"fill:none;stroke:#00bfbf;stroke-width:1.5;\"/>\n    <path clip-path=\"url(#pdbc24ceeec)\" d=\"M 841.670095 279 \nL 841.670095 279 \nL 843.789082 279 \nL 843.789082 279 \n\" style=\"fill:none;stroke:#00bfbf;stroke-width:1.5;\"/>\n    <path clip-path=\"url(#pdbc24ceeec)\" d=\"M 839.551108 279 \nL 839.551108 279 \nL 842.729589 279 \nL 842.729589 279 \n\" style=\"fill:none;stroke:#00bfbf;stroke-width:1.5;\"/>\n    <path clip-path=\"url(#pdbc24ceeec)\" d=\"M 837.43212 279 \nL 837.43212 279 \nL 841.140348 279 \nL 841.140348 279 \n\" style=\"fill:none;stroke:#00bfbf;stroke-width:1.5;\"/>\n    <path clip-path=\"url(#pdbc24ceeec)\" d=\"M 835.313133 279 \nL 835.313133 275.506572 \nL 839.286234 275.506572 \nL 839.286234 279 \n\" style=\"fill:none;stroke:#00bfbf;stroke-width:1.5;\"/>\n    <path clip-path=\"url(#pdbc24ceeec)\" d=\"M 830.545411 279 \nL 830.545411 271.768441 \nL 837.299684 271.768441 \nL 837.299684 275.506572 \n\" style=\"fill:none;stroke:#00bfbf;stroke-width:1.5;\"/>\n    <path clip-path=\"url(#pdbc24ceeec)\" d=\"M 825.77769 279 \nL 825.77769 252.237865 \nL 833.922547 252.237865 \nL 833.922547 271.768441 \n\" style=\"fill:none;stroke:#00bfbf;stroke-width:1.5;\"/>\n    <path clip-path=\"url(#pdbc24ceeec)\" d=\"M 848.027057 279 \nL 848.027057 279 \nL 850.146044 279 \nL 850.146044 279 \n\" style=\"fill:none;stroke:#00bfbf;stroke-width:1.5;\"/>\n    <path clip-path=\"url(#pdbc24ceeec)\" d=\"M 845.90807 279 \nL 845.90807 279 \nL 849.086551 279 \nL 849.086551 279 \n\" style=\"fill:none;stroke:#00bfbf;stroke-width:1.5;\"/>\n    <path clip-path=\"url(#pdbc24ceeec)\" d=\"M 854.384019 279 \nL 854.384019 275.506572 \nL 856.503006 275.506572 \nL 856.503006 279 \n\" style=\"fill:none;stroke:#00bfbf;stroke-width:1.5;\"/>\n    <path clip-path=\"url(#pdbc24ceeec)\" d=\"M 852.265032 279 \nL 852.265032 271.060556 \nL 855.443513 271.060556 \nL 855.443513 275.506572 \n\" style=\"fill:none;stroke:#00bfbf;stroke-width:1.5;\"/>\n    <path clip-path=\"url(#pdbc24ceeec)\" d=\"M 847.49731 279 \nL 847.49731 249.001184 \nL 853.854272 249.001184 \nL 853.854272 271.060556 \n\" style=\"fill:none;stroke:#00bfbf;stroke-width:1.5;\"/>\n    <path clip-path=\"url(#pdbc24ceeec)\" d=\"M 829.850119 252.237865 \nL 829.850119 238.206667 \nL 850.675791 238.206667 \nL 850.675791 249.001184 \n\" style=\"fill:none;stroke:#00bfbf;stroke-width:1.5;\"/>\n    <path clip-path=\"url(#pdbc24ceeec)\" d=\"M 805.510735 252.248865 \nL 805.510735 222.996987 \nL 840.262955 222.996987 \nL 840.262955 238.206667 \n\" style=\"fill:none;stroke:#00bfbf;stroke-width:1.5;\"/>\n    <path clip-path=\"url(#pdbc24ceeec)\" d=\"M 782.603323 234.151255 \nL 782.603323 206.222719 \nL 822.886845 206.222719 \nL 822.886845 222.996987 \n\" style=\"fill:none;stroke:#00bfbf;stroke-width:1.5;\"/>\n    <path clip-path=\"url(#pdbc24ceeec)\" d=\"M 745.947325 220.324654 \nL 745.947325 185.138212 \nL 802.745084 185.138212 \nL 802.745084 206.222719 \n\" style=\"fill:none;stroke:#00bfbf;stroke-width:1.5;\"/>\n    <path clip-path=\"url(#pdbc24ceeec)\" d=\"M 693.349258 215.241907 \nL 693.349258 169.385681 \nL 774.346204 169.385681 \nL 774.346204 185.138212 \n\" style=\"fill:none;stroke:#00bfbf;stroke-width:1.5;\"/>\n    <path clip-path=\"url(#pdbc24ceeec)\" d=\"M 607.317131 197.52516 \nL 607.317131 146.81819 \nL 733.847731 146.81819 \nL 733.847731 169.385681 \n\" style=\"fill:none;stroke:#00bfbf;stroke-width:1.5;\"/>\n    <path clip-path=\"url(#pdbc24ceeec)\" d=\"M 529.193958 189.722153 \nL 529.193958 137.073397 \nL 670.582431 137.073397 \nL 670.582431 146.81819 \n\" style=\"fill:none;stroke:#00bfbf;stroke-width:1.5;\"/>\n    <path clip-path=\"url(#pdbc24ceeec)\" d=\"M 464.376535 154.039721 \nL 464.376535 105.86771 \nL 599.888194 105.86771 \nL 599.888194 137.073397 \n\" style=\"fill:none;stroke:#00bfbf;stroke-width:1.5;\"/>\n   </g>\n   <g id=\"LineCollection_4\">\n    <path clip-path=\"url(#pdbc24ceeec)\" d=\"M 210.982754 116.846339 \nL 210.982754 65.696502 \nL 532.132365 65.696502 \nL 532.132365 105.86771 \n\" style=\"fill:none;stroke:#0000ff;stroke-width:1.5;\"/>\n    <path clip-path=\"url(#pdbc24ceeec)\" d=\"M 28.690803 175.558278 \nL 28.690803 20.142857 \nL 371.557559 20.142857 \nL 371.557559 65.696502 \n\" style=\"fill:none;stroke:#0000ff;stroke-width:1.5;\"/>\n   </g>\n   <g id=\"patch_3\">\n    <path d=\"M 20.5625 279 \nL 20.5625 7.2 \n\" style=\"fill:none;stroke:#000000;stroke-linecap:square;stroke-linejoin:miter;stroke-width:0.8;\"/>\n   </g>\n   <g id=\"patch_4\">\n    <path d=\"M 857.5625 279 \nL 857.5625 7.2 \n\" style=\"fill:none;stroke:#000000;stroke-linecap:square;stroke-linejoin:miter;stroke-width:0.8;\"/>\n   </g>\n   <g id=\"patch_5\">\n    <path d=\"M 20.5625 279 \nL 857.5625 279 \n\" style=\"fill:none;stroke:#000000;stroke-linecap:square;stroke-linejoin:miter;stroke-width:0.8;\"/>\n   </g>\n   <g id=\"patch_6\">\n    <path d=\"M 20.5625 7.2 \nL 857.5625 7.2 \n\" style=\"fill:none;stroke:#000000;stroke-linecap:square;stroke-linejoin:miter;stroke-width:0.8;\"/>\n   </g>\n  </g>\n </g>\n <defs>\n  <clipPath id=\"pdbc24ceeec\">\n   <rect height=\"271.8\" width=\"837\" x=\"20.5625\" y=\"7.2\"/>\n  </clipPath>\n </defs>\n</svg>\n",
            "text/plain": [
              "<Figure size 1080x360 with 1 Axes>"
            ]
          },
          "metadata": {},
          "output_type": "display_data"
        }
      ],
      "source": [
        "dendrogram(mergings,\n",
        "           #labels=varieties,\n",
        "           leaf_rotation=0,\n",
        "           leaf_font_size=6,\n",
        "           )\n",
        "\n",
        "plt.show()"
      ],
      "id": "1d282c09"
    },
    {
      "cell_type": "code",
      "execution_count": null,
      "metadata": {
        "id": "dcab5d8b"
      },
      "outputs": [],
      "source": [
        "from sklearn.manifold import TSNE\n",
        "import numpy as np"
      ],
      "id": "dcab5d8b"
    },
    {
      "cell_type": "code",
      "execution_count": null,
      "metadata": {
        "id": "0922273e"
      },
      "outputs": [],
      "source": [
        "model = TSNE(learning_rate=100)"
      ],
      "id": "0922273e"
    },
    {
      "cell_type": "code",
      "execution_count": null,
      "metadata": {
        "colab": {
          "base_uri": "https://localhost:8080/"
        },
        "id": "117b2a48",
        "outputId": "f664bed1-66d8-4a44-8e51-609f9c7a49ac"
      },
      "outputs": [
        {
          "name": "stderr",
          "output_type": "stream",
          "text": [
            "/usr/local/lib/python3.7/dist-packages/sklearn/manifold/_t_sne.py:783: FutureWarning: The default initialization in TSNE will change from 'random' to 'pca' in 1.2.\n",
            "  FutureWarning,\n"
          ]
        }
      ],
      "source": [
        "transformed = model.fit_transform(df)"
      ],
      "id": "117b2a48"
    },
    {
      "cell_type": "code",
      "execution_count": null,
      "metadata": {
        "id": "e1ca05ba"
      },
      "outputs": [],
      "source": [
        "x_axis = transformed[:, 0]\n",
        "y_axis = transformed[:, 1]"
      ],
      "id": "e1ca05ba"
    },
    {
      "cell_type": "code",
      "execution_count": null,
      "metadata": {
        "colab": {
          "base_uri": "https://localhost:8080/",
          "height": 425
        },
        "id": "38c86616",
        "outputId": "482bc934-b545-4619-f92f-15b567b3a6da"
      },
      "outputs": [
        {
          "data": {
            "image/svg+xml": "<?xml version=\"1.0\" encoding=\"utf-8\" standalone=\"no\"?>\n<!DOCTYPE svg PUBLIC \"-//W3C//DTD SVG 1.1//EN\"\n  \"http://www.w3.org/Graphics/SVG/1.1/DTD/svg11.dtd\">\n<!-- Created with matplotlib (https://matplotlib.org/) -->\n<svg height=\"302.878125pt\" version=\"1.1\" viewBox=\"0 0 194.483967 302.878125\" width=\"194.483967pt\" xmlns=\"http://www.w3.org/2000/svg\" xmlns:xlink=\"http://www.w3.org/1999/xlink\">\n <defs>\n  <style type=\"text/css\">\n*{stroke-linecap:butt;stroke-linejoin:round;}\n  </style>\n </defs>\n <g id=\"figure_1\">\n  <g id=\"patch_1\">\n   <path d=\"M 0 302.878125 \nL 194.483967 302.878125 \nL 194.483967 0 \nL 0 0 \nz\n\" style=\"fill:none;\"/>\n  </g>\n  <g id=\"axes_1\">\n   <g id=\"patch_2\">\n    <path d=\"M 35.304688 279 \nL 187.283967 279 \nL 187.283967 7.2 \nL 35.304688 7.2 \nz\n\" style=\"fill:#ffffff;\"/>\n   </g>\n   <g id=\"PathCollection_1\">\n    <defs>\n     <path d=\"M 0 3 \nC 0.795609 3 1.55874 2.683901 2.12132 2.12132 \nC 2.683901 1.55874 3 0.795609 3 0 \nC 3 -0.795609 2.683901 -1.55874 2.12132 -2.12132 \nC 1.55874 -2.683901 0.795609 -3 0 -3 \nC -0.795609 -3 -1.55874 -2.683901 -2.12132 -2.12132 \nC -2.683901 -1.55874 -3 -0.795609 -3 0 \nC -3 0.795609 -2.683901 1.55874 -2.12132 2.12132 \nC -1.55874 2.683901 -0.795609 3 0 3 \nz\n\" id=\"C0_0_ba5d616c81\"/>\n    </defs>\n    <g clip-path=\"url(#pf1db4e86e9)\">\n     <use style=\"fill:#31688e;stroke:#31688e;\" x=\"162.872425\" xlink:href=\"#C0_0_ba5d616c81\" y=\"54.682943\"/>\n    </g>\n    <g clip-path=\"url(#pf1db4e86e9)\">\n     <use style=\"fill:#31688e;stroke:#31688e;\" x=\"51.547143\" xlink:href=\"#C0_0_ba5d616c81\" y=\"115.833506\"/>\n    </g>\n    <g clip-path=\"url(#pf1db4e86e9)\">\n     <use style=\"fill:#31688e;stroke:#31688e;\" x=\"52.322914\" xlink:href=\"#C0_0_ba5d616c81\" y=\"193.666938\"/>\n    </g>\n    <g clip-path=\"url(#pf1db4e86e9)\">\n     <use style=\"fill:#35b779;stroke:#35b779;\" x=\"93.639471\" xlink:href=\"#C0_0_ba5d616c81\" y=\"245.080472\"/>\n    </g>\n    <g clip-path=\"url(#pf1db4e86e9)\">\n     <use style=\"fill:#31688e;stroke:#31688e;\" x=\"133.50528\" xlink:href=\"#C0_0_ba5d616c81\" y=\"182.737383\"/>\n    </g>\n    <g clip-path=\"url(#pf1db4e86e9)\">\n     <use style=\"fill:#31688e;stroke:#31688e;\" x=\"149.161455\" xlink:href=\"#C0_0_ba5d616c81\" y=\"204.311248\"/>\n    </g>\n    <g clip-path=\"url(#pf1db4e86e9)\">\n     <use style=\"fill:#31688e;stroke:#31688e;\" x=\"86.284911\" xlink:href=\"#C0_0_ba5d616c81\" y=\"172.101783\"/>\n    </g>\n    <g clip-path=\"url(#pf1db4e86e9)\">\n     <use style=\"fill:#31688e;stroke:#31688e;\" x=\"168.750256\" xlink:href=\"#C0_0_ba5d616c81\" y=\"78.925835\"/>\n    </g>\n    <g clip-path=\"url(#pf1db4e86e9)\">\n     <use style=\"fill:#31688e;stroke:#31688e;\" x=\"80.258592\" xlink:href=\"#C0_0_ba5d616c81\" y=\"230.92897\"/>\n    </g>\n    <g clip-path=\"url(#pf1db4e86e9)\">\n     <use style=\"fill:#31688e;stroke:#31688e;\" x=\"125.638234\" xlink:href=\"#C0_0_ba5d616c81\" y=\"246.438141\"/>\n    </g>\n    <g clip-path=\"url(#pf1db4e86e9)\">\n     <use style=\"fill:#31688e;stroke:#31688e;\" x=\"134.577476\" xlink:href=\"#C0_0_ba5d616c81\" y=\"260.856238\"/>\n    </g>\n    <g clip-path=\"url(#pf1db4e86e9)\">\n     <use style=\"fill:#35b779;stroke:#35b779;\" x=\"43.899058\" xlink:href=\"#C0_0_ba5d616c81\" y=\"182.385447\"/>\n    </g>\n    <g clip-path=\"url(#pf1db4e86e9)\">\n     <use style=\"fill:#440154;stroke:#440154;\" x=\"135.977407\" xlink:href=\"#C0_0_ba5d616c81\" y=\"256.636951\"/>\n    </g>\n    <g clip-path=\"url(#pf1db4e86e9)\">\n     <use style=\"fill:#31688e;stroke:#31688e;\" x=\"123.156298\" xlink:href=\"#C0_0_ba5d616c81\" y=\"242.357632\"/>\n    </g>\n    <g clip-path=\"url(#pf1db4e86e9)\">\n     <use style=\"fill:#35b779;stroke:#35b779;\" x=\"63.630713\" xlink:href=\"#C0_0_ba5d616c81\" y=\"214.832942\"/>\n    </g>\n    <g clip-path=\"url(#pf1db4e86e9)\">\n     <use style=\"fill:#440154;stroke:#440154;\" x=\"170.256547\" xlink:href=\"#C0_0_ba5d616c81\" y=\"206.942211\"/>\n    </g>\n    <g clip-path=\"url(#pf1db4e86e9)\">\n     <use style=\"fill:#35b779;stroke:#35b779;\" x=\"179.473841\" xlink:href=\"#C0_0_ba5d616c81\" y=\"211.231129\"/>\n    </g>\n    <g clip-path=\"url(#pf1db4e86e9)\">\n     <use style=\"fill:#31688e;stroke:#31688e;\" x=\"135.588517\" xlink:href=\"#C0_0_ba5d616c81\" y=\"154.157918\"/>\n    </g>\n    <g clip-path=\"url(#pf1db4e86e9)\">\n     <use style=\"fill:#440154;stroke:#440154;\" x=\"112.239553\" xlink:href=\"#C0_0_ba5d616c81\" y=\"104.193942\"/>\n    </g>\n    <g clip-path=\"url(#pf1db4e86e9)\">\n     <use style=\"fill:#440154;stroke:#440154;\" x=\"151.284152\" xlink:href=\"#C0_0_ba5d616c81\" y=\"201.482901\"/>\n    </g>\n    <g clip-path=\"url(#pf1db4e86e9)\">\n     <use style=\"fill:#31688e;stroke:#31688e;\" x=\"110.849449\" xlink:href=\"#C0_0_ba5d616c81\" y=\"255.844216\"/>\n    </g>\n    <g clip-path=\"url(#pf1db4e86e9)\">\n     <use style=\"fill:#440154;stroke:#440154;\" x=\"138.490363\" xlink:href=\"#C0_0_ba5d616c81\" y=\"257.266428\"/>\n    </g>\n    <g clip-path=\"url(#pf1db4e86e9)\">\n     <use style=\"fill:#31688e;stroke:#31688e;\" x=\"128.987458\" xlink:href=\"#C0_0_ba5d616c81\" y=\"200.737273\"/>\n    </g>\n    <g clip-path=\"url(#pf1db4e86e9)\">\n     <use style=\"fill:#31688e;stroke:#31688e;\" x=\"76.032993\" xlink:href=\"#C0_0_ba5d616c81\" y=\"157.303389\"/>\n    </g>\n    <g clip-path=\"url(#pf1db4e86e9)\">\n     <use style=\"fill:#35b779;stroke:#35b779;\" x=\"105.83612\" xlink:href=\"#C0_0_ba5d616c81\" y=\"226.650052\"/>\n    </g>\n    <g clip-path=\"url(#pf1db4e86e9)\">\n     <use style=\"fill:#440154;stroke:#440154;\" x=\"82.15509\" xlink:href=\"#C0_0_ba5d616c81\" y=\"173.415527\"/>\n    </g>\n    <g clip-path=\"url(#pf1db4e86e9)\">\n     <use style=\"fill:#440154;stroke:#440154;\" x=\"67.474534\" xlink:href=\"#C0_0_ba5d616c81\" y=\"215.463542\"/>\n    </g>\n    <g clip-path=\"url(#pf1db4e86e9)\">\n     <use style=\"fill:#440154;stroke:#440154;\" x=\"92.421829\" xlink:href=\"#C0_0_ba5d616c81\" y=\"248.98444\"/>\n    </g>\n    <g clip-path=\"url(#pf1db4e86e9)\">\n     <use style=\"fill:#31688e;stroke:#31688e;\" x=\"159.623445\" xlink:href=\"#C0_0_ba5d616c81\" y=\"189.829888\"/>\n    </g>\n    <g clip-path=\"url(#pf1db4e86e9)\">\n     <use style=\"fill:#31688e;stroke:#31688e;\" x=\"174.341896\" xlink:href=\"#C0_0_ba5d616c81\" y=\"206.723986\"/>\n    </g>\n    <g clip-path=\"url(#pf1db4e86e9)\">\n     <use style=\"fill:#31688e;stroke:#31688e;\" x=\"132.050007\" xlink:href=\"#C0_0_ba5d616c81\" y=\"259.87584\"/>\n    </g>\n    <g clip-path=\"url(#pf1db4e86e9)\">\n     <use style=\"fill:#31688e;stroke:#31688e;\" x=\"139.1057\" xlink:href=\"#C0_0_ba5d616c81\" y=\"247.145733\"/>\n    </g>\n    <g clip-path=\"url(#pf1db4e86e9)\">\n     <use style=\"fill:#31688e;stroke:#31688e;\" x=\"110.829814\" xlink:href=\"#C0_0_ba5d616c81\" y=\"255.859669\"/>\n    </g>\n    <g clip-path=\"url(#pf1db4e86e9)\">\n     <use style=\"fill:#31688e;stroke:#31688e;\" x=\"99.78953\" xlink:href=\"#C0_0_ba5d616c81\" y=\"234.98344\"/>\n    </g>\n    <g clip-path=\"url(#pf1db4e86e9)\">\n     <use style=\"fill:#440154;stroke:#440154;\" x=\"101.506395\" xlink:href=\"#C0_0_ba5d616c81\" y=\"184.014541\"/>\n    </g>\n    <g clip-path=\"url(#pf1db4e86e9)\">\n     <use style=\"fill:#440154;stroke:#440154;\" x=\"89.72968\" xlink:href=\"#C0_0_ba5d616c81\" y=\"213.157133\"/>\n    </g>\n    <g clip-path=\"url(#pf1db4e86e9)\">\n     <use style=\"fill:#35b779;stroke:#35b779;\" x=\"110.12011\" xlink:href=\"#C0_0_ba5d616c81\" y=\"252.302872\"/>\n    </g>\n    <g clip-path=\"url(#pf1db4e86e9)\">\n     <use style=\"fill:#35b779;stroke:#35b779;\" x=\"172.426907\" xlink:href=\"#C0_0_ba5d616c81\" y=\"194.572929\"/>\n    </g>\n    <g clip-path=\"url(#pf1db4e86e9)\">\n     <use style=\"fill:#35b779;stroke:#35b779;\" x=\"125.638234\" xlink:href=\"#C0_0_ba5d616c81\" y=\"246.438141\"/>\n    </g>\n    <g clip-path=\"url(#pf1db4e86e9)\">\n     <use style=\"fill:#440154;stroke:#440154;\" x=\"65.992049\" xlink:href=\"#C0_0_ba5d616c81\" y=\"212.961233\"/>\n    </g>\n    <g clip-path=\"url(#pf1db4e86e9)\">\n     <use style=\"fill:#31688e;stroke:#31688e;\" x=\"76.032732\" xlink:href=\"#C0_0_ba5d616c81\" y=\"157.303142\"/>\n    </g>\n    <g clip-path=\"url(#pf1db4e86e9)\">\n     <use style=\"fill:#440154;stroke:#440154;\" x=\"133.285276\" xlink:href=\"#C0_0_ba5d616c81\" y=\"266.645455\"/>\n    </g>\n    <g clip-path=\"url(#pf1db4e86e9)\">\n     <use style=\"fill:#31688e;stroke:#31688e;\" x=\"134.455529\" xlink:href=\"#C0_0_ba5d616c81\" y=\"256.629762\"/>\n    </g>\n    <g clip-path=\"url(#pf1db4e86e9)\">\n     <use style=\"fill:#440154;stroke:#440154;\" x=\"70.320988\" xlink:href=\"#C0_0_ba5d616c81\" y=\"212.442852\"/>\n    </g>\n    <g clip-path=\"url(#pf1db4e86e9)\">\n     <use style=\"fill:#31688e;stroke:#31688e;\" x=\"74.015913\" xlink:href=\"#C0_0_ba5d616c81\" y=\"154.267798\"/>\n    </g>\n    <g clip-path=\"url(#pf1db4e86e9)\">\n     <use style=\"fill:#31688e;stroke:#31688e;\" x=\"108.69019\" xlink:href=\"#C0_0_ba5d616c81\" y=\"255.977019\"/>\n    </g>\n    <g clip-path=\"url(#pf1db4e86e9)\">\n     <use style=\"fill:#31688e;stroke:#31688e;\" x=\"129.520693\" xlink:href=\"#C0_0_ba5d616c81\" y=\"187.104039\"/>\n    </g>\n    <g clip-path=\"url(#pf1db4e86e9)\">\n     <use style=\"fill:#fde725;stroke:#fde725;\" x=\"145.871237\" xlink:href=\"#C0_0_ba5d616c81\" y=\"201.025156\"/>\n    </g>\n    <g clip-path=\"url(#pf1db4e86e9)\">\n     <use style=\"fill:#31688e;stroke:#31688e;\" x=\"90.753264\" xlink:href=\"#C0_0_ba5d616c81\" y=\"247.959358\"/>\n    </g>\n    <g clip-path=\"url(#pf1db4e86e9)\">\n     <use style=\"fill:#31688e;stroke:#31688e;\" x=\"139.744878\" xlink:href=\"#C0_0_ba5d616c81\" y=\"257.919374\"/>\n    </g>\n    <g clip-path=\"url(#pf1db4e86e9)\">\n     <use style=\"fill:#31688e;stroke:#31688e;\" x=\"70.168017\" xlink:href=\"#C0_0_ba5d616c81\" y=\"147.851282\"/>\n    </g>\n    <g clip-path=\"url(#pf1db4e86e9)\">\n     <use style=\"fill:#31688e;stroke:#31688e;\" x=\"94.15483\" xlink:href=\"#C0_0_ba5d616c81\" y=\"248.233218\"/>\n    </g>\n    <g clip-path=\"url(#pf1db4e86e9)\">\n     <use style=\"fill:#440154;stroke:#440154;\" x=\"99.377118\" xlink:href=\"#C0_0_ba5d616c81\" y=\"231.806483\"/>\n    </g>\n    <g clip-path=\"url(#pf1db4e86e9)\">\n     <use style=\"fill:#440154;stroke:#440154;\" x=\"131.491662\" xlink:href=\"#C0_0_ba5d616c81\" y=\"261.504939\"/>\n    </g>\n    <g clip-path=\"url(#pf1db4e86e9)\">\n     <use style=\"fill:#440154;stroke:#440154;\" x=\"99.789491\" xlink:href=\"#C0_0_ba5d616c81\" y=\"234.983322\"/>\n    </g>\n    <g clip-path=\"url(#pf1db4e86e9)\">\n     <use style=\"fill:#31688e;stroke:#31688e;\" x=\"66.69711\" xlink:href=\"#C0_0_ba5d616c81\" y=\"179.08265\"/>\n    </g>\n    <g clip-path=\"url(#pf1db4e86e9)\">\n     <use style=\"fill:#31688e;stroke:#31688e;\" x=\"110.131123\" xlink:href=\"#C0_0_ba5d616c81\" y=\"252.309578\"/>\n    </g>\n    <g clip-path=\"url(#pf1db4e86e9)\">\n     <use style=\"fill:#31688e;stroke:#31688e;\" x=\"132.236007\" xlink:href=\"#C0_0_ba5d616c81\" y=\"263.355048\"/>\n    </g>\n    <g clip-path=\"url(#pf1db4e86e9)\">\n     <use style=\"fill:#31688e;stroke:#31688e;\" x=\"60.310174\" xlink:href=\"#C0_0_ba5d616c81\" y=\"200.50245\"/>\n    </g>\n    <g clip-path=\"url(#pf1db4e86e9)\">\n     <use style=\"fill:#31688e;stroke:#31688e;\" x=\"128.988653\" xlink:href=\"#C0_0_ba5d616c81\" y=\"200.713002\"/>\n    </g>\n    <g clip-path=\"url(#pf1db4e86e9)\">\n     <use style=\"fill:#31688e;stroke:#31688e;\" x=\"176.242094\" xlink:href=\"#C0_0_ba5d616c81\" y=\"206.625141\"/>\n    </g>\n    <g clip-path=\"url(#pf1db4e86e9)\">\n     <use style=\"fill:#440154;stroke:#440154;\" x=\"42.76451\" xlink:href=\"#C0_0_ba5d616c81\" y=\"149.535657\"/>\n    </g>\n    <g clip-path=\"url(#pf1db4e86e9)\">\n     <use style=\"fill:#31688e;stroke:#31688e;\" x=\"64.610246\" xlink:href=\"#C0_0_ba5d616c81\" y=\"163.667968\"/>\n    </g>\n    <g clip-path=\"url(#pf1db4e86e9)\">\n     <use style=\"fill:#35b779;stroke:#35b779;\" x=\"145.195134\" xlink:href=\"#C0_0_ba5d616c81\" y=\"202.609057\"/>\n    </g>\n    <g clip-path=\"url(#pf1db4e86e9)\">\n     <use style=\"fill:#31688e;stroke:#31688e;\" x=\"113.933016\" xlink:href=\"#C0_0_ba5d616c81\" y=\"253.556066\"/>\n    </g>\n    <g clip-path=\"url(#pf1db4e86e9)\">\n     <use style=\"fill:#31688e;stroke:#31688e;\" x=\"139.379213\" xlink:href=\"#C0_0_ba5d616c81\" y=\"160.589176\"/>\n    </g>\n    <g clip-path=\"url(#pf1db4e86e9)\">\n     <use style=\"fill:#fde725;stroke:#fde725;\" x=\"137.351994\" xlink:href=\"#C0_0_ba5d616c81\" y=\"264.915071\"/>\n    </g>\n    <g clip-path=\"url(#pf1db4e86e9)\">\n     <use style=\"fill:#fde725;stroke:#fde725;\" x=\"78.299564\" xlink:href=\"#C0_0_ba5d616c81\" y=\"184.850847\"/>\n    </g>\n    <g clip-path=\"url(#pf1db4e86e9)\">\n     <use style=\"fill:#31688e;stroke:#31688e;\" x=\"70.62829\" xlink:href=\"#C0_0_ba5d616c81\" y=\"204.133993\"/>\n    </g>\n    <g clip-path=\"url(#pf1db4e86e9)\">\n     <use style=\"fill:#fde725;stroke:#fde725;\" x=\"66.825378\" xlink:href=\"#C0_0_ba5d616c81\" y=\"209.662515\"/>\n    </g>\n    <g clip-path=\"url(#pf1db4e86e9)\">\n     <use style=\"fill:#fde725;stroke:#fde725;\" x=\"81.434385\" xlink:href=\"#C0_0_ba5d616c81\" y=\"169.322907\"/>\n    </g>\n    <g clip-path=\"url(#pf1db4e86e9)\">\n     <use style=\"fill:#fde725;stroke:#fde725;\" x=\"90.499153\" xlink:href=\"#C0_0_ba5d616c81\" y=\"245.921769\"/>\n    </g>\n    <g clip-path=\"url(#pf1db4e86e9)\">\n     <use style=\"fill:#31688e;stroke:#31688e;\" x=\"52.31615\" xlink:href=\"#C0_0_ba5d616c81\" y=\"193.669189\"/>\n    </g>\n    <g clip-path=\"url(#pf1db4e86e9)\">\n     <use style=\"fill:#440154;stroke:#440154;\" x=\"78.299564\" xlink:href=\"#C0_0_ba5d616c81\" y=\"184.850847\"/>\n    </g>\n    <g clip-path=\"url(#pf1db4e86e9)\">\n     <use style=\"fill:#31688e;stroke:#31688e;\" x=\"133.46849\" xlink:href=\"#C0_0_ba5d616c81\" y=\"187.08886\"/>\n    </g>\n    <g clip-path=\"url(#pf1db4e86e9)\">\n     <use style=\"fill:#31688e;stroke:#31688e;\" x=\"108.306746\" xlink:href=\"#C0_0_ba5d616c81\" y=\"252.842983\"/>\n    </g>\n    <g clip-path=\"url(#pf1db4e86e9)\">\n     <use style=\"fill:#fde725;stroke:#fde725;\" x=\"58.17252\" xlink:href=\"#C0_0_ba5d616c81\" y=\"213.686272\"/>\n    </g>\n    <g clip-path=\"url(#pf1db4e86e9)\">\n     <use style=\"fill:#fde725;stroke:#fde725;\" x=\"84.524153\" xlink:href=\"#C0_0_ba5d616c81\" y=\"175.683767\"/>\n    </g>\n    <g clip-path=\"url(#pf1db4e86e9)\">\n     <use style=\"fill:#440154;stroke:#440154;\" x=\"60.261579\" xlink:href=\"#C0_0_ba5d616c81\" y=\"109.434073\"/>\n    </g>\n    <g clip-path=\"url(#pf1db4e86e9)\">\n     <use style=\"fill:#31688e;stroke:#31688e;\" x=\"159.621898\" xlink:href=\"#C0_0_ba5d616c81\" y=\"189.831231\"/>\n    </g>\n    <g clip-path=\"url(#pf1db4e86e9)\">\n     <use style=\"fill:#440154;stroke:#440154;\" x=\"85.791829\" xlink:href=\"#C0_0_ba5d616c81\" y=\"218.627421\"/>\n    </g>\n    <g clip-path=\"url(#pf1db4e86e9)\">\n     <use style=\"fill:#35b779;stroke:#35b779;\" x=\"83.772847\" xlink:href=\"#C0_0_ba5d616c81\" y=\"220.395852\"/>\n    </g>\n    <g clip-path=\"url(#pf1db4e86e9)\">\n     <use style=\"fill:#31688e;stroke:#31688e;\" x=\"80.252368\" xlink:href=\"#C0_0_ba5d616c81\" y=\"230.926584\"/>\n    </g>\n    <g clip-path=\"url(#pf1db4e86e9)\">\n     <use style=\"fill:#31688e;stroke:#31688e;\" x=\"70.634907\" xlink:href=\"#C0_0_ba5d616c81\" y=\"204.127475\"/>\n    </g>\n    <g clip-path=\"url(#pf1db4e86e9)\">\n     <use style=\"fill:#31688e;stroke:#31688e;\" x=\"51.110423\" xlink:href=\"#C0_0_ba5d616c81\" y=\"195.030383\"/>\n    </g>\n    <g clip-path=\"url(#pf1db4e86e9)\">\n     <use style=\"fill:#31688e;stroke:#31688e;\" x=\"139.832791\" xlink:href=\"#C0_0_ba5d616c81\" y=\"244.644676\"/>\n    </g>\n    <g clip-path=\"url(#pf1db4e86e9)\">\n     <use style=\"fill:#31688e;stroke:#31688e;\" x=\"82.538323\" xlink:href=\"#C0_0_ba5d616c81\" y=\"172.842248\"/>\n    </g>\n    <g clip-path=\"url(#pf1db4e86e9)\">\n     <use style=\"fill:#35b779;stroke:#35b779;\" x=\"94.699302\" xlink:href=\"#C0_0_ba5d616c81\" y=\"246.521393\"/>\n    </g>\n    <g clip-path=\"url(#pf1db4e86e9)\">\n     <use style=\"fill:#31688e;stroke:#31688e;\" x=\"74.992936\" xlink:href=\"#C0_0_ba5d616c81\" y=\"153.365126\"/>\n    </g>\n    <g clip-path=\"url(#pf1db4e86e9)\">\n     <use style=\"fill:#31688e;stroke:#31688e;\" x=\"176.500226\" xlink:href=\"#C0_0_ba5d616c81\" y=\"209.378\"/>\n    </g>\n    <g clip-path=\"url(#pf1db4e86e9)\">\n     <use style=\"fill:#35b779;stroke:#35b779;\" x=\"129.522238\" xlink:href=\"#C0_0_ba5d616c81\" y=\"187.107435\"/>\n    </g>\n    <g clip-path=\"url(#pf1db4e86e9)\">\n     <use style=\"fill:#440154;stroke:#440154;\" x=\"107.846357\" xlink:href=\"#C0_0_ba5d616c81\" y=\"254.670524\"/>\n    </g>\n    <g clip-path=\"url(#pf1db4e86e9)\">\n     <use style=\"fill:#31688e;stroke:#31688e;\" x=\"80.163735\" xlink:href=\"#C0_0_ba5d616c81\" y=\"183.519756\"/>\n    </g>\n    <g clip-path=\"url(#pf1db4e86e9)\">\n     <use style=\"fill:#31688e;stroke:#31688e;\" x=\"127.380952\" xlink:href=\"#C0_0_ba5d616c81\" y=\"184.812053\"/>\n    </g>\n    <g clip-path=\"url(#pf1db4e86e9)\">\n     <use style=\"fill:#fde725;stroke:#fde725;\" x=\"65.992049\" xlink:href=\"#C0_0_ba5d616c81\" y=\"212.961233\"/>\n    </g>\n    <g clip-path=\"url(#pf1db4e86e9)\">\n     <use style=\"fill:#fde725;stroke:#fde725;\" x=\"48.358713\" xlink:href=\"#C0_0_ba5d616c81\" y=\"188.095861\"/>\n    </g>\n    <g clip-path=\"url(#pf1db4e86e9)\">\n     <use style=\"fill:#440154;stroke:#440154;\" x=\"158.31925\" xlink:href=\"#C0_0_ba5d616c81\" y=\"188.776313\"/>\n    </g>\n    <g clip-path=\"url(#pf1db4e86e9)\">\n     <use style=\"fill:#31688e;stroke:#31688e;\" x=\"67.826089\" xlink:href=\"#C0_0_ba5d616c81\" y=\"178.390527\"/>\n    </g>\n    <g clip-path=\"url(#pf1db4e86e9)\">\n     <use style=\"fill:#440154;stroke:#440154;\" x=\"180.375818\" xlink:href=\"#C0_0_ba5d616c81\" y=\"209.085426\"/>\n    </g>\n    <g clip-path=\"url(#pf1db4e86e9)\">\n     <use style=\"fill:#35b779;stroke:#35b779;\" x=\"145.716554\" xlink:href=\"#C0_0_ba5d616c81\" y=\"204.2837\"/>\n    </g>\n    <g clip-path=\"url(#pf1db4e86e9)\">\n     <use style=\"fill:#440154;stroke:#440154;\" x=\"171.181983\" xlink:href=\"#C0_0_ba5d616c81\" y=\"211.608287\"/>\n    </g>\n    <g clip-path=\"url(#pf1db4e86e9)\">\n     <use style=\"fill:#35b779;stroke:#35b779;\" x=\"172.690412\" xlink:href=\"#C0_0_ba5d616c81\" y=\"202.599718\"/>\n    </g>\n    <g clip-path=\"url(#pf1db4e86e9)\">\n     <use style=\"fill:#440154;stroke:#440154;\" x=\"139.255423\" xlink:href=\"#C0_0_ba5d616c81\" y=\"262.378196\"/>\n    </g>\n    <g clip-path=\"url(#pf1db4e86e9)\">\n     <use style=\"fill:#31688e;stroke:#31688e;\" x=\"81.547867\" xlink:href=\"#C0_0_ba5d616c81\" y=\"218.379697\"/>\n    </g>\n    <g clip-path=\"url(#pf1db4e86e9)\">\n     <use style=\"fill:#31688e;stroke:#31688e;\" x=\"124.32747\" xlink:href=\"#C0_0_ba5d616c81\" y=\"244.975953\"/>\n    </g>\n    <g clip-path=\"url(#pf1db4e86e9)\">\n     <use style=\"fill:#fde725;stroke:#fde725;\" x=\"101.292676\" xlink:href=\"#C0_0_ba5d616c81\" y=\"233.260761\"/>\n    </g>\n    <g clip-path=\"url(#pf1db4e86e9)\">\n     <use style=\"fill:#fde725;stroke:#fde725;\" x=\"67.474534\" xlink:href=\"#C0_0_ba5d616c81\" y=\"215.463542\"/>\n    </g>\n    <g clip-path=\"url(#pf1db4e86e9)\">\n     <use style=\"fill:#35b779;stroke:#35b779;\" x=\"130.485674\" xlink:href=\"#C0_0_ba5d616c81\" y=\"182.138652\"/>\n    </g>\n    <g clip-path=\"url(#pf1db4e86e9)\">\n     <use style=\"fill:#fde725;stroke:#fde725;\" x=\"150.406685\" xlink:href=\"#C0_0_ba5d616c81\" y=\"157.417805\"/>\n    </g>\n    <g clip-path=\"url(#pf1db4e86e9)\">\n     <use style=\"fill:#35b779;stroke:#35b779;\" x=\"170.198721\" xlink:href=\"#C0_0_ba5d616c81\" y=\"209.500374\"/>\n    </g>\n    <g clip-path=\"url(#pf1db4e86e9)\">\n     <use style=\"fill:#440154;stroke:#440154;\" x=\"135.457503\" xlink:href=\"#C0_0_ba5d616c81\" y=\"264.344688\"/>\n    </g>\n    <g clip-path=\"url(#pf1db4e86e9)\">\n     <use style=\"fill:#35b779;stroke:#35b779;\" x=\"130.483239\" xlink:href=\"#C0_0_ba5d616c81\" y=\"182.14025\"/>\n    </g>\n    <g clip-path=\"url(#pf1db4e86e9)\">\n     <use style=\"fill:#31688e;stroke:#31688e;\" x=\"86.274261\" xlink:href=\"#C0_0_ba5d616c81\" y=\"172.096794\"/>\n    </g>\n    <g clip-path=\"url(#pf1db4e86e9)\">\n     <use style=\"fill:#440154;stroke:#440154;\" x=\"91.672624\" xlink:href=\"#C0_0_ba5d616c81\" y=\"244.73977\"/>\n    </g>\n    <g clip-path=\"url(#pf1db4e86e9)\">\n     <use style=\"fill:#31688e;stroke:#31688e;\" x=\"55.415159\" xlink:href=\"#C0_0_ba5d616c81\" y=\"206.411939\"/>\n    </g>\n    <g clip-path=\"url(#pf1db4e86e9)\">\n     <use style=\"fill:#31688e;stroke:#31688e;\" x=\"175.201715\" xlink:href=\"#C0_0_ba5d616c81\" y=\"202.167947\"/>\n    </g>\n    <g clip-path=\"url(#pf1db4e86e9)\">\n     <use style=\"fill:#31688e;stroke:#31688e;\" x=\"139.828006\" xlink:href=\"#C0_0_ba5d616c81\" y=\"244.644203\"/>\n    </g>\n    <g clip-path=\"url(#pf1db4e86e9)\">\n     <use style=\"fill:#440154;stroke:#440154;\" x=\"133.201605\" xlink:href=\"#C0_0_ba5d616c81\" y=\"164.363194\"/>\n    </g>\n    <g clip-path=\"url(#pf1db4e86e9)\">\n     <use style=\"fill:#31688e;stroke:#31688e;\" x=\"64.042394\" xlink:href=\"#C0_0_ba5d616c81\" y=\"85.737\"/>\n    </g>\n    <g clip-path=\"url(#pf1db4e86e9)\">\n     <use style=\"fill:#440154;stroke:#440154;\" x=\"128.761652\" xlink:href=\"#C0_0_ba5d616c81\" y=\"243.533313\"/>\n    </g>\n    <g clip-path=\"url(#pf1db4e86e9)\">\n     <use style=\"fill:#31688e;stroke:#31688e;\" x=\"58.947432\" xlink:href=\"#C0_0_ba5d616c81\" y=\"200.79224\"/>\n    </g>\n    <g clip-path=\"url(#pf1db4e86e9)\">\n     <use style=\"fill:#fde725;stroke:#fde725;\" x=\"70.320988\" xlink:href=\"#C0_0_ba5d616c81\" y=\"212.442852\"/>\n    </g>\n    <g clip-path=\"url(#pf1db4e86e9)\">\n     <use style=\"fill:#31688e;stroke:#31688e;\" x=\"138.10428\" xlink:href=\"#C0_0_ba5d616c81\" y=\"154.591936\"/>\n    </g>\n    <g clip-path=\"url(#pf1db4e86e9)\">\n     <use style=\"fill:#440154;stroke:#440154;\" x=\"173.108756\" xlink:href=\"#C0_0_ba5d616c81\" y=\"212.935765\"/>\n    </g>\n    <g clip-path=\"url(#pf1db4e86e9)\">\n     <use style=\"fill:#31688e;stroke:#31688e;\" x=\"85.793033\" xlink:href=\"#C0_0_ba5d616c81\" y=\"175.588356\"/>\n    </g>\n    <g clip-path=\"url(#pf1db4e86e9)\">\n     <use style=\"fill:#440154;stroke:#440154;\" x=\"128.761652\" xlink:href=\"#C0_0_ba5d616c81\" y=\"243.533313\"/>\n    </g>\n    <g clip-path=\"url(#pf1db4e86e9)\">\n     <use style=\"fill:#31688e;stroke:#31688e;\" x=\"124.335335\" xlink:href=\"#C0_0_ba5d616c81\" y=\"244.817283\"/>\n    </g>\n    <g clip-path=\"url(#pf1db4e86e9)\">\n     <use style=\"fill:#31688e;stroke:#31688e;\" x=\"49.240057\" xlink:href=\"#C0_0_ba5d616c81\" y=\"42.977063\"/>\n    </g>\n    <g clip-path=\"url(#pf1db4e86e9)\">\n     <use style=\"fill:#440154;stroke:#440154;\" x=\"85.017167\" xlink:href=\"#C0_0_ba5d616c81\" y=\"50.129354\"/>\n    </g>\n    <g clip-path=\"url(#pf1db4e86e9)\">\n     <use style=\"fill:#440154;stroke:#440154;\" x=\"177.623829\" xlink:href=\"#C0_0_ba5d616c81\" y=\"212.702612\"/>\n    </g>\n    <g clip-path=\"url(#pf1db4e86e9)\">\n     <use style=\"fill:#35b779;stroke:#35b779;\" x=\"135.298621\" xlink:href=\"#C0_0_ba5d616c81\" y=\"238.067678\"/>\n    </g>\n    <g clip-path=\"url(#pf1db4e86e9)\">\n     <use style=\"fill:#440154;stroke:#440154;\" x=\"43.638089\" xlink:href=\"#C0_0_ba5d616c81\" y=\"180.066099\"/>\n    </g>\n    <g clip-path=\"url(#pf1db4e86e9)\">\n     <use style=\"fill:#440154;stroke:#440154;\" x=\"91.266757\" xlink:href=\"#C0_0_ba5d616c81\" y=\"116.546606\"/>\n    </g>\n    <g clip-path=\"url(#pf1db4e86e9)\">\n     <use style=\"fill:#440154;stroke:#440154;\" x=\"160.504843\" xlink:href=\"#C0_0_ba5d616c81\" y=\"189.186419\"/>\n    </g>\n    <g clip-path=\"url(#pf1db4e86e9)\">\n     <use style=\"fill:#31688e;stroke:#31688e;\" x=\"149.25026\" xlink:href=\"#C0_0_ba5d616c81\" y=\"156.811355\"/>\n    </g>\n    <g clip-path=\"url(#pf1db4e86e9)\">\n     <use style=\"fill:#35b779;stroke:#35b779;\" x=\"139.255423\" xlink:href=\"#C0_0_ba5d616c81\" y=\"262.378196\"/>\n    </g>\n    <g clip-path=\"url(#pf1db4e86e9)\">\n     <use style=\"fill:#31688e;stroke:#31688e;\" x=\"140.435104\" xlink:href=\"#C0_0_ba5d616c81\" y=\"139.651803\"/>\n    </g>\n    <g clip-path=\"url(#pf1db4e86e9)\">\n     <use style=\"fill:#440154;stroke:#440154;\" x=\"131.385332\" xlink:href=\"#C0_0_ba5d616c81\" y=\"169.889233\"/>\n    </g>\n    <g clip-path=\"url(#pf1db4e86e9)\">\n     <use style=\"fill:#31688e;stroke:#31688e;\" x=\"55.038237\" xlink:href=\"#C0_0_ba5d616c81\" y=\"170.912101\"/>\n    </g>\n    <g clip-path=\"url(#pf1db4e86e9)\">\n     <use style=\"fill:#440154;stroke:#440154;\" x=\"139.1057\" xlink:href=\"#C0_0_ba5d616c81\" y=\"247.145733\"/>\n    </g>\n    <g clip-path=\"url(#pf1db4e86e9)\">\n     <use style=\"fill:#fde725;stroke:#fde725;\" x=\"126.493701\" xlink:href=\"#C0_0_ba5d616c81\" y=\"241.017759\"/>\n    </g>\n    <g clip-path=\"url(#pf1db4e86e9)\">\n     <use style=\"fill:#440154;stroke:#440154;\" x=\"76.3411\" xlink:href=\"#C0_0_ba5d616c81\" y=\"152.585877\"/>\n    </g>\n    <g clip-path=\"url(#pf1db4e86e9)\">\n     <use style=\"fill:#35b779;stroke:#35b779;\" x=\"136.095783\" xlink:href=\"#C0_0_ba5d616c81\" y=\"261.323961\"/>\n    </g>\n    <g clip-path=\"url(#pf1db4e86e9)\">\n     <use style=\"fill:#440154;stroke:#440154;\" x=\"55.038237\" xlink:href=\"#C0_0_ba5d616c81\" y=\"170.912101\"/>\n    </g>\n    <g clip-path=\"url(#pf1db4e86e9)\">\n     <use style=\"fill:#440154;stroke:#440154;\" x=\"73.914285\" xlink:href=\"#C0_0_ba5d616c81\" y=\"108.114722\"/>\n    </g>\n    <g clip-path=\"url(#pf1db4e86e9)\">\n     <use style=\"fill:#31688e;stroke:#31688e;\" x=\"51.114662\" xlink:href=\"#C0_0_ba5d616c81\" y=\"195.025677\"/>\n    </g>\n    <g clip-path=\"url(#pf1db4e86e9)\">\n     <use style=\"fill:#31688e;stroke:#31688e;\" x=\"80.301339\" xlink:href=\"#C0_0_ba5d616c81\" y=\"228.703648\"/>\n    </g>\n    <g clip-path=\"url(#pf1db4e86e9)\">\n     <use style=\"fill:#31688e;stroke:#31688e;\" x=\"58.947432\" xlink:href=\"#C0_0_ba5d616c81\" y=\"200.79224\"/>\n    </g>\n    <g clip-path=\"url(#pf1db4e86e9)\">\n     <use style=\"fill:#440154;stroke:#440154;\" x=\"175.423767\" xlink:href=\"#C0_0_ba5d616c81\" y=\"213.494525\"/>\n    </g>\n    <g clip-path=\"url(#pf1db4e86e9)\">\n     <use style=\"fill:#440154;stroke:#440154;\" x=\"42.212837\" xlink:href=\"#C0_0_ba5d616c81\" y=\"178.84489\"/>\n    </g>\n    <g clip-path=\"url(#pf1db4e86e9)\">\n     <use style=\"fill:#440154;stroke:#440154;\" x=\"56.683902\" xlink:href=\"#C0_0_ba5d616c81\" y=\"54.896961\"/>\n    </g>\n    <g clip-path=\"url(#pf1db4e86e9)\">\n     <use style=\"fill:#440154;stroke:#440154;\" x=\"67.883939\" xlink:href=\"#C0_0_ba5d616c81\" y=\"179.771196\"/>\n    </g>\n    <g clip-path=\"url(#pf1db4e86e9)\">\n     <use style=\"fill:#35b779;stroke:#35b779;\" x=\"103.296127\" xlink:href=\"#C0_0_ba5d616c81\" y=\"225.756103\"/>\n    </g>\n    <g clip-path=\"url(#pf1db4e86e9)\">\n     <use style=\"fill:#440154;stroke:#440154;\" x=\"100.16329\" xlink:href=\"#C0_0_ba5d616c81\" y=\"23.917274\"/>\n    </g>\n    <g clip-path=\"url(#pf1db4e86e9)\">\n     <use style=\"fill:#440154;stroke:#440154;\" x=\"174.723891\" xlink:href=\"#C0_0_ba5d616c81\" y=\"93.143614\"/>\n    </g>\n    <g clip-path=\"url(#pf1db4e86e9)\">\n     <use style=\"fill:#31688e;stroke:#31688e;\" x=\"83.772847\" xlink:href=\"#C0_0_ba5d616c81\" y=\"220.395852\"/>\n    </g>\n    <g clip-path=\"url(#pf1db4e86e9)\">\n     <use style=\"fill:#440154;stroke:#440154;\" x=\"64.075901\" xlink:href=\"#C0_0_ba5d616c81\" y=\"109.855366\"/>\n    </g>\n    <g clip-path=\"url(#pf1db4e86e9)\">\n     <use style=\"fill:#440154;stroke:#440154;\" x=\"48.283398\" xlink:href=\"#C0_0_ba5d616c81\" y=\"72.683784\"/>\n    </g>\n    <g clip-path=\"url(#pf1db4e86e9)\">\n     <use style=\"fill:#440154;stroke:#440154;\" x=\"70.167957\" xlink:href=\"#C0_0_ba5d616c81\" y=\"147.851418\"/>\n    </g>\n    <g clip-path=\"url(#pf1db4e86e9)\">\n     <use style=\"fill:#31688e;stroke:#31688e;\" x=\"133.50528\" xlink:href=\"#C0_0_ba5d616c81\" y=\"182.737383\"/>\n    </g>\n    <g clip-path=\"url(#pf1db4e86e9)\">\n     <use style=\"fill:#440154;stroke:#440154;\" x=\"60.103753\" xlink:href=\"#C0_0_ba5d616c81\" y=\"111.609956\"/>\n    </g>\n    <g clip-path=\"url(#pf1db4e86e9)\">\n     <use style=\"fill:#31688e;stroke:#31688e;\" x=\"81.547867\" xlink:href=\"#C0_0_ba5d616c81\" y=\"218.379697\"/>\n    </g>\n    <g clip-path=\"url(#pf1db4e86e9)\">\n     <use style=\"fill:#440154;stroke:#440154;\" x=\"62.061873\" xlink:href=\"#C0_0_ba5d616c81\" y=\"154.365548\"/>\n    </g>\n    <g clip-path=\"url(#pf1db4e86e9)\">\n     <use style=\"fill:#440154;stroke:#440154;\" x=\"81.993549\" xlink:href=\"#C0_0_ba5d616c81\" y=\"127.606505\"/>\n    </g>\n    <g clip-path=\"url(#pf1db4e86e9)\">\n     <use style=\"fill:#31688e;stroke:#31688e;\" x=\"48.135818\" xlink:href=\"#C0_0_ba5d616c81\" y=\"86.659277\"/>\n    </g>\n    <g clip-path=\"url(#pf1db4e86e9)\">\n     <use style=\"fill:#440154;stroke:#440154;\" x=\"106.645064\" xlink:href=\"#C0_0_ba5d616c81\" y=\"170.940189\"/>\n    </g>\n    <g clip-path=\"url(#pf1db4e86e9)\">\n     <use style=\"fill:#31688e;stroke:#31688e;\" x=\"84.709454\" xlink:href=\"#C0_0_ba5d616c81\" y=\"169.069214\"/>\n    </g>\n    <g clip-path=\"url(#pf1db4e86e9)\">\n     <use style=\"fill:#31688e;stroke:#31688e;\" x=\"129.562684\" xlink:href=\"#C0_0_ba5d616c81\" y=\"198.868428\"/>\n    </g>\n    <g clip-path=\"url(#pf1db4e86e9)\">\n     <use style=\"fill:#31688e;stroke:#31688e;\" x=\"82.470417\" xlink:href=\"#C0_0_ba5d616c81\" y=\"174.448012\"/>\n    </g>\n    <g clip-path=\"url(#pf1db4e86e9)\">\n     <use style=\"fill:#31688e;stroke:#31688e;\" x=\"180.351859\" xlink:href=\"#C0_0_ba5d616c81\" y=\"206.465945\"/>\n    </g>\n    <g clip-path=\"url(#pf1db4e86e9)\">\n     <use style=\"fill:#440154;stroke:#440154;\" x=\"143.921926\" xlink:href=\"#C0_0_ba5d616c81\" y=\"154.463651\"/>\n    </g>\n    <g clip-path=\"url(#pf1db4e86e9)\">\n     <use style=\"fill:#31688e;stroke:#31688e;\" x=\"47.805697\" xlink:href=\"#C0_0_ba5d616c81\" y=\"165.764031\"/>\n    </g>\n    <g clip-path=\"url(#pf1db4e86e9)\">\n     <use style=\"fill:#31688e;stroke:#31688e;\" x=\"177.328687\" xlink:href=\"#C0_0_ba5d616c81\" y=\"94.471113\"/>\n    </g>\n    <g clip-path=\"url(#pf1db4e86e9)\">\n     <use style=\"fill:#31688e;stroke:#31688e;\" x=\"80.141651\" xlink:href=\"#C0_0_ba5d616c81\" y=\"156.201672\"/>\n    </g>\n    <g clip-path=\"url(#pf1db4e86e9)\">\n     <use style=\"fill:#31688e;stroke:#31688e;\" x=\"132.300362\" xlink:href=\"#C0_0_ba5d616c81\" y=\"167.061644\"/>\n    </g>\n    <g clip-path=\"url(#pf1db4e86e9)\">\n     <use style=\"fill:#31688e;stroke:#31688e;\" x=\"156.971419\" xlink:href=\"#C0_0_ba5d616c81\" y=\"93.213138\"/>\n    </g>\n    <g clip-path=\"url(#pf1db4e86e9)\">\n     <use style=\"fill:#31688e;stroke:#31688e;\" x=\"78.696765\" xlink:href=\"#C0_0_ba5d616c81\" y=\"154.683213\"/>\n    </g>\n    <g clip-path=\"url(#pf1db4e86e9)\">\n     <use style=\"fill:#31688e;stroke:#31688e;\" x=\"141.977373\" xlink:href=\"#C0_0_ba5d616c81\" y=\"107.987136\"/>\n    </g>\n    <g clip-path=\"url(#pf1db4e86e9)\">\n     <use style=\"fill:#440154;stroke:#440154;\" x=\"128.990351\" xlink:href=\"#C0_0_ba5d616c81\" y=\"200.70635\"/>\n    </g>\n    <g clip-path=\"url(#pf1db4e86e9)\">\n     <use style=\"fill:#31688e;stroke:#31688e;\" x=\"161.626797\" xlink:href=\"#C0_0_ba5d616c81\" y=\"106.32184\"/>\n    </g>\n    <g clip-path=\"url(#pf1db4e86e9)\">\n     <use style=\"fill:#31688e;stroke:#31688e;\" x=\"148.18596\" xlink:href=\"#C0_0_ba5d616c81\" y=\"200.780984\"/>\n    </g>\n    <g clip-path=\"url(#pf1db4e86e9)\">\n     <use style=\"fill:#31688e;stroke:#31688e;\" x=\"131.396565\" xlink:href=\"#C0_0_ba5d616c81\" y=\"188.03739\"/>\n    </g>\n    <g clip-path=\"url(#pf1db4e86e9)\">\n     <use style=\"fill:#31688e;stroke:#31688e;\" x=\"137.298125\" xlink:href=\"#C0_0_ba5d616c81\" y=\"129.432466\"/>\n    </g>\n    <g clip-path=\"url(#pf1db4e86e9)\">\n     <use style=\"fill:#31688e;stroke:#31688e;\" x=\"141.964883\" xlink:href=\"#C0_0_ba5d616c81\" y=\"104.126006\"/>\n    </g>\n    <g clip-path=\"url(#pf1db4e86e9)\">\n     <use style=\"fill:#31688e;stroke:#31688e;\" x=\"101.507249\" xlink:href=\"#C0_0_ba5d616c81\" y=\"184.015256\"/>\n    </g>\n    <g clip-path=\"url(#pf1db4e86e9)\">\n     <use style=\"fill:#31688e;stroke:#31688e;\" x=\"139.622749\" xlink:href=\"#C0_0_ba5d616c81\" y=\"102.791718\"/>\n    </g>\n    <g clip-path=\"url(#pf1db4e86e9)\">\n     <use style=\"fill:#440154;stroke:#440154;\" x=\"64.43204\" xlink:href=\"#C0_0_ba5d616c81\" y=\"165.298742\"/>\n    </g>\n    <g clip-path=\"url(#pf1db4e86e9)\">\n     <use style=\"fill:#31688e;stroke:#31688e;\" x=\"67.826089\" xlink:href=\"#C0_0_ba5d616c81\" y=\"178.390527\"/>\n    </g>\n    <g clip-path=\"url(#pf1db4e86e9)\">\n     <use style=\"fill:#31688e;stroke:#31688e;\" x=\"139.489782\" xlink:href=\"#C0_0_ba5d616c81\" y=\"102.840958\"/>\n    </g>\n    <g clip-path=\"url(#pf1db4e86e9)\">\n     <use style=\"fill:#31688e;stroke:#31688e;\" x=\"63.992558\" xlink:href=\"#C0_0_ba5d616c81\" y=\"112.990703\"/>\n    </g>\n    <g clip-path=\"url(#pf1db4e86e9)\">\n     <use style=\"fill:#31688e;stroke:#31688e;\" x=\"109.318133\" xlink:href=\"#C0_0_ba5d616c81\" y=\"172.022443\"/>\n    </g>\n    <g clip-path=\"url(#pf1db4e86e9)\">\n     <use style=\"fill:#31688e;stroke:#31688e;\" x=\"50.67107\" xlink:href=\"#C0_0_ba5d616c81\" y=\"119.144591\"/>\n    </g>\n    <g clip-path=\"url(#pf1db4e86e9)\">\n     <use style=\"fill:#31688e;stroke:#31688e;\" x=\"55.483414\" xlink:href=\"#C0_0_ba5d616c81\" y=\"100.676594\"/>\n    </g>\n    <g clip-path=\"url(#pf1db4e86e9)\">\n     <use style=\"fill:#440154;stroke:#440154;\" x=\"133.469642\" xlink:href=\"#C0_0_ba5d616c81\" y=\"187.089661\"/>\n    </g>\n    <g clip-path=\"url(#pf1db4e86e9)\">\n     <use style=\"fill:#440154;stroke:#440154;\" x=\"128.29339\" xlink:href=\"#C0_0_ba5d616c81\" y=\"154.740826\"/>\n    </g>\n    <g clip-path=\"url(#pf1db4e86e9)\">\n     <use style=\"fill:#31688e;stroke:#31688e;\" x=\"137.298125\" xlink:href=\"#C0_0_ba5d616c81\" y=\"129.432466\"/>\n    </g>\n    <g clip-path=\"url(#pf1db4e86e9)\">\n     <use style=\"fill:#440154;stroke:#440154;\" x=\"177.722996\" xlink:href=\"#C0_0_ba5d616c81\" y=\"90.514306\"/>\n    </g>\n    <g clip-path=\"url(#pf1db4e86e9)\">\n     <use style=\"fill:#440154;stroke:#440154;\" x=\"137.327181\" xlink:href=\"#C0_0_ba5d616c81\" y=\"154.007663\"/>\n    </g>\n    <g clip-path=\"url(#pf1db4e86e9)\">\n     <use style=\"fill:#440154;stroke:#440154;\" x=\"170.071597\" xlink:href=\"#C0_0_ba5d616c81\" y=\"80.055569\"/>\n    </g>\n    <g clip-path=\"url(#pf1db4e86e9)\">\n     <use style=\"fill:#31688e;stroke:#31688e;\" x=\"174.075989\" xlink:href=\"#C0_0_ba5d616c81\" y=\"209.553348\"/>\n    </g>\n    <g clip-path=\"url(#pf1db4e86e9)\">\n     <use style=\"fill:#31688e;stroke:#31688e;\" x=\"147.600307\" xlink:href=\"#C0_0_ba5d616c81\" y=\"200.497796\"/>\n    </g>\n    <g clip-path=\"url(#pf1db4e86e9)\">\n     <use style=\"fill:#31688e;stroke:#31688e;\" x=\"109.318133\" xlink:href=\"#C0_0_ba5d616c81\" y=\"172.022443\"/>\n    </g>\n    <g clip-path=\"url(#pf1db4e86e9)\">\n     <use style=\"fill:#31688e;stroke:#31688e;\" x=\"49.821089\" xlink:href=\"#C0_0_ba5d616c81\" y=\"118.124024\"/>\n    </g>\n    <g clip-path=\"url(#pf1db4e86e9)\">\n     <use style=\"fill:#440154;stroke:#440154;\" x=\"93.129127\" xlink:href=\"#C0_0_ba5d616c81\" y=\"112.226519\"/>\n    </g>\n    <g clip-path=\"url(#pf1db4e86e9)\">\n     <use style=\"fill:#fde725;stroke:#fde725;\" x=\"77.796908\" xlink:href=\"#C0_0_ba5d616c81\" y=\"156.613951\"/>\n    </g>\n    <g clip-path=\"url(#pf1db4e86e9)\">\n     <use style=\"fill:#35b779;stroke:#35b779;\" x=\"160.126578\" xlink:href=\"#C0_0_ba5d616c81\" y=\"91.773856\"/>\n    </g>\n    <g clip-path=\"url(#pf1db4e86e9)\">\n     <use style=\"fill:#31688e;stroke:#31688e;\" x=\"78.295674\" xlink:href=\"#C0_0_ba5d616c81\" y=\"184.845474\"/>\n    </g>\n    <g clip-path=\"url(#pf1db4e86e9)\">\n     <use style=\"fill:#31688e;stroke:#31688e;\" x=\"149.161455\" xlink:href=\"#C0_0_ba5d616c81\" y=\"204.311248\"/>\n    </g>\n    <g clip-path=\"url(#pf1db4e86e9)\">\n     <use style=\"fill:#440154;stroke:#440154;\" x=\"52.02724\" xlink:href=\"#C0_0_ba5d616c81\" y=\"161.987463\"/>\n    </g>\n    <g clip-path=\"url(#pf1db4e86e9)\">\n     <use style=\"fill:#35b779;stroke:#35b779;\" x=\"156.319601\" xlink:href=\"#C0_0_ba5d616c81\" y=\"91.39544\"/>\n    </g>\n    <g clip-path=\"url(#pf1db4e86e9)\">\n     <use style=\"fill:#fde725;stroke:#fde725;\" x=\"106.937809\" xlink:href=\"#C0_0_ba5d616c81\" y=\"24.080736\"/>\n    </g>\n    <g clip-path=\"url(#pf1db4e86e9)\">\n     <use style=\"fill:#31688e;stroke:#31688e;\" x=\"178.601138\" xlink:href=\"#C0_0_ba5d616c81\" y=\"93.304664\"/>\n    </g>\n    <g clip-path=\"url(#pf1db4e86e9)\">\n     <use style=\"fill:#31688e;stroke:#31688e;\" x=\"86.97069\" xlink:href=\"#C0_0_ba5d616c81\" y=\"174.248993\"/>\n    </g>\n    <g clip-path=\"url(#pf1db4e86e9)\">\n     <use style=\"fill:#31688e;stroke:#31688e;\" x=\"82.861457\" xlink:href=\"#C0_0_ba5d616c81\" y=\"51.91937\"/>\n    </g>\n    <g clip-path=\"url(#pf1db4e86e9)\">\n     <use style=\"fill:#440154;stroke:#440154;\" x=\"178.634494\" xlink:href=\"#C0_0_ba5d616c81\" y=\"91.432343\"/>\n    </g>\n    <g clip-path=\"url(#pf1db4e86e9)\">\n     <use style=\"fill:#31688e;stroke:#31688e;\" x=\"109.519454\" xlink:href=\"#C0_0_ba5d616c81\" y=\"120.178122\"/>\n    </g>\n    <g clip-path=\"url(#pf1db4e86e9)\">\n     <use style=\"fill:#31688e;stroke:#31688e;\" x=\"159.291717\" xlink:href=\"#C0_0_ba5d616c81\" y=\"105.764662\"/>\n    </g>\n    <g clip-path=\"url(#pf1db4e86e9)\">\n     <use style=\"fill:#31688e;stroke:#31688e;\" x=\"124.392379\" xlink:href=\"#C0_0_ba5d616c81\" y=\"48.480524\"/>\n    </g>\n    <g clip-path=\"url(#pf1db4e86e9)\">\n     <use style=\"fill:#440154;stroke:#440154;\" x=\"125.641353\" xlink:href=\"#C0_0_ba5d616c81\" y=\"135.565761\"/>\n    </g>\n    <g clip-path=\"url(#pf1db4e86e9)\">\n     <use style=\"fill:#35b779;stroke:#35b779;\" x=\"89.695494\" xlink:href=\"#C0_0_ba5d616c81\" y=\"109.1976\"/>\n    </g>\n    <g clip-path=\"url(#pf1db4e86e9)\">\n     <use style=\"fill:#31688e;stroke:#31688e;\" x=\"60.270294\" xlink:href=\"#C0_0_ba5d616c81\" y=\"109.422569\"/>\n    </g>\n    <g clip-path=\"url(#pf1db4e86e9)\">\n     <use style=\"fill:#35b779;stroke:#35b779;\" x=\"52.890551\" xlink:href=\"#C0_0_ba5d616c81\" y=\"119.195812\"/>\n    </g>\n    <g clip-path=\"url(#pf1db4e86e9)\">\n     <use style=\"fill:#31688e;stroke:#31688e;\" x=\"109.313563\" xlink:href=\"#C0_0_ba5d616c81\" y=\"172.025947\"/>\n    </g>\n    <g clip-path=\"url(#pf1db4e86e9)\">\n     <use style=\"fill:#31688e;stroke:#31688e;\" x=\"88.164333\" xlink:href=\"#C0_0_ba5d616c81\" y=\"63.109996\"/>\n    </g>\n    <g clip-path=\"url(#pf1db4e86e9)\">\n     <use style=\"fill:#35b779;stroke:#35b779;\" x=\"178.952967\" xlink:href=\"#C0_0_ba5d616c81\" y=\"205.414858\"/>\n    </g>\n    <g clip-path=\"url(#pf1db4e86e9)\">\n     <use style=\"fill:#31688e;stroke:#31688e;\" x=\"77.679101\" xlink:href=\"#C0_0_ba5d616c81\" y=\"43.507727\"/>\n    </g>\n    <g clip-path=\"url(#pf1db4e86e9)\">\n     <use style=\"fill:#31688e;stroke:#31688e;\" x=\"110.167268\" xlink:href=\"#C0_0_ba5d616c81\" y=\"103.161604\"/>\n    </g>\n    <g clip-path=\"url(#pf1db4e86e9)\">\n     <use style=\"fill:#31688e;stroke:#31688e;\" x=\"111.416478\" xlink:href=\"#C0_0_ba5d616c81\" y=\"121.759061\"/>\n    </g>\n    <g clip-path=\"url(#pf1db4e86e9)\">\n     <use style=\"fill:#31688e;stroke:#31688e;\" x=\"51.983105\" xlink:href=\"#C0_0_ba5d616c81\" y=\"78.704342\"/>\n    </g>\n    <g clip-path=\"url(#pf1db4e86e9)\">\n     <use style=\"fill:#35b779;stroke:#35b779;\" x=\"60.460472\" xlink:href=\"#C0_0_ba5d616c81\" y=\"112.412185\"/>\n    </g>\n    <g clip-path=\"url(#pf1db4e86e9)\">\n     <use style=\"fill:#31688e;stroke:#31688e;\" x=\"161.31942\" xlink:href=\"#C0_0_ba5d616c81\" y=\"103.389818\"/>\n    </g>\n    <g clip-path=\"url(#pf1db4e86e9)\">\n     <use style=\"fill:#31688e;stroke:#31688e;\" x=\"81.274808\" xlink:href=\"#C0_0_ba5d616c81\" y=\"127.265018\"/>\n    </g>\n    <g clip-path=\"url(#pf1db4e86e9)\">\n     <use style=\"fill:#31688e;stroke:#31688e;\" x=\"174.812548\" xlink:href=\"#C0_0_ba5d616c81\" y=\"91.708314\"/>\n    </g>\n    <g clip-path=\"url(#pf1db4e86e9)\">\n     <use style=\"fill:#31688e;stroke:#31688e;\" x=\"177.644317\" xlink:href=\"#C0_0_ba5d616c81\" y=\"202.186017\"/>\n    </g>\n    <g clip-path=\"url(#pf1db4e86e9)\">\n     <use style=\"fill:#31688e;stroke:#31688e;\" x=\"52.027197\" xlink:href=\"#C0_0_ba5d616c81\" y=\"161.986954\"/>\n    </g>\n    <g clip-path=\"url(#pf1db4e86e9)\">\n     <use style=\"fill:#35b779;stroke:#35b779;\" x=\"106.640766\" xlink:href=\"#C0_0_ba5d616c81\" y=\"170.947408\"/>\n    </g>\n    <g clip-path=\"url(#pf1db4e86e9)\">\n     <use style=\"fill:#31688e;stroke:#31688e;\" x=\"88.068393\" xlink:href=\"#C0_0_ba5d616c81\" y=\"115.915788\"/>\n    </g>\n    <g clip-path=\"url(#pf1db4e86e9)\">\n     <use style=\"fill:#440154;stroke:#440154;\" x=\"67.826089\" xlink:href=\"#C0_0_ba5d616c81\" y=\"178.390527\"/>\n    </g>\n    <g clip-path=\"url(#pf1db4e86e9)\">\n     <use style=\"fill:#31688e;stroke:#31688e;\" x=\"53.58751\" xlink:href=\"#C0_0_ba5d616c81\" y=\"98.624388\"/>\n    </g>\n    <g clip-path=\"url(#pf1db4e86e9)\">\n     <use style=\"fill:#31688e;stroke:#31688e;\" x=\"86.246087\" xlink:href=\"#C0_0_ba5d616c81\" y=\"53.859989\"/>\n    </g>\n    <g clip-path=\"url(#pf1db4e86e9)\">\n     <use style=\"fill:#31688e;stroke:#31688e;\" x=\"156.974444\" xlink:href=\"#C0_0_ba5d616c81\" y=\"93.210752\"/>\n    </g>\n    <g clip-path=\"url(#pf1db4e86e9)\">\n     <use style=\"fill:#31688e;stroke:#31688e;\" x=\"171.19282\" xlink:href=\"#C0_0_ba5d616c81\" y=\"79.821734\"/>\n    </g>\n    <g clip-path=\"url(#pf1db4e86e9)\">\n     <use style=\"fill:#440154;stroke:#440154;\" x=\"147.033387\" xlink:href=\"#C0_0_ba5d616c81\" y=\"205.15434\"/>\n    </g>\n    <g clip-path=\"url(#pf1db4e86e9)\">\n     <use style=\"fill:#440154;stroke:#440154;\" x=\"171.581671\" xlink:href=\"#C0_0_ba5d616c81\" y=\"205.855581\"/>\n    </g>\n    <g clip-path=\"url(#pf1db4e86e9)\">\n     <use style=\"fill:#35b779;stroke:#35b779;\" x=\"62.68638\" xlink:href=\"#C0_0_ba5d616c81\" y=\"55.192517\"/>\n    </g>\n    <g clip-path=\"url(#pf1db4e86e9)\">\n     <use style=\"fill:#440154;stroke:#440154;\" x=\"60.352735\" xlink:href=\"#C0_0_ba5d616c81\" y=\"154.689613\"/>\n    </g>\n    <g clip-path=\"url(#pf1db4e86e9)\">\n     <use style=\"fill:#440154;stroke:#440154;\" x=\"125.639622\" xlink:href=\"#C0_0_ba5d616c81\" y=\"135.563748\"/>\n    </g>\n    <g clip-path=\"url(#pf1db4e86e9)\">\n     <use style=\"fill:#440154;stroke:#440154;\" x=\"80.563791\" xlink:href=\"#C0_0_ba5d616c81\" y=\"21.131021\"/>\n    </g>\n    <g clip-path=\"url(#pf1db4e86e9)\">\n     <use style=\"fill:#31688e;stroke:#31688e;\" x=\"125.189737\" xlink:href=\"#C0_0_ba5d616c81\" y=\"44.704964\"/>\n    </g>\n    <g clip-path=\"url(#pf1db4e86e9)\">\n     <use style=\"fill:#440154;stroke:#440154;\" x=\"53.134729\" xlink:href=\"#C0_0_ba5d616c81\" y=\"161.964902\"/>\n    </g>\n    <g clip-path=\"url(#pf1db4e86e9)\">\n     <use style=\"fill:#440154;stroke:#440154;\" x=\"100.217009\" xlink:href=\"#C0_0_ba5d616c81\" y=\"53.987887\"/>\n    </g>\n    <g clip-path=\"url(#pf1db4e86e9)\">\n     <use style=\"fill:#31688e;stroke:#31688e;\" x=\"134.220469\" xlink:href=\"#C0_0_ba5d616c81\" y=\"153.437686\"/>\n    </g>\n    <g clip-path=\"url(#pf1db4e86e9)\">\n     <use style=\"fill:#440154;stroke:#440154;\" x=\"69.719043\" xlink:href=\"#C0_0_ba5d616c81\" y=\"49.420538\"/>\n    </g>\n    <g clip-path=\"url(#pf1db4e86e9)\">\n     <use style=\"fill:#440154;stroke:#440154;\" x=\"63.027651\" xlink:href=\"#C0_0_ba5d616c81\" y=\"165.082099\"/>\n    </g>\n    <g clip-path=\"url(#pf1db4e86e9)\">\n     <use style=\"fill:#440154;stroke:#440154;\" x=\"73.914285\" xlink:href=\"#C0_0_ba5d616c81\" y=\"108.114719\"/>\n    </g>\n    <g clip-path=\"url(#pf1db4e86e9)\">\n     <use style=\"fill:#440154;stroke:#440154;\" x=\"49.994444\" xlink:href=\"#C0_0_ba5d616c81\" y=\"107.331146\"/>\n    </g>\n    <g clip-path=\"url(#pf1db4e86e9)\">\n     <use style=\"fill:#fde725;stroke:#fde725;\" x=\"128.144208\" xlink:href=\"#C0_0_ba5d616c81\" y=\"102.469291\"/>\n    </g>\n    <g clip-path=\"url(#pf1db4e86e9)\">\n     <use style=\"fill:#31688e;stroke:#31688e;\" x=\"115.151408\" xlink:href=\"#C0_0_ba5d616c81\" y=\"24.402116\"/>\n    </g>\n    <g clip-path=\"url(#pf1db4e86e9)\">\n     <use style=\"fill:#31688e;stroke:#31688e;\" x=\"69.725692\" xlink:href=\"#C0_0_ba5d616c81\" y=\"49.426136\"/>\n    </g>\n    <g clip-path=\"url(#pf1db4e86e9)\">\n     <use style=\"fill:#fde725;stroke:#fde725;\" x=\"88.0681\" xlink:href=\"#C0_0_ba5d616c81\" y=\"115.916387\"/>\n    </g>\n    <g clip-path=\"url(#pf1db4e86e9)\">\n     <use style=\"fill:#31688e;stroke:#31688e;\" x=\"140.855605\" xlink:href=\"#C0_0_ba5d616c81\" y=\"41.225057\"/>\n    </g>\n    <g clip-path=\"url(#pf1db4e86e9)\">\n     <use style=\"fill:#31688e;stroke:#31688e;\" x=\"139.271916\" xlink:href=\"#C0_0_ba5d616c81\" y=\"37.909719\"/>\n    </g>\n    <g clip-path=\"url(#pf1db4e86e9)\">\n     <use style=\"fill:#35b779;stroke:#35b779;\" x=\"96.872487\" xlink:href=\"#C0_0_ba5d616c81\" y=\"44.007721\"/>\n    </g>\n    <g clip-path=\"url(#pf1db4e86e9)\">\n     <use style=\"fill:#35b779;stroke:#35b779;\" x=\"139.464219\" xlink:href=\"#C0_0_ba5d616c81\" y=\"106.14279\"/>\n    </g>\n    <g clip-path=\"url(#pf1db4e86e9)\">\n     <use style=\"fill:#35b779;stroke:#35b779;\" x=\"85.036459\" xlink:href=\"#C0_0_ba5d616c81\" y=\"50.106825\"/>\n    </g>\n    <g clip-path=\"url(#pf1db4e86e9)\">\n     <use style=\"fill:#31688e;stroke:#31688e;\" x=\"162.191667\" xlink:href=\"#C0_0_ba5d616c81\" y=\"60.757663\"/>\n    </g>\n    <g clip-path=\"url(#pf1db4e86e9)\">\n     <use style=\"fill:#31688e;stroke:#31688e;\" x=\"95.8736\" xlink:href=\"#C0_0_ba5d616c81\" y=\"100.161727\"/>\n    </g>\n    <g clip-path=\"url(#pf1db4e86e9)\">\n     <use style=\"fill:#31688e;stroke:#31688e;\" x=\"165.216359\" xlink:href=\"#C0_0_ba5d616c81\" y=\"53.297892\"/>\n    </g>\n    <g clip-path=\"url(#pf1db4e86e9)\">\n     <use style=\"fill:#31688e;stroke:#31688e;\" x=\"127.008024\" xlink:href=\"#C0_0_ba5d616c81\" y=\"36.828757\"/>\n    </g>\n    <g clip-path=\"url(#pf1db4e86e9)\">\n     <use style=\"fill:#31688e;stroke:#31688e;\" x=\"62.078068\" xlink:href=\"#C0_0_ba5d616c81\" y=\"58.127629\"/>\n    </g>\n    <g clip-path=\"url(#pf1db4e86e9)\">\n     <use style=\"fill:#31688e;stroke:#31688e;\" x=\"106.93781\" xlink:href=\"#C0_0_ba5d616c81\" y=\"24.080736\"/>\n    </g>\n    <g clip-path=\"url(#pf1db4e86e9)\">\n     <use style=\"fill:#fde725;stroke:#fde725;\" x=\"103.773916\" xlink:href=\"#C0_0_ba5d616c81\" y=\"56.930118\"/>\n    </g>\n    <g clip-path=\"url(#pf1db4e86e9)\">\n     <use style=\"fill:#31688e;stroke:#31688e;\" x=\"51.545778\" xlink:href=\"#C0_0_ba5d616c81\" y=\"63.348269\"/>\n    </g>\n    <g clip-path=\"url(#pf1db4e86e9)\">\n     <use style=\"fill:#31688e;stroke:#31688e;\" x=\"64.076379\" xlink:href=\"#C0_0_ba5d616c81\" y=\"109.856583\"/>\n    </g>\n    <g clip-path=\"url(#pf1db4e86e9)\">\n     <use style=\"fill:#31688e;stroke:#31688e;\" x=\"135.696071\" xlink:href=\"#C0_0_ba5d616c81\" y=\"136.761677\"/>\n    </g>\n    <g clip-path=\"url(#pf1db4e86e9)\">\n     <use style=\"fill:#31688e;stroke:#31688e;\" x=\"81.435089\" xlink:href=\"#C0_0_ba5d616c81\" y=\"125.433165\"/>\n    </g>\n    <g clip-path=\"url(#pf1db4e86e9)\">\n     <use style=\"fill:#31688e;stroke:#31688e;\" x=\"99.998534\" xlink:href=\"#C0_0_ba5d616c81\" y=\"55.594618\"/>\n    </g>\n    <g clip-path=\"url(#pf1db4e86e9)\">\n     <use style=\"fill:#440154;stroke:#440154;\" x=\"165.174604\" xlink:href=\"#C0_0_ba5d616c81\" y=\"53.31255\"/>\n    </g>\n    <g clip-path=\"url(#pf1db4e86e9)\">\n     <use style=\"fill:#31688e;stroke:#31688e;\" x=\"156.485314\" xlink:href=\"#C0_0_ba5d616c81\" y=\"49.154104\"/>\n    </g>\n    <g clip-path=\"url(#pf1db4e86e9)\">\n     <use style=\"fill:#440154;stroke:#440154;\" x=\"141.484998\" xlink:href=\"#C0_0_ba5d616c81\" y=\"50.313546\"/>\n    </g>\n    <g clip-path=\"url(#pf1db4e86e9)\">\n     <use style=\"fill:#440154;stroke:#440154;\" x=\"107.26915\" xlink:href=\"#C0_0_ba5d616c81\" y=\"105.090747\"/>\n    </g>\n    <g clip-path=\"url(#pf1db4e86e9)\">\n     <use style=\"fill:#440154;stroke:#440154;\" x=\"110.167246\" xlink:href=\"#C0_0_ba5d616c81\" y=\"103.16162\"/>\n    </g>\n    <g clip-path=\"url(#pf1db4e86e9)\">\n     <use style=\"fill:#fde725;stroke:#fde725;\" x=\"50.329901\" xlink:href=\"#C0_0_ba5d616c81\" y=\"61.575668\"/>\n    </g>\n    <g clip-path=\"url(#pf1db4e86e9)\">\n     <use style=\"fill:#31688e;stroke:#31688e;\" x=\"48.319376\" xlink:href=\"#C0_0_ba5d616c81\" y=\"62.349887\"/>\n    </g>\n    <g clip-path=\"url(#pf1db4e86e9)\">\n     <use style=\"fill:#31688e;stroke:#31688e;\" x=\"89.688859\" xlink:href=\"#C0_0_ba5d616c81\" y=\"109.185502\"/>\n    </g>\n    <g clip-path=\"url(#pf1db4e86e9)\">\n     <use style=\"fill:#31688e;stroke:#31688e;\" x=\"51.547143\" xlink:href=\"#C0_0_ba5d616c81\" y=\"115.833506\"/>\n    </g>\n    <g clip-path=\"url(#pf1db4e86e9)\">\n     <use style=\"fill:#35b779;stroke:#35b779;\" x=\"84.985401\" xlink:href=\"#C0_0_ba5d616c81\" y=\"50.161776\"/>\n    </g>\n    <g clip-path=\"url(#pf1db4e86e9)\">\n     <use style=\"fill:#35b779;stroke:#35b779;\" x=\"52.890584\" xlink:href=\"#C0_0_ba5d616c81\" y=\"119.195763\"/>\n    </g>\n    <g clip-path=\"url(#pf1db4e86e9)\">\n     <use style=\"fill:#35b779;stroke:#35b779;\" x=\"69.718635\" xlink:href=\"#C0_0_ba5d616c81\" y=\"49.418216\"/>\n    </g>\n    <g clip-path=\"url(#pf1db4e86e9)\">\n     <use style=\"fill:#31688e;stroke:#31688e;\" x=\"157.438062\" xlink:href=\"#C0_0_ba5d616c81\" y=\"43.058875\"/>\n    </g>\n    <g clip-path=\"url(#pf1db4e86e9)\">\n     <use style=\"fill:#31688e;stroke:#31688e;\" x=\"126.897558\" xlink:href=\"#C0_0_ba5d616c81\" y=\"35.644888\"/>\n    </g>\n    <g clip-path=\"url(#pf1db4e86e9)\">\n     <use style=\"fill:#35b779;stroke:#35b779;\" x=\"159.541607\" xlink:href=\"#C0_0_ba5d616c81\" y=\"106.17615\"/>\n    </g>\n    <g clip-path=\"url(#pf1db4e86e9)\">\n     <use style=\"fill:#31688e;stroke:#31688e;\" x=\"69.719049\" xlink:href=\"#C0_0_ba5d616c81\" y=\"49.420591\"/>\n    </g>\n    <g clip-path=\"url(#pf1db4e86e9)\">\n     <use style=\"fill:#fde725;stroke:#fde725;\" x=\"85.961363\" xlink:href=\"#C0_0_ba5d616c81\" y=\"111.363833\"/>\n    </g>\n    <g clip-path=\"url(#pf1db4e86e9)\">\n     <use style=\"fill:#35b779;stroke:#35b779;\" x=\"99.998534\" xlink:href=\"#C0_0_ba5d616c81\" y=\"55.594623\"/>\n    </g>\n    <g clip-path=\"url(#pf1db4e86e9)\">\n     <use style=\"fill:#440154;stroke:#440154;\" x=\"142.012763\" xlink:href=\"#C0_0_ba5d616c81\" y=\"104.302149\"/>\n    </g>\n    <g clip-path=\"url(#pf1db4e86e9)\">\n     <use style=\"fill:#31688e;stroke:#31688e;\" x=\"169.79338\" xlink:href=\"#C0_0_ba5d616c81\" y=\"42.747425\"/>\n    </g>\n    <g clip-path=\"url(#pf1db4e86e9)\">\n     <use style=\"fill:#31688e;stroke:#31688e;\" x=\"139.687339\" xlink:href=\"#C0_0_ba5d616c81\" y=\"48.535481\"/>\n    </g>\n    <g clip-path=\"url(#pf1db4e86e9)\">\n     <use style=\"fill:#fde725;stroke:#fde725;\" x=\"140.863286\" xlink:href=\"#C0_0_ba5d616c81\" y=\"41.22049\"/>\n    </g>\n    <g clip-path=\"url(#pf1db4e86e9)\">\n     <use style=\"fill:#440154;stroke:#440154;\" x=\"154.830139\" xlink:href=\"#C0_0_ba5d616c81\" y=\"42.660648\"/>\n    </g>\n    <g clip-path=\"url(#pf1db4e86e9)\">\n     <use style=\"fill:#31688e;stroke:#31688e;\" x=\"154.120301\" xlink:href=\"#C0_0_ba5d616c81\" y=\"43.866289\"/>\n    </g>\n    <g clip-path=\"url(#pf1db4e86e9)\">\n     <use style=\"fill:#440154;stroke:#440154;\" x=\"171.48007\" xlink:href=\"#C0_0_ba5d616c81\" y=\"77.219743\"/>\n    </g>\n    <g clip-path=\"url(#pf1db4e86e9)\">\n     <use style=\"fill:#35b779;stroke:#35b779;\" x=\"136.908404\" xlink:href=\"#C0_0_ba5d616c81\" y=\"105.170146\"/>\n    </g>\n    <g clip-path=\"url(#pf1db4e86e9)\">\n     <use style=\"fill:#fde725;stroke:#fde725;\" x=\"111.427171\" xlink:href=\"#C0_0_ba5d616c81\" y=\"107.886449\"/>\n    </g>\n    <g clip-path=\"url(#pf1db4e86e9)\">\n     <use style=\"fill:#31688e;stroke:#31688e;\" x=\"106.937809\" xlink:href=\"#C0_0_ba5d616c81\" y=\"24.080736\"/>\n    </g>\n    <g clip-path=\"url(#pf1db4e86e9)\">\n     <use style=\"fill:#31688e;stroke:#31688e;\" x=\"119.151962\" xlink:href=\"#C0_0_ba5d616c81\" y=\"52.447186\"/>\n    </g>\n    <g clip-path=\"url(#pf1db4e86e9)\">\n     <use style=\"fill:#440154;stroke:#440154;\" x=\"91.111484\" xlink:href=\"#C0_0_ba5d616c81\" y=\"21.280889\"/>\n    </g>\n    <g clip-path=\"url(#pf1db4e86e9)\">\n     <use style=\"fill:#440154;stroke:#440154;\" x=\"169.79338\" xlink:href=\"#C0_0_ba5d616c81\" y=\"42.747425\"/>\n    </g>\n    <g clip-path=\"url(#pf1db4e86e9)\">\n     <use style=\"fill:#31688e;stroke:#31688e;\" x=\"108.939141\" xlink:href=\"#C0_0_ba5d616c81\" y=\"27.434385\"/>\n    </g>\n    <g clip-path=\"url(#pf1db4e86e9)\">\n     <use style=\"fill:#31688e;stroke:#31688e;\" x=\"53.821269\" xlink:href=\"#C0_0_ba5d616c81\" y=\"40.924558\"/>\n    </g>\n    <g clip-path=\"url(#pf1db4e86e9)\">\n     <use style=\"fill:#31688e;stroke:#31688e;\" x=\"58.314775\" xlink:href=\"#C0_0_ba5d616c81\" y=\"39.703872\"/>\n    </g>\n    <g clip-path=\"url(#pf1db4e86e9)\">\n     <use style=\"fill:#31688e;stroke:#31688e;\" x=\"45.599111\" xlink:href=\"#C0_0_ba5d616c81\" y=\"48.214144\"/>\n    </g>\n    <g clip-path=\"url(#pf1db4e86e9)\">\n     <use style=\"fill:#31688e;stroke:#31688e;\" x=\"58.314775\" xlink:href=\"#C0_0_ba5d616c81\" y=\"39.703872\"/>\n    </g>\n    <g clip-path=\"url(#pf1db4e86e9)\">\n     <use style=\"fill:#31688e;stroke:#31688e;\" x=\"98.277699\" xlink:href=\"#C0_0_ba5d616c81\" y=\"27.453481\"/>\n    </g>\n    <g clip-path=\"url(#pf1db4e86e9)\">\n     <use style=\"fill:#35b779;stroke:#35b779;\" x=\"53.821269\" xlink:href=\"#C0_0_ba5d616c81\" y=\"40.924558\"/>\n    </g>\n    <g clip-path=\"url(#pf1db4e86e9)\">\n     <use style=\"fill:#35b779;stroke:#35b779;\" x=\"99.921658\" xlink:href=\"#C0_0_ba5d616c81\" y=\"27.195397\"/>\n    </g>\n    <g clip-path=\"url(#pf1db4e86e9)\">\n     <use style=\"fill:#31688e;stroke:#31688e;\" x=\"62.077681\" xlink:href=\"#C0_0_ba5d616c81\" y=\"58.127752\"/>\n    </g>\n    <g clip-path=\"url(#pf1db4e86e9)\">\n     <use style=\"fill:#35b779;stroke:#35b779;\" x=\"137.723193\" xlink:href=\"#C0_0_ba5d616c81\" y=\"39.488752\"/>\n    </g>\n    <g clip-path=\"url(#pf1db4e86e9)\">\n     <use style=\"fill:#35b779;stroke:#35b779;\" x=\"159.776667\" xlink:href=\"#C0_0_ba5d616c81\" y=\"88.772815\"/>\n    </g>\n    <g clip-path=\"url(#pf1db4e86e9)\">\n     <use style=\"fill:#31688e;stroke:#31688e;\" x=\"153.838167\" xlink:href=\"#C0_0_ba5d616c81\" y=\"46.480676\"/>\n    </g>\n    <g clip-path=\"url(#pf1db4e86e9)\">\n     <use style=\"fill:#31688e;stroke:#31688e;\" x=\"161.627619\" xlink:href=\"#C0_0_ba5d616c81\" y=\"106.319283\"/>\n    </g>\n    <g clip-path=\"url(#pf1db4e86e9)\">\n     <use style=\"fill:#31688e;stroke:#31688e;\" x=\"93.122237\" xlink:href=\"#C0_0_ba5d616c81\" y=\"112.229581\"/>\n    </g>\n    <g clip-path=\"url(#pf1db4e86e9)\">\n     <use style=\"fill:#35b779;stroke:#35b779;\" x=\"89.594882\" xlink:href=\"#C0_0_ba5d616c81\" y=\"111.874867\"/>\n    </g>\n    <g clip-path=\"url(#pf1db4e86e9)\">\n     <use style=\"fill:#35b779;stroke:#35b779;\" x=\"95.61789\" xlink:href=\"#C0_0_ba5d616c81\" y=\"101.896275\"/>\n    </g>\n    <g clip-path=\"url(#pf1db4e86e9)\">\n     <use style=\"fill:#35b779;stroke:#35b779;\" x=\"48.585762\" xlink:href=\"#C0_0_ba5d616c81\" y=\"91.51424\"/>\n    </g>\n    <g clip-path=\"url(#pf1db4e86e9)\">\n     <use style=\"fill:#35b779;stroke:#35b779;\" x=\"153.838167\" xlink:href=\"#C0_0_ba5d616c81\" y=\"46.480676\"/>\n    </g>\n    <g clip-path=\"url(#pf1db4e86e9)\">\n     <use style=\"fill:#440154;stroke:#440154;\" x=\"139.476972\" xlink:href=\"#C0_0_ba5d616c81\" y=\"106.141068\"/>\n    </g>\n    <g clip-path=\"url(#pf1db4e86e9)\">\n     <use style=\"fill:#440154;stroke:#440154;\" x=\"63.512262\" xlink:href=\"#C0_0_ba5d616c81\" y=\"85.550525\"/>\n    </g>\n    <g clip-path=\"url(#pf1db4e86e9)\">\n     <use style=\"fill:#35b779;stroke:#35b779;\" x=\"176.019403\" xlink:href=\"#C0_0_ba5d616c81\" y=\"90.584597\"/>\n    </g>\n    <g clip-path=\"url(#pf1db4e86e9)\">\n     <use style=\"fill:#35b779;stroke:#35b779;\" x=\"168.7496\" xlink:href=\"#C0_0_ba5d616c81\" y=\"78.939058\"/>\n    </g>\n    <g clip-path=\"url(#pf1db4e86e9)\">\n     <use style=\"fill:#fde725;stroke:#fde725;\" x=\"82.861145\" xlink:href=\"#C0_0_ba5d616c81\" y=\"51.919273\"/>\n    </g>\n    <g clip-path=\"url(#pf1db4e86e9)\">\n     <use style=\"fill:#35b779;stroke:#35b779;\" x=\"137.299436\" xlink:href=\"#C0_0_ba5d616c81\" y=\"129.433041\"/>\n    </g>\n    <g clip-path=\"url(#pf1db4e86e9)\">\n     <use style=\"fill:#31688e;stroke:#31688e;\" x=\"122.882139\" xlink:href=\"#C0_0_ba5d616c81\" y=\"43.950819\"/>\n    </g>\n    <g clip-path=\"url(#pf1db4e86e9)\">\n     <use style=\"fill:#31688e;stroke:#31688e;\" x=\"81.88669\" xlink:href=\"#C0_0_ba5d616c81\" y=\"48.005365\"/>\n    </g>\n    <g clip-path=\"url(#pf1db4e86e9)\">\n     <use style=\"fill:#fde725;stroke:#fde725;\" x=\"88.163143\" xlink:href=\"#C0_0_ba5d616c81\" y=\"63.110512\"/>\n    </g>\n    <g clip-path=\"url(#pf1db4e86e9)\">\n     <use style=\"fill:#35b779;stroke:#35b779;\" x=\"160.126578\" xlink:href=\"#C0_0_ba5d616c81\" y=\"91.773856\"/>\n    </g>\n    <g clip-path=\"url(#pf1db4e86e9)\">\n     <use style=\"fill:#35b779;stroke:#35b779;\" x=\"73.650642\" xlink:href=\"#C0_0_ba5d616c81\" y=\"33.111625\"/>\n    </g>\n    <g clip-path=\"url(#pf1db4e86e9)\">\n     <use style=\"fill:#31688e;stroke:#31688e;\" x=\"109.810948\" xlink:href=\"#C0_0_ba5d616c81\" y=\"105.682504\"/>\n    </g>\n    <g clip-path=\"url(#pf1db4e86e9)\">\n     <use style=\"fill:#fde725;stroke:#fde725;\" x=\"125.18446\" xlink:href=\"#C0_0_ba5d616c81\" y=\"44.701311\"/>\n    </g>\n    <g clip-path=\"url(#pf1db4e86e9)\">\n     <use style=\"fill:#31688e;stroke:#31688e;\" x=\"112.185242\" xlink:href=\"#C0_0_ba5d616c81\" y=\"104.759223\"/>\n    </g>\n    <g clip-path=\"url(#pf1db4e86e9)\">\n     <use style=\"fill:#35b779;stroke:#35b779;\" x=\"62.912246\" xlink:href=\"#C0_0_ba5d616c81\" y=\"36.954919\"/>\n    </g>\n    <g clip-path=\"url(#pf1db4e86e9)\">\n     <use style=\"fill:#31688e;stroke:#31688e;\" x=\"157.970016\" xlink:href=\"#C0_0_ba5d616c81\" y=\"47.821323\"/>\n    </g>\n    <g clip-path=\"url(#pf1db4e86e9)\">\n     <use style=\"fill:#31688e;stroke:#31688e;\" x=\"143.409764\" xlink:href=\"#C0_0_ba5d616c81\" y=\"49.98214\"/>\n    </g>\n    <g clip-path=\"url(#pf1db4e86e9)\">\n     <use style=\"fill:#31688e;stroke:#31688e;\" x=\"91.280139\" xlink:href=\"#C0_0_ba5d616c81\" y=\"116.545485\"/>\n    </g>\n    <g clip-path=\"url(#pf1db4e86e9)\">\n     <use style=\"fill:#35b779;stroke:#35b779;\" x=\"103.502579\" xlink:href=\"#C0_0_ba5d616c81\" y=\"53.599536\"/>\n    </g>\n    <g clip-path=\"url(#pf1db4e86e9)\">\n     <use style=\"fill:#35b779;stroke:#35b779;\" x=\"96.872475\" xlink:href=\"#C0_0_ba5d616c81\" y=\"44.00771\"/>\n    </g>\n    <g clip-path=\"url(#pf1db4e86e9)\">\n     <use style=\"fill:#35b779;stroke:#35b779;\" x=\"137.721434\" xlink:href=\"#C0_0_ba5d616c81\" y=\"39.497585\"/>\n    </g>\n    <g clip-path=\"url(#pf1db4e86e9)\">\n     <use style=\"fill:#35b779;stroke:#35b779;\" x=\"139.271878\" xlink:href=\"#C0_0_ba5d616c81\" y=\"37.909741\"/>\n    </g>\n    <g clip-path=\"url(#pf1db4e86e9)\">\n     <use style=\"fill:#35b779;stroke:#35b779;\" x=\"159.540581\" xlink:href=\"#C0_0_ba5d616c81\" y=\"106.174653\"/>\n    </g>\n    <g clip-path=\"url(#pf1db4e86e9)\">\n     <use style=\"fill:#440154;stroke:#440154;\" x=\"100.189877\" xlink:href=\"#C0_0_ba5d616c81\" y=\"54.034956\"/>\n    </g>\n    <g clip-path=\"url(#pf1db4e86e9)\">\n     <use style=\"fill:#31688e;stroke:#31688e;\" x=\"43.676782\" xlink:href=\"#C0_0_ba5d616c81\" y=\"51.970227\"/>\n    </g>\n    <g clip-path=\"url(#pf1db4e86e9)\">\n     <use style=\"fill:#31688e;stroke:#31688e;\" x=\"136.6551\" xlink:href=\"#C0_0_ba5d616c81\" y=\"126.596555\"/>\n    </g>\n    <g clip-path=\"url(#pf1db4e86e9)\">\n     <use style=\"fill:#440154;stroke:#440154;\" x=\"90.477231\" xlink:href=\"#C0_0_ba5d616c81\" y=\"62.145653\"/>\n    </g>\n    <g clip-path=\"url(#pf1db4e86e9)\">\n     <use style=\"fill:#440154;stroke:#440154;\" x=\"43.676921\" xlink:href=\"#C0_0_ba5d616c81\" y=\"51.970694\"/>\n    </g>\n    <g clip-path=\"url(#pf1db4e86e9)\">\n     <use style=\"fill:#31688e;stroke:#31688e;\" x=\"156.317011\" xlink:href=\"#C0_0_ba5d616c81\" y=\"91.396326\"/>\n    </g>\n    <g clip-path=\"url(#pf1db4e86e9)\">\n     <use style=\"fill:#31688e;stroke:#31688e;\" x=\"124.392379\" xlink:href=\"#C0_0_ba5d616c81\" y=\"48.480524\"/>\n    </g>\n    <g clip-path=\"url(#pf1db4e86e9)\">\n     <use style=\"fill:#31688e;stroke:#31688e;\" x=\"171.478624\" xlink:href=\"#C0_0_ba5d616c81\" y=\"77.218899\"/>\n    </g>\n    <g clip-path=\"url(#pf1db4e86e9)\">\n     <use style=\"fill:#31688e;stroke:#31688e;\" x=\"109.519453\" xlink:href=\"#C0_0_ba5d616c81\" y=\"120.178122\"/>\n    </g>\n    <g clip-path=\"url(#pf1db4e86e9)\">\n     <use style=\"fill:#440154;stroke:#440154;\" x=\"48.72461\" xlink:href=\"#C0_0_ba5d616c81\" y=\"66.382789\"/>\n    </g>\n    <g clip-path=\"url(#pf1db4e86e9)\">\n     <use style=\"fill:#35b779;stroke:#35b779;\" x=\"48.72461\" xlink:href=\"#C0_0_ba5d616c81\" y=\"66.382789\"/>\n    </g>\n    <g clip-path=\"url(#pf1db4e86e9)\">\n     <use style=\"fill:#31688e;stroke:#31688e;\" x=\"70.548189\" xlink:href=\"#C0_0_ba5d616c81\" y=\"82.173685\"/>\n    </g>\n    <g clip-path=\"url(#pf1db4e86e9)\">\n     <use style=\"fill:#31688e;stroke:#31688e;\" x=\"51.529809\" xlink:href=\"#C0_0_ba5d616c81\" y=\"63.295472\"/>\n    </g>\n    <g clip-path=\"url(#pf1db4e86e9)\">\n     <use style=\"fill:#31688e;stroke:#31688e;\" x=\"117.104306\" xlink:href=\"#C0_0_ba5d616c81\" y=\"54.021931\"/>\n    </g>\n    <g clip-path=\"url(#pf1db4e86e9)\">\n     <use style=\"fill:#31688e;stroke:#31688e;\" x=\"175.762115\" xlink:href=\"#C0_0_ba5d616c81\" y=\"94.421374\"/>\n    </g>\n    <g clip-path=\"url(#pf1db4e86e9)\">\n     <use style=\"fill:#31688e;stroke:#31688e;\" x=\"53.521876\" xlink:href=\"#C0_0_ba5d616c81\" y=\"97.922242\"/>\n    </g>\n    <g clip-path=\"url(#pf1db4e86e9)\">\n     <use style=\"fill:#31688e;stroke:#31688e;\" x=\"88.970639\" xlink:href=\"#C0_0_ba5d616c81\" y=\"70.517335\"/>\n    </g>\n    <g clip-path=\"url(#pf1db4e86e9)\">\n     <use style=\"fill:#35b779;stroke:#35b779;\" x=\"162.872457\" xlink:href=\"#C0_0_ba5d616c81\" y=\"54.682937\"/>\n    </g>\n    <g clip-path=\"url(#pf1db4e86e9)\">\n     <use style=\"fill:#440154;stroke:#440154;\" x=\"48.294864\" xlink:href=\"#C0_0_ba5d616c81\" y=\"91.083297\"/>\n    </g>\n    <g clip-path=\"url(#pf1db4e86e9)\">\n     <use style=\"fill:#440154;stroke:#440154;\" x=\"97.007431\" xlink:href=\"#C0_0_ba5d616c81\" y=\"68.537223\"/>\n    </g>\n    <g clip-path=\"url(#pf1db4e86e9)\">\n     <use style=\"fill:#31688e;stroke:#31688e;\" x=\"168.779991\" xlink:href=\"#C0_0_ba5d616c81\" y=\"61.675652\"/>\n    </g>\n    <g clip-path=\"url(#pf1db4e86e9)\">\n     <use style=\"fill:#31688e;stroke:#31688e;\" x=\"98.277699\" xlink:href=\"#C0_0_ba5d616c81\" y=\"27.453481\"/>\n    </g>\n    <g clip-path=\"url(#pf1db4e86e9)\">\n     <use style=\"fill:#440154;stroke:#440154;\" x=\"53.115665\" xlink:href=\"#C0_0_ba5d616c81\" y=\"80.203669\"/>\n    </g>\n    <g clip-path=\"url(#pf1db4e86e9)\">\n     <use style=\"fill:#35b779;stroke:#35b779;\" x=\"92.280216\" xlink:href=\"#C0_0_ba5d616c81\" y=\"110.279233\"/>\n    </g>\n    <g clip-path=\"url(#pf1db4e86e9)\">\n     <use style=\"fill:#440154;stroke:#440154;\" x=\"63.996496\" xlink:href=\"#C0_0_ba5d616c81\" y=\"112.980035\"/>\n    </g>\n    <g clip-path=\"url(#pf1db4e86e9)\">\n     <use style=\"fill:#35b779;stroke:#35b779;\" x=\"165.174604\" xlink:href=\"#C0_0_ba5d616c81\" y=\"53.31255\"/>\n    </g>\n    <g clip-path=\"url(#pf1db4e86e9)\">\n     <use style=\"fill:#35b779;stroke:#35b779;\" x=\"48.289862\" xlink:href=\"#C0_0_ba5d616c81\" y=\"79.313605\"/>\n    </g>\n    <g clip-path=\"url(#pf1db4e86e9)\">\n     <use style=\"fill:#35b779;stroke:#35b779;\" x=\"95.856386\" xlink:href=\"#C0_0_ba5d616c81\" y=\"19.554545\"/>\n    </g>\n    <g clip-path=\"url(#pf1db4e86e9)\">\n     <use style=\"fill:#31688e;stroke:#31688e;\" x=\"157.438062\" xlink:href=\"#C0_0_ba5d616c81\" y=\"43.058875\"/>\n    </g>\n    <g clip-path=\"url(#pf1db4e86e9)\">\n     <use style=\"fill:#31688e;stroke:#31688e;\" x=\"122.881623\" xlink:href=\"#C0_0_ba5d616c81\" y=\"43.95184\"/>\n    </g>\n    <g clip-path=\"url(#pf1db4e86e9)\">\n     <use style=\"fill:#31688e;stroke:#31688e;\" x=\"95.86491\" xlink:href=\"#C0_0_ba5d616c81\" y=\"100.161735\"/>\n    </g>\n    <g clip-path=\"url(#pf1db4e86e9)\">\n     <use style=\"fill:#31688e;stroke:#31688e;\" x=\"159.129136\" xlink:href=\"#C0_0_ba5d616c81\" y=\"46.595232\"/>\n    </g>\n    <g clip-path=\"url(#pf1db4e86e9)\">\n     <use style=\"fill:#440154;stroke:#440154;\" x=\"62.077993\" xlink:href=\"#C0_0_ba5d616c81\" y=\"58.127623\"/>\n    </g>\n    <g clip-path=\"url(#pf1db4e86e9)\">\n     <use style=\"fill:#31688e;stroke:#31688e;\" x=\"125.639622\" xlink:href=\"#C0_0_ba5d616c81\" y=\"135.563748\"/>\n    </g>\n    <g clip-path=\"url(#pf1db4e86e9)\">\n     <use style=\"fill:#440154;stroke:#440154;\" x=\"48.240993\" xlink:href=\"#C0_0_ba5d616c81\" y=\"48.981335\"/>\n    </g>\n    <g clip-path=\"url(#pf1db4e86e9)\">\n     <use style=\"fill:#440154;stroke:#440154;\" x=\"120.849351\" xlink:href=\"#C0_0_ba5d616c81\" y=\"47.530141\"/>\n    </g>\n    <g clip-path=\"url(#pf1db4e86e9)\">\n     <use style=\"fill:#35b779;stroke:#35b779;\" x=\"88.163147\" xlink:href=\"#C0_0_ba5d616c81\" y=\"63.110517\"/>\n    </g>\n    <g clip-path=\"url(#pf1db4e86e9)\">\n     <use style=\"fill:#440154;stroke:#440154;\" x=\"168.11064\" xlink:href=\"#C0_0_ba5d616c81\" y=\"60.524102\"/>\n    </g>\n    <g clip-path=\"url(#pf1db4e86e9)\">\n     <use style=\"fill:#35b779;stroke:#35b779;\" x=\"100.311425\" xlink:href=\"#C0_0_ba5d616c81\" y=\"29.387583\"/>\n    </g>\n    <g clip-path=\"url(#pf1db4e86e9)\">\n     <use style=\"fill:#31688e;stroke:#31688e;\" x=\"77.679098\" xlink:href=\"#C0_0_ba5d616c81\" y=\"43.507727\"/>\n    </g>\n    <g clip-path=\"url(#pf1db4e86e9)\">\n     <use style=\"fill:#31688e;stroke:#31688e;\" x=\"48.381372\" xlink:href=\"#C0_0_ba5d616c81\" y=\"62.283893\"/>\n    </g>\n    <g clip-path=\"url(#pf1db4e86e9)\">\n     <use style=\"fill:#31688e;stroke:#31688e;\" x=\"86.841984\" xlink:href=\"#C0_0_ba5d616c81\" y=\"22.683005\"/>\n    </g>\n    <g clip-path=\"url(#pf1db4e86e9)\">\n     <use style=\"fill:#440154;stroke:#440154;\" x=\"86.069101\" xlink:href=\"#C0_0_ba5d616c81\" y=\"110.629961\"/>\n    </g>\n    <g clip-path=\"url(#pf1db4e86e9)\">\n     <use style=\"fill:#440154;stroke:#440154;\" x=\"76.017155\" xlink:href=\"#C0_0_ba5d616c81\" y=\"22.418462\"/>\n    </g>\n    <g clip-path=\"url(#pf1db4e86e9)\">\n     <use style=\"fill:#440154;stroke:#440154;\" x=\"96.218253\" xlink:href=\"#C0_0_ba5d616c81\" y=\"66.834881\"/>\n    </g>\n    <g clip-path=\"url(#pf1db4e86e9)\">\n     <use style=\"fill:#440154;stroke:#440154;\" x=\"53.780551\" xlink:href=\"#C0_0_ba5d616c81\" y=\"44.777835\"/>\n    </g>\n   </g>\n   <g id=\"matplotlib.axis_1\">\n    <g id=\"xtick_1\">\n     <g id=\"line2d_1\">\n      <defs>\n       <path d=\"M 0 0 \nL 0 3.5 \n\" id=\"m1743f2b42a\" style=\"stroke:#000000;stroke-width:0.8;\"/>\n      </defs>\n      <g>\n       <use style=\"stroke:#000000;stroke-width:0.8;\" x=\"53.030861\" xlink:href=\"#m1743f2b42a\" y=\"279\"/>\n      </g>\n     </g>\n     <g id=\"text_1\">\n      <!-- −10 -->\n      <defs>\n       <path d=\"M 10.59375 35.5 \nL 73.1875 35.5 \nL 73.1875 27.203125 \nL 10.59375 27.203125 \nz\n\" id=\"DejaVuSans-8722\"/>\n       <path d=\"M 12.40625 8.296875 \nL 28.515625 8.296875 \nL 28.515625 63.921875 \nL 10.984375 60.40625 \nL 10.984375 69.390625 \nL 28.421875 72.90625 \nL 38.28125 72.90625 \nL 38.28125 8.296875 \nL 54.390625 8.296875 \nL 54.390625 0 \nL 12.40625 0 \nz\n\" id=\"DejaVuSans-49\"/>\n       <path d=\"M 31.78125 66.40625 \nQ 24.171875 66.40625 20.328125 58.90625 \nQ 16.5 51.421875 16.5 36.375 \nQ 16.5 21.390625 20.328125 13.890625 \nQ 24.171875 6.390625 31.78125 6.390625 \nQ 39.453125 6.390625 43.28125 13.890625 \nQ 47.125 21.390625 47.125 36.375 \nQ 47.125 51.421875 43.28125 58.90625 \nQ 39.453125 66.40625 31.78125 66.40625 \nz\nM 31.78125 74.21875 \nQ 44.046875 74.21875 50.515625 64.515625 \nQ 56.984375 54.828125 56.984375 36.375 \nQ 56.984375 17.96875 50.515625 8.265625 \nQ 44.046875 -1.421875 31.78125 -1.421875 \nQ 19.53125 -1.421875 13.0625 8.265625 \nQ 6.59375 17.96875 6.59375 36.375 \nQ 6.59375 54.828125 13.0625 64.515625 \nQ 19.53125 74.21875 31.78125 74.21875 \nz\n\" id=\"DejaVuSans-48\"/>\n      </defs>\n      <g transform=\"translate(42.478517 293.598437)scale(0.1 -0.1)\">\n       <use xlink:href=\"#DejaVuSans-8722\"/>\n       <use x=\"83.789062\" xlink:href=\"#DejaVuSans-49\"/>\n       <use x=\"147.412109\" xlink:href=\"#DejaVuSans-48\"/>\n      </g>\n     </g>\n    </g>\n    <g id=\"xtick_2\">\n     <g id=\"line2d_2\">\n      <g>\n       <use style=\"stroke:#000000;stroke-width:0.8;\" x=\"109.372551\" xlink:href=\"#m1743f2b42a\" y=\"279\"/>\n      </g>\n     </g>\n     <g id=\"text_2\">\n      <!-- 0 -->\n      <g transform=\"translate(106.191301 293.598437)scale(0.1 -0.1)\">\n       <use xlink:href=\"#DejaVuSans-48\"/>\n      </g>\n     </g>\n    </g>\n    <g id=\"xtick_3\">\n     <g id=\"line2d_3\">\n      <g>\n       <use style=\"stroke:#000000;stroke-width:0.8;\" x=\"165.714242\" xlink:href=\"#m1743f2b42a\" y=\"279\"/>\n      </g>\n     </g>\n     <g id=\"text_3\">\n      <!-- 10 -->\n      <g transform=\"translate(159.351742 293.598437)scale(0.1 -0.1)\">\n       <use xlink:href=\"#DejaVuSans-49\"/>\n       <use x=\"63.623047\" xlink:href=\"#DejaVuSans-48\"/>\n      </g>\n     </g>\n    </g>\n   </g>\n   <g id=\"matplotlib.axis_2\">\n    <g id=\"ytick_1\">\n     <g id=\"line2d_4\">\n      <defs>\n       <path d=\"M 0 0 \nL -3.5 0 \n\" id=\"mf71a65c219\" style=\"stroke:#000000;stroke-width:0.8;\"/>\n      </defs>\n      <g>\n       <use style=\"stroke:#000000;stroke-width:0.8;\" x=\"35.304688\" xlink:href=\"#mf71a65c219\" y=\"252.481218\"/>\n      </g>\n     </g>\n     <g id=\"text_4\">\n      <!-- −20 -->\n      <defs>\n       <path d=\"M 19.1875 8.296875 \nL 53.609375 8.296875 \nL 53.609375 0 \nL 7.328125 0 \nL 7.328125 8.296875 \nQ 12.9375 14.109375 22.625 23.890625 \nQ 32.328125 33.6875 34.8125 36.53125 \nQ 39.546875 41.84375 41.421875 45.53125 \nQ 43.3125 49.21875 43.3125 52.78125 \nQ 43.3125 58.59375 39.234375 62.25 \nQ 35.15625 65.921875 28.609375 65.921875 \nQ 23.96875 65.921875 18.8125 64.3125 \nQ 13.671875 62.703125 7.8125 59.421875 \nL 7.8125 69.390625 \nQ 13.765625 71.78125 18.9375 73 \nQ 24.125 74.21875 28.421875 74.21875 \nQ 39.75 74.21875 46.484375 68.546875 \nQ 53.21875 62.890625 53.21875 53.421875 \nQ 53.21875 48.921875 51.53125 44.890625 \nQ 49.859375 40.875 45.40625 35.40625 \nQ 44.1875 33.984375 37.640625 27.21875 \nQ 31.109375 20.453125 19.1875 8.296875 \nz\n\" id=\"DejaVuSans-50\"/>\n      </defs>\n      <g transform=\"translate(7.2 256.280437)scale(0.1 -0.1)\">\n       <use xlink:href=\"#DejaVuSans-8722\"/>\n       <use x=\"83.789062\" xlink:href=\"#DejaVuSans-50\"/>\n       <use x=\"147.412109\" xlink:href=\"#DejaVuSans-48\"/>\n      </g>\n     </g>\n    </g>\n    <g id=\"ytick_2\">\n     <g id=\"line2d_5\">\n      <g>\n       <use style=\"stroke:#000000;stroke-width:0.8;\" x=\"35.304688\" xlink:href=\"#mf71a65c219\" y=\"196.139528\"/>\n      </g>\n     </g>\n     <g id=\"text_5\">\n      <!-- −10 -->\n      <g transform=\"translate(7.2 199.938746)scale(0.1 -0.1)\">\n       <use xlink:href=\"#DejaVuSans-8722\"/>\n       <use x=\"83.789062\" xlink:href=\"#DejaVuSans-49\"/>\n       <use x=\"147.412109\" xlink:href=\"#DejaVuSans-48\"/>\n      </g>\n     </g>\n    </g>\n    <g id=\"ytick_3\">\n     <g id=\"line2d_6\">\n      <g>\n       <use style=\"stroke:#000000;stroke-width:0.8;\" x=\"35.304688\" xlink:href=\"#mf71a65c219\" y=\"139.797837\"/>\n      </g>\n     </g>\n     <g id=\"text_6\">\n      <!-- 0 -->\n      <g transform=\"translate(21.942187 143.597056)scale(0.1 -0.1)\">\n       <use xlink:href=\"#DejaVuSans-48\"/>\n      </g>\n     </g>\n    </g>\n    <g id=\"ytick_4\">\n     <g id=\"line2d_7\">\n      <g>\n       <use style=\"stroke:#000000;stroke-width:0.8;\" x=\"35.304688\" xlink:href=\"#mf71a65c219\" y=\"83.456147\"/>\n      </g>\n     </g>\n     <g id=\"text_7\">\n      <!-- 10 -->\n      <g transform=\"translate(15.579687 87.255365)scale(0.1 -0.1)\">\n       <use xlink:href=\"#DejaVuSans-49\"/>\n       <use x=\"63.623047\" xlink:href=\"#DejaVuSans-48\"/>\n      </g>\n     </g>\n    </g>\n    <g id=\"ytick_5\">\n     <g id=\"line2d_8\">\n      <g>\n       <use style=\"stroke:#000000;stroke-width:0.8;\" x=\"35.304688\" xlink:href=\"#mf71a65c219\" y=\"27.114456\"/>\n      </g>\n     </g>\n     <g id=\"text_8\">\n      <!-- 20 -->\n      <g transform=\"translate(15.579687 30.913675)scale(0.1 -0.1)\">\n       <use xlink:href=\"#DejaVuSans-50\"/>\n       <use x=\"63.623047\" xlink:href=\"#DejaVuSans-48\"/>\n      </g>\n     </g>\n    </g>\n   </g>\n   <g id=\"patch_3\">\n    <path d=\"M 35.304688 279 \nL 35.304688 7.2 \n\" style=\"fill:none;stroke:#000000;stroke-linecap:square;stroke-linejoin:miter;stroke-width:0.8;\"/>\n   </g>\n   <g id=\"patch_4\">\n    <path d=\"M 187.283967 279 \nL 187.283967 7.2 \n\" style=\"fill:none;stroke:#000000;stroke-linecap:square;stroke-linejoin:miter;stroke-width:0.8;\"/>\n   </g>\n   <g id=\"patch_5\">\n    <path d=\"M 35.304688 279 \nL 187.283967 279 \n\" style=\"fill:none;stroke:#000000;stroke-linecap:square;stroke-linejoin:miter;stroke-width:0.8;\"/>\n   </g>\n   <g id=\"patch_6\">\n    <path d=\"M 35.304688 7.2 \nL 187.283967 7.2 \n\" style=\"fill:none;stroke:#000000;stroke-linecap:square;stroke-linejoin:miter;stroke-width:0.8;\"/>\n   </g>\n  </g>\n </g>\n <defs>\n  <clipPath id=\"pf1db4e86e9\">\n   <rect height=\"271.8\" width=\"151.97928\" x=\"35.304688\" y=\"7.2\"/>\n  </clipPath>\n </defs>\n</svg>\n",
            "text/plain": [
              "<Figure size 1080x360 with 1 Axes>"
            ]
          },
          "metadata": {},
          "output_type": "display_data"
        }
      ],
      "source": [
        "plt.subplot(aspect='equal')\n",
        "plt.scatter(x_axis, y_axis, c=Y)\n",
        "plt.show()"
      ],
      "id": "38c86616"
    },
    {
      "cell_type": "markdown",
      "metadata": {
        "id": "e7f386ae"
      },
      "source": [
        "# Метод кластеризации на основе плотности DBSCAN"
      ],
      "id": "e7f386ae"
    },
    {
      "cell_type": "code",
      "execution_count": null,
      "metadata": {
        "id": "82205eda"
      },
      "outputs": [],
      "source": [
        "from sklearn.cluster import DBSCAN"
      ],
      "id": "82205eda"
    },
    {
      "cell_type": "code",
      "execution_count": null,
      "metadata": {
        "id": "8b90c54f"
      },
      "outputs": [],
      "source": [
        "dbscan = DBSCAN()"
      ],
      "id": "8b90c54f"
    },
    {
      "cell_type": "code",
      "execution_count": null,
      "metadata": {
        "colab": {
          "base_uri": "https://localhost:8080/"
        },
        "id": "758935e4",
        "outputId": "13dc88d4-2c21-4f4f-861c-3a4148aa4208"
      },
      "outputs": [
        {
          "data": {
            "text/plain": [
              "DBSCAN()"
            ]
          },
          "execution_count": 52,
          "metadata": {},
          "output_type": "execute_result"
        }
      ],
      "source": [
        "dbscan.fit(df)"
      ],
      "id": "758935e4"
    },
    {
      "cell_type": "code",
      "execution_count": null,
      "metadata": {
        "id": "8ed74c02"
      },
      "outputs": [],
      "source": [
        "pca = PCA(n_components=2).fit(df)\n",
        "pca_2d = pca.transform(df)"
      ],
      "id": "8ed74c02"
    },
    {
      "cell_type": "code",
      "execution_count": null,
      "metadata": {
        "colab": {
          "background_save": true,
          "base_uri": "https://localhost:8080/",
          "height": 465
        },
        "id": "9a32b530",
        "outputId": "d159306a-0eea-4df1-97e0-04d592b20ca9"
      },
      "outputs": [
        {
          "ename": "NameError",
          "evalue": "ignored",
          "output_type": "error",
          "traceback": [
            "\u001b[0;31m---------------------------------------------------------------------------\u001b[0m",
            "\u001b[0;31mNameError\u001b[0m                                 Traceback (most recent call last)",
            "\u001b[0;32m<ipython-input-2-b008e9a3d9a1>\u001b[0m in \u001b[0;36m<module>\u001b[0;34m()\u001b[0m\n\u001b[0;32m----> 1\u001b[0;31m \u001b[0;32mfor\u001b[0m \u001b[0mi\u001b[0m \u001b[0;32min\u001b[0m \u001b[0mrange\u001b[0m\u001b[0;34m(\u001b[0m\u001b[0;36m0\u001b[0m\u001b[0;34m,\u001b[0m \u001b[0mpca_2d\u001b[0m\u001b[0;34m.\u001b[0m\u001b[0mshape\u001b[0m\u001b[0;34m[\u001b[0m\u001b[0;36m0\u001b[0m\u001b[0;34m]\u001b[0m\u001b[0;34m)\u001b[0m\u001b[0;34m:\u001b[0m\u001b[0;34m\u001b[0m\u001b[0;34m\u001b[0m\u001b[0m\n\u001b[0m\u001b[1;32m      2\u001b[0m     \u001b[0;32mif\u001b[0m \u001b[0mdbscan\u001b[0m\u001b[0;34m.\u001b[0m\u001b[0mlabels_\u001b[0m\u001b[0;34m[\u001b[0m\u001b[0mi\u001b[0m\u001b[0;34m]\u001b[0m \u001b[0;34m==\u001b[0m \u001b[0;36m0\u001b[0m\u001b[0;34m:\u001b[0m\u001b[0;34m\u001b[0m\u001b[0;34m\u001b[0m\u001b[0m\n\u001b[1;32m      3\u001b[0m         \u001b[0mc1\u001b[0m \u001b[0;34m=\u001b[0m \u001b[0mplt\u001b[0m\u001b[0;34m.\u001b[0m\u001b[0mscatter\u001b[0m\u001b[0;34m(\u001b[0m\u001b[0mpca_2d\u001b[0m\u001b[0;34m[\u001b[0m\u001b[0mi\u001b[0m\u001b[0;34m,\u001b[0m \u001b[0;36m0\u001b[0m\u001b[0;34m]\u001b[0m\u001b[0;34m,\u001b[0m \u001b[0mpca_2d\u001b[0m\u001b[0;34m[\u001b[0m\u001b[0mi\u001b[0m\u001b[0;34m,\u001b[0m \u001b[0;36m1\u001b[0m\u001b[0;34m]\u001b[0m\u001b[0;34m,\u001b[0m \u001b[0mc\u001b[0m\u001b[0;34m=\u001b[0m\u001b[0;34m'r'\u001b[0m\u001b[0;34m,\u001b[0m \u001b[0mmarker\u001b[0m\u001b[0;34m=\u001b[0m\u001b[0;34m'+'\u001b[0m\u001b[0;34m)\u001b[0m\u001b[0;34m\u001b[0m\u001b[0;34m\u001b[0m\u001b[0m\n\u001b[1;32m      4\u001b[0m     \u001b[0;32melif\u001b[0m \u001b[0mdbscan\u001b[0m\u001b[0;34m.\u001b[0m\u001b[0mlabels_\u001b[0m\u001b[0;34m[\u001b[0m\u001b[0mi\u001b[0m\u001b[0;34m]\u001b[0m \u001b[0;34m==\u001b[0m \u001b[0;36m1\u001b[0m\u001b[0;34m:\u001b[0m\u001b[0;34m\u001b[0m\u001b[0;34m\u001b[0m\u001b[0m\n\u001b[1;32m      5\u001b[0m         \u001b[0mc2\u001b[0m \u001b[0;34m=\u001b[0m \u001b[0mplt\u001b[0m\u001b[0;34m.\u001b[0m\u001b[0mscatter\u001b[0m\u001b[0;34m(\u001b[0m\u001b[0mpca_2d\u001b[0m\u001b[0;34m[\u001b[0m\u001b[0mi\u001b[0m\u001b[0;34m,\u001b[0m \u001b[0;36m0\u001b[0m\u001b[0;34m]\u001b[0m\u001b[0;34m,\u001b[0m \u001b[0mpca_2d\u001b[0m\u001b[0;34m[\u001b[0m\u001b[0mi\u001b[0m\u001b[0;34m,\u001b[0m \u001b[0;36m1\u001b[0m\u001b[0;34m]\u001b[0m\u001b[0;34m,\u001b[0m \u001b[0mc\u001b[0m\u001b[0;34m=\u001b[0m\u001b[0;34m'g'\u001b[0m\u001b[0;34m,\u001b[0m \u001b[0mmarker\u001b[0m\u001b[0;34m=\u001b[0m\u001b[0;34m'o'\u001b[0m\u001b[0;34m)\u001b[0m\u001b[0;34m\u001b[0m\u001b[0;34m\u001b[0m\u001b[0m\n",
            "\u001b[0;31mNameError\u001b[0m: name 'pca_2d' is not defined"
          ]
        }
      ],
      "source": [
        "for i in range(0, pca_2d.shape[0]):\n",
        "    if dbscan.labels_[i] == 0:\n",
        "        c1 = plt.scatter(pca_2d[i, 0], pca_2d[i, 1], c='r', marker='+')\n",
        "    elif dbscan.labels_[i] == 1:\n",
        "        c2 = plt.scatter(pca_2d[i, 0], pca_2d[i, 1], c='g', marker='o')\n",
        "    elif dbscan.labels_[i] == -1:\n",
        "        c3 = plt.scatter(pca_2d[i, 0], pca_2d[i, 1], c='b', marker='*')\n",
        "\n",
        "plt.legend (('Кластер 1', 'Кластер 2', 'Шум'))\n",
        "plt.show()"
      ],
      "id": "9a32b530"
    },
    {
      "cell_type": "markdown",
      "metadata": {
        "id": "c2564137"
      },
      "source": [
        "# Оценка качества кластеризации"
      ],
      "id": "c2564137"
    },
    {
      "cell_type": "code",
      "execution_count": null,
      "metadata": {
        "id": "997ab2a1"
      },
      "outputs": [],
      "source": [
        "from sklearn.metrics import rand_score, fowlkes_mallows_score, pairwise_distances, davies_bouldin_score\n",
        "from sklearn import metrics"
      ],
      "id": "997ab2a1"
    },
    {
      "cell_type": "markdown",
      "metadata": {
        "id": "8c36b211"
      },
      "source": [
        "Внешние\n",
        "\n",
        "Индекс Rand оценивает, насколько много из тех пар элементов, которые находились в одном классе, и тех пар элементов, которые находились в разных классах, сохранили это состояние после кластеризации алгоритмом.\n",
        "\n",
        "Имеет область определения от 0 до 1, где 1 — полное совпадение кластеров с заданными классами, а 0 — отсутствие совпадений."
      ],
      "id": "8c36b211"
    },
    {
      "cell_type": "code",
      "execution_count": null,
      "metadata": {
        "colab": {
          "base_uri": "https://localhost:8080/"
        },
        "id": "2860f578",
        "outputId": "62f7f84e-ecfa-4c7f-8269-4cd59b4b9ad1"
      },
      "outputs": [
        {
          "data": {
            "text/plain": [
              "0.5021139883055966"
            ]
          },
          "execution_count": 56,
          "metadata": {},
          "output_type": "execute_result"
        }
      ],
      "source": [
        "model = KMeans(n_clusters=2)\n",
        "model.fit(df)\n",
        "\n",
        "labels_true = Y\n",
        "labels_pred = model.predict(df)\n",
        "\n",
        "\n",
        "rand_score(labels_true, labels_pred)"
      ],
      "id": "2860f578"
    },
    {
      "cell_type": "raw",
      "metadata": {
        "id": "a7fe77a4"
      },
      "source": [
        "Индекс Фоулкса – Мэллова используется для определения сходства между двумя кластерами.\n",
        "\n",
        "Более высокое значение индекса означает большее сходство между кластерами. Этот индекс также хорошо работает на зашумленных данных."
      ],
      "id": "a7fe77a4"
    },
    {
      "cell_type": "code",
      "execution_count": null,
      "metadata": {
        "colab": {
          "base_uri": "https://localhost:8080/"
        },
        "id": "5701bf3a",
        "outputId": "e19a6ba6-a3b1-496c-baf6-2563de30e4dd"
      },
      "outputs": [
        {
          "data": {
            "text/plain": [
              "0.4212897608790747"
            ]
          },
          "execution_count": 57,
          "metadata": {},
          "output_type": "execute_result"
        }
      ],
      "source": [
        "fowlkes_mallows_score(labels_true, labels_pred)"
      ],
      "id": "5701bf3a"
    },
    {
      "cell_type": "markdown",
      "metadata": {
        "id": "f1b667cd"
      },
      "source": [
        "Внутренние\n",
        "\n",
        "Индекс Калински-Харабаса - это соотношение между межгрупповой дисперсией и внутригрупповой дисперсией. Должен возрастать."
      ],
      "id": "f1b667cd"
    },
    {
      "cell_type": "code",
      "execution_count": null,
      "metadata": {
        "colab": {
          "base_uri": "https://localhost:8080/"
        },
        "id": "7bca02f2",
        "outputId": "d745f3ff-e9e7-47ab-a1da-319a97bd8d9a"
      },
      "outputs": [
        {
          "data": {
            "text/plain": [
              "190.83196819075047"
            ]
          },
          "execution_count": 58,
          "metadata": {},
          "output_type": "execute_result"
        }
      ],
      "source": [
        "kmeans_model = KMeans(n_clusters=2, random_state=1).fit(X)\n",
        "labels = kmeans_model.labels_\n",
        "metrics.calinski_harabasz_score(X, labels)"
      ],
      "id": "7bca02f2"
    },
    {
      "cell_type": "markdown",
      "metadata": {
        "id": "418ff314"
      },
      "source": [
        "Индекс Дэвиса-Болдина\n",
        "\n",
        "Ноль — это наименьший возможный результат. Значения, близкие к нулю, указывают на лучшее разделение."
      ],
      "id": "418ff314"
    },
    {
      "cell_type": "code",
      "execution_count": null,
      "metadata": {
        "colab": {
          "base_uri": "https://localhost:8080/"
        },
        "id": "d71f946f",
        "outputId": "fee85c00-2da8-4268-cf11-3e309fc91e79"
      },
      "outputs": [
        {
          "data": {
            "text/plain": [
              "1.3474413242631713"
            ]
          },
          "execution_count": 59,
          "metadata": {},
          "output_type": "execute_result"
        }
      ],
      "source": [
        "kmeans = KMeans(n_clusters=2, random_state=1).fit(X)\n",
        "labels = kmeans.labels_\n",
        "davies_bouldin_score(X, labels)"
      ],
      "id": "d71f946f"
    }
  ],
  "metadata": {
    "colab": {
      "collapsed_sections": [
        "d6315945"
      ],
      "name": "5_learning _without _a _teacher.ipynb",
      "provenance": []
    },
    "kernelspec": {
      "display_name": "Python 3",
      "language": "python",
      "name": "python3"
    },
    "language_info": {
      "codemirror_mode": {
        "name": "ipython",
        "version": 3
      },
      "file_extension": ".py",
      "mimetype": "text/x-python",
      "name": "python",
      "nbconvert_exporter": "python",
      "pygments_lexer": "ipython3",
      "version": "3.8.8"
    }
  },
  "nbformat": 4,
  "nbformat_minor": 5
}